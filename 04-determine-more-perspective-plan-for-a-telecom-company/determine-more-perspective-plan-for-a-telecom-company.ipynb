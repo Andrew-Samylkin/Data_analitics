{
 "cells": [
  {
   "cell_type": "markdown",
   "id": "b3dfa4f6",
   "metadata": {
    "toc": true
   },
   "source": [
    "<h1>Содержание<span class=\"tocSkip\"></span></h1>\n",
    "<div class=\"toc\"><ul class=\"toc-item\"><li><span><a href=\"#Загрузка-данных,-получение-общей-информации\" data-toc-modified-id=\"Загрузка-данных,-получение-общей-информации-1\"><span class=\"toc-item-num\">1&nbsp;&nbsp;</span>Загрузка данных, получение общей информации</a></span><ul class=\"toc-item\"><li><span><a href=\"#Таблица-users_df\" data-toc-modified-id=\"Таблица-users_df-1.1\"><span class=\"toc-item-num\">1.1&nbsp;&nbsp;</span>Таблица users_df</a></span></li><li><span><a href=\"#Таблица-messages_df\" data-toc-modified-id=\"Таблица-messages_df-1.2\"><span class=\"toc-item-num\">1.2&nbsp;&nbsp;</span>Таблица messages_df</a></span></li><li><span><a href=\"#Таблица-internet_df\" data-toc-modified-id=\"Таблица-internet_df-1.3\"><span class=\"toc-item-num\">1.3&nbsp;&nbsp;</span>Таблица internet_df</a></span></li><li><span><a href=\"#Таблица-calls_df\" data-toc-modified-id=\"Таблица-calls_df-1.4\"><span class=\"toc-item-num\">1.4&nbsp;&nbsp;</span>Таблица calls_df</a></span></li><li><span><a href=\"#Таблица-tariffs_df\" data-toc-modified-id=\"Таблица-tariffs_df-1.5\"><span class=\"toc-item-num\">1.5&nbsp;&nbsp;</span>Таблица tariffs_df</a></span></li><li><span><a href=\"#Вывод-по-общей-информации\" data-toc-modified-id=\"Вывод-по-общей-информации-1.6\"><span class=\"toc-item-num\">1.6&nbsp;&nbsp;</span>Вывод по общей информации</a></span></li></ul></li><li><span><a href=\"#Предобработка-данных-и-замена-типов-данных\" data-toc-modified-id=\"Предобработка-данных-и-замена-типов-данных-2\"><span class=\"toc-item-num\">2&nbsp;&nbsp;</span>Предобработка данных и замена типов данных</a></span><ul class=\"toc-item\"><li><span><a href=\"#Группировка-таблиц\" data-toc-modified-id=\"Группировка-таблиц-2.1\"><span class=\"toc-item-num\">2.1&nbsp;&nbsp;</span>Группировка таблиц</a></span></li><li><span><a href=\"#Объединение-таблиц\" data-toc-modified-id=\"Объединение-таблиц-2.2\"><span class=\"toc-item-num\">2.2&nbsp;&nbsp;</span>Объединение таблиц</a></span></li><li><span><a href=\"#Добавление-колонок-и-заполнение-пропусков-в-объединенной-таблице\" data-toc-modified-id=\"Добавление-колонок-и-заполнение-пропусков-в-объединенной-таблице-2.3\"><span class=\"toc-item-num\">2.3&nbsp;&nbsp;</span>Добавление колонок и заполнение пропусков в объединенной таблице</a></span></li><li><span><a href=\"#Вывод-по-предобработки-данных\" data-toc-modified-id=\"Вывод-по-предобработки-данных-2.4\"><span class=\"toc-item-num\">2.4&nbsp;&nbsp;</span>Вывод по предобработки данных</a></span></li></ul></li><li><span><a href=\"#Анализ-данных-каждого-тарифа\" data-toc-modified-id=\"Анализ-данных-каждого-тарифа-3\"><span class=\"toc-item-num\">3&nbsp;&nbsp;</span>Анализ данных каждого тарифа</a></span><ul class=\"toc-item\"><li><span><a href=\"#Анализ-минут-разговора-относительно-тарифа.\" data-toc-modified-id=\"Анализ-минут-разговора-относительно-тарифа.-3.1\"><span class=\"toc-item-num\">3.1&nbsp;&nbsp;</span>Анализ минут разговора относительно тарифа.</a></span></li><li><span><a href=\"#Анализ-количества-смс--в-зависимости-от-тарифного-плана\" data-toc-modified-id=\"Анализ-количества-смс--в-зависимости-от-тарифного-плана-3.2\"><span class=\"toc-item-num\">3.2&nbsp;&nbsp;</span>Анализ количества смс  в зависимости от тарифного плана</a></span></li><li><span><a href=\"#Анализ-количества-потраченных-Гб--в-зависимости-от-тарифного-плана\" data-toc-modified-id=\"Анализ-количества-потраченных-Гб--в-зависимости-от-тарифного-плана-3.3\"><span class=\"toc-item-num\">3.3&nbsp;&nbsp;</span>Анализ количества потраченных Гб  в зависимости от тарифного плана</a></span></li><li><span><a href=\"#Вывод-по-анализу-каждой-услуги-в-зависимости-от-тарифа\" data-toc-modified-id=\"Вывод-по-анализу-каждой-услуги-в-зависимости-от-тарифа-3.4\"><span class=\"toc-item-num\">3.4&nbsp;&nbsp;</span>Вывод по анализу каждой услуги в зависимости от тарифа</a></span></li></ul></li><li><span><a href=\"#Проверка-гипотез\" data-toc-modified-id=\"Проверка-гипотез-4\"><span class=\"toc-item-num\">4&nbsp;&nbsp;</span>Проверка гипотез</a></span><ul class=\"toc-item\"><li><span><a href=\"#Сравнение-выручки-пользователей-тарифов-«Ультра»-и-«Смарт»\" data-toc-modified-id=\"Сравнение-выручки-пользователей-тарифов-«Ультра»-и-«Смарт»-4.1\"><span class=\"toc-item-num\">4.1&nbsp;&nbsp;</span>Сравнение выручки пользователей тарифов «Ультра» и «Смарт»</a></span></li><li><span><a href=\"#Выручка-пользователей-из-Москвы-и-выручка-пользователей-из-других-регионов\" data-toc-modified-id=\"Выручка-пользователей-из-Москвы-и-выручка-пользователей-из-других-регионов-4.2\"><span class=\"toc-item-num\">4.2&nbsp;&nbsp;</span>Выручка пользователей из Москвы и выручка пользователей из других регионов</a></span></li><li><span><a href=\"#Вывод-после-проверки-гипотез\" data-toc-modified-id=\"Вывод-после-проверки-гипотез-4.3\"><span class=\"toc-item-num\">4.3&nbsp;&nbsp;</span>Вывод после проверки гипотез</a></span></li></ul></li><li><span><a href=\"#Общий-вывод\" data-toc-modified-id=\"Общий-вывод-5\"><span class=\"toc-item-num\">5&nbsp;&nbsp;</span>Общий вывод</a></span></li></ul></div>"
   ]
  },
  {
   "cell_type": "markdown",
   "id": "e95385d7",
   "metadata": {},
   "source": [
    "# Определение перспективного тарифа для телеком-компании\n",
    "Необходимо сделать предварительный анализ тарифов на небольшой выборке клиентов. В  распоряжении данные 500 пользователей оператора: кто они, откуда, каким тарифом пользуются, сколько звонков и сообщений каждый отправил за 2018 год и информация по каждому из тарифов. Нужно проанализировать поведение клиентов и сделать вывод — какой тариф приносит больше денег. На основании проведенного анализа комерческий департамент хочет понять как необходимо скорректировать рекламный бюджет.\n",
    "\n",
    "Так же необходимо проверить следующие гипотезы:\n",
    "* средняя выручка пользователей тарифов «Ультра» и «Смарт» различаются\n",
    "* средняя выручка пользователей из Москвы отличается от выручки пользователей из других регионов\n",
    "\n",
    "**Примечание:**\n",
    "\n",
    "Оператор всегда округляет секунды до минут, а мегабайты — до гигабайт. Каждый звонок округляется отдельно: даже если он длился всего 1 секунду, будет засчитан как 1 минута.\n",
    "\n",
    "Для веб-трафика отдельные сессии не считаются. Вместо этого общая сумма за месяц округляется в бо́льшую сторону. Если абонент использует 1025 мегабайт в этом месяце, с него возьмут плату за 2 гигабайта."
   ]
  },
  {
   "cell_type": "markdown",
   "id": "27536be3",
   "metadata": {},
   "source": [
    "##  Загрузка данных, получение общей информации"
   ]
  },
  {
   "cell_type": "code",
   "execution_count": 1,
   "id": "2073a371",
   "metadata": {},
   "outputs": [],
   "source": [
    "import pandas as pd\n",
    "import numpy as np\n",
    "import math \n",
    "import seaborn as sns\n",
    "from scipy import stats as st\n",
    "import random\n",
    "import matplotlib.pyplot as plt\n",
    "pd.set_option('display.max_columns', 40)\n",
    "gb_const = 1024"
   ]
  },
  {
   "cell_type": "code",
   "execution_count": 2,
   "id": "9d3eab30",
   "metadata": {},
   "outputs": [],
   "source": [
    "df = ['users_df', 'tariffs_df', 'messages_df', 'internet_df', 'calls_df']\n",
    "try:\n",
    "    users_df = pd.read_csv('F:/mobile_operator_datasets/users.csv')\n",
    "    tariffs_df = pd.read_csv('F:/mobile_operator_datasets/tariffs.csv')\n",
    "    messages_df = pd.read_csv('F:/mobile_operator_datasets/messages.csv')\n",
    "    internet_df = pd.read_csv('F:/mobile_operator_datasets/internet.csv')\n",
    "    calls_df = pd.read_csv('F:/mobile_operator_datasets/calls.csv')\n",
    "except:\n",
    "    users_df = pd.read_csv('/datasets/users.csv')\n",
    "    tariffs_df = pd.read_csv('/datasets/tariffs.csv')\n",
    "    messages_df = pd.read_csv('/datasets/messages.csv')\n",
    "    internet_df = pd.read_csv('/datasets/internet.csv')\n",
    "    calls_df = pd.read_csv('/datasets/calls.csv')\n",
    "    \n",
    "    \n",
    "df = [users_df, tariffs_df, messages_df, internet_df, calls_df]"
   ]
  },
  {
   "cell_type": "markdown",
   "id": "d287bac3",
   "metadata": {},
   "source": [
    "### Таблица users_df"
   ]
  },
  {
   "cell_type": "code",
   "execution_count": 3,
   "id": "475b293d",
   "metadata": {},
   "outputs": [
    {
     "data": {
      "text/html": [
       "<div>\n",
       "<style scoped>\n",
       "    .dataframe tbody tr th:only-of-type {\n",
       "        vertical-align: middle;\n",
       "    }\n",
       "\n",
       "    .dataframe tbody tr th {\n",
       "        vertical-align: top;\n",
       "    }\n",
       "\n",
       "    .dataframe thead th {\n",
       "        text-align: right;\n",
       "    }\n",
       "</style>\n",
       "<table border=\"1\" class=\"dataframe\">\n",
       "  <thead>\n",
       "    <tr style=\"text-align: right;\">\n",
       "      <th></th>\n",
       "      <th>user_id</th>\n",
       "      <th>age</th>\n",
       "      <th>churn_date</th>\n",
       "      <th>city</th>\n",
       "      <th>first_name</th>\n",
       "      <th>last_name</th>\n",
       "      <th>reg_date</th>\n",
       "      <th>tariff</th>\n",
       "    </tr>\n",
       "  </thead>\n",
       "  <tbody>\n",
       "    <tr>\n",
       "      <td>0</td>\n",
       "      <td>1000</td>\n",
       "      <td>52</td>\n",
       "      <td>NaN</td>\n",
       "      <td>Краснодар</td>\n",
       "      <td>Рафаил</td>\n",
       "      <td>Верещагин</td>\n",
       "      <td>2018-05-25</td>\n",
       "      <td>ultra</td>\n",
       "    </tr>\n",
       "    <tr>\n",
       "      <td>1</td>\n",
       "      <td>1001</td>\n",
       "      <td>41</td>\n",
       "      <td>NaN</td>\n",
       "      <td>Москва</td>\n",
       "      <td>Иван</td>\n",
       "      <td>Ежов</td>\n",
       "      <td>2018-11-01</td>\n",
       "      <td>smart</td>\n",
       "    </tr>\n",
       "    <tr>\n",
       "      <td>2</td>\n",
       "      <td>1002</td>\n",
       "      <td>59</td>\n",
       "      <td>NaN</td>\n",
       "      <td>Стерлитамак</td>\n",
       "      <td>Евгений</td>\n",
       "      <td>Абрамович</td>\n",
       "      <td>2018-06-17</td>\n",
       "      <td>smart</td>\n",
       "    </tr>\n",
       "    <tr>\n",
       "      <td>3</td>\n",
       "      <td>1003</td>\n",
       "      <td>23</td>\n",
       "      <td>NaN</td>\n",
       "      <td>Москва</td>\n",
       "      <td>Белла</td>\n",
       "      <td>Белякова</td>\n",
       "      <td>2018-08-17</td>\n",
       "      <td>ultra</td>\n",
       "    </tr>\n",
       "    <tr>\n",
       "      <td>4</td>\n",
       "      <td>1004</td>\n",
       "      <td>68</td>\n",
       "      <td>NaN</td>\n",
       "      <td>Новокузнецк</td>\n",
       "      <td>Татьяна</td>\n",
       "      <td>Авдеенко</td>\n",
       "      <td>2018-05-14</td>\n",
       "      <td>ultra</td>\n",
       "    </tr>\n",
       "  </tbody>\n",
       "</table>\n",
       "</div>"
      ],
      "text/plain": [
       "   user_id  age churn_date         city first_name  last_name    reg_date  \\\n",
       "0     1000   52        NaN    Краснодар     Рафаил  Верещагин  2018-05-25   \n",
       "1     1001   41        NaN       Москва       Иван       Ежов  2018-11-01   \n",
       "2     1002   59        NaN  Стерлитамак    Евгений  Абрамович  2018-06-17   \n",
       "3     1003   23        NaN       Москва      Белла   Белякова  2018-08-17   \n",
       "4     1004   68        NaN  Новокузнецк    Татьяна   Авдеенко  2018-05-14   \n",
       "\n",
       "  tariff  \n",
       "0  ultra  \n",
       "1  smart  \n",
       "2  smart  \n",
       "3  ultra  \n",
       "4  ultra  "
      ]
     },
     "metadata": {},
     "output_type": "display_data"
    },
    {
     "name": "stdout",
     "output_type": "stream",
     "text": [
      "<class 'pandas.core.frame.DataFrame'>\n",
      "RangeIndex: 500 entries, 0 to 499\n",
      "Data columns (total 8 columns):\n",
      "user_id       500 non-null int64\n",
      "age           500 non-null int64\n",
      "churn_date    38 non-null object\n",
      "city          500 non-null object\n",
      "first_name    500 non-null object\n",
      "last_name     500 non-null object\n",
      "reg_date      500 non-null object\n",
      "tariff        500 non-null object\n",
      "dtypes: int64(2), object(6)\n",
      "memory usage: 31.4+ KB\n"
     ]
    }
   ],
   "source": [
    "display(users_df.head(5))\n",
    "users_df.info()"
   ]
  },
  {
   "cell_type": "code",
   "execution_count": 4,
   "id": "5ef81e95",
   "metadata": {},
   "outputs": [
    {
     "data": {
      "text/plain": [
       "0"
      ]
     },
     "execution_count": 4,
     "metadata": {},
     "output_type": "execute_result"
    }
   ],
   "source": [
    "users_df.duplicated().sum()"
   ]
  },
  {
   "cell_type": "markdown",
   "id": "c77921c2",
   "metadata": {},
   "source": [
    "Описание данных:\n",
    "* `user_id` - уникальный индификатор пользователя\n",
    "* `age`- возраст пользователя\n",
    "* `churn_date`- дата прекращения пользование тарифом. Если даты нет то пользователь еще на этом тарифе.\n",
    "* `city` - город проживания пользователя\n",
    "* `first_name` - имя пользователя\n",
    "* `last_name` - фамилия пользователя\n",
    "* `reg_date` -  дата подключения тарифа ( день, месяц, год)\n",
    "* `tariff` - название тарифа"
   ]
  },
  {
   "cell_type": "markdown",
   "id": "f7c39c14",
   "metadata": {},
   "source": [
    "### Таблица messages_df"
   ]
  },
  {
   "cell_type": "code",
   "execution_count": 5,
   "id": "59fbd82c",
   "metadata": {},
   "outputs": [
    {
     "data": {
      "text/html": [
       "<div>\n",
       "<style scoped>\n",
       "    .dataframe tbody tr th:only-of-type {\n",
       "        vertical-align: middle;\n",
       "    }\n",
       "\n",
       "    .dataframe tbody tr th {\n",
       "        vertical-align: top;\n",
       "    }\n",
       "\n",
       "    .dataframe thead th {\n",
       "        text-align: right;\n",
       "    }\n",
       "</style>\n",
       "<table border=\"1\" class=\"dataframe\">\n",
       "  <thead>\n",
       "    <tr style=\"text-align: right;\">\n",
       "      <th></th>\n",
       "      <th>id</th>\n",
       "      <th>message_date</th>\n",
       "      <th>user_id</th>\n",
       "    </tr>\n",
       "  </thead>\n",
       "  <tbody>\n",
       "    <tr>\n",
       "      <td>0</td>\n",
       "      <td>1000_0</td>\n",
       "      <td>2018-06-27</td>\n",
       "      <td>1000</td>\n",
       "    </tr>\n",
       "    <tr>\n",
       "      <td>1</td>\n",
       "      <td>1000_1</td>\n",
       "      <td>2018-10-08</td>\n",
       "      <td>1000</td>\n",
       "    </tr>\n",
       "    <tr>\n",
       "      <td>2</td>\n",
       "      <td>1000_2</td>\n",
       "      <td>2018-08-04</td>\n",
       "      <td>1000</td>\n",
       "    </tr>\n",
       "    <tr>\n",
       "      <td>3</td>\n",
       "      <td>1000_3</td>\n",
       "      <td>2018-06-16</td>\n",
       "      <td>1000</td>\n",
       "    </tr>\n",
       "    <tr>\n",
       "      <td>4</td>\n",
       "      <td>1000_4</td>\n",
       "      <td>2018-12-05</td>\n",
       "      <td>1000</td>\n",
       "    </tr>\n",
       "  </tbody>\n",
       "</table>\n",
       "</div>"
      ],
      "text/plain": [
       "       id message_date  user_id\n",
       "0  1000_0   2018-06-27     1000\n",
       "1  1000_1   2018-10-08     1000\n",
       "2  1000_2   2018-08-04     1000\n",
       "3  1000_3   2018-06-16     1000\n",
       "4  1000_4   2018-12-05     1000"
      ]
     },
     "metadata": {},
     "output_type": "display_data"
    },
    {
     "name": "stdout",
     "output_type": "stream",
     "text": [
      "<class 'pandas.core.frame.DataFrame'>\n",
      "RangeIndex: 123036 entries, 0 to 123035\n",
      "Data columns (total 3 columns):\n",
      "id              123036 non-null object\n",
      "message_date    123036 non-null object\n",
      "user_id         123036 non-null int64\n",
      "dtypes: int64(1), object(2)\n",
      "memory usage: 2.8+ MB\n"
     ]
    }
   ],
   "source": [
    "display(messages_df.head(5))\n",
    "messages_df.info()"
   ]
  },
  {
   "cell_type": "code",
   "execution_count": 6,
   "id": "90269692",
   "metadata": {},
   "outputs": [
    {
     "data": {
      "text/plain": [
       "0"
      ]
     },
     "execution_count": 6,
     "metadata": {},
     "output_type": "execute_result"
    }
   ],
   "source": [
    "messages_df.duplicated().sum()"
   ]
  },
  {
   "cell_type": "markdown",
   "id": "ac1b8ec7",
   "metadata": {},
   "source": [
    "Описание данных:\n",
    "* `id` - уникальный номер сообщения\n",
    "* `message_date` - дата сообщения\n",
    "* `user_id` - уникальный индификатор пользователя"
   ]
  },
  {
   "cell_type": "markdown",
   "id": "b9e3f1c0",
   "metadata": {},
   "source": [
    "### Таблица internet_df"
   ]
  },
  {
   "cell_type": "code",
   "execution_count": 7,
   "id": "6452f32f",
   "metadata": {},
   "outputs": [
    {
     "data": {
      "text/html": [
       "<div>\n",
       "<style scoped>\n",
       "    .dataframe tbody tr th:only-of-type {\n",
       "        vertical-align: middle;\n",
       "    }\n",
       "\n",
       "    .dataframe tbody tr th {\n",
       "        vertical-align: top;\n",
       "    }\n",
       "\n",
       "    .dataframe thead th {\n",
       "        text-align: right;\n",
       "    }\n",
       "</style>\n",
       "<table border=\"1\" class=\"dataframe\">\n",
       "  <thead>\n",
       "    <tr style=\"text-align: right;\">\n",
       "      <th></th>\n",
       "      <th>Unnamed: 0</th>\n",
       "      <th>id</th>\n",
       "      <th>mb_used</th>\n",
       "      <th>session_date</th>\n",
       "      <th>user_id</th>\n",
       "    </tr>\n",
       "  </thead>\n",
       "  <tbody>\n",
       "    <tr>\n",
       "      <td>0</td>\n",
       "      <td>0</td>\n",
       "      <td>1000_0</td>\n",
       "      <td>112.95</td>\n",
       "      <td>2018-11-25</td>\n",
       "      <td>1000</td>\n",
       "    </tr>\n",
       "    <tr>\n",
       "      <td>1</td>\n",
       "      <td>1</td>\n",
       "      <td>1000_1</td>\n",
       "      <td>1052.81</td>\n",
       "      <td>2018-09-07</td>\n",
       "      <td>1000</td>\n",
       "    </tr>\n",
       "    <tr>\n",
       "      <td>2</td>\n",
       "      <td>2</td>\n",
       "      <td>1000_2</td>\n",
       "      <td>1197.26</td>\n",
       "      <td>2018-06-25</td>\n",
       "      <td>1000</td>\n",
       "    </tr>\n",
       "    <tr>\n",
       "      <td>3</td>\n",
       "      <td>3</td>\n",
       "      <td>1000_3</td>\n",
       "      <td>550.27</td>\n",
       "      <td>2018-08-22</td>\n",
       "      <td>1000</td>\n",
       "    </tr>\n",
       "    <tr>\n",
       "      <td>4</td>\n",
       "      <td>4</td>\n",
       "      <td>1000_4</td>\n",
       "      <td>302.56</td>\n",
       "      <td>2018-09-24</td>\n",
       "      <td>1000</td>\n",
       "    </tr>\n",
       "  </tbody>\n",
       "</table>\n",
       "</div>"
      ],
      "text/plain": [
       "   Unnamed: 0      id  mb_used session_date  user_id\n",
       "0           0  1000_0   112.95   2018-11-25     1000\n",
       "1           1  1000_1  1052.81   2018-09-07     1000\n",
       "2           2  1000_2  1197.26   2018-06-25     1000\n",
       "3           3  1000_3   550.27   2018-08-22     1000\n",
       "4           4  1000_4   302.56   2018-09-24     1000"
      ]
     },
     "metadata": {},
     "output_type": "display_data"
    },
    {
     "name": "stdout",
     "output_type": "stream",
     "text": [
      "<class 'pandas.core.frame.DataFrame'>\n",
      "RangeIndex: 149396 entries, 0 to 149395\n",
      "Data columns (total 5 columns):\n",
      "Unnamed: 0      149396 non-null int64\n",
      "id              149396 non-null object\n",
      "mb_used         149396 non-null float64\n",
      "session_date    149396 non-null object\n",
      "user_id         149396 non-null int64\n",
      "dtypes: float64(1), int64(2), object(2)\n",
      "memory usage: 5.7+ MB\n"
     ]
    }
   ],
   "source": [
    "display(internet_df.head(5))\n",
    "internet_df.info()"
   ]
  },
  {
   "cell_type": "code",
   "execution_count": 8,
   "id": "e429d24a",
   "metadata": {},
   "outputs": [
    {
     "data": {
      "text/plain": [
       "0"
      ]
     },
     "execution_count": 8,
     "metadata": {},
     "output_type": "execute_result"
    }
   ],
   "source": [
    "internet_df.duplicated().sum()"
   ]
  },
  {
   "cell_type": "markdown",
   "id": "917d7490",
   "metadata": {},
   "source": [
    "Описание данных таблицы internet_df:\n",
    "* `Unnamed: 0` - дублирование строкой индексации\n",
    "* `id` -  уникальный номер сессии\n",
    "* `mb_used` - обьем потраченного за сессию интернет трафика\n",
    "* `session_date`- дата интернет сессии\n",
    "* `user_id` - уникальный индефикатор пользователя"
   ]
  },
  {
   "cell_type": "markdown",
   "id": "9577dc2c",
   "metadata": {},
   "source": [
    "### Таблица calls_df"
   ]
  },
  {
   "cell_type": "code",
   "execution_count": 9,
   "id": "4af94ac0",
   "metadata": {},
   "outputs": [
    {
     "data": {
      "text/html": [
       "<div>\n",
       "<style scoped>\n",
       "    .dataframe tbody tr th:only-of-type {\n",
       "        vertical-align: middle;\n",
       "    }\n",
       "\n",
       "    .dataframe tbody tr th {\n",
       "        vertical-align: top;\n",
       "    }\n",
       "\n",
       "    .dataframe thead th {\n",
       "        text-align: right;\n",
       "    }\n",
       "</style>\n",
       "<table border=\"1\" class=\"dataframe\">\n",
       "  <thead>\n",
       "    <tr style=\"text-align: right;\">\n",
       "      <th></th>\n",
       "      <th>id</th>\n",
       "      <th>call_date</th>\n",
       "      <th>duration</th>\n",
       "      <th>user_id</th>\n",
       "    </tr>\n",
       "  </thead>\n",
       "  <tbody>\n",
       "    <tr>\n",
       "      <td>0</td>\n",
       "      <td>1000_0</td>\n",
       "      <td>2018-07-25</td>\n",
       "      <td>0.00</td>\n",
       "      <td>1000</td>\n",
       "    </tr>\n",
       "    <tr>\n",
       "      <td>1</td>\n",
       "      <td>1000_1</td>\n",
       "      <td>2018-08-17</td>\n",
       "      <td>0.00</td>\n",
       "      <td>1000</td>\n",
       "    </tr>\n",
       "    <tr>\n",
       "      <td>2</td>\n",
       "      <td>1000_2</td>\n",
       "      <td>2018-06-11</td>\n",
       "      <td>2.85</td>\n",
       "      <td>1000</td>\n",
       "    </tr>\n",
       "    <tr>\n",
       "      <td>3</td>\n",
       "      <td>1000_3</td>\n",
       "      <td>2018-09-21</td>\n",
       "      <td>13.80</td>\n",
       "      <td>1000</td>\n",
       "    </tr>\n",
       "    <tr>\n",
       "      <td>4</td>\n",
       "      <td>1000_4</td>\n",
       "      <td>2018-12-15</td>\n",
       "      <td>5.18</td>\n",
       "      <td>1000</td>\n",
       "    </tr>\n",
       "  </tbody>\n",
       "</table>\n",
       "</div>"
      ],
      "text/plain": [
       "       id   call_date  duration  user_id\n",
       "0  1000_0  2018-07-25      0.00     1000\n",
       "1  1000_1  2018-08-17      0.00     1000\n",
       "2  1000_2  2018-06-11      2.85     1000\n",
       "3  1000_3  2018-09-21     13.80     1000\n",
       "4  1000_4  2018-12-15      5.18     1000"
      ]
     },
     "metadata": {},
     "output_type": "display_data"
    },
    {
     "name": "stdout",
     "output_type": "stream",
     "text": [
      "<class 'pandas.core.frame.DataFrame'>\n",
      "RangeIndex: 202607 entries, 0 to 202606\n",
      "Data columns (total 4 columns):\n",
      "id           202607 non-null object\n",
      "call_date    202607 non-null object\n",
      "duration     202607 non-null float64\n",
      "user_id      202607 non-null int64\n",
      "dtypes: float64(1), int64(1), object(2)\n",
      "memory usage: 6.2+ MB\n"
     ]
    }
   ],
   "source": [
    "display(calls_df.head(5))\n",
    "calls_df.info()"
   ]
  },
  {
   "cell_type": "code",
   "execution_count": 10,
   "id": "4bcdc36e",
   "metadata": {},
   "outputs": [
    {
     "data": {
      "text/plain": [
       "0"
      ]
     },
     "execution_count": 10,
     "metadata": {},
     "output_type": "execute_result"
    }
   ],
   "source": [
    "calls_df.duplicated().sum()"
   ]
  },
  {
   "cell_type": "markdown",
   "id": "1f1a29d6",
   "metadata": {},
   "source": [
    "Описание данных таблицы calls_df:\n",
    "* `id` - уникальный номер звонка\n",
    "* `call_date` - дата звонка\n",
    "* `duration` - длительность звонка в минутах\n",
    "* `user_id` - уникальный индификатор пользователя"
   ]
  },
  {
   "cell_type": "markdown",
   "id": "cbfd5e95",
   "metadata": {},
   "source": [
    "### Таблица tariffs_df"
   ]
  },
  {
   "cell_type": "code",
   "execution_count": 11,
   "id": "26a4cd03",
   "metadata": {},
   "outputs": [
    {
     "data": {
      "text/html": [
       "<div>\n",
       "<style scoped>\n",
       "    .dataframe tbody tr th:only-of-type {\n",
       "        vertical-align: middle;\n",
       "    }\n",
       "\n",
       "    .dataframe tbody tr th {\n",
       "        vertical-align: top;\n",
       "    }\n",
       "\n",
       "    .dataframe thead th {\n",
       "        text-align: right;\n",
       "    }\n",
       "</style>\n",
       "<table border=\"1\" class=\"dataframe\">\n",
       "  <thead>\n",
       "    <tr style=\"text-align: right;\">\n",
       "      <th></th>\n",
       "      <th>messages_included</th>\n",
       "      <th>mb_per_month_included</th>\n",
       "      <th>minutes_included</th>\n",
       "      <th>rub_monthly_fee</th>\n",
       "      <th>rub_per_gb</th>\n",
       "      <th>rub_per_message</th>\n",
       "      <th>rub_per_minute</th>\n",
       "      <th>tariff_name</th>\n",
       "    </tr>\n",
       "  </thead>\n",
       "  <tbody>\n",
       "    <tr>\n",
       "      <td>0</td>\n",
       "      <td>50</td>\n",
       "      <td>15360</td>\n",
       "      <td>500</td>\n",
       "      <td>550</td>\n",
       "      <td>200</td>\n",
       "      <td>3</td>\n",
       "      <td>3</td>\n",
       "      <td>smart</td>\n",
       "    </tr>\n",
       "    <tr>\n",
       "      <td>1</td>\n",
       "      <td>1000</td>\n",
       "      <td>30720</td>\n",
       "      <td>3000</td>\n",
       "      <td>1950</td>\n",
       "      <td>150</td>\n",
       "      <td>1</td>\n",
       "      <td>1</td>\n",
       "      <td>ultra</td>\n",
       "    </tr>\n",
       "  </tbody>\n",
       "</table>\n",
       "</div>"
      ],
      "text/plain": [
       "   messages_included  mb_per_month_included  minutes_included  \\\n",
       "0                 50                  15360               500   \n",
       "1               1000                  30720              3000   \n",
       "\n",
       "   rub_monthly_fee  rub_per_gb  rub_per_message  rub_per_minute tariff_name  \n",
       "0              550         200                3               3       smart  \n",
       "1             1950         150                1               1       ultra  "
      ]
     },
     "metadata": {},
     "output_type": "display_data"
    },
    {
     "name": "stdout",
     "output_type": "stream",
     "text": [
      "<class 'pandas.core.frame.DataFrame'>\n",
      "RangeIndex: 2 entries, 0 to 1\n",
      "Data columns (total 8 columns):\n",
      "messages_included        2 non-null int64\n",
      "mb_per_month_included    2 non-null int64\n",
      "minutes_included         2 non-null int64\n",
      "rub_monthly_fee          2 non-null int64\n",
      "rub_per_gb               2 non-null int64\n",
      "rub_per_message          2 non-null int64\n",
      "rub_per_minute           2 non-null int64\n",
      "tariff_name              2 non-null object\n",
      "dtypes: int64(7), object(1)\n",
      "memory usage: 256.0+ bytes\n"
     ]
    }
   ],
   "source": [
    "display(tariffs_df.head(5))\n",
    "tariffs_df.info()"
   ]
  },
  {
   "cell_type": "code",
   "execution_count": 12,
   "id": "31c8b40b",
   "metadata": {},
   "outputs": [
    {
     "data": {
      "text/plain": [
       "0"
      ]
     },
     "execution_count": 12,
     "metadata": {},
     "output_type": "execute_result"
    }
   ],
   "source": [
    "tariffs_df.duplicated().sum()"
   ]
  },
  {
   "cell_type": "markdown",
   "id": "aa4675af",
   "metadata": {},
   "source": [
    "Описание данных таблицы tariffs_df:\n",
    "* `messages_included` - количество сообщений в месяц, включённых в абонентскую плату\n",
    "* `mb_per_month_included` - объём интернет-трафика, включённого в абонентскую плату (в мегабайтах)\n",
    "* `minutes_included\t` - количество минут разговора в месяц, включённых в абонентскую плату\n",
    "* `rub_monthly_fee` - ежемесячная абонентская плата в рублях\n",
    "* `rub_per_gb` - стоимость дополнительного гигабайта интернет-трафика сверх тарифного пакета (1 гигабайт = 1024 мегабайта) \n",
    "* `rub_per_message`- стоимость отправки сообщения сверх тарифного пакета\n",
    "* `rub_per_minute` -стоимость минуты разговора сверх тарифного пакета (например, если в тарифе 100 минут разговора в месяц, то со 101 минуты будет взиматься плата)\n",
    "* `tariff_name` - название тарифа"
   ]
  },
  {
   "cell_type": "markdown",
   "id": "be6e7cf5",
   "metadata": {},
   "source": [
    "### Вывод по общей информации"
   ]
  },
  {
   "cell_type": "markdown",
   "id": "332944fd",
   "metadata": {},
   "source": [
    "Каждай датафрейм содержит уникальный индификатор пользователя что в дальнейшем понадобится для обтединения таблиц. В таблицах не было обнаружено явнях дубликатов\n",
    "\n",
    "users_df:\n",
    "* `churn_date`, `reg_date` - изменить тип данных c `object` на `datetime64`\n",
    "\n",
    "messages_df:\n",
    "* `message_date` - изменить тип данных c `object` на `datetime64`\n",
    "* `id` - изменит название колонки на `messages_id` перед соединением таблиц\n",
    "* Пропусков в таблице не обнаружено\n",
    "\n",
    "internet_df:\n",
    "* `Unnamed: 0` - удалить калонку дублирования индексации строк\n",
    "* `id` - изменит название колонки на `internet_id` перед соединением таблиц\n",
    "* `session_date` - изменить тип данных c `object` на `datetime64`\n",
    "* Пропусков в таблице не обнаружено\n",
    "\n",
    "calls_df:\n",
    "* `id` - изменит название колонки на `calls_id` перед соединением таблиц\n",
    "* `call_date` - изменить тип данных c `object` на `datetime64`\n",
    "* `duration` - длительность звока округлить в большую сторону так как оплата пидет по минутам\n",
    "* Пропусков в таблице не обнаружено\n",
    "\n",
    "tariffs_df:\n",
    "* `mb_per_month_included` - перевести в гигабайты"
   ]
  },
  {
   "cell_type": "markdown",
   "id": "a281bfa7",
   "metadata": {},
   "source": [
    "##  Предобработка данных и замена типов данных"
   ]
  },
  {
   "cell_type": "code",
   "execution_count": 13,
   "id": "8f4f4d03",
   "metadata": {},
   "outputs": [],
   "source": [
    "# меняем формат в таблице users_df колонки churn_date\n",
    "users_df['churn_date'] = pd.to_datetime(users_df['churn_date'], format='%Y-%m-%d %H:%M')"
   ]
  },
  {
   "cell_type": "code",
   "execution_count": 14,
   "id": "0fa45810",
   "metadata": {},
   "outputs": [],
   "source": [
    "# меняем формат в таблице users_df колонки reg_date\n",
    "users_df['reg_date'] = pd.to_datetime(users_df['reg_date'], format='%Y-%m-%d %H:%M')"
   ]
  },
  {
   "cell_type": "code",
   "execution_count": 15,
   "id": "404072b6",
   "metadata": {},
   "outputs": [],
   "source": [
    "# заменим название колонки tariff\n",
    "users_df.rename(columns={'tariff': 'tariff_name'}, inplace=True)"
   ]
  },
  {
   "cell_type": "code",
   "execution_count": 16,
   "id": "d26a9b4a",
   "metadata": {},
   "outputs": [],
   "source": [
    "# меняем формат в таблице messages_df колонки message_date\n",
    "messages_df['message_date'] = pd.to_datetime(messages_df['message_date'], format='%Y-%m-%d %H:%M')"
   ]
  },
  {
   "cell_type": "code",
   "execution_count": 17,
   "id": "007b4e47",
   "metadata": {},
   "outputs": [],
   "source": [
    "# заменим название колонки id на mesages_id\n",
    "messages_df.rename(columns={'id': 'messages_id'}, inplace=True)"
   ]
  },
  {
   "cell_type": "code",
   "execution_count": 18,
   "id": "affa43c7",
   "metadata": {},
   "outputs": [],
   "source": [
    "# меняем формат в таблице internet_df колонки session_date\n",
    "internet_df['session_date'] = pd.to_datetime(internet_df['session_date'], format='%Y-%m-%d %H:%M')"
   ]
  },
  {
   "cell_type": "code",
   "execution_count": 19,
   "id": "c92e5f9b",
   "metadata": {},
   "outputs": [],
   "source": [
    "# удалим столбец Unnamed: 0\n",
    "internet_df.drop(columns=['Unnamed: 0'], inplace=True)"
   ]
  },
  {
   "cell_type": "code",
   "execution_count": 20,
   "id": "5206a73c",
   "metadata": {},
   "outputs": [],
   "source": [
    "# заменим название колонки id на mesages_id\n",
    "internet_df.rename(columns={'id': 'internet_id'}, inplace=True)"
   ]
  },
  {
   "cell_type": "code",
   "execution_count": 21,
   "id": "7c3cc7e1",
   "metadata": {},
   "outputs": [],
   "source": [
    "# заменим название колонки id на call_id\n",
    "calls_df.rename(columns={'id': 'call_id'}, inplace=True)"
   ]
  },
  {
   "cell_type": "code",
   "execution_count": 22,
   "id": "d7678d65",
   "metadata": {},
   "outputs": [],
   "source": [
    "# меняем формат в таблице calls_df колонки call_date\n",
    "calls_df['call_date'] = pd.to_datetime(calls_df['call_date'], format='%Y-%m-%d %H:%M')"
   ]
  },
  {
   "cell_type": "code",
   "execution_count": 23,
   "id": "cf4d6b76",
   "metadata": {},
   "outputs": [],
   "source": [
    "# округляем duration до минут в большую сторону\n",
    "calls_df['duration'] = calls_df['duration'].apply(np.ceil)"
   ]
  },
  {
   "cell_type": "code",
   "execution_count": 24,
   "id": "1254e618",
   "metadata": {},
   "outputs": [],
   "source": [
    "# изменим тип на  целочисленыый\n",
    "calls_df['duration'] = calls_df['duration'].astype('int64')"
   ]
  },
  {
   "cell_type": "code",
   "execution_count": 25,
   "id": "ec8f13fc",
   "metadata": {},
   "outputs": [],
   "source": [
    "# создадим колонку month для дальнейшей группировки сообщений по месяцам\n",
    "messages_df['month'] = messages_df['message_date'].astype('datetime64[M]')"
   ]
  },
  {
   "cell_type": "code",
   "execution_count": 26,
   "id": "f4b3dd5b",
   "metadata": {},
   "outputs": [],
   "source": [
    "# создадим колонку month для дальнейшей группировки звонков по месяцам\n",
    "calls_df['month'] = calls_df['call_date'].astype('datetime64[M]')"
   ]
  },
  {
   "cell_type": "code",
   "execution_count": 27,
   "id": "61011954",
   "metadata": {},
   "outputs": [],
   "source": [
    "# создадим колонку month для дальнейшей группировки сессий по месяцам\n",
    "internet_df['month'] = internet_df['session_date'].astype('datetime64[M]')"
   ]
  },
  {
   "cell_type": "markdown",
   "id": "2431fc9f",
   "metadata": {},
   "source": [
    "### Группировка таблиц"
   ]
  },
  {
   "cell_type": "code",
   "execution_count": 28,
   "id": "b947d04e",
   "metadata": {},
   "outputs": [
    {
     "data": {
      "text/html": [
       "<div>\n",
       "<style scoped>\n",
       "    .dataframe tbody tr th:only-of-type {\n",
       "        vertical-align: middle;\n",
       "    }\n",
       "\n",
       "    .dataframe tbody tr th {\n",
       "        vertical-align: top;\n",
       "    }\n",
       "\n",
       "    .dataframe thead tr th {\n",
       "        text-align: left;\n",
       "    }\n",
       "\n",
       "    .dataframe thead tr:last-of-type th {\n",
       "        text-align: right;\n",
       "    }\n",
       "</style>\n",
       "<table border=\"1\" class=\"dataframe\">\n",
       "  <thead>\n",
       "    <tr>\n",
       "      <th></th>\n",
       "      <th></th>\n",
       "      <th>sum</th>\n",
       "      <th>count</th>\n",
       "    </tr>\n",
       "    <tr>\n",
       "      <th></th>\n",
       "      <th></th>\n",
       "      <th>duration</th>\n",
       "      <th>duration</th>\n",
       "    </tr>\n",
       "    <tr>\n",
       "      <th>user_id</th>\n",
       "      <th>month</th>\n",
       "      <th></th>\n",
       "      <th></th>\n",
       "    </tr>\n",
       "  </thead>\n",
       "  <tbody>\n",
       "    <tr>\n",
       "      <td rowspan=\"5\" valign=\"top\">1000</td>\n",
       "      <td>2018-05-01</td>\n",
       "      <td>159</td>\n",
       "      <td>22</td>\n",
       "    </tr>\n",
       "    <tr>\n",
       "      <td>2018-06-01</td>\n",
       "      <td>172</td>\n",
       "      <td>43</td>\n",
       "    </tr>\n",
       "    <tr>\n",
       "      <td>2018-07-01</td>\n",
       "      <td>340</td>\n",
       "      <td>47</td>\n",
       "    </tr>\n",
       "    <tr>\n",
       "      <td>2018-08-01</td>\n",
       "      <td>408</td>\n",
       "      <td>52</td>\n",
       "    </tr>\n",
       "    <tr>\n",
       "      <td>2018-09-01</td>\n",
       "      <td>466</td>\n",
       "      <td>58</td>\n",
       "    </tr>\n",
       "    <tr>\n",
       "      <td>...</td>\n",
       "      <td>...</td>\n",
       "      <td>...</td>\n",
       "      <td>...</td>\n",
       "    </tr>\n",
       "    <tr>\n",
       "      <td>1498</td>\n",
       "      <td>2018-10-01</td>\n",
       "      <td>247</td>\n",
       "      <td>41</td>\n",
       "    </tr>\n",
       "    <tr>\n",
       "      <td rowspan=\"4\" valign=\"top\">1499</td>\n",
       "      <td>2018-09-01</td>\n",
       "      <td>70</td>\n",
       "      <td>9</td>\n",
       "    </tr>\n",
       "    <tr>\n",
       "      <td>2018-10-01</td>\n",
       "      <td>449</td>\n",
       "      <td>68</td>\n",
       "    </tr>\n",
       "    <tr>\n",
       "      <td>2018-11-01</td>\n",
       "      <td>612</td>\n",
       "      <td>74</td>\n",
       "    </tr>\n",
       "    <tr>\n",
       "      <td>2018-12-01</td>\n",
       "      <td>492</td>\n",
       "      <td>69</td>\n",
       "    </tr>\n",
       "  </tbody>\n",
       "</table>\n",
       "<p>3174 rows × 2 columns</p>\n",
       "</div>"
      ],
      "text/plain": [
       "                        sum    count\n",
       "                   duration duration\n",
       "user_id month                       \n",
       "1000    2018-05-01      159       22\n",
       "        2018-06-01      172       43\n",
       "        2018-07-01      340       47\n",
       "        2018-08-01      408       52\n",
       "        2018-09-01      466       58\n",
       "...                     ...      ...\n",
       "1498    2018-10-01      247       41\n",
       "1499    2018-09-01       70        9\n",
       "        2018-10-01      449       68\n",
       "        2018-11-01      612       74\n",
       "        2018-12-01      492       69\n",
       "\n",
       "[3174 rows x 2 columns]"
      ]
     },
     "execution_count": 28,
     "metadata": {},
     "output_type": "execute_result"
    }
   ],
   "source": [
    "# таблица с количеством сделанных звонков и израсходованных минут разговора по месяцам для каждого клиента\n",
    "calls_month_df = calls_df.pivot_table(index=['user_id', 'month'], values='duration', aggfunc=['sum', 'count'])\n",
    "calls_month_df "
   ]
  },
  {
   "cell_type": "code",
   "execution_count": 29,
   "id": "f2eca7b7",
   "metadata": {},
   "outputs": [],
   "source": [
    "# заменя названия колонок\n",
    "calls_month_df.columns = ['duration_sum','duration_count']"
   ]
  },
  {
   "cell_type": "code",
   "execution_count": 30,
   "id": "6fd07621",
   "metadata": {},
   "outputs": [
    {
     "data": {
      "text/html": [
       "<div>\n",
       "<style scoped>\n",
       "    .dataframe tbody tr th:only-of-type {\n",
       "        vertical-align: middle;\n",
       "    }\n",
       "\n",
       "    .dataframe tbody tr th {\n",
       "        vertical-align: top;\n",
       "    }\n",
       "\n",
       "    .dataframe thead th {\n",
       "        text-align: right;\n",
       "    }\n",
       "</style>\n",
       "<table border=\"1\" class=\"dataframe\">\n",
       "  <thead>\n",
       "    <tr style=\"text-align: right;\">\n",
       "      <th></th>\n",
       "      <th></th>\n",
       "      <th>messages_id</th>\n",
       "    </tr>\n",
       "    <tr>\n",
       "      <th>user_id</th>\n",
       "      <th>month</th>\n",
       "      <th></th>\n",
       "    </tr>\n",
       "  </thead>\n",
       "  <tbody>\n",
       "    <tr>\n",
       "      <td rowspan=\"5\" valign=\"top\">1000</td>\n",
       "      <td>2018-05-01</td>\n",
       "      <td>22</td>\n",
       "    </tr>\n",
       "    <tr>\n",
       "      <td>2018-06-01</td>\n",
       "      <td>60</td>\n",
       "    </tr>\n",
       "    <tr>\n",
       "      <td>2018-07-01</td>\n",
       "      <td>75</td>\n",
       "    </tr>\n",
       "    <tr>\n",
       "      <td>2018-08-01</td>\n",
       "      <td>81</td>\n",
       "    </tr>\n",
       "    <tr>\n",
       "      <td>2018-09-01</td>\n",
       "      <td>57</td>\n",
       "    </tr>\n",
       "    <tr>\n",
       "      <td>...</td>\n",
       "      <td>...</td>\n",
       "      <td>...</td>\n",
       "    </tr>\n",
       "    <tr>\n",
       "      <td>1498</td>\n",
       "      <td>2018-10-01</td>\n",
       "      <td>42</td>\n",
       "    </tr>\n",
       "    <tr>\n",
       "      <td rowspan=\"4\" valign=\"top\">1499</td>\n",
       "      <td>2018-09-01</td>\n",
       "      <td>11</td>\n",
       "    </tr>\n",
       "    <tr>\n",
       "      <td>2018-10-01</td>\n",
       "      <td>48</td>\n",
       "    </tr>\n",
       "    <tr>\n",
       "      <td>2018-11-01</td>\n",
       "      <td>59</td>\n",
       "    </tr>\n",
       "    <tr>\n",
       "      <td>2018-12-01</td>\n",
       "      <td>66</td>\n",
       "    </tr>\n",
       "  </tbody>\n",
       "</table>\n",
       "<p>2717 rows × 1 columns</p>\n",
       "</div>"
      ],
      "text/plain": [
       "                    messages_id\n",
       "user_id month                  \n",
       "1000    2018-05-01           22\n",
       "        2018-06-01           60\n",
       "        2018-07-01           75\n",
       "        2018-08-01           81\n",
       "        2018-09-01           57\n",
       "...                         ...\n",
       "1498    2018-10-01           42\n",
       "1499    2018-09-01           11\n",
       "        2018-10-01           48\n",
       "        2018-11-01           59\n",
       "        2018-12-01           66\n",
       "\n",
       "[2717 rows x 1 columns]"
      ]
     },
     "execution_count": 30,
     "metadata": {},
     "output_type": "execute_result"
    }
   ],
   "source": [
    "# таблица с количеством отправленных сообщений по месяцам для каждого клиента\n",
    "messages_month_df = messages_df.pivot_table(index=['user_id', 'month'], values='messages_id', aggfunc='count')\n",
    "messages_month_df"
   ]
  },
  {
   "cell_type": "code",
   "execution_count": 31,
   "id": "7cf15dd2",
   "metadata": {
    "code_folding": []
   },
   "outputs": [
    {
     "data": {
      "text/html": [
       "<div>\n",
       "<style scoped>\n",
       "    .dataframe tbody tr th:only-of-type {\n",
       "        vertical-align: middle;\n",
       "    }\n",
       "\n",
       "    .dataframe tbody tr th {\n",
       "        vertical-align: top;\n",
       "    }\n",
       "\n",
       "    .dataframe thead th {\n",
       "        text-align: right;\n",
       "    }\n",
       "</style>\n",
       "<table border=\"1\" class=\"dataframe\">\n",
       "  <thead>\n",
       "    <tr style=\"text-align: right;\">\n",
       "      <th></th>\n",
       "      <th></th>\n",
       "      <th>mb_used</th>\n",
       "    </tr>\n",
       "    <tr>\n",
       "      <th>user_id</th>\n",
       "      <th>month</th>\n",
       "      <th></th>\n",
       "    </tr>\n",
       "  </thead>\n",
       "  <tbody>\n",
       "    <tr>\n",
       "      <td rowspan=\"5\" valign=\"top\">1000</td>\n",
       "      <td>2018-05-01</td>\n",
       "      <td>2253.49</td>\n",
       "    </tr>\n",
       "    <tr>\n",
       "      <td>2018-06-01</td>\n",
       "      <td>23233.77</td>\n",
       "    </tr>\n",
       "    <tr>\n",
       "      <td>2018-07-01</td>\n",
       "      <td>14003.64</td>\n",
       "    </tr>\n",
       "    <tr>\n",
       "      <td>2018-08-01</td>\n",
       "      <td>14055.93</td>\n",
       "    </tr>\n",
       "    <tr>\n",
       "      <td>2018-09-01</td>\n",
       "      <td>14568.91</td>\n",
       "    </tr>\n",
       "    <tr>\n",
       "      <td>...</td>\n",
       "      <td>...</td>\n",
       "      <td>...</td>\n",
       "    </tr>\n",
       "    <tr>\n",
       "      <td>1498</td>\n",
       "      <td>2018-10-01</td>\n",
       "      <td>20579.36</td>\n",
       "    </tr>\n",
       "    <tr>\n",
       "      <td rowspan=\"4\" valign=\"top\">1499</td>\n",
       "      <td>2018-09-01</td>\n",
       "      <td>1845.75</td>\n",
       "    </tr>\n",
       "    <tr>\n",
       "      <td>2018-10-01</td>\n",
       "      <td>17788.51</td>\n",
       "    </tr>\n",
       "    <tr>\n",
       "      <td>2018-11-01</td>\n",
       "      <td>17963.31</td>\n",
       "    </tr>\n",
       "    <tr>\n",
       "      <td>2018-12-01</td>\n",
       "      <td>13055.58</td>\n",
       "    </tr>\n",
       "  </tbody>\n",
       "</table>\n",
       "<p>3203 rows × 1 columns</p>\n",
       "</div>"
      ],
      "text/plain": [
       "                     mb_used\n",
       "user_id month               \n",
       "1000    2018-05-01   2253.49\n",
       "        2018-06-01  23233.77\n",
       "        2018-07-01  14003.64\n",
       "        2018-08-01  14055.93\n",
       "        2018-09-01  14568.91\n",
       "...                      ...\n",
       "1498    2018-10-01  20579.36\n",
       "1499    2018-09-01   1845.75\n",
       "        2018-10-01  17788.51\n",
       "        2018-11-01  17963.31\n",
       "        2018-12-01  13055.58\n",
       "\n",
       "[3203 rows x 1 columns]"
      ]
     },
     "execution_count": 31,
     "metadata": {},
     "output_type": "execute_result"
    }
   ],
   "source": [
    "# объем израсходованного интернет-трафика по месяцам для каждого клиента\n",
    "internet_month_df = internet_df.pivot_table(index=['user_id', 'month'], values='mb_used', aggfunc='sum')\n",
    "internet_month_df"
   ]
  },
  {
   "cell_type": "code",
   "execution_count": 32,
   "id": "1bf590e8",
   "metadata": {
    "code_folding": []
   },
   "outputs": [
    {
     "data": {
      "text/html": [
       "<div>\n",
       "<style scoped>\n",
       "    .dataframe tbody tr th:only-of-type {\n",
       "        vertical-align: middle;\n",
       "    }\n",
       "\n",
       "    .dataframe tbody tr th {\n",
       "        vertical-align: top;\n",
       "    }\n",
       "\n",
       "    .dataframe thead th {\n",
       "        text-align: right;\n",
       "    }\n",
       "</style>\n",
       "<table border=\"1\" class=\"dataframe\">\n",
       "  <thead>\n",
       "    <tr style=\"text-align: right;\">\n",
       "      <th></th>\n",
       "      <th>month</th>\n",
       "      <th>duration_sum</th>\n",
       "      <th>duration_count</th>\n",
       "      <th>messages_id</th>\n",
       "      <th>mb_used</th>\n",
       "    </tr>\n",
       "    <tr>\n",
       "      <th>user_id</th>\n",
       "      <th></th>\n",
       "      <th></th>\n",
       "      <th></th>\n",
       "      <th></th>\n",
       "      <th></th>\n",
       "    </tr>\n",
       "  </thead>\n",
       "  <tbody>\n",
       "    <tr>\n",
       "      <td>1000</td>\n",
       "      <td>2018-05-01</td>\n",
       "      <td>159.0</td>\n",
       "      <td>22.0</td>\n",
       "      <td>22.0</td>\n",
       "      <td>2253.49</td>\n",
       "    </tr>\n",
       "    <tr>\n",
       "      <td>1000</td>\n",
       "      <td>2018-06-01</td>\n",
       "      <td>172.0</td>\n",
       "      <td>43.0</td>\n",
       "      <td>60.0</td>\n",
       "      <td>23233.77</td>\n",
       "    </tr>\n",
       "    <tr>\n",
       "      <td>1000</td>\n",
       "      <td>2018-07-01</td>\n",
       "      <td>340.0</td>\n",
       "      <td>47.0</td>\n",
       "      <td>75.0</td>\n",
       "      <td>14003.64</td>\n",
       "    </tr>\n",
       "    <tr>\n",
       "      <td>1000</td>\n",
       "      <td>2018-08-01</td>\n",
       "      <td>408.0</td>\n",
       "      <td>52.0</td>\n",
       "      <td>81.0</td>\n",
       "      <td>14055.93</td>\n",
       "    </tr>\n",
       "    <tr>\n",
       "      <td>1000</td>\n",
       "      <td>2018-09-01</td>\n",
       "      <td>466.0</td>\n",
       "      <td>58.0</td>\n",
       "      <td>57.0</td>\n",
       "      <td>14568.91</td>\n",
       "    </tr>\n",
       "    <tr>\n",
       "      <td>...</td>\n",
       "      <td>...</td>\n",
       "      <td>...</td>\n",
       "      <td>...</td>\n",
       "      <td>...</td>\n",
       "      <td>...</td>\n",
       "    </tr>\n",
       "    <tr>\n",
       "      <td>1498</td>\n",
       "      <td>2018-10-01</td>\n",
       "      <td>247.0</td>\n",
       "      <td>41.0</td>\n",
       "      <td>42.0</td>\n",
       "      <td>20579.36</td>\n",
       "    </tr>\n",
       "    <tr>\n",
       "      <td>1499</td>\n",
       "      <td>2018-09-01</td>\n",
       "      <td>70.0</td>\n",
       "      <td>9.0</td>\n",
       "      <td>11.0</td>\n",
       "      <td>1845.75</td>\n",
       "    </tr>\n",
       "    <tr>\n",
       "      <td>1499</td>\n",
       "      <td>2018-10-01</td>\n",
       "      <td>449.0</td>\n",
       "      <td>68.0</td>\n",
       "      <td>48.0</td>\n",
       "      <td>17788.51</td>\n",
       "    </tr>\n",
       "    <tr>\n",
       "      <td>1499</td>\n",
       "      <td>2018-11-01</td>\n",
       "      <td>612.0</td>\n",
       "      <td>74.0</td>\n",
       "      <td>59.0</td>\n",
       "      <td>17963.31</td>\n",
       "    </tr>\n",
       "    <tr>\n",
       "      <td>1499</td>\n",
       "      <td>2018-12-01</td>\n",
       "      <td>492.0</td>\n",
       "      <td>69.0</td>\n",
       "      <td>66.0</td>\n",
       "      <td>13055.58</td>\n",
       "    </tr>\n",
       "  </tbody>\n",
       "</table>\n",
       "<p>3214 rows × 5 columns</p>\n",
       "</div>"
      ],
      "text/plain": [
       "             month  duration_sum  duration_count  messages_id   mb_used\n",
       "user_id                                                                \n",
       "1000    2018-05-01         159.0            22.0         22.0   2253.49\n",
       "1000    2018-06-01         172.0            43.0         60.0  23233.77\n",
       "1000    2018-07-01         340.0            47.0         75.0  14003.64\n",
       "1000    2018-08-01         408.0            52.0         81.0  14055.93\n",
       "1000    2018-09-01         466.0            58.0         57.0  14568.91\n",
       "...            ...           ...             ...          ...       ...\n",
       "1498    2018-10-01         247.0            41.0         42.0  20579.36\n",
       "1499    2018-09-01          70.0             9.0         11.0   1845.75\n",
       "1499    2018-10-01         449.0            68.0         48.0  17788.51\n",
       "1499    2018-11-01         612.0            74.0         59.0  17963.31\n",
       "1499    2018-12-01         492.0            69.0         66.0  13055.58\n",
       "\n",
       "[3214 rows x 5 columns]"
      ]
     },
     "execution_count": 32,
     "metadata": {},
     "output_type": "execute_result"
    }
   ],
   "source": [
    "# объединим таблицы calls_month_df messages_month_df internet_month_df  в одну  \n",
    "united_services = calls_month_df.join([messages_month_df, internet_month_df], how='outer').reset_index(level=1)\n",
    "united_services"
   ]
  },
  {
   "cell_type": "markdown",
   "id": "4105252a",
   "metadata": {},
   "source": [
    "### Объединение таблиц"
   ]
  },
  {
   "cell_type": "code",
   "execution_count": 33,
   "id": "563c50d6",
   "metadata": {
    "code_folding": []
   },
   "outputs": [
    {
     "data": {
      "text/html": [
       "<div>\n",
       "<style scoped>\n",
       "    .dataframe tbody tr th:only-of-type {\n",
       "        vertical-align: middle;\n",
       "    }\n",
       "\n",
       "    .dataframe tbody tr th {\n",
       "        vertical-align: top;\n",
       "    }\n",
       "\n",
       "    .dataframe thead th {\n",
       "        text-align: right;\n",
       "    }\n",
       "</style>\n",
       "<table border=\"1\" class=\"dataframe\">\n",
       "  <thead>\n",
       "    <tr style=\"text-align: right;\">\n",
       "      <th></th>\n",
       "      <th>user_id</th>\n",
       "      <th>age</th>\n",
       "      <th>churn_date</th>\n",
       "      <th>city</th>\n",
       "      <th>first_name</th>\n",
       "      <th>last_name</th>\n",
       "      <th>reg_date</th>\n",
       "      <th>tariff_name</th>\n",
       "      <th>month</th>\n",
       "      <th>duration_sum</th>\n",
       "      <th>duration_count</th>\n",
       "      <th>messages_id</th>\n",
       "      <th>mb_used</th>\n",
       "    </tr>\n",
       "  </thead>\n",
       "  <tbody>\n",
       "    <tr>\n",
       "      <td>0</td>\n",
       "      <td>1000</td>\n",
       "      <td>52</td>\n",
       "      <td>NaT</td>\n",
       "      <td>Краснодар</td>\n",
       "      <td>Рафаил</td>\n",
       "      <td>Верещагин</td>\n",
       "      <td>2018-05-25</td>\n",
       "      <td>ultra</td>\n",
       "      <td>2018-05-01</td>\n",
       "      <td>159.0</td>\n",
       "      <td>22.0</td>\n",
       "      <td>22.0</td>\n",
       "      <td>2253.49</td>\n",
       "    </tr>\n",
       "    <tr>\n",
       "      <td>1</td>\n",
       "      <td>1000</td>\n",
       "      <td>52</td>\n",
       "      <td>NaT</td>\n",
       "      <td>Краснодар</td>\n",
       "      <td>Рафаил</td>\n",
       "      <td>Верещагин</td>\n",
       "      <td>2018-05-25</td>\n",
       "      <td>ultra</td>\n",
       "      <td>2018-06-01</td>\n",
       "      <td>172.0</td>\n",
       "      <td>43.0</td>\n",
       "      <td>60.0</td>\n",
       "      <td>23233.77</td>\n",
       "    </tr>\n",
       "    <tr>\n",
       "      <td>2</td>\n",
       "      <td>1000</td>\n",
       "      <td>52</td>\n",
       "      <td>NaT</td>\n",
       "      <td>Краснодар</td>\n",
       "      <td>Рафаил</td>\n",
       "      <td>Верещагин</td>\n",
       "      <td>2018-05-25</td>\n",
       "      <td>ultra</td>\n",
       "      <td>2018-07-01</td>\n",
       "      <td>340.0</td>\n",
       "      <td>47.0</td>\n",
       "      <td>75.0</td>\n",
       "      <td>14003.64</td>\n",
       "    </tr>\n",
       "    <tr>\n",
       "      <td>3</td>\n",
       "      <td>1000</td>\n",
       "      <td>52</td>\n",
       "      <td>NaT</td>\n",
       "      <td>Краснодар</td>\n",
       "      <td>Рафаил</td>\n",
       "      <td>Верещагин</td>\n",
       "      <td>2018-05-25</td>\n",
       "      <td>ultra</td>\n",
       "      <td>2018-08-01</td>\n",
       "      <td>408.0</td>\n",
       "      <td>52.0</td>\n",
       "      <td>81.0</td>\n",
       "      <td>14055.93</td>\n",
       "    </tr>\n",
       "    <tr>\n",
       "      <td>4</td>\n",
       "      <td>1000</td>\n",
       "      <td>52</td>\n",
       "      <td>NaT</td>\n",
       "      <td>Краснодар</td>\n",
       "      <td>Рафаил</td>\n",
       "      <td>Верещагин</td>\n",
       "      <td>2018-05-25</td>\n",
       "      <td>ultra</td>\n",
       "      <td>2018-09-01</td>\n",
       "      <td>466.0</td>\n",
       "      <td>58.0</td>\n",
       "      <td>57.0</td>\n",
       "      <td>14568.91</td>\n",
       "    </tr>\n",
       "    <tr>\n",
       "      <td>...</td>\n",
       "      <td>...</td>\n",
       "      <td>...</td>\n",
       "      <td>...</td>\n",
       "      <td>...</td>\n",
       "      <td>...</td>\n",
       "      <td>...</td>\n",
       "      <td>...</td>\n",
       "      <td>...</td>\n",
       "      <td>...</td>\n",
       "      <td>...</td>\n",
       "      <td>...</td>\n",
       "      <td>...</td>\n",
       "      <td>...</td>\n",
       "    </tr>\n",
       "    <tr>\n",
       "      <td>3209</td>\n",
       "      <td>1498</td>\n",
       "      <td>68</td>\n",
       "      <td>2018-10-25</td>\n",
       "      <td>Владикавказ</td>\n",
       "      <td>Всеволод</td>\n",
       "      <td>Акимчин</td>\n",
       "      <td>2018-07-19</td>\n",
       "      <td>smart</td>\n",
       "      <td>2018-10-01</td>\n",
       "      <td>247.0</td>\n",
       "      <td>41.0</td>\n",
       "      <td>42.0</td>\n",
       "      <td>20579.36</td>\n",
       "    </tr>\n",
       "    <tr>\n",
       "      <td>3210</td>\n",
       "      <td>1499</td>\n",
       "      <td>35</td>\n",
       "      <td>NaT</td>\n",
       "      <td>Пермь</td>\n",
       "      <td>Гектор</td>\n",
       "      <td>Корнилов</td>\n",
       "      <td>2018-09-27</td>\n",
       "      <td>smart</td>\n",
       "      <td>2018-09-01</td>\n",
       "      <td>70.0</td>\n",
       "      <td>9.0</td>\n",
       "      <td>11.0</td>\n",
       "      <td>1845.75</td>\n",
       "    </tr>\n",
       "    <tr>\n",
       "      <td>3211</td>\n",
       "      <td>1499</td>\n",
       "      <td>35</td>\n",
       "      <td>NaT</td>\n",
       "      <td>Пермь</td>\n",
       "      <td>Гектор</td>\n",
       "      <td>Корнилов</td>\n",
       "      <td>2018-09-27</td>\n",
       "      <td>smart</td>\n",
       "      <td>2018-10-01</td>\n",
       "      <td>449.0</td>\n",
       "      <td>68.0</td>\n",
       "      <td>48.0</td>\n",
       "      <td>17788.51</td>\n",
       "    </tr>\n",
       "    <tr>\n",
       "      <td>3212</td>\n",
       "      <td>1499</td>\n",
       "      <td>35</td>\n",
       "      <td>NaT</td>\n",
       "      <td>Пермь</td>\n",
       "      <td>Гектор</td>\n",
       "      <td>Корнилов</td>\n",
       "      <td>2018-09-27</td>\n",
       "      <td>smart</td>\n",
       "      <td>2018-11-01</td>\n",
       "      <td>612.0</td>\n",
       "      <td>74.0</td>\n",
       "      <td>59.0</td>\n",
       "      <td>17963.31</td>\n",
       "    </tr>\n",
       "    <tr>\n",
       "      <td>3213</td>\n",
       "      <td>1499</td>\n",
       "      <td>35</td>\n",
       "      <td>NaT</td>\n",
       "      <td>Пермь</td>\n",
       "      <td>Гектор</td>\n",
       "      <td>Корнилов</td>\n",
       "      <td>2018-09-27</td>\n",
       "      <td>smart</td>\n",
       "      <td>2018-12-01</td>\n",
       "      <td>492.0</td>\n",
       "      <td>69.0</td>\n",
       "      <td>66.0</td>\n",
       "      <td>13055.58</td>\n",
       "    </tr>\n",
       "  </tbody>\n",
       "</table>\n",
       "<p>3214 rows × 13 columns</p>\n",
       "</div>"
      ],
      "text/plain": [
       "      user_id  age churn_date         city first_name  last_name   reg_date  \\\n",
       "0        1000   52        NaT    Краснодар     Рафаил  Верещагин 2018-05-25   \n",
       "1        1000   52        NaT    Краснодар     Рафаил  Верещагин 2018-05-25   \n",
       "2        1000   52        NaT    Краснодар     Рафаил  Верещагин 2018-05-25   \n",
       "3        1000   52        NaT    Краснодар     Рафаил  Верещагин 2018-05-25   \n",
       "4        1000   52        NaT    Краснодар     Рафаил  Верещагин 2018-05-25   \n",
       "...       ...  ...        ...          ...        ...        ...        ...   \n",
       "3209     1498   68 2018-10-25  Владикавказ   Всеволод    Акимчин 2018-07-19   \n",
       "3210     1499   35        NaT        Пермь     Гектор   Корнилов 2018-09-27   \n",
       "3211     1499   35        NaT        Пермь     Гектор   Корнилов 2018-09-27   \n",
       "3212     1499   35        NaT        Пермь     Гектор   Корнилов 2018-09-27   \n",
       "3213     1499   35        NaT        Пермь     Гектор   Корнилов 2018-09-27   \n",
       "\n",
       "     tariff_name      month  duration_sum  duration_count  messages_id  \\\n",
       "0          ultra 2018-05-01         159.0            22.0         22.0   \n",
       "1          ultra 2018-06-01         172.0            43.0         60.0   \n",
       "2          ultra 2018-07-01         340.0            47.0         75.0   \n",
       "3          ultra 2018-08-01         408.0            52.0         81.0   \n",
       "4          ultra 2018-09-01         466.0            58.0         57.0   \n",
       "...          ...        ...           ...             ...          ...   \n",
       "3209       smart 2018-10-01         247.0            41.0         42.0   \n",
       "3210       smart 2018-09-01          70.0             9.0         11.0   \n",
       "3211       smart 2018-10-01         449.0            68.0         48.0   \n",
       "3212       smart 2018-11-01         612.0            74.0         59.0   \n",
       "3213       smart 2018-12-01         492.0            69.0         66.0   \n",
       "\n",
       "       mb_used  \n",
       "0      2253.49  \n",
       "1     23233.77  \n",
       "2     14003.64  \n",
       "3     14055.93  \n",
       "4     14568.91  \n",
       "...        ...  \n",
       "3209  20579.36  \n",
       "3210   1845.75  \n",
       "3211  17788.51  \n",
       "3212  17963.31  \n",
       "3213  13055.58  \n",
       "\n",
       "[3214 rows x 13 columns]"
      ]
     },
     "execution_count": 33,
     "metadata": {},
     "output_type": "execute_result"
    }
   ],
   "source": [
    "# создадим общую таблицу \n",
    "users_services = users_df.merge(united_services, on='user_id', how='right')\n",
    "users_services"
   ]
  },
  {
   "cell_type": "code",
   "execution_count": 34,
   "id": "6ea08b33",
   "metadata": {},
   "outputs": [
    {
     "data": {
      "text/html": [
       "<div>\n",
       "<style scoped>\n",
       "    .dataframe tbody tr th:only-of-type {\n",
       "        vertical-align: middle;\n",
       "    }\n",
       "\n",
       "    .dataframe tbody tr th {\n",
       "        vertical-align: top;\n",
       "    }\n",
       "\n",
       "    .dataframe thead th {\n",
       "        text-align: right;\n",
       "    }\n",
       "</style>\n",
       "<table border=\"1\" class=\"dataframe\">\n",
       "  <thead>\n",
       "    <tr style=\"text-align: right;\">\n",
       "      <th></th>\n",
       "      <th>user_id</th>\n",
       "      <th>age</th>\n",
       "      <th>churn_date</th>\n",
       "      <th>city</th>\n",
       "      <th>first_name</th>\n",
       "      <th>last_name</th>\n",
       "      <th>reg_date</th>\n",
       "      <th>tariff_name</th>\n",
       "      <th>month</th>\n",
       "      <th>duration_sum</th>\n",
       "      <th>duration_count</th>\n",
       "      <th>messages_id</th>\n",
       "      <th>mb_used</th>\n",
       "      <th>messages_included</th>\n",
       "      <th>mb_per_month_included</th>\n",
       "      <th>minutes_included</th>\n",
       "      <th>rub_monthly_fee</th>\n",
       "      <th>rub_per_gb</th>\n",
       "      <th>rub_per_message</th>\n",
       "      <th>rub_per_minute</th>\n",
       "    </tr>\n",
       "  </thead>\n",
       "  <tbody>\n",
       "    <tr>\n",
       "      <td>0</td>\n",
       "      <td>1000</td>\n",
       "      <td>52</td>\n",
       "      <td>NaT</td>\n",
       "      <td>Краснодар</td>\n",
       "      <td>Рафаил</td>\n",
       "      <td>Верещагин</td>\n",
       "      <td>2018-05-25</td>\n",
       "      <td>ultra</td>\n",
       "      <td>2018-05-01</td>\n",
       "      <td>159.0</td>\n",
       "      <td>22.0</td>\n",
       "      <td>22.0</td>\n",
       "      <td>2253.49</td>\n",
       "      <td>1000</td>\n",
       "      <td>30720</td>\n",
       "      <td>3000</td>\n",
       "      <td>1950</td>\n",
       "      <td>150</td>\n",
       "      <td>1</td>\n",
       "      <td>1</td>\n",
       "    </tr>\n",
       "    <tr>\n",
       "      <td>1</td>\n",
       "      <td>1000</td>\n",
       "      <td>52</td>\n",
       "      <td>NaT</td>\n",
       "      <td>Краснодар</td>\n",
       "      <td>Рафаил</td>\n",
       "      <td>Верещагин</td>\n",
       "      <td>2018-05-25</td>\n",
       "      <td>ultra</td>\n",
       "      <td>2018-06-01</td>\n",
       "      <td>172.0</td>\n",
       "      <td>43.0</td>\n",
       "      <td>60.0</td>\n",
       "      <td>23233.77</td>\n",
       "      <td>1000</td>\n",
       "      <td>30720</td>\n",
       "      <td>3000</td>\n",
       "      <td>1950</td>\n",
       "      <td>150</td>\n",
       "      <td>1</td>\n",
       "      <td>1</td>\n",
       "    </tr>\n",
       "    <tr>\n",
       "      <td>2</td>\n",
       "      <td>1000</td>\n",
       "      <td>52</td>\n",
       "      <td>NaT</td>\n",
       "      <td>Краснодар</td>\n",
       "      <td>Рафаил</td>\n",
       "      <td>Верещагин</td>\n",
       "      <td>2018-05-25</td>\n",
       "      <td>ultra</td>\n",
       "      <td>2018-07-01</td>\n",
       "      <td>340.0</td>\n",
       "      <td>47.0</td>\n",
       "      <td>75.0</td>\n",
       "      <td>14003.64</td>\n",
       "      <td>1000</td>\n",
       "      <td>30720</td>\n",
       "      <td>3000</td>\n",
       "      <td>1950</td>\n",
       "      <td>150</td>\n",
       "      <td>1</td>\n",
       "      <td>1</td>\n",
       "    </tr>\n",
       "    <tr>\n",
       "      <td>3</td>\n",
       "      <td>1000</td>\n",
       "      <td>52</td>\n",
       "      <td>NaT</td>\n",
       "      <td>Краснодар</td>\n",
       "      <td>Рафаил</td>\n",
       "      <td>Верещагин</td>\n",
       "      <td>2018-05-25</td>\n",
       "      <td>ultra</td>\n",
       "      <td>2018-08-01</td>\n",
       "      <td>408.0</td>\n",
       "      <td>52.0</td>\n",
       "      <td>81.0</td>\n",
       "      <td>14055.93</td>\n",
       "      <td>1000</td>\n",
       "      <td>30720</td>\n",
       "      <td>3000</td>\n",
       "      <td>1950</td>\n",
       "      <td>150</td>\n",
       "      <td>1</td>\n",
       "      <td>1</td>\n",
       "    </tr>\n",
       "    <tr>\n",
       "      <td>4</td>\n",
       "      <td>1000</td>\n",
       "      <td>52</td>\n",
       "      <td>NaT</td>\n",
       "      <td>Краснодар</td>\n",
       "      <td>Рафаил</td>\n",
       "      <td>Верещагин</td>\n",
       "      <td>2018-05-25</td>\n",
       "      <td>ultra</td>\n",
       "      <td>2018-09-01</td>\n",
       "      <td>466.0</td>\n",
       "      <td>58.0</td>\n",
       "      <td>57.0</td>\n",
       "      <td>14568.91</td>\n",
       "      <td>1000</td>\n",
       "      <td>30720</td>\n",
       "      <td>3000</td>\n",
       "      <td>1950</td>\n",
       "      <td>150</td>\n",
       "      <td>1</td>\n",
       "      <td>1</td>\n",
       "    </tr>\n",
       "    <tr>\n",
       "      <td>...</td>\n",
       "      <td>...</td>\n",
       "      <td>...</td>\n",
       "      <td>...</td>\n",
       "      <td>...</td>\n",
       "      <td>...</td>\n",
       "      <td>...</td>\n",
       "      <td>...</td>\n",
       "      <td>...</td>\n",
       "      <td>...</td>\n",
       "      <td>...</td>\n",
       "      <td>...</td>\n",
       "      <td>...</td>\n",
       "      <td>...</td>\n",
       "      <td>...</td>\n",
       "      <td>...</td>\n",
       "      <td>...</td>\n",
       "      <td>...</td>\n",
       "      <td>...</td>\n",
       "      <td>...</td>\n",
       "      <td>...</td>\n",
       "    </tr>\n",
       "    <tr>\n",
       "      <td>3209</td>\n",
       "      <td>1498</td>\n",
       "      <td>68</td>\n",
       "      <td>2018-10-25</td>\n",
       "      <td>Владикавказ</td>\n",
       "      <td>Всеволод</td>\n",
       "      <td>Акимчин</td>\n",
       "      <td>2018-07-19</td>\n",
       "      <td>smart</td>\n",
       "      <td>2018-10-01</td>\n",
       "      <td>247.0</td>\n",
       "      <td>41.0</td>\n",
       "      <td>42.0</td>\n",
       "      <td>20579.36</td>\n",
       "      <td>50</td>\n",
       "      <td>15360</td>\n",
       "      <td>500</td>\n",
       "      <td>550</td>\n",
       "      <td>200</td>\n",
       "      <td>3</td>\n",
       "      <td>3</td>\n",
       "    </tr>\n",
       "    <tr>\n",
       "      <td>3210</td>\n",
       "      <td>1499</td>\n",
       "      <td>35</td>\n",
       "      <td>NaT</td>\n",
       "      <td>Пермь</td>\n",
       "      <td>Гектор</td>\n",
       "      <td>Корнилов</td>\n",
       "      <td>2018-09-27</td>\n",
       "      <td>smart</td>\n",
       "      <td>2018-09-01</td>\n",
       "      <td>70.0</td>\n",
       "      <td>9.0</td>\n",
       "      <td>11.0</td>\n",
       "      <td>1845.75</td>\n",
       "      <td>50</td>\n",
       "      <td>15360</td>\n",
       "      <td>500</td>\n",
       "      <td>550</td>\n",
       "      <td>200</td>\n",
       "      <td>3</td>\n",
       "      <td>3</td>\n",
       "    </tr>\n",
       "    <tr>\n",
       "      <td>3211</td>\n",
       "      <td>1499</td>\n",
       "      <td>35</td>\n",
       "      <td>NaT</td>\n",
       "      <td>Пермь</td>\n",
       "      <td>Гектор</td>\n",
       "      <td>Корнилов</td>\n",
       "      <td>2018-09-27</td>\n",
       "      <td>smart</td>\n",
       "      <td>2018-10-01</td>\n",
       "      <td>449.0</td>\n",
       "      <td>68.0</td>\n",
       "      <td>48.0</td>\n",
       "      <td>17788.51</td>\n",
       "      <td>50</td>\n",
       "      <td>15360</td>\n",
       "      <td>500</td>\n",
       "      <td>550</td>\n",
       "      <td>200</td>\n",
       "      <td>3</td>\n",
       "      <td>3</td>\n",
       "    </tr>\n",
       "    <tr>\n",
       "      <td>3212</td>\n",
       "      <td>1499</td>\n",
       "      <td>35</td>\n",
       "      <td>NaT</td>\n",
       "      <td>Пермь</td>\n",
       "      <td>Гектор</td>\n",
       "      <td>Корнилов</td>\n",
       "      <td>2018-09-27</td>\n",
       "      <td>smart</td>\n",
       "      <td>2018-11-01</td>\n",
       "      <td>612.0</td>\n",
       "      <td>74.0</td>\n",
       "      <td>59.0</td>\n",
       "      <td>17963.31</td>\n",
       "      <td>50</td>\n",
       "      <td>15360</td>\n",
       "      <td>500</td>\n",
       "      <td>550</td>\n",
       "      <td>200</td>\n",
       "      <td>3</td>\n",
       "      <td>3</td>\n",
       "    </tr>\n",
       "    <tr>\n",
       "      <td>3213</td>\n",
       "      <td>1499</td>\n",
       "      <td>35</td>\n",
       "      <td>NaT</td>\n",
       "      <td>Пермь</td>\n",
       "      <td>Гектор</td>\n",
       "      <td>Корнилов</td>\n",
       "      <td>2018-09-27</td>\n",
       "      <td>smart</td>\n",
       "      <td>2018-12-01</td>\n",
       "      <td>492.0</td>\n",
       "      <td>69.0</td>\n",
       "      <td>66.0</td>\n",
       "      <td>13055.58</td>\n",
       "      <td>50</td>\n",
       "      <td>15360</td>\n",
       "      <td>500</td>\n",
       "      <td>550</td>\n",
       "      <td>200</td>\n",
       "      <td>3</td>\n",
       "      <td>3</td>\n",
       "    </tr>\n",
       "  </tbody>\n",
       "</table>\n",
       "<p>3214 rows × 20 columns</p>\n",
       "</div>"
      ],
      "text/plain": [
       "      user_id  age churn_date         city first_name  last_name   reg_date  \\\n",
       "0        1000   52        NaT    Краснодар     Рафаил  Верещагин 2018-05-25   \n",
       "1        1000   52        NaT    Краснодар     Рафаил  Верещагин 2018-05-25   \n",
       "2        1000   52        NaT    Краснодар     Рафаил  Верещагин 2018-05-25   \n",
       "3        1000   52        NaT    Краснодар     Рафаил  Верещагин 2018-05-25   \n",
       "4        1000   52        NaT    Краснодар     Рафаил  Верещагин 2018-05-25   \n",
       "...       ...  ...        ...          ...        ...        ...        ...   \n",
       "3209     1498   68 2018-10-25  Владикавказ   Всеволод    Акимчин 2018-07-19   \n",
       "3210     1499   35        NaT        Пермь     Гектор   Корнилов 2018-09-27   \n",
       "3211     1499   35        NaT        Пермь     Гектор   Корнилов 2018-09-27   \n",
       "3212     1499   35        NaT        Пермь     Гектор   Корнилов 2018-09-27   \n",
       "3213     1499   35        NaT        Пермь     Гектор   Корнилов 2018-09-27   \n",
       "\n",
       "     tariff_name      month  duration_sum  duration_count  messages_id  \\\n",
       "0          ultra 2018-05-01         159.0            22.0         22.0   \n",
       "1          ultra 2018-06-01         172.0            43.0         60.0   \n",
       "2          ultra 2018-07-01         340.0            47.0         75.0   \n",
       "3          ultra 2018-08-01         408.0            52.0         81.0   \n",
       "4          ultra 2018-09-01         466.0            58.0         57.0   \n",
       "...          ...        ...           ...             ...          ...   \n",
       "3209       smart 2018-10-01         247.0            41.0         42.0   \n",
       "3210       smart 2018-09-01          70.0             9.0         11.0   \n",
       "3211       smart 2018-10-01         449.0            68.0         48.0   \n",
       "3212       smart 2018-11-01         612.0            74.0         59.0   \n",
       "3213       smart 2018-12-01         492.0            69.0         66.0   \n",
       "\n",
       "       mb_used  messages_included  mb_per_month_included  minutes_included  \\\n",
       "0      2253.49               1000                  30720              3000   \n",
       "1     23233.77               1000                  30720              3000   \n",
       "2     14003.64               1000                  30720              3000   \n",
       "3     14055.93               1000                  30720              3000   \n",
       "4     14568.91               1000                  30720              3000   \n",
       "...        ...                ...                    ...               ...   \n",
       "3209  20579.36                 50                  15360               500   \n",
       "3210   1845.75                 50                  15360               500   \n",
       "3211  17788.51                 50                  15360               500   \n",
       "3212  17963.31                 50                  15360               500   \n",
       "3213  13055.58                 50                  15360               500   \n",
       "\n",
       "      rub_monthly_fee  rub_per_gb  rub_per_message  rub_per_minute  \n",
       "0                1950         150                1               1  \n",
       "1                1950         150                1               1  \n",
       "2                1950         150                1               1  \n",
       "3                1950         150                1               1  \n",
       "4                1950         150                1               1  \n",
       "...               ...         ...              ...             ...  \n",
       "3209              550         200                3               3  \n",
       "3210              550         200                3               3  \n",
       "3211              550         200                3               3  \n",
       "3212              550         200                3               3  \n",
       "3213              550         200                3               3  \n",
       "\n",
       "[3214 rows x 20 columns]"
      ]
     },
     "execution_count": 34,
     "metadata": {},
     "output_type": "execute_result"
    }
   ],
   "source": [
    "# добавим к общей таблице информацию о тарифе \n",
    "users_services = users_services.merge(tariffs_df, on='tariff_name', how='right')\n",
    "users_services"
   ]
  },
  {
   "cell_type": "markdown",
   "id": "8fc03822",
   "metadata": {},
   "source": [
    "### Добавление колонок и заполнение пропусков в объединенной таблице"
   ]
  },
  {
   "cell_type": "code",
   "execution_count": 35,
   "id": "6db21956",
   "metadata": {},
   "outputs": [],
   "source": [
    "# заполним пропуски 0 значениями появившиеся после объединения таблиц. \n",
    "fillna_dict = {'duration_sum': 0, 'duration_count': 0, 'messages_id': 0, 'mb_used':0}\n",
    "users_services.fillna(value=fillna_dict, inplace=True)"
   ]
  },
  {
   "cell_type": "code",
   "execution_count": 36,
   "id": "76e15188",
   "metadata": {},
   "outputs": [],
   "source": [
    "# создадим колонку с суммой платежа каждого клиента в зависимости от месяца \n",
    "def month_income(row):\n",
    "    ''' функция рассчитывает значение месячного платежа в зависимости\n",
    "        как активно пользователь пользовался услугами тарифа\n",
    "    '''\n",
    "    income = row['rub_monthly_fee']\n",
    "    internet = math.floor(row['mb_used'])\n",
    "    if row['duration_sum'] > row['minutes_included']:\n",
    "        income += (row['duration_sum'] - row['minutes_included']) * row['rub_per_minute']\n",
    "    if row['messages_id'] > row['messages_included']:\n",
    "        income += (row['messages_id'] - row['messages_included']) * row['rub_per_message']\n",
    "    if internet > row['mb_per_month_included']: \n",
    "        income += math.ceil((internet - row['mb_per_month_included']) / gb_const) * row['rub_per_gb']\n",
    "    return  income\n",
    "\n",
    "    \n",
    "users_services['month_income'] = users_services.apply(month_income, axis=1)"
   ]
  },
  {
   "cell_type": "code",
   "execution_count": 37,
   "id": "99661a34",
   "metadata": {},
   "outputs": [],
   "source": [
    "# добавим колонку категориальную колонку относительно месяца\n",
    "users_services['month_category'] = users_services['month'].dt.month"
   ]
  },
  {
   "cell_type": "code",
   "execution_count": 38,
   "id": "c2593562",
   "metadata": {},
   "outputs": [],
   "source": [
    "def gb_used(mb):\n",
    "    internet = math.floor(mb)\n",
    "    return math.ceil(internet / gb_const)\n",
    "\n",
    "users_services['gb_used'] = users_services['mb_used'].apply(gb_used)"
   ]
  },
  {
   "cell_type": "markdown",
   "id": "736d099e",
   "metadata": {},
   "source": [
    "### Вывод по предобработки данных"
   ]
  },
  {
   "cell_type": "markdown",
   "id": "8c43f81e",
   "metadata": {},
   "source": [
    "Во время предобработки данных были выполнены следущие действия:\n",
    "* Во всех таблицах где не корретно был указан формат datetime54 на соответствующий\n",
    "* Удалили лишнюю колонку в таблице tariff_df \n",
    "* Сгруппировали значения каждого сервиса по месяцам для каждого клиента\n",
    "* Объединили таблицы с сервисами и общую таблицу с информацией о клиентах в одну основную\n",
    "* Добавили коноку с суммой платежа для каждого клиента в месяц в зависимости от тарифа и использования различных услуг"
   ]
  },
  {
   "cell_type": "markdown",
   "id": "47eeabe6",
   "metadata": {},
   "source": [
    "## Анализ данных каждого тарифа"
   ]
  },
  {
   "cell_type": "markdown",
   "id": "65dae27b",
   "metadata": {},
   "source": [
    "Проведем анализ услуг и платежей который производят клиенты каждого тарифа и посмотрим.  Сколько минут разговора, сколько сообщений и какой объём интернет-трафика требуется пользователям каждого тарифа в месяц. Рассчитаем среднее количество, дисперсию и стандартное отклонение. Постройте гистограммы. Опишите распределения."
   ]
  },
  {
   "cell_type": "markdown",
   "id": "3a2d1057",
   "metadata": {},
   "source": [
    "### Анализ минут разговора относительно тарифа."
   ]
  },
  {
   "cell_type": "code",
   "execution_count": 39,
   "id": "18053438",
   "metadata": {},
   "outputs": [
    {
     "data": {
      "text/plain": [
       "<matplotlib.axes._subplots.AxesSubplot at 0x7f79bb84d210>"
      ]
     },
     "execution_count": 39,
     "metadata": {},
     "output_type": "execute_result"
    },
    {
     "data": {
      "image/png": "[encoded data removed]",
      "text/plain": [
       "<Figure size 1490.4x883.44 with 1 Axes>"
      ]
     },
     "metadata": {},
     "output_type": "display_data"
    }
   ],
   "source": [
    "# построим что бы понять сколько кака распределены количество минут в зависимости от месяца и тарифа\n",
    "sns.set(rc={'figure.figsize':(20.7,12.27)})\n",
    "sns.boxplot(x='month_category', y='duration_sum', hue='tariff_name',  data=users_services)"
   ]
  },
  {
   "cell_type": "code",
   "execution_count": 40,
   "id": "2a9998b7",
   "metadata": {},
   "outputs": [
    {
     "data": {
      "text/html": [
       "<div>\n",
       "<style scoped>\n",
       "    .dataframe tbody tr th:only-of-type {\n",
       "        vertical-align: middle;\n",
       "    }\n",
       "\n",
       "    .dataframe tbody tr th {\n",
       "        vertical-align: top;\n",
       "    }\n",
       "\n",
       "    .dataframe thead th {\n",
       "        text-align: right;\n",
       "    }\n",
       "</style>\n",
       "<table border=\"1\" class=\"dataframe\">\n",
       "  <thead>\n",
       "    <tr style=\"text-align: right;\">\n",
       "      <th></th>\n",
       "      <th>tariff_name</th>\n",
       "      <th>mean_duration_sum</th>\n",
       "      <th>var_duration_sum</th>\n",
       "      <th>std_duration_sum</th>\n",
       "    </tr>\n",
       "  </thead>\n",
       "  <tbody>\n",
       "    <tr>\n",
       "      <td>0</td>\n",
       "      <td>smart</td>\n",
       "      <td>417.934948</td>\n",
       "      <td>36219.315784</td>\n",
       "      <td>190.313730</td>\n",
       "    </tr>\n",
       "    <tr>\n",
       "      <td>1</td>\n",
       "      <td>ultra</td>\n",
       "      <td>526.623350</td>\n",
       "      <td>100873.633397</td>\n",
       "      <td>317.606098</td>\n",
       "    </tr>\n",
       "  </tbody>\n",
       "</table>\n",
       "</div>"
      ],
      "text/plain": [
       "  tariff_name  mean_duration_sum  var_duration_sum  std_duration_sum\n",
       "0       smart         417.934948      36219.315784        190.313730\n",
       "1       ultra         526.623350     100873.633397        317.606098"
      ]
     },
     "execution_count": 40,
     "metadata": {},
     "output_type": "execute_result"
    }
   ],
   "source": [
    "# расчет среднего значения, дисперсию и стандартное отклонение колич. мин потраченых пользователем в год в зависимости от тарифа\n",
    "df_call_min = users_services.pivot_table(index=['tariff_name'], values='duration_sum', aggfunc=['mean', 'var', 'std'])\n",
    "df_call_min.reset_index(inplace=True) \n",
    "df_call_min.columns = ['tariff_name',  'mean_duration_sum', 'var_duration_sum', 'std_duration_sum']\n",
    "df_call_min"
   ]
  },
  {
   "cell_type": "code",
   "execution_count": 41,
   "id": "46ba0acb",
   "metadata": {},
   "outputs": [
    {
     "data": {
      "text/plain": [
       "<seaborn.axisgrid.FacetGrid at 0x7f79bb6ba650>"
      ]
     },
     "execution_count": 41,
     "metadata": {},
     "output_type": "execute_result"
    },
    {
     "data": {
      "image/png": "[encoded data removed]",
      "text/plain": [
       "<Figure size 1698.17x1080 with 1 Axes>"
      ]
     },
     "metadata": {},
     "output_type": "display_data"
    }
   ],
   "source": [
    "# гистограммы распределения количества минут которые тратят клиенты для двух тарифов\n",
    "sns.displot(data=users_services, x=\"duration_sum\",  hue='tariff_name', kde=True, aspect=1.5, height=15)"
   ]
  },
  {
   "cell_type": "code",
   "execution_count": 42,
   "id": "b812babf",
   "metadata": {},
   "outputs": [
    {
     "data": {
      "text/plain": [
       "<matplotlib.axes._subplots.AxesSubplot at 0x7f79b9a29350>"
      ]
     },
     "execution_count": 42,
     "metadata": {},
     "output_type": "execute_result"
    },
    {
     "data": {
      "image/png": "[encoded data removed]",
      "text/plain": [
       "<Figure size 1490.4x883.44 with 1 Axes>"
      ]
     },
     "metadata": {},
     "output_type": "display_data"
    }
   ],
   "source": [
    "# боксплот  количества минут которые тратят клиенты для двух тарифов\n",
    "sns.boxplot(x='duration_sum', y='tariff_name', data=users_services)"
   ]
  },
  {
   "cell_type": "code",
   "execution_count": 43,
   "id": "52b6fcd0",
   "metadata": {},
   "outputs": [
    {
     "data": {
      "text/plain": [
       "count    2229.000000\n",
       "mean      417.934948\n",
       "std       190.313730\n",
       "min         0.000000\n",
       "25%       282.000000\n",
       "50%       422.000000\n",
       "75%       545.000000\n",
       "max      1435.000000\n",
       "Name: duration_sum, dtype: float64"
      ]
     },
     "execution_count": 43,
     "metadata": {},
     "output_type": "execute_result"
    }
   ],
   "source": [
    "users_services[users_services['tariff_name'] == 'smart']['duration_sum'].describe()"
   ]
  },
  {
   "cell_type": "code",
   "execution_count": 44,
   "id": "d2950b39",
   "metadata": {},
   "outputs": [
    {
     "data": {
      "text/plain": [
       "count     985.000000\n",
       "mean      526.623350\n",
       "std       317.606098\n",
       "min         0.000000\n",
       "25%       284.000000\n",
       "50%       518.000000\n",
       "75%       752.000000\n",
       "max      1673.000000\n",
       "Name: duration_sum, dtype: float64"
      ]
     },
     "execution_count": 44,
     "metadata": {},
     "output_type": "execute_result"
    }
   ],
   "source": [
    "users_services[users_services['tariff_name'] == 'ultra']['duration_sum'].describe()"
   ]
  },
  {
   "cell_type": "markdown",
   "id": "fcb07479",
   "metadata": {},
   "source": [
    "Вывод:\n",
    "* Количество минут в тарфифе `smart` - 500\n",
    "* Среднее значения количества минут  тарифа `smart` - 418\n",
    "* Дисперсия количества минут  тарифа `smart` - 36219\n",
    "* Стандартное отклонение количества минут  тарифа `smart` - 190\n",
    "* Количество минут в тарфифе `ultra` - 3000\n",
    "* Среднее значения количества минут  тарифа `ultra` - 527\n",
    "* Дисперсия количества минут  тарифа `ultra` - 100873\n",
    "* Стандартное отклонение количества минут  тарифа `ultra` - 317\n",
    "\n",
    "Клиенты обоих тарифов в среднем не выходят за  границы количества минут которые идут в пакете. В среднем клиенты которые используют тариф ультра на 110 минут больше разговаривабют по телефону. Так как среднее значение находится левее медианного значения можно сказать что в обоих случаях характерна отрицательная скошенность. Это может быть с тем что у многих клиентов в некоторые месяцы есть нулевое значение количество потраченных минут. Возможно это связано с тем что эти люди в основном используют данный тариф для подключения планшетов и других устроисть поэтому не стоит их вычитать из общего списка. Так как дисперсия и стандартное отклонение по тарифу больше у тарифа ультра можно судить о том что в значения более рассеяны между собой что можно сказать о боллее вытянутом графике рапределения. Значентя дальше удалены от среднего значентия всей выборки относительновыборки по тарифу смарт."
   ]
  },
  {
   "cell_type": "markdown",
   "id": "16f225ef",
   "metadata": {},
   "source": [
    "### Анализ количества смс  в зависимости от тарифного плана"
   ]
  },
  {
   "cell_type": "code",
   "execution_count": 45,
   "id": "56b2e4bc",
   "metadata": {},
   "outputs": [
    {
     "data": {
      "text/plain": [
       "<matplotlib.axes._subplots.AxesSubplot at 0x7f79b9ad8750>"
      ]
     },
     "execution_count": 45,
     "metadata": {},
     "output_type": "execute_result"
    },
    {
     "data": {
      "image/png": "[encoded data removed]",
      "text/plain": [
       "<Figure size 1490.4x883.44 with 1 Axes>"
      ]
     },
     "metadata": {},
     "output_type": "display_data"
    }
   ],
   "source": [
    "# построим что бы понять сколько кака распределены количество смс в зависимости от месяца и тарифа\n",
    "sns.set(rc={'figure.figsize':(20.7,12.27)})\n",
    "sns.boxplot(x='month_category', y='messages_id', hue='tariff_name',  data=users_services)"
   ]
  },
  {
   "cell_type": "code",
   "execution_count": 46,
   "id": "36dd80cc",
   "metadata": {},
   "outputs": [
    {
     "data": {
      "text/html": [
       "<div>\n",
       "<style scoped>\n",
       "    .dataframe tbody tr th:only-of-type {\n",
       "        vertical-align: middle;\n",
       "    }\n",
       "\n",
       "    .dataframe tbody tr th {\n",
       "        vertical-align: top;\n",
       "    }\n",
       "\n",
       "    .dataframe thead th {\n",
       "        text-align: right;\n",
       "    }\n",
       "</style>\n",
       "<table border=\"1\" class=\"dataframe\">\n",
       "  <thead>\n",
       "    <tr style=\"text-align: right;\">\n",
       "      <th></th>\n",
       "      <th>tariff_name</th>\n",
       "      <th>mean_messages_id</th>\n",
       "      <th>var_messages_id</th>\n",
       "      <th>std_messages_id</th>\n",
       "    </tr>\n",
       "  </thead>\n",
       "  <tbody>\n",
       "    <tr>\n",
       "      <td>0</td>\n",
       "      <td>smart</td>\n",
       "      <td>33.384029</td>\n",
       "      <td>796.812958</td>\n",
       "      <td>28.227876</td>\n",
       "    </tr>\n",
       "    <tr>\n",
       "      <td>1</td>\n",
       "      <td>ultra</td>\n",
       "      <td>49.363452</td>\n",
       "      <td>2285.266143</td>\n",
       "      <td>47.804457</td>\n",
       "    </tr>\n",
       "  </tbody>\n",
       "</table>\n",
       "</div>"
      ],
      "text/plain": [
       "  tariff_name  mean_messages_id  var_messages_id  std_messages_id\n",
       "0       smart         33.384029       796.812958        28.227876\n",
       "1       ultra         49.363452      2285.266143        47.804457"
      ]
     },
     "execution_count": 46,
     "metadata": {},
     "output_type": "execute_result"
    }
   ],
   "source": [
    "# расчет среднего значения, дисперсию и стандартное отклонение колич. смс потраченых пользователем в год в зависимости от тарифа\n",
    "df_call_sms = users_services.pivot_table(index=['tariff_name'], values='messages_id', aggfunc=['mean', 'var', 'std'])\n",
    "df_call_sms.reset_index(inplace=True) \n",
    "df_call_sms.columns = ['tariff_name',  'mean_messages_id', 'var_messages_id', 'std_messages_id']\n",
    "df_call_sms"
   ]
  },
  {
   "cell_type": "code",
   "execution_count": 47,
   "id": "f3cea157",
   "metadata": {},
   "outputs": [
    {
     "data": {
      "text/plain": [
       "<seaborn.axisgrid.FacetGrid at 0x7f79aced0250>"
      ]
     },
     "execution_count": 47,
     "metadata": {},
     "output_type": "execute_result"
    },
    {
     "data": {
      "image/png": "[encoded data removed]",
      "text/plain": [
       "<Figure size 1698.17x1080 with 1 Axes>"
      ]
     },
     "metadata": {},
     "output_type": "display_data"
    }
   ],
   "source": [
    "# гистограммы распределения количества смс которые тратят клиенты для двух тарифов\n",
    "sns.displot(data=users_services, x=\"messages_id\",  hue='tariff_name', kde=True, aspect=1.5, height=15)"
   ]
  },
  {
   "cell_type": "code",
   "execution_count": 48,
   "id": "4b5175c6",
   "metadata": {},
   "outputs": [
    {
     "data": {
      "text/plain": [
       "<matplotlib.axes._subplots.AxesSubplot at 0x7f79acdbe450>"
      ]
     },
     "execution_count": 48,
     "metadata": {},
     "output_type": "execute_result"
    },
    {
     "data": {
      "image/png": "[encoded data removed]",
      "text/plain": [
       "<Figure size 1490.4x883.44 with 1 Axes>"
      ]
     },
     "metadata": {},
     "output_type": "display_data"
    }
   ],
   "source": [
    "# боксплот  количества смс которые тратят клиенты для двух тарифов\n",
    "sns.boxplot(x='messages_id', y='tariff_name', data=users_services)"
   ]
  },
  {
   "cell_type": "code",
   "execution_count": 49,
   "id": "a7c249db",
   "metadata": {},
   "outputs": [
    {
     "data": {
      "text/plain": [
       "count    2229.000000\n",
       "mean       33.384029\n",
       "std        28.227876\n",
       "min         0.000000\n",
       "25%        10.000000\n",
       "50%        28.000000\n",
       "75%        51.000000\n",
       "max       143.000000\n",
       "Name: messages_id, dtype: float64"
      ]
     },
     "execution_count": 49,
     "metadata": {},
     "output_type": "execute_result"
    }
   ],
   "source": [
    "users_services[users_services['tariff_name'] == 'smart']['messages_id'].describe()"
   ]
  },
  {
   "cell_type": "code",
   "execution_count": 50,
   "id": "6be5f5b5",
   "metadata": {},
   "outputs": [
    {
     "data": {
      "text/plain": [
       "count    985.000000\n",
       "mean      49.363452\n",
       "std       47.804457\n",
       "min        0.000000\n",
       "25%        6.000000\n",
       "50%       38.000000\n",
       "75%       79.000000\n",
       "max      224.000000\n",
       "Name: messages_id, dtype: float64"
      ]
     },
     "execution_count": 50,
     "metadata": {},
     "output_type": "execute_result"
    }
   ],
   "source": [
    "users_services[users_services['tariff_name'] == 'ultra']['messages_id'].describe()"
   ]
  },
  {
   "cell_type": "markdown",
   "id": "90a56cd0",
   "metadata": {},
   "source": [
    "Вывод:\n",
    "* Количество смс в тарфифе `smart` - 50\n",
    "* Среднее значения количества смс  тарифа `smart` - 33\n",
    "* Дисперсия количества смс  тарифа `smart` - 797\n",
    "* Стандартное отклонение количества смс  тарифа `smart` - 28\n",
    "* Количество смс в тарфифе `ultra` - 1000\n",
    "* Среднее значения количества смс  тарифа `ultra` - 49\n",
    "* Дисперсия количества смс  тарифа `ultra` - 2285\n",
    "* Стандартное отклонение количества смс  тарифа `ultra` - 47\n",
    "\n",
    "Клиенты  тарифов не выходят за пределы количества смс указаных в тарифу.  Клиенты тарифа смарт в среднем используют 66% от количества смс  которые выделяются каждый месяц а клиенты тарифа ultra только  5% от общего количества. Оба распределеня обладают положительной скошенностью. Как и в случае с общей суммой потраченых минут дисперсия и стандартное отклонение больше у тарифа ультра. Так же это можно заметить и визуально при сравнении гистограмм распределения каждого из тарифов. Значения боллее равномены  распределены на всем диапазоне у тарифа ультра. Распределение более пологое нет выраженного явного конуса с явновыраженным средним значением."
   ]
  },
  {
   "cell_type": "markdown",
   "id": "0d8040f7",
   "metadata": {},
   "source": [
    "### Анализ количества потраченных Гб  в зависимости от тарифного плана"
   ]
  },
  {
   "cell_type": "code",
   "execution_count": 51,
   "id": "52de7b7e",
   "metadata": {},
   "outputs": [
    {
     "data": {
      "text/plain": [
       "<matplotlib.axes._subplots.AxesSubplot at 0x7f79acd28d50>"
      ]
     },
     "execution_count": 51,
     "metadata": {},
     "output_type": "execute_result"
    },
    {
     "data": {
      "image/png": "[encoded data removed]",
      "text/plain": [
       "<Figure size 1490.4x883.44 with 1 Axes>"
      ]
     },
     "metadata": {},
     "output_type": "display_data"
    }
   ],
   "source": [
    "# построим что бы понять сколько кака распределены количество Мб в зависимости от месяца и тарифа\n",
    "sns.set(rc={'figure.figsize':(20.7,12.27)})\n",
    "sns.boxplot(x='month_category', y='mb_used', hue='tariff_name',  data=users_services)"
   ]
  },
  {
   "cell_type": "code",
   "execution_count": 52,
   "id": "08fdc0a5",
   "metadata": {},
   "outputs": [
    {
     "data": {
      "text/html": [
       "<div>\n",
       "<style scoped>\n",
       "    .dataframe tbody tr th:only-of-type {\n",
       "        vertical-align: middle;\n",
       "    }\n",
       "\n",
       "    .dataframe tbody tr th {\n",
       "        vertical-align: top;\n",
       "    }\n",
       "\n",
       "    .dataframe thead th {\n",
       "        text-align: right;\n",
       "    }\n",
       "</style>\n",
       "<table border=\"1\" class=\"dataframe\">\n",
       "  <thead>\n",
       "    <tr style=\"text-align: right;\">\n",
       "      <th></th>\n",
       "      <th>tariff_name</th>\n",
       "      <th>mean_mb_used</th>\n",
       "      <th>var_mb_used</th>\n",
       "      <th>std_mb_used</th>\n",
       "    </tr>\n",
       "  </thead>\n",
       "  <tbody>\n",
       "    <tr>\n",
       "      <td>0</td>\n",
       "      <td>smart</td>\n",
       "      <td>16208.386990</td>\n",
       "      <td>3.446250e+07</td>\n",
       "      <td>5870.476681</td>\n",
       "    </tr>\n",
       "    <tr>\n",
       "      <td>1</td>\n",
       "      <td>ultra</td>\n",
       "      <td>19468.805208</td>\n",
       "      <td>1.017510e+08</td>\n",
       "      <td>10087.170752</td>\n",
       "    </tr>\n",
       "  </tbody>\n",
       "</table>\n",
       "</div>"
      ],
      "text/plain": [
       "  tariff_name  mean_mb_used   var_mb_used   std_mb_used\n",
       "0       smart  16208.386990  3.446250e+07   5870.476681\n",
       "1       ultra  19468.805208  1.017510e+08  10087.170752"
      ]
     },
     "execution_count": 52,
     "metadata": {},
     "output_type": "execute_result"
    }
   ],
   "source": [
    "# расчет среднего значения, дисперсию и стандартное отклонение колич. Мб потраченых пользователем в год в зависимости от тарифа\n",
    "df_call_int = users_services.pivot_table(index=['tariff_name'], values='mb_used', aggfunc=['mean', 'var', 'std'])\n",
    "df_call_int.reset_index(inplace=True) \n",
    "df_call_int.columns = ['tariff_name',  'mean_mb_used', 'var_mb_used', 'std_mb_used']\n",
    "df_call_int"
   ]
  },
  {
   "cell_type": "code",
   "execution_count": 53,
   "id": "351a0814",
   "metadata": {},
   "outputs": [
    {
     "data": {
      "text/plain": [
       "<seaborn.axisgrid.FacetGrid at 0x7f79acb3e0d0>"
      ]
     },
     "execution_count": 53,
     "metadata": {},
     "output_type": "execute_result"
    },
    {
     "data": {
      "image/png": "[encoded data removed]",
      "text/plain": [
       "<Figure size 1698.17x1080 with 1 Axes>"
      ]
     },
     "metadata": {},
     "output_type": "display_data"
    }
   ],
   "source": [
    "# гистограммы распределения количества Мб которые тратят клиенты для двух тарифов\n",
    "sns.displot(data=users_services, x=\"mb_used\",  hue='tariff_name', kde=True, aspect=1.5, height=15)"
   ]
  },
  {
   "cell_type": "code",
   "execution_count": 54,
   "id": "b7be2710",
   "metadata": {},
   "outputs": [
    {
     "data": {
      "text/plain": [
       "<matplotlib.axes._subplots.AxesSubplot at 0x7f79acab53d0>"
      ]
     },
     "execution_count": 54,
     "metadata": {},
     "output_type": "execute_result"
    },
    {
     "data": {
      "image/png": "[encoded data removed]",
      "text/plain": [
       "<Figure size 1490.4x883.44 with 1 Axes>"
      ]
     },
     "metadata": {},
     "output_type": "display_data"
    }
   ],
   "source": [
    "# боксплот  количества мб которые тратят клиенты для двух тарифов\n",
    "sns.boxplot(x='mb_used', y='tariff_name', data=users_services)"
   ]
  },
  {
   "cell_type": "code",
   "execution_count": 55,
   "id": "b0757625",
   "metadata": {},
   "outputs": [
    {
     "data": {
      "text/plain": [
       "count     2229.000000\n",
       "mean     16208.386990\n",
       "std       5870.476681\n",
       "min          0.000000\n",
       "25%      12643.010000\n",
       "50%      16506.840000\n",
       "75%      20042.930000\n",
       "max      38552.450000\n",
       "Name: mb_used, dtype: float64"
      ]
     },
     "execution_count": 55,
     "metadata": {},
     "output_type": "execute_result"
    }
   ],
   "source": [
    "users_services[users_services['tariff_name'] == 'smart']['mb_used'].describe()"
   ]
  },
  {
   "cell_type": "code",
   "execution_count": 56,
   "id": "0c2783c6",
   "metadata": {},
   "outputs": [
    {
     "data": {
      "text/plain": [
       "count      985.000000\n",
       "mean     19468.805208\n",
       "std      10087.170752\n",
       "min          0.000000\n",
       "25%      11770.260000\n",
       "50%      19308.010000\n",
       "75%      26837.690000\n",
       "max      49745.690000\n",
       "Name: mb_used, dtype: float64"
      ]
     },
     "execution_count": 56,
     "metadata": {},
     "output_type": "execute_result"
    }
   ],
   "source": [
    "users_services[users_services['tariff_name'] == 'ultra']['mb_used'].describe()"
   ]
  },
  {
   "cell_type": "markdown",
   "id": "950987fa",
   "metadata": {},
   "source": [
    "Вывод:\n",
    "* Количество Гб в тарфифе `smart` - 15\n",
    "* Среднее значения количества Гб  тарифа `smart` - 16\n",
    "* Дисперсия количества Гб  тарифа `smart` - 33654\n",
    "* Стандартное отклонение количества Гб  тарифа `smart` - 5.7\n",
    "* Количество Гб в тарфифе `ultra` - 30\n",
    "* Среднее значения количества Гб  тарифа `ultra` - 19\n",
    "* Дисперсия количества Гб тарифа `ultra` - 99366\n",
    "* Стандартное отклонение количества Гб  тарифа `ultra` - 9.85\n"
   ]
  },
  {
   "cell_type": "markdown",
   "id": "aa4aea1a",
   "metadata": {},
   "source": [
    "### Вывод по анализу каждой услуги в зависимости от тарифа"
   ]
  },
  {
   "cell_type": "markdown",
   "id": "208bdff6",
   "metadata": {},
   "source": [
    "Вывод по киоличеству потраченных менут в зависимости от тарифа:\n",
    "* Клиенты обоих тарифов в среднем не выходят за границы количества минут которые идут в пакете. В среднем клиенты которые используют тариф ультра на 110 минут больше разговаривабют по телефону. Так как среднее значение находится левее медианного значения можно сказать что в обоих случаях характерна отрицательная скошенность. Это может быть с тем что у многих клиентов в некоторые месяцы есть нулевое значение количество потраченных минут. Возможно это связано с тем что эти люди в основном используют данный тариф для подключения планшетов и других устроисть поэтому не стоит их вычитать из общего списка. Так как дисперсия и стандартное отклонение по тарифу больше у тарифа ультра можно судить о том что в значения более рассеяны между собой что можно сказать о боллее вытянутом графике рапределения. Значентя дальше удалены от среднего значентия всей выборки относительновыборки по тарифу смарт.\n",
    "\n",
    "Вывод по киоличеству используемых смс в зависимости от тарифа:\n",
    "* Клиенты тарифов не выходят за пределы количества смс указаных в тарифе. Клиенты тарифа смарт в среднем используют 66% от количества смс которые выделяются каждый месяц а клиенты тарифа ultra только 5% от общего количества. Оба распределеня обладают положительной скошенностью. Как и в случае с общей суммой потраченых минут дисперсия и стандартное отклонение больше у тарифа ультра. Так же это можно заметить и визуально при сравнении гистограмм распределения каждого из тарифов. Значения боллее равномены распределены на всем диапазоне у тарифа ультра. Распределение более пологое нет выраженного явного конуса с явновыраженным средним значением.\n",
    "\n",
    "Вывод по киоличеству гигабайт в зависимости от тарифа:\n",
    "* Клиенты тарифа смарт  в среднем используют 16Гб интернета в месяц при выделеном количестве 15 Гб по тарифному плану. Рапределение по тарифу смарт приближается к нормальному.  Стандартное отклонение по тарифу смарт - 5.7 Гб. Распределение имеет боллее плотную структуру вокруг среднего значения относительно тарифа ультра. Клиенты тарифа ультра используют в среднем 19 Гб интернета в месяц и стандартном отклонении 9.85 Гб. Так как количество гигабайт в тарифе 30 то можно сделать вывод что в с реднем клиенты не выходят за его пределы."
   ]
  },
  {
   "cell_type": "markdown",
   "id": "408c1c72",
   "metadata": {},
   "source": [
    "## Проверка гипотез"
   ]
  },
  {
   "cell_type": "markdown",
   "id": "cda5c80c",
   "metadata": {},
   "source": [
    "### Сравнение выручки пользователей тарифов «Ультра» и «Смарт» "
   ]
  },
  {
   "cell_type": "markdown",
   "id": "90198810",
   "metadata": {},
   "source": [
    "Перед тем как сформулируем гипотезу посмотрим на какое среднее значение имеет выручка в зависимости от тарифа и какой дисперсие и стандартным откланением обладают эти распределения"
   ]
  },
  {
   "cell_type": "code",
   "execution_count": 57,
   "id": "22cf7473",
   "metadata": {},
   "outputs": [
    {
     "data": {
      "text/html": [
       "<div>\n",
       "<style scoped>\n",
       "    .dataframe tbody tr th:only-of-type {\n",
       "        vertical-align: middle;\n",
       "    }\n",
       "\n",
       "    .dataframe tbody tr th {\n",
       "        vertical-align: top;\n",
       "    }\n",
       "\n",
       "    .dataframe thead th {\n",
       "        text-align: right;\n",
       "    }\n",
       "</style>\n",
       "<table border=\"1\" class=\"dataframe\">\n",
       "  <thead>\n",
       "    <tr style=\"text-align: right;\">\n",
       "      <th></th>\n",
       "      <th>tariff_name</th>\n",
       "      <th>income_mean</th>\n",
       "      <th>income_var</th>\n",
       "      <th>income_std</th>\n",
       "    </tr>\n",
       "  </thead>\n",
       "  <tbody>\n",
       "    <tr>\n",
       "      <td>0</td>\n",
       "      <td>smart</td>\n",
       "      <td>1289.973531</td>\n",
       "      <td>669785.708006</td>\n",
       "      <td>818.404367</td>\n",
       "    </tr>\n",
       "    <tr>\n",
       "      <td>1</td>\n",
       "      <td>ultra</td>\n",
       "      <td>2070.152284</td>\n",
       "      <td>141516.745079</td>\n",
       "      <td>376.187114</td>\n",
       "    </tr>\n",
       "  </tbody>\n",
       "</table>\n",
       "</div>"
      ],
      "text/plain": [
       "  tariff_name  income_mean     income_var  income_std\n",
       "0       smart  1289.973531  669785.708006  818.404367\n",
       "1       ultra  2070.152284  141516.745079  376.187114"
      ]
     },
     "execution_count": 57,
     "metadata": {},
     "output_type": "execute_result"
    }
   ],
   "source": [
    "# расчет среднего значения, дисперсии и стандартного отклонения выручки  в год в зависимости от тарифа\n",
    "df_income = users_services.pivot_table(index=['tariff_name'], values='month_income', aggfunc=['mean', 'var', 'std'])\n",
    "df_income.reset_index(inplace=True) \n",
    "df_income.columns = ['tariff_name',  'income_mean', 'income_var', 'income_std']\n",
    "df_income"
   ]
  },
  {
   "cell_type": "code",
   "execution_count": 58,
   "id": "d92b7c46",
   "metadata": {},
   "outputs": [
    {
     "data": {
      "text/plain": [
       "<seaborn.axisgrid.FacetGrid at 0x7f79ac8d9dd0>"
      ]
     },
     "execution_count": 58,
     "metadata": {},
     "output_type": "execute_result"
    },
    {
     "data": {
      "image/png": "[encoded data removed]",
      "text/plain": [
       "<Figure size 1698.17x1080 with 1 Axes>"
      ]
     },
     "metadata": {},
     "output_type": "display_data"
    }
   ],
   "source": [
    "# гистограммы распределения выручки которую приносят клиенты для в зависимости от тарифов\n",
    "sns.displot(data=users_services, x=\"month_income\",  hue='tariff_name', kde=True, aspect=1.5, height=15)"
   ]
  },
  {
   "cell_type": "code",
   "execution_count": 59,
   "id": "5df25fda",
   "metadata": {},
   "outputs": [
    {
     "data": {
      "text/plain": [
       "count    2229.000000\n",
       "mean     1289.973531\n",
       "std       818.404367\n",
       "min       550.000000\n",
       "25%       550.000000\n",
       "50%      1023.000000\n",
       "75%      1750.000000\n",
       "max      6770.000000\n",
       "Name: month_income, dtype: float64"
      ]
     },
     "execution_count": 59,
     "metadata": {},
     "output_type": "execute_result"
    }
   ],
   "source": [
    "users_services[users_services['tariff_name'] == 'smart']['month_income'].describe()"
   ]
  },
  {
   "cell_type": "code",
   "execution_count": 60,
   "id": "2007da70",
   "metadata": {},
   "outputs": [
    {
     "data": {
      "text/plain": [
       "count     985.000000\n",
       "mean     2070.152284\n",
       "std       376.187114\n",
       "min      1950.000000\n",
       "25%      1950.000000\n",
       "50%      1950.000000\n",
       "75%      1950.000000\n",
       "max      4800.000000\n",
       "Name: month_income, dtype: float64"
      ]
     },
     "execution_count": 60,
     "metadata": {},
     "output_type": "execute_result"
    }
   ],
   "source": [
    "users_services[users_services['tariff_name'] == 'ultra']['month_income'].describe()"
   ]
  },
  {
   "cell_type": "markdown",
   "id": "9bc73a49",
   "metadata": {},
   "source": [
    "Так как выбоки по каждому тарифуимеют разные размерности одна больше другая меньше приведем их к одному общему размеру с помощью случайной выборки значений."
   ]
  },
  {
   "cell_type": "code",
   "execution_count": 61,
   "id": "55a412c2",
   "metadata": {},
   "outputs": [],
   "source": [
    "smart_income = random.sample(list(users_services[users_services['tariff_name'] == 'smart']['month_income']), 985)\n",
    "ultra_income = list(users_services[users_services['tariff_name'] == 'ultra']['month_income'])"
   ]
  },
  {
   "cell_type": "markdown",
   "id": "94c1942d",
   "metadata": {},
   "source": [
    "Так как нам нужно сравнить средний уровень выручки в зависимости двух тарифов то сформулируем нулевую гипотезу так:\n",
    "\n",
    "H₀ - средняя выручка тарифов `smart` и `ultra`  равны\n",
    "\n",
    "Тогда альтернативная гипотеза будет звучать так:\n",
    "\n",
    "H₁ - средняя выручка тарифов `smart` и `ultra` отличаются между собой\n",
    "\n",
    "Уровень значимости (alpha) примем раным 0.05\n",
    "Так как дисперсии каждого тарифа сильно отличаются между собой примем значение equal_var = False при расчете p-value"
   ]
  },
  {
   "cell_type": "code",
   "execution_count": 62,
   "id": "fd8873f6",
   "metadata": {},
   "outputs": [
    {
     "name": "stdout",
     "output_type": "stream",
     "text": [
      "p - значение: 8.219626237216892e-126\n",
      "Отвергаем нулевую гипотизу\n"
     ]
    }
   ],
   "source": [
    "# расчет значения p-value между двумя выборками\n",
    "alpha = .05\n",
    "result_income_tariff = st.ttest_ind(smart_income, ultra_income, equal_var = False)\n",
    "print('p - значение:', result_income_tariff.pvalue)\n",
    "if result_income_tariff.pvalue < alpha:\n",
    "    print('Отвергаем нулевую гипотизу')\n",
    "else: \n",
    "    print('Не получилось отвергнуть нулевую гипотизу')"
   ]
  },
  {
   "cell_type": "markdown",
   "id": "8a96fae6",
   "metadata": {},
   "source": [
    " ### Выручка пользователей из Москвы и выручка пользователей из других регионов"
   ]
  },
  {
   "cell_type": "code",
   "execution_count": 63,
   "id": "419da760",
   "metadata": {},
   "outputs": [],
   "source": [
    "# создадим колнку для категоризации городов на Москву и остальные\n",
    "def town_cat(row):\n",
    "    if row['city'] == 'Москва':\n",
    "        return 'Москва'\n",
    "    else:\n",
    "        return 'Другие города'\n",
    "    \n",
    "users_services['town_category'] = users_services.apply(town_cat, axis=1)"
   ]
  },
  {
   "cell_type": "code",
   "execution_count": 64,
   "id": "31da51fa",
   "metadata": {},
   "outputs": [
    {
     "data": {
      "text/html": [
       "<div>\n",
       "<style scoped>\n",
       "    .dataframe tbody tr th:only-of-type {\n",
       "        vertical-align: middle;\n",
       "    }\n",
       "\n",
       "    .dataframe tbody tr th {\n",
       "        vertical-align: top;\n",
       "    }\n",
       "\n",
       "    .dataframe thead th {\n",
       "        text-align: right;\n",
       "    }\n",
       "</style>\n",
       "<table border=\"1\" class=\"dataframe\">\n",
       "  <thead>\n",
       "    <tr style=\"text-align: right;\">\n",
       "      <th></th>\n",
       "      <th>tariff_name</th>\n",
       "      <th>income_mean</th>\n",
       "      <th>income_var</th>\n",
       "      <th>income_std</th>\n",
       "    </tr>\n",
       "  </thead>\n",
       "  <tbody>\n",
       "    <tr>\n",
       "      <td>0</td>\n",
       "      <td>Другие города</td>\n",
       "      <td>1524.936227</td>\n",
       "      <td>654137.628522</td>\n",
       "      <td>808.787752</td>\n",
       "    </tr>\n",
       "    <tr>\n",
       "      <td>1</td>\n",
       "      <td>Москва</td>\n",
       "      <td>1546.713584</td>\n",
       "      <td>565636.467012</td>\n",
       "      <td>752.088071</td>\n",
       "    </tr>\n",
       "  </tbody>\n",
       "</table>\n",
       "</div>"
      ],
      "text/plain": [
       "     tariff_name  income_mean     income_var  income_std\n",
       "0  Другие города  1524.936227  654137.628522  808.787752\n",
       "1         Москва  1546.713584  565636.467012  752.088071"
      ]
     },
     "execution_count": 64,
     "metadata": {},
     "output_type": "execute_result"
    }
   ],
   "source": [
    "# расчет среднего значения, дисперсию и дисперсии и стандартного отклонения выручки пользователем в год в зависимости от города\n",
    "df_Moscow_and_othe_income = users_services.pivot_table(index=['town_category'], values='month_income', aggfunc=['mean', 'var', 'std'])\n",
    "df_Moscow_and_othe_income.reset_index(inplace=True) \n",
    "df_Moscow_and_othe_income.columns = ['tariff_name',  'income_mean', 'income_var', 'income_std']\n",
    "df_Moscow_and_othe_income"
   ]
  },
  {
   "cell_type": "code",
   "execution_count": 65,
   "id": "ddd7ded4",
   "metadata": {},
   "outputs": [
    {
     "data": {
      "text/plain": [
       "<seaborn.axisgrid.FacetGrid at 0x7f79ac7b5a90>"
      ]
     },
     "execution_count": 65,
     "metadata": {},
     "output_type": "execute_result"
    },
    {
     "data": {
      "image/png": "[encoded data removed]",
      "text/plain": [
       "<Figure size 1745.85x1080 with 1 Axes>"
      ]
     },
     "metadata": {},
     "output_type": "display_data"
    }
   ],
   "source": [
    "# гистограммы распределения выручки с клиентов в зависимости от того Москва это или другой город\n",
    "sns.displot(data=users_services, x=\"month_income\",  hue='town_category', kde=True, aspect=1.5, height=15)"
   ]
  },
  {
   "cell_type": "code",
   "execution_count": 66,
   "id": "2d0fd62a",
   "metadata": {},
   "outputs": [
    {
     "data": {
      "text/plain": [
       "count    2603.000000\n",
       "mean     1524.936227\n",
       "std       808.787752\n",
       "min       550.000000\n",
       "25%       750.000000\n",
       "50%      1583.000000\n",
       "75%      1950.000000\n",
       "max      6770.000000\n",
       "Name: month_income, dtype: float64"
      ]
     },
     "execution_count": 66,
     "metadata": {},
     "output_type": "execute_result"
    }
   ],
   "source": [
    "users_services[users_services['city'] != 'Москва']['month_income'].describe()"
   ]
  },
  {
   "cell_type": "code",
   "execution_count": 67,
   "id": "003719f6",
   "metadata": {},
   "outputs": [
    {
     "data": {
      "text/plain": [
       "count     611.000000\n",
       "mean     1546.713584\n",
       "std       752.088071\n",
       "min       550.000000\n",
       "25%       780.500000\n",
       "50%      1750.000000\n",
       "75%      1950.000000\n",
       "max      5321.000000\n",
       "Name: month_income, dtype: float64"
      ]
     },
     "execution_count": 67,
     "metadata": {},
     "output_type": "execute_result"
    }
   ],
   "source": [
    "users_services[users_services['city'] == 'Москва']['month_income'].describe()"
   ]
  },
  {
   "cell_type": "markdown",
   "id": "891c4d8d",
   "metadata": {},
   "source": [
    "Так как выбоки по каждому тарифуимеют разные размерности одна больше другая меньше приведем их к одному общему размеру с помощью случайной выборки значений."
   ]
  },
  {
   "cell_type": "code",
   "execution_count": 68,
   "id": "f99729b2",
   "metadata": {},
   "outputs": [],
   "source": [
    "Other_town_income = random.sample(list(users_services[users_services['city'] != 'Москва']['month_income']), 611)\n",
    "Moscow_income = list(users_services[users_services['city'] == 'Москва']['month_income'])\n",
    "test = list(users_services[users_services['city'] != 'Москва']['month_income'])"
   ]
  },
  {
   "cell_type": "markdown",
   "id": "55559652",
   "metadata": {},
   "source": [
    "Так как нам нужно сравнить средний уровень выручки в зависимости того где проживает клиент в столице или нет то сформулируем нулевую гипотезу так:\n",
    "\n",
    "H₀ - средняя выручка  клиентов проживающих в Москве и клиентов проживающих в других городах равны\n",
    "\n",
    "Тогда альтернативная гипотеза будет звучать так:\n",
    "\n",
    "H₁ - средняя выручка  клиентов проживающих в Москве и клиентов проживающих в других городах равны отличаются между собой\n",
    "\n",
    "Уровень значимости (alpha) примем раным 0.05\n",
    "Так как дисперсии каждого тарифа не сильно отличаются между собой примем значение equal_var = False при расчете p-value"
   ]
  },
  {
   "cell_type": "code",
   "execution_count": 69,
   "id": "29728a36",
   "metadata": {},
   "outputs": [
    {
     "name": "stdout",
     "output_type": "stream",
     "text": [
      "p - значение: 0.40951745735636935\n",
      "Не получилось отвергнуть нулевую гипотизу\n"
     ]
    }
   ],
   "source": [
    "# расчет значения p-value между двумя выборками\n",
    "alpha = .05\n",
    "result_income_tariff = st.ttest_ind(Other_town_income, Moscow_income)\n",
    "print('p - значение:', result_income_tariff.pvalue)\n",
    "if result_income_tariff.pvalue < alpha:\n",
    "    print('Отвергаем нулевую гипотизу')\n",
    "else: \n",
    "    print('Не получилось отвергнуть нулевую гипотизу')"
   ]
  },
  {
   "cell_type": "markdown",
   "id": "d53694fa",
   "metadata": {},
   "source": [
    "### Вывод после проверки гипотез"
   ]
  },
  {
   "cell_type": "markdown",
   "id": "e0055946",
   "metadata": {},
   "source": [
    "Сравнение выручки пользователей:\n",
    "* так как значение рассчитаное значение p-value оказалось меньше уравня значимости которое было принято равным 0.05 можно отвергуть нулевую гипотезу а равенстве выручек двух тарифов `smart` и `ultra`.\n",
    "* выручка тарифа смарт меньше чем с тарифа ультра на 700 рублей \n",
    "* распределение каждой выручки обладает положительной скошенностью\n",
    "* Распределение выручки тарифа ультра обладает меньшей десперсией и  стандартным отклонением и имеет боллее выроженнную форму нормального распределения относительно тарифа смарт купол которого боллее растянут впо причине большей дисперсии и стадартного отклонения.\n",
    "\n",
    "Сравнение выручки в зависимости от того где проживает клиент в Москве или другом городе.\n",
    "* так как значение рассчитаное значение p-value оказалось больше уравня значимости которое было принято равным 0.05 нельзя отвергуть нулевую гипотезу а равенстве выручек между двумя выборками.\n",
    "* среднее значения дисперсия и стандартное отклонения примерно равны между выборками.\n",
    "* по распределеню у двух выборок наблюдаются по 2 моды в характерных местах для обоих тарифов В не зависимости где проживает человек среднее значение по обоим тарифам расположена имеют одни и те же значения"
   ]
  },
  {
   "cell_type": "markdown",
   "id": "85fc7ece",
   "metadata": {},
   "source": [
    "## Общий вывод"
   ]
  },
  {
   "cell_type": "markdown",
   "id": "6e95c957",
   "metadata": {},
   "source": [
    "Проанализировав услуги можно сделать по ним следующие выводы:\n",
    "\n",
    "* Клиенты которые используют тариф ультра в среднем тратят на разговоры больше минут чем клиенты тарифа смарт. Распределения по обоим выборкам имеют отрицательную скошенность что возможно проиизошло в результате того сто есть клиенты которых в месяц не было потрачено на разговоры ни одной минуты. Возможно эти клиенты используют свой тариф для устроист не преднозначенных для звонков. Возможно необходимо проанализировать выборку тех людей у которых нет потраченых минут  и посмотреть как расходовались другие услуги тарифов. В среднее значение не уходит за границы предоставляемых минут клиентам по каждому тарифу. \n",
    "* Вне зависимости от используемого тарифа в среднем клиенты не уходят за рамки того количества смс которое прдоставляется по тарифу. Оба распределения обладают положительной скошенностью. По распределению и основным параметрам дисперсии и стандартному отклонению можно сказать что клиенты тарифа ультра менее однородны и в выборке преобладает большее рассеенность данных от среднего относительно клиентов использующих тариф смарт.\n",
    "* Клиенты тарифа смарт  в среднем используют 16Гб интернета в месяц при выделеном количестве 15 Гб по тарифному плану. Рапределение по тарифу смарт приближается к нормальному.  Стандартное отклонение по тарифу смарт - 5.7 Гб. Распределение имеет боллее плотную структуру вокруг среднего значения относительно тарифа ультра. Клиенты тарифа ультра используют в среднем 19 Гб интернета в месяц и стандартном отклонении 9.85 Гб. Так как количество гигабайт в тарифе 30 то можно сделать вывод что в с реднем клиенты не выходят за его пределы.\n",
    "\n",
    "Проведя анализ и  проверку гипотез по уровю выручки можно сделать вывод:\n",
    " * Распределение по тарифу смарт  обладаяет  положительной  скошенностью. Среднее значение по выручке - 1289 рубля со стандартным откланением 818 рублей.\n",
    " * Распределение оп тарфифу смарт имет форму нормального. Нет скошенностей. Среднее значение выручки по тарифу равно 2070 рублей со стандартным откланением в 376 рублей. \n",
    " * При сравнении двух выборок по выручке была отвергнута нулевая гипотиза говорящая о том что выручки между двумя тарифами одинаковы.\n",
    " * При анализе двух категори клиентов проживающих в Москве и других городах по уровню выручки можно сделать вывод что распределение не унимодально и на распределениях видны две ярковыралженные моды которые зависят от тарифа клиента. \n",
    " * Среднее значения двух категори практически идентичны. Оснавные характеристики распределения дисперсия и стандартное откланение также обладают похожими значениями.\n",
    " * При сравнении двух выручек ( клиентов которые проживают в москве и других) нулевая гипотиза не была отвергнута в которой говорится что средняя выручка двух групп ровна между собой."
   ]
  }
 ],
 "metadata": {
  "ExecuteTimeLog": [
   {
    "duration": 1943,
    "start_time": "2022-02-13T14:21:05.086Z"
   },
   {
    "duration": 8428,
    "start_time": "2022-02-13T14:21:07.033Z"
   },
   {
    "duration": -2210,
    "start_time": "2022-02-13T14:21:17.687Z"
   },
   {
    "duration": -2213,
    "start_time": "2022-02-13T14:21:17.692Z"
   },
   {
    "duration": -2216,
    "start_time": "2022-02-13T14:21:17.696Z"
   },
   {
    "duration": -2218,
    "start_time": "2022-02-13T14:21:17.700Z"
   },
   {
    "duration": -2218,
    "start_time": "2022-02-13T14:21:17.702Z"
   },
   {
    "duration": -2220,
    "start_time": "2022-02-13T14:21:17.706Z"
   },
   {
    "duration": -2221,
    "start_time": "2022-02-13T14:21:17.709Z"
   },
   {
    "duration": -2222,
    "start_time": "2022-02-13T14:21:17.711Z"
   },
   {
    "duration": -2242,
    "start_time": "2022-02-13T14:21:17.733Z"
   },
   {
    "duration": -2251,
    "start_time": "2022-02-13T14:21:17.744Z"
   },
   {
    "duration": -2256,
    "start_time": "2022-02-13T14:21:17.750Z"
   },
   {
    "duration": -2258,
    "start_time": "2022-02-13T14:21:17.754Z"
   },
   {
    "duration": -2261,
    "start_time": "2022-02-13T14:21:17.758Z"
   },
   {
    "duration": -2262,
    "start_time": "2022-02-13T14:21:17.761Z"
   },
   {
    "duration": -2265,
    "start_time": "2022-02-13T14:21:17.766Z"
   },
   {
    "duration": -2265,
    "start_time": "2022-02-13T14:21:17.769Z"
   },
   {
    "duration": -2266,
    "start_time": "2022-02-13T14:21:17.771Z"
   },
   {
    "duration": -2267,
    "start_time": "2022-02-13T14:21:17.774Z"
   },
   {
    "duration": -2272,
    "start_time": "2022-02-13T14:21:17.780Z"
   },
   {
    "duration": -2274,
    "start_time": "2022-02-13T14:21:17.783Z"
   },
   {
    "duration": -2524,
    "start_time": "2022-02-13T14:21:18.034Z"
   },
   {
    "duration": -2529,
    "start_time": "2022-02-13T14:21:18.052Z"
   },
   {
    "duration": -2529,
    "start_time": "2022-02-13T14:21:18.054Z"
   },
   {
    "duration": -2529,
    "start_time": "2022-02-13T14:21:18.056Z"
   },
   {
    "duration": -2530,
    "start_time": "2022-02-13T14:21:18.059Z"
   },
   {
    "duration": -2531,
    "start_time": "2022-02-13T14:21:18.061Z"
   },
   {
    "duration": -2531,
    "start_time": "2022-02-13T14:21:18.063Z"
   },
   {
    "duration": -2532,
    "start_time": "2022-02-13T14:21:18.066Z"
   },
   {
    "duration": -2533,
    "start_time": "2022-02-13T14:21:18.068Z"
   },
   {
    "duration": -2534,
    "start_time": "2022-02-13T14:21:18.071Z"
   },
   {
    "duration": -2535,
    "start_time": "2022-02-13T14:21:18.073Z"
   },
   {
    "duration": -2535,
    "start_time": "2022-02-13T14:21:18.075Z"
   },
   {
    "duration": -2659,
    "start_time": "2022-02-13T14:21:18.200Z"
   },
   {
    "duration": -2732,
    "start_time": "2022-02-13T14:21:18.275Z"
   },
   {
    "duration": -2736,
    "start_time": "2022-02-13T14:21:18.280Z"
   },
   {
    "duration": -2739,
    "start_time": "2022-02-13T14:21:18.285Z"
   },
   {
    "duration": -2743,
    "start_time": "2022-02-13T14:21:18.290Z"
   },
   {
    "duration": -2744,
    "start_time": "2022-02-13T14:21:18.293Z"
   },
   {
    "duration": -2748,
    "start_time": "2022-02-13T14:21:18.299Z"
   },
   {
    "duration": -2751,
    "start_time": "2022-02-13T14:21:18.303Z"
   },
   {
    "duration": -2753,
    "start_time": "2022-02-13T14:21:18.307Z"
   },
   {
    "duration": -2764,
    "start_time": "2022-02-13T14:21:18.320Z"
   },
   {
    "duration": -2766,
    "start_time": "2022-02-13T14:21:18.324Z"
   },
   {
    "duration": -2770,
    "start_time": "2022-02-13T14:21:18.329Z"
   },
   {
    "duration": -2774,
    "start_time": "2022-02-13T14:21:18.334Z"
   },
   {
    "duration": -2777,
    "start_time": "2022-02-13T14:21:18.338Z"
   },
   {
    "duration": -2719,
    "start_time": "2022-02-13T14:21:18.342Z"
   },
   {
    "duration": -2721,
    "start_time": "2022-02-13T14:21:18.345Z"
   },
   {
    "duration": -2723,
    "start_time": "2022-02-13T14:21:18.348Z"
   },
   {
    "duration": -2724,
    "start_time": "2022-02-13T14:21:18.351Z"
   },
   {
    "duration": -2726,
    "start_time": "2022-02-13T14:21:18.354Z"
   },
   {
    "duration": -2726,
    "start_time": "2022-02-13T14:21:18.356Z"
   },
   {
    "duration": -2728,
    "start_time": "2022-02-13T14:21:18.359Z"
   },
   {
    "duration": -2729,
    "start_time": "2022-02-13T14:21:18.362Z"
   },
   {
    "duration": -2732,
    "start_time": "2022-02-13T14:21:18.366Z"
   },
   {
    "duration": -2732,
    "start_time": "2022-02-13T14:21:18.368Z"
   },
   {
    "duration": -2734,
    "start_time": "2022-02-13T14:21:18.371Z"
   },
   {
    "duration": -2734,
    "start_time": "2022-02-13T14:21:18.373Z"
   },
   {
    "duration": -2735,
    "start_time": "2022-02-13T14:21:18.376Z"
   },
   {
    "duration": -2737,
    "start_time": "2022-02-13T14:21:18.379Z"
   },
   {
    "duration": -2740,
    "start_time": "2022-02-13T14:21:18.383Z"
   },
   {
    "duration": -2740,
    "start_time": "2022-02-13T14:21:18.385Z"
   },
   {
    "duration": -2740,
    "start_time": "2022-02-13T14:21:18.388Z"
   },
   {
    "duration": -2740,
    "start_time": "2022-02-13T14:21:18.390Z"
   },
   {
    "duration": -2741,
    "start_time": "2022-02-13T14:21:18.393Z"
   },
   {
    "duration": -2743,
    "start_time": "2022-02-13T14:21:18.396Z"
   },
   {
    "duration": -2744,
    "start_time": "2022-02-13T14:21:18.398Z"
   },
   {
    "duration": 27,
    "start_time": "2022-02-13T14:21:51.385Z"
   },
   {
    "duration": 1917,
    "start_time": "2022-02-13T14:22:09.215Z"
   },
   {
    "duration": 5903,
    "start_time": "2022-02-13T14:22:11.136Z"
   },
   {
    "duration": -2389,
    "start_time": "2022-02-13T14:22:19.436Z"
   },
   {
    "duration": -2393,
    "start_time": "2022-02-13T14:22:19.442Z"
   },
   {
    "duration": -2395,
    "start_time": "2022-02-13T14:22:19.446Z"
   },
   {
    "duration": -2396,
    "start_time": "2022-02-13T14:22:19.449Z"
   },
   {
    "duration": -2399,
    "start_time": "2022-02-13T14:22:19.453Z"
   },
   {
    "duration": -2401,
    "start_time": "2022-02-13T14:22:19.457Z"
   },
   {
    "duration": -2403,
    "start_time": "2022-02-13T14:22:19.460Z"
   },
   {
    "duration": -2405,
    "start_time": "2022-02-13T14:22:19.464Z"
   },
   {
    "duration": -2416,
    "start_time": "2022-02-13T14:22:19.476Z"
   },
   {
    "duration": -2417,
    "start_time": "2022-02-13T14:22:19.479Z"
   },
   {
    "duration": -2417,
    "start_time": "2022-02-13T14:22:19.484Z"
   },
   {
    "duration": -2421,
    "start_time": "2022-02-13T14:22:19.490Z"
   },
   {
    "duration": -2427,
    "start_time": "2022-02-13T14:22:19.497Z"
   },
   {
    "duration": -2431,
    "start_time": "2022-02-13T14:22:19.503Z"
   },
   {
    "duration": -2437,
    "start_time": "2022-02-13T14:22:19.510Z"
   },
   {
    "duration": -2441,
    "start_time": "2022-02-13T14:22:19.516Z"
   },
   {
    "duration": -2445,
    "start_time": "2022-02-13T14:22:19.522Z"
   },
   {
    "duration": -2448,
    "start_time": "2022-02-13T14:22:19.527Z"
   },
   {
    "duration": -2450,
    "start_time": "2022-02-13T14:22:19.531Z"
   },
   {
    "duration": -2452,
    "start_time": "2022-02-13T14:22:19.535Z"
   },
   {
    "duration": -2454,
    "start_time": "2022-02-13T14:22:19.539Z"
   },
   {
    "duration": -2427,
    "start_time": "2022-02-13T14:22:19.550Z"
   },
   {
    "duration": -2434,
    "start_time": "2022-02-13T14:22:19.558Z"
   },
   {
    "duration": -2437,
    "start_time": "2022-02-13T14:22:19.563Z"
   },
   {
    "duration": -2440,
    "start_time": "2022-02-13T14:22:19.567Z"
   },
   {
    "duration": -2442,
    "start_time": "2022-02-13T14:22:19.571Z"
   },
   {
    "duration": -2445,
    "start_time": "2022-02-13T14:22:19.575Z"
   },
   {
    "duration": -2446,
    "start_time": "2022-02-13T14:22:19.578Z"
   },
   {
    "duration": -2448,
    "start_time": "2022-02-13T14:22:19.581Z"
   },
   {
    "duration": -2449,
    "start_time": "2022-02-13T14:22:19.584Z"
   },
   {
    "duration": -2451,
    "start_time": "2022-02-13T14:22:19.588Z"
   },
   {
    "duration": -2545,
    "start_time": "2022-02-13T14:22:19.684Z"
   },
   {
    "duration": -2548,
    "start_time": "2022-02-13T14:22:19.688Z"
   },
   {
    "duration": -2549,
    "start_time": "2022-02-13T14:22:19.691Z"
   },
   {
    "duration": -2551,
    "start_time": "2022-02-13T14:22:19.694Z"
   },
   {
    "duration": -2552,
    "start_time": "2022-02-13T14:22:19.697Z"
   },
   {
    "duration": -2553,
    "start_time": "2022-02-13T14:22:19.700Z"
   },
   {
    "duration": -2812,
    "start_time": "2022-02-13T14:22:19.960Z"
   },
   {
    "duration": -2901,
    "start_time": "2022-02-13T14:22:20.051Z"
   },
   {
    "duration": -2926,
    "start_time": "2022-02-13T14:22:20.077Z"
   },
   {
    "duration": -2926,
    "start_time": "2022-02-13T14:22:20.079Z"
   },
   {
    "duration": -2927,
    "start_time": "2022-02-13T14:22:20.081Z"
   },
   {
    "duration": -2933,
    "start_time": "2022-02-13T14:22:20.089Z"
   },
   {
    "duration": -2934,
    "start_time": "2022-02-13T14:22:20.091Z"
   },
   {
    "duration": -2869,
    "start_time": "2022-02-13T14:22:20.094Z"
   },
   {
    "duration": -2869,
    "start_time": "2022-02-13T14:22:20.096Z"
   },
   {
    "duration": -2870,
    "start_time": "2022-02-13T14:22:20.099Z"
   },
   {
    "duration": -2870,
    "start_time": "2022-02-13T14:22:20.101Z"
   },
   {
    "duration": -2871,
    "start_time": "2022-02-13T14:22:20.103Z"
   },
   {
    "duration": -2872,
    "start_time": "2022-02-13T14:22:20.107Z"
   },
   {
    "duration": -2875,
    "start_time": "2022-02-13T14:22:20.111Z"
   },
   {
    "duration": -2875,
    "start_time": "2022-02-13T14:22:20.113Z"
   },
   {
    "duration": -2876,
    "start_time": "2022-02-13T14:22:20.116Z"
   },
   {
    "duration": -2878,
    "start_time": "2022-02-13T14:22:20.119Z"
   },
   {
    "duration": -2879,
    "start_time": "2022-02-13T14:22:20.122Z"
   },
   {
    "duration": -2881,
    "start_time": "2022-02-13T14:22:20.125Z"
   },
   {
    "duration": -2882,
    "start_time": "2022-02-13T14:22:20.128Z"
   },
   {
    "duration": -2884,
    "start_time": "2022-02-13T14:22:20.131Z"
   },
   {
    "duration": -2885,
    "start_time": "2022-02-13T14:22:20.134Z"
   },
   {
    "duration": -2892,
    "start_time": "2022-02-13T14:22:20.142Z"
   },
   {
    "duration": -2893,
    "start_time": "2022-02-13T14:22:20.145Z"
   },
   {
    "duration": -2930,
    "start_time": "2022-02-13T14:22:20.183Z"
   },
   {
    "duration": -2945,
    "start_time": "2022-02-13T14:22:20.199Z"
   },
   {
    "duration": -2945,
    "start_time": "2022-02-13T14:22:20.201Z"
   },
   {
    "duration": -2947,
    "start_time": "2022-02-13T14:22:20.204Z"
   },
   {
    "duration": -2949,
    "start_time": "2022-02-13T14:22:20.208Z"
   },
   {
    "duration": -2882,
    "start_time": "2022-02-13T14:22:20.210Z"
   },
   {
    "duration": 4821,
    "start_time": "2022-02-13T14:23:09.094Z"
   },
   {
    "duration": 20,
    "start_time": "2022-02-13T14:23:22.914Z"
   },
   {
    "duration": 3088,
    "start_time": "2022-02-13T14:23:36.774Z"
   },
   {
    "duration": 1827,
    "start_time": "2022-02-13T14:27:14.508Z"
   },
   {
    "duration": 1909,
    "start_time": "2022-02-13T14:27:16.339Z"
   },
   {
    "duration": 51,
    "start_time": "2022-02-13T14:27:18.252Z"
   },
   {
    "duration": 493,
    "start_time": "2022-02-13T14:27:18.312Z"
   },
   {
    "duration": 192,
    "start_time": "2022-02-13T14:27:18.809Z"
   },
   {
    "duration": 269,
    "start_time": "2022-02-13T14:27:19.005Z"
   },
   {
    "duration": 157,
    "start_time": "2022-02-13T14:27:19.277Z"
   },
   {
    "duration": 515,
    "start_time": "2022-02-13T14:27:19.439Z"
   },
   {
    "duration": 98,
    "start_time": "2022-02-13T14:27:19.958Z"
   },
   {
    "duration": 299,
    "start_time": "2022-02-13T14:27:20.058Z"
   },
   {
    "duration": 120,
    "start_time": "2022-02-13T14:27:20.360Z"
   },
   {
    "duration": 136,
    "start_time": "2022-02-13T14:27:20.484Z"
   },
   {
    "duration": 241,
    "start_time": "2022-02-13T14:27:20.623Z"
   },
   {
    "duration": 319,
    "start_time": "2022-02-13T14:27:20.867Z"
   },
   {
    "duration": 244,
    "start_time": "2022-02-13T14:27:21.193Z"
   },
   {
    "duration": 231,
    "start_time": "2022-02-13T14:27:21.440Z"
   },
   {
    "duration": 250,
    "start_time": "2022-02-13T14:27:21.674Z"
   },
   {
    "duration": 262,
    "start_time": "2022-02-13T14:27:21.927Z"
   },
   {
    "duration": 168,
    "start_time": "2022-02-13T14:27:22.191Z"
   },
   {
    "duration": 234,
    "start_time": "2022-02-13T14:27:22.362Z"
   },
   {
    "duration": 416,
    "start_time": "2022-02-13T14:27:22.599Z"
   },
   {
    "duration": 358,
    "start_time": "2022-02-13T14:27:23.019Z"
   },
   {
    "duration": 204,
    "start_time": "2022-02-13T14:27:23.389Z"
   },
   {
    "duration": 227,
    "start_time": "2022-02-13T14:27:23.601Z"
   },
   {
    "duration": 379,
    "start_time": "2022-02-13T14:27:23.831Z"
   },
   {
    "duration": 107,
    "start_time": "2022-02-13T14:27:24.219Z"
   },
   {
    "duration": 198,
    "start_time": "2022-02-13T14:27:24.329Z"
   },
   {
    "duration": 221,
    "start_time": "2022-02-13T14:27:24.530Z"
   },
   {
    "duration": 187,
    "start_time": "2022-02-13T14:27:24.754Z"
   },
   {
    "duration": 334,
    "start_time": "2022-02-13T14:27:24.945Z"
   },
   {
    "duration": 212,
    "start_time": "2022-02-13T14:27:25.282Z"
   },
   {
    "duration": 681,
    "start_time": "2022-02-13T14:27:25.498Z"
   },
   {
    "duration": 196,
    "start_time": "2022-02-13T14:27:26.183Z"
   },
   {
    "duration": 277,
    "start_time": "2022-02-13T14:27:26.381Z"
   },
   {
    "duration": 113,
    "start_time": "2022-02-13T14:27:26.661Z"
   },
   {
    "duration": 636,
    "start_time": "2022-02-13T14:27:26.777Z"
   },
   {
    "duration": 10,
    "start_time": "2022-02-13T14:27:27.415Z"
   },
   {
    "duration": 303,
    "start_time": "2022-02-13T14:27:27.428Z"
   },
   {
    "duration": 2063,
    "start_time": "2022-02-13T14:27:27.737Z"
   },
   {
    "duration": 55,
    "start_time": "2022-02-13T14:27:29.802Z"
   },
   {
    "duration": 3284,
    "start_time": "2022-02-13T14:27:29.860Z"
   },
   {
    "duration": 892,
    "start_time": "2022-02-13T14:27:33.147Z"
   },
   {
    "duration": 15,
    "start_time": "2022-02-13T14:27:34.042Z"
   },
   {
    "duration": 258,
    "start_time": "2022-02-13T14:27:34.060Z"
   },
   {
    "duration": 1745,
    "start_time": "2022-02-13T14:27:34.321Z"
   },
   {
    "duration": 79,
    "start_time": "2022-02-13T14:27:36.070Z"
   },
   {
    "duration": 2902,
    "start_time": "2022-02-13T14:27:36.153Z"
   },
   {
    "duration": 1095,
    "start_time": "2022-02-13T14:27:39.058Z"
   },
   {
    "duration": 16,
    "start_time": "2022-02-13T14:27:40.156Z"
   },
   {
    "duration": 177,
    "start_time": "2022-02-13T14:27:40.175Z"
   },
   {
    "duration": 2328,
    "start_time": "2022-02-13T14:27:40.355Z"
   },
   {
    "duration": 66,
    "start_time": "2022-02-13T14:27:42.688Z"
   },
   {
    "duration": 3414,
    "start_time": "2022-02-13T14:27:42.757Z"
   },
   {
    "duration": 1073,
    "start_time": "2022-02-13T14:27:46.174Z"
   },
   {
    "duration": 18,
    "start_time": "2022-02-13T14:27:47.250Z"
   },
   {
    "duration": 231,
    "start_time": "2022-02-13T14:27:47.271Z"
   },
   {
    "duration": 220,
    "start_time": "2022-02-13T14:27:47.505Z"
   },
   {
    "duration": 2949,
    "start_time": "2022-02-13T14:27:47.729Z"
   },
   {
    "duration": 14,
    "start_time": "2022-02-13T14:27:50.681Z"
   },
   {
    "duration": 136,
    "start_time": "2022-02-13T14:27:50.722Z"
   },
   {
    "duration": 250,
    "start_time": "2022-02-13T14:27:50.861Z"
   },
   {
    "duration": 308,
    "start_time": "2022-02-13T14:27:51.113Z"
   },
   {
    "duration": 316,
    "start_time": "2022-02-13T14:27:51.425Z"
   },
   {
    "duration": 74,
    "start_time": "2022-02-13T14:27:51.743Z"
   },
   {
    "duration": 3166,
    "start_time": "2022-02-13T14:27:51.820Z"
   },
   {
    "duration": 33,
    "start_time": "2022-02-13T14:27:54.990Z"
   },
   {
    "duration": 160,
    "start_time": "2022-02-13T14:27:55.026Z"
   },
   {
    "duration": 176,
    "start_time": "2022-02-13T14:27:55.198Z"
   },
   {
    "duration": 302,
    "start_time": "2022-02-13T14:27:55.378Z"
   }
  ],
  "kernelspec": {
   "display_name": "Python 3 (ipykernel)",
   "language": "python",
   "name": "python3"
  },
  "language_info": {
   "codemirror_mode": {
    "name": "ipython",
    "version": 3
   },
   "file_extension": ".py",
   "mimetype": "text/x-python",
   "name": "python",
   "nbconvert_exporter": "python",
   "pygments_lexer": "ipython3",
   "version": "3.9.7"
  },
  "toc": {
   "base_numbering": 1,
   "nav_menu": {},
   "number_sections": true,
   "sideBar": true,
   "skip_h1_title": true,
   "title_cell": "Содержание",
   "title_sidebar": "Contents",
   "toc_cell": true,
   "toc_position": {
    "height": "calc(100% - 180px)",
    "left": "10px",
    "top": "150px",
    "width": "365px"
   },
   "toc_section_display": true,
   "toc_window_display": false
  }
 },
 "nbformat": 4,
 "nbformat_minor": 5
}
