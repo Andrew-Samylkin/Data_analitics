{
 "cells": [
  {
   "cell_type": "markdown",
   "metadata": {},
   "source": [
    "# Исследование надёжности заёмщиков\n",
    "\n",
    "Заказчик — кредитный отдел банка. Нужно разобраться, влияет ли семейное положение и количество детей клиента на факт погашения кредита в срок. Входные данные от банка — статистика о платёжеспособности клиентов.\n",
    "\n",
    "Результаты исследования будут учтены при построении модели **кредитного скоринга** — специальной системы, которая оценивает способность потенциального заёмщика вернуть кредит банку."
   ]
  },
  {
   "cell_type": "markdown",
   "metadata": {},
   "source": [
    "## Шаг 1. Откройте файл с данными и изучите общую информацию"
   ]
  },
  {
   "cell_type": "code",
   "execution_count": 1,
   "metadata": {},
   "outputs": [
    {
     "data": {
      "text/html": [
       "<div>\n",
       "<style scoped>\n",
       "    .dataframe tbody tr th:only-of-type {\n",
       "        vertical-align: middle;\n",
       "    }\n",
       "\n",
       "    .dataframe tbody tr th {\n",
       "        vertical-align: top;\n",
       "    }\n",
       "\n",
       "    .dataframe thead th {\n",
       "        text-align: right;\n",
       "    }\n",
       "</style>\n",
       "<table border=\"1\" class=\"dataframe\">\n",
       "  <thead>\n",
       "    <tr style=\"text-align: right;\">\n",
       "      <th></th>\n",
       "      <th>children</th>\n",
       "      <th>days_employed</th>\n",
       "      <th>dob_years</th>\n",
       "      <th>education</th>\n",
       "      <th>education_id</th>\n",
       "      <th>family_status</th>\n",
       "      <th>family_status_id</th>\n",
       "      <th>gender</th>\n",
       "      <th>income_type</th>\n",
       "      <th>debt</th>\n",
       "      <th>total_income</th>\n",
       "      <th>purpose</th>\n",
       "    </tr>\n",
       "  </thead>\n",
       "  <tbody>\n",
       "    <tr>\n",
       "      <td>0</td>\n",
       "      <td>1</td>\n",
       "      <td>-8437.673028</td>\n",
       "      <td>42</td>\n",
       "      <td>высшее</td>\n",
       "      <td>0</td>\n",
       "      <td>женат / замужем</td>\n",
       "      <td>0</td>\n",
       "      <td>F</td>\n",
       "      <td>сотрудник</td>\n",
       "      <td>0</td>\n",
       "      <td>253875.639453</td>\n",
       "      <td>покупка жилья</td>\n",
       "    </tr>\n",
       "    <tr>\n",
       "      <td>1</td>\n",
       "      <td>1</td>\n",
       "      <td>-4024.803754</td>\n",
       "      <td>36</td>\n",
       "      <td>среднее</td>\n",
       "      <td>1</td>\n",
       "      <td>женат / замужем</td>\n",
       "      <td>0</td>\n",
       "      <td>F</td>\n",
       "      <td>сотрудник</td>\n",
       "      <td>0</td>\n",
       "      <td>112080.014102</td>\n",
       "      <td>приобретение автомобиля</td>\n",
       "    </tr>\n",
       "    <tr>\n",
       "      <td>2</td>\n",
       "      <td>0</td>\n",
       "      <td>-5623.422610</td>\n",
       "      <td>33</td>\n",
       "      <td>Среднее</td>\n",
       "      <td>1</td>\n",
       "      <td>женат / замужем</td>\n",
       "      <td>0</td>\n",
       "      <td>M</td>\n",
       "      <td>сотрудник</td>\n",
       "      <td>0</td>\n",
       "      <td>145885.952297</td>\n",
       "      <td>покупка жилья</td>\n",
       "    </tr>\n",
       "    <tr>\n",
       "      <td>3</td>\n",
       "      <td>3</td>\n",
       "      <td>-4124.747207</td>\n",
       "      <td>32</td>\n",
       "      <td>среднее</td>\n",
       "      <td>1</td>\n",
       "      <td>женат / замужем</td>\n",
       "      <td>0</td>\n",
       "      <td>M</td>\n",
       "      <td>сотрудник</td>\n",
       "      <td>0</td>\n",
       "      <td>267628.550329</td>\n",
       "      <td>дополнительное образование</td>\n",
       "    </tr>\n",
       "    <tr>\n",
       "      <td>4</td>\n",
       "      <td>0</td>\n",
       "      <td>340266.072047</td>\n",
       "      <td>53</td>\n",
       "      <td>среднее</td>\n",
       "      <td>1</td>\n",
       "      <td>гражданский брак</td>\n",
       "      <td>1</td>\n",
       "      <td>F</td>\n",
       "      <td>пенсионер</td>\n",
       "      <td>0</td>\n",
       "      <td>158616.077870</td>\n",
       "      <td>сыграть свадьбу</td>\n",
       "    </tr>\n",
       "    <tr>\n",
       "      <td>5</td>\n",
       "      <td>0</td>\n",
       "      <td>-926.185831</td>\n",
       "      <td>27</td>\n",
       "      <td>высшее</td>\n",
       "      <td>0</td>\n",
       "      <td>гражданский брак</td>\n",
       "      <td>1</td>\n",
       "      <td>M</td>\n",
       "      <td>компаньон</td>\n",
       "      <td>0</td>\n",
       "      <td>255763.565419</td>\n",
       "      <td>покупка жилья</td>\n",
       "    </tr>\n",
       "    <tr>\n",
       "      <td>6</td>\n",
       "      <td>0</td>\n",
       "      <td>-2879.202052</td>\n",
       "      <td>43</td>\n",
       "      <td>высшее</td>\n",
       "      <td>0</td>\n",
       "      <td>женат / замужем</td>\n",
       "      <td>0</td>\n",
       "      <td>F</td>\n",
       "      <td>компаньон</td>\n",
       "      <td>0</td>\n",
       "      <td>240525.971920</td>\n",
       "      <td>операции с жильем</td>\n",
       "    </tr>\n",
       "    <tr>\n",
       "      <td>7</td>\n",
       "      <td>0</td>\n",
       "      <td>-152.779569</td>\n",
       "      <td>50</td>\n",
       "      <td>СРЕДНЕЕ</td>\n",
       "      <td>1</td>\n",
       "      <td>женат / замужем</td>\n",
       "      <td>0</td>\n",
       "      <td>M</td>\n",
       "      <td>сотрудник</td>\n",
       "      <td>0</td>\n",
       "      <td>135823.934197</td>\n",
       "      <td>образование</td>\n",
       "    </tr>\n",
       "    <tr>\n",
       "      <td>8</td>\n",
       "      <td>2</td>\n",
       "      <td>-6929.865299</td>\n",
       "      <td>35</td>\n",
       "      <td>ВЫСШЕЕ</td>\n",
       "      <td>0</td>\n",
       "      <td>гражданский брак</td>\n",
       "      <td>1</td>\n",
       "      <td>F</td>\n",
       "      <td>сотрудник</td>\n",
       "      <td>0</td>\n",
       "      <td>95856.832424</td>\n",
       "      <td>на проведение свадьбы</td>\n",
       "    </tr>\n",
       "    <tr>\n",
       "      <td>9</td>\n",
       "      <td>0</td>\n",
       "      <td>-2188.756445</td>\n",
       "      <td>41</td>\n",
       "      <td>среднее</td>\n",
       "      <td>1</td>\n",
       "      <td>женат / замужем</td>\n",
       "      <td>0</td>\n",
       "      <td>M</td>\n",
       "      <td>сотрудник</td>\n",
       "      <td>0</td>\n",
       "      <td>144425.938277</td>\n",
       "      <td>покупка жилья для семьи</td>\n",
       "    </tr>\n",
       "  </tbody>\n",
       "</table>\n",
       "</div>"
      ],
      "text/plain": [
       "   children  days_employed  dob_years education  education_id  \\\n",
       "0         1   -8437.673028         42    высшее             0   \n",
       "1         1   -4024.803754         36   среднее             1   \n",
       "2         0   -5623.422610         33   Среднее             1   \n",
       "3         3   -4124.747207         32   среднее             1   \n",
       "4         0  340266.072047         53   среднее             1   \n",
       "5         0    -926.185831         27    высшее             0   \n",
       "6         0   -2879.202052         43    высшее             0   \n",
       "7         0    -152.779569         50   СРЕДНЕЕ             1   \n",
       "8         2   -6929.865299         35    ВЫСШЕЕ             0   \n",
       "9         0   -2188.756445         41   среднее             1   \n",
       "\n",
       "      family_status  family_status_id gender income_type  debt   total_income  \\\n",
       "0   женат / замужем                 0      F   сотрудник     0  253875.639453   \n",
       "1   женат / замужем                 0      F   сотрудник     0  112080.014102   \n",
       "2   женат / замужем                 0      M   сотрудник     0  145885.952297   \n",
       "3   женат / замужем                 0      M   сотрудник     0  267628.550329   \n",
       "4  гражданский брак                 1      F   пенсионер     0  158616.077870   \n",
       "5  гражданский брак                 1      M   компаньон     0  255763.565419   \n",
       "6   женат / замужем                 0      F   компаньон     0  240525.971920   \n",
       "7   женат / замужем                 0      M   сотрудник     0  135823.934197   \n",
       "8  гражданский брак                 1      F   сотрудник     0   95856.832424   \n",
       "9   женат / замужем                 0      M   сотрудник     0  144425.938277   \n",
       "\n",
       "                      purpose  \n",
       "0               покупка жилья  \n",
       "1     приобретение автомобиля  \n",
       "2               покупка жилья  \n",
       "3  дополнительное образование  \n",
       "4             сыграть свадьбу  \n",
       "5               покупка жилья  \n",
       "6           операции с жильем  \n",
       "7                 образование  \n",
       "8       на проведение свадьбы  \n",
       "9     покупка жилья для семьи  "
      ]
     },
     "execution_count": 1,
     "metadata": {},
     "output_type": "execute_result"
    }
   ],
   "source": [
    "# импорт библиотеки pandas\n",
    "import pandas as pd\n",
    "# импортируем функцию mystem из библиотеки pymystem3\n",
    "from pymystem3 import Mystem\n",
    "m = Mystem() \n",
    "# чтение файла с данными и сохранение в df\n",
    "try:\n",
    "    df = pd.read_csv('F:\\datasets\\data.csv') # локальный путь\n",
    "except:\n",
    "    df = pd.read_csv('/x/x.csv') # серверный путь\n",
    "df.head(10) # получение первых 10 строк таблицы df\n",
    "\n"
   ]
  },
  {
   "cell_type": "code",
   "execution_count": 2,
   "metadata": {},
   "outputs": [
    {
     "name": "stdout",
     "output_type": "stream",
     "text": [
      "<class 'pandas.core.frame.DataFrame'>\n",
      "RangeIndex: 21525 entries, 0 to 21524\n",
      "Data columns (total 12 columns):\n",
      "children            21525 non-null int64\n",
      "days_employed       19351 non-null float64\n",
      "dob_years           21525 non-null int64\n",
      "education           21525 non-null object\n",
      "education_id        21525 non-null int64\n",
      "family_status       21525 non-null object\n",
      "family_status_id    21525 non-null int64\n",
      "gender              21525 non-null object\n",
      "income_type         21525 non-null object\n",
      "debt                21525 non-null int64\n",
      "total_income        19351 non-null float64\n",
      "purpose             21525 non-null object\n",
      "dtypes: float64(2), int64(5), object(5)\n",
      "memory usage: 2.0+ MB\n"
     ]
    }
   ],
   "source": [
    "df.info() # получение общей информации о df"
   ]
  },
  {
   "cell_type": "code",
   "execution_count": 3,
   "metadata": {},
   "outputs": [
    {
     "data": {
      "text/plain": [
       "2174"
      ]
     },
     "execution_count": 3,
     "metadata": {},
     "output_type": "execute_result"
    }
   ],
   "source": [
    "# количество пропущенных значений в колонке days_employed\n",
    "df.days_employed.isna().sum()"
   ]
  },
  {
   "cell_type": "code",
   "execution_count": 4,
   "metadata": {},
   "outputs": [
    {
     "data": {
      "text/plain": [
       "2174"
      ]
     },
     "execution_count": 4,
     "metadata": {},
     "output_type": "execute_result"
    }
   ],
   "source": [
    "# количество пропущенных значений в колонке total_income\n",
    "df.total_income.isna().sum()"
   ]
  },
  {
   "cell_type": "markdown",
   "metadata": {},
   "source": [
    "**Вывод**"
   ]
  },
  {
   "cell_type": "markdown",
   "metadata": {},
   "source": [
    "В таблице 12 столбцов. \n",
    "\n",
    "Согласно документации к данным:\n",
    "* `children` — количество детей в семье. Тип данных в столбце - `int64`;\n",
    "* `days_employed` — общий трудовой стаж в днях. Тип данных в столбце - `float64`;  \n",
    "* `dob_years` — возраст клиента в годах. Тип данных в столбце - `int64`;\n",
    "* `education` — уровень образования клиента. Тип данных в столбце - `object`;\n",
    "* `education_id` — идентификатор уровня образования. Тип данных в столбце - `int64`;\n",
    "* `family_status ` — семейное положение. Тип данных в столбце - `object`;\n",
    "* `family_status_id ` — идентификатор семейного положения. Тип данных в столбце - `int64`;\n",
    "* `gender ` — пол клиента. Тип данных в столбце - `object`;\n",
    "* `income_type` — тип занятости. Тип данных в столбце - `object`;\n",
    "* `debt` — имел ли задолженность по возврату кредитов. Тип данных в столбце - `int64`;\n",
    "* `total_income` — ежемесячный доход.Тип данных в столбце - `float64;\n",
    "* `purpose` — цель получения кредит. Тип данных в столбце - `object`.\n",
    "\n",
    "Выводы которые можно сделать после получения общей информации по датафрейму :\n",
    "\n",
    "1. В столбцах `days_employed` и `total_income` присутствуют пропущенные в значения. Количество пропущенных значений в данных столбцах одинаково - 2174.\n",
    "\n",
    "2. В столбце `days_employed` присутствуют отрицательные значения что может свидетельствовать о некоректной выгрузки базы данных.\n",
    "\n",
    "3. В столбце `education` можно заметить присутствие неявных дубликатов."
   ]
  },
  {
   "cell_type": "markdown",
   "metadata": {},
   "source": [
    "## Шаг 2. Предобработка данных"
   ]
  },
  {
   "cell_type": "markdown",
   "metadata": {},
   "source": [
    "### Обработка пропусков"
   ]
  },
  {
   "cell_type": "code",
   "execution_count": 5,
   "metadata": {},
   "outputs": [
    {
     "data": {
      "text/html": [
       "<div>\n",
       "<style scoped>\n",
       "    .dataframe tbody tr th:only-of-type {\n",
       "        vertical-align: middle;\n",
       "    }\n",
       "\n",
       "    .dataframe tbody tr th {\n",
       "        vertical-align: top;\n",
       "    }\n",
       "\n",
       "    .dataframe thead th {\n",
       "        text-align: right;\n",
       "    }\n",
       "</style>\n",
       "<table border=\"1\" class=\"dataframe\">\n",
       "  <thead>\n",
       "    <tr style=\"text-align: right;\">\n",
       "      <th></th>\n",
       "      <th>children</th>\n",
       "      <th>days_employed</th>\n",
       "      <th>dob_years</th>\n",
       "      <th>education</th>\n",
       "      <th>education_id</th>\n",
       "      <th>family_status</th>\n",
       "      <th>family_status_id</th>\n",
       "      <th>gender</th>\n",
       "      <th>income_type</th>\n",
       "      <th>debt</th>\n",
       "      <th>total_income</th>\n",
       "      <th>purpose</th>\n",
       "    </tr>\n",
       "  </thead>\n",
       "  <tbody>\n",
       "    <tr>\n",
       "      <td>12</td>\n",
       "      <td>0</td>\n",
       "      <td>NaN</td>\n",
       "      <td>65</td>\n",
       "      <td>среднее</td>\n",
       "      <td>1</td>\n",
       "      <td>гражданский брак</td>\n",
       "      <td>1</td>\n",
       "      <td>M</td>\n",
       "      <td>пенсионер</td>\n",
       "      <td>0</td>\n",
       "      <td>NaN</td>\n",
       "      <td>сыграть свадьбу</td>\n",
       "    </tr>\n",
       "    <tr>\n",
       "      <td>26</td>\n",
       "      <td>0</td>\n",
       "      <td>NaN</td>\n",
       "      <td>41</td>\n",
       "      <td>среднее</td>\n",
       "      <td>1</td>\n",
       "      <td>женат / замужем</td>\n",
       "      <td>0</td>\n",
       "      <td>M</td>\n",
       "      <td>госслужащий</td>\n",
       "      <td>0</td>\n",
       "      <td>NaN</td>\n",
       "      <td>образование</td>\n",
       "    </tr>\n",
       "    <tr>\n",
       "      <td>29</td>\n",
       "      <td>0</td>\n",
       "      <td>NaN</td>\n",
       "      <td>63</td>\n",
       "      <td>среднее</td>\n",
       "      <td>1</td>\n",
       "      <td>Не женат / не замужем</td>\n",
       "      <td>4</td>\n",
       "      <td>F</td>\n",
       "      <td>пенсионер</td>\n",
       "      <td>0</td>\n",
       "      <td>NaN</td>\n",
       "      <td>строительство жилой недвижимости</td>\n",
       "    </tr>\n",
       "    <tr>\n",
       "      <td>41</td>\n",
       "      <td>0</td>\n",
       "      <td>NaN</td>\n",
       "      <td>50</td>\n",
       "      <td>среднее</td>\n",
       "      <td>1</td>\n",
       "      <td>женат / замужем</td>\n",
       "      <td>0</td>\n",
       "      <td>F</td>\n",
       "      <td>госслужащий</td>\n",
       "      <td>0</td>\n",
       "      <td>NaN</td>\n",
       "      <td>сделка с подержанным автомобилем</td>\n",
       "    </tr>\n",
       "    <tr>\n",
       "      <td>55</td>\n",
       "      <td>0</td>\n",
       "      <td>NaN</td>\n",
       "      <td>54</td>\n",
       "      <td>среднее</td>\n",
       "      <td>1</td>\n",
       "      <td>гражданский брак</td>\n",
       "      <td>1</td>\n",
       "      <td>F</td>\n",
       "      <td>пенсионер</td>\n",
       "      <td>1</td>\n",
       "      <td>NaN</td>\n",
       "      <td>сыграть свадьбу</td>\n",
       "    </tr>\n",
       "  </tbody>\n",
       "</table>\n",
       "</div>"
      ],
      "text/plain": [
       "    children  days_employed  dob_years education  education_id  \\\n",
       "12         0            NaN         65   среднее             1   \n",
       "26         0            NaN         41   среднее             1   \n",
       "29         0            NaN         63   среднее             1   \n",
       "41         0            NaN         50   среднее             1   \n",
       "55         0            NaN         54   среднее             1   \n",
       "\n",
       "            family_status  family_status_id gender  income_type  debt  \\\n",
       "12       гражданский брак                 1      M    пенсионер     0   \n",
       "26        женат / замужем                 0      M  госслужащий     0   \n",
       "29  Не женат / не замужем                 4      F    пенсионер     0   \n",
       "41        женат / замужем                 0      F  госслужащий     0   \n",
       "55       гражданский брак                 1      F    пенсионер     1   \n",
       "\n",
       "    total_income                           purpose  \n",
       "12           NaN                   сыграть свадьбу  \n",
       "26           NaN                       образование  \n",
       "29           NaN  строительство жилой недвижимости  \n",
       "41           NaN  сделка с подержанным автомобилем  \n",
       "55           NaN                   сыграть свадьбу  "
      ]
     },
     "execution_count": 5,
     "metadata": {},
     "output_type": "execute_result"
    }
   ],
   "source": [
    "# выведем первые строки с пропусками по колонке days_employed\n",
    "df[df['days_employed'].isna()].head()"
   ]
  },
  {
   "cell_type": "code",
   "execution_count": 6,
   "metadata": {},
   "outputs": [
    {
     "data": {
      "text/html": [
       "<div>\n",
       "<style scoped>\n",
       "    .dataframe tbody tr th:only-of-type {\n",
       "        vertical-align: middle;\n",
       "    }\n",
       "\n",
       "    .dataframe tbody tr th {\n",
       "        vertical-align: top;\n",
       "    }\n",
       "\n",
       "    .dataframe thead th {\n",
       "        text-align: right;\n",
       "    }\n",
       "</style>\n",
       "<table border=\"1\" class=\"dataframe\">\n",
       "  <thead>\n",
       "    <tr style=\"text-align: right;\">\n",
       "      <th></th>\n",
       "      <th>children</th>\n",
       "      <th>days_employed</th>\n",
       "      <th>dob_years</th>\n",
       "      <th>education</th>\n",
       "      <th>education_id</th>\n",
       "      <th>family_status</th>\n",
       "      <th>family_status_id</th>\n",
       "      <th>gender</th>\n",
       "      <th>income_type</th>\n",
       "      <th>debt</th>\n",
       "      <th>total_income</th>\n",
       "      <th>purpose</th>\n",
       "    </tr>\n",
       "  </thead>\n",
       "  <tbody>\n",
       "    <tr>\n",
       "      <td>12</td>\n",
       "      <td>0</td>\n",
       "      <td>NaN</td>\n",
       "      <td>65</td>\n",
       "      <td>среднее</td>\n",
       "      <td>1</td>\n",
       "      <td>гражданский брак</td>\n",
       "      <td>1</td>\n",
       "      <td>M</td>\n",
       "      <td>пенсионер</td>\n",
       "      <td>0</td>\n",
       "      <td>NaN</td>\n",
       "      <td>сыграть свадьбу</td>\n",
       "    </tr>\n",
       "    <tr>\n",
       "      <td>26</td>\n",
       "      <td>0</td>\n",
       "      <td>NaN</td>\n",
       "      <td>41</td>\n",
       "      <td>среднее</td>\n",
       "      <td>1</td>\n",
       "      <td>женат / замужем</td>\n",
       "      <td>0</td>\n",
       "      <td>M</td>\n",
       "      <td>госслужащий</td>\n",
       "      <td>0</td>\n",
       "      <td>NaN</td>\n",
       "      <td>образование</td>\n",
       "    </tr>\n",
       "    <tr>\n",
       "      <td>29</td>\n",
       "      <td>0</td>\n",
       "      <td>NaN</td>\n",
       "      <td>63</td>\n",
       "      <td>среднее</td>\n",
       "      <td>1</td>\n",
       "      <td>Не женат / не замужем</td>\n",
       "      <td>4</td>\n",
       "      <td>F</td>\n",
       "      <td>пенсионер</td>\n",
       "      <td>0</td>\n",
       "      <td>NaN</td>\n",
       "      <td>строительство жилой недвижимости</td>\n",
       "    </tr>\n",
       "    <tr>\n",
       "      <td>41</td>\n",
       "      <td>0</td>\n",
       "      <td>NaN</td>\n",
       "      <td>50</td>\n",
       "      <td>среднее</td>\n",
       "      <td>1</td>\n",
       "      <td>женат / замужем</td>\n",
       "      <td>0</td>\n",
       "      <td>F</td>\n",
       "      <td>госслужащий</td>\n",
       "      <td>0</td>\n",
       "      <td>NaN</td>\n",
       "      <td>сделка с подержанным автомобилем</td>\n",
       "    </tr>\n",
       "    <tr>\n",
       "      <td>55</td>\n",
       "      <td>0</td>\n",
       "      <td>NaN</td>\n",
       "      <td>54</td>\n",
       "      <td>среднее</td>\n",
       "      <td>1</td>\n",
       "      <td>гражданский брак</td>\n",
       "      <td>1</td>\n",
       "      <td>F</td>\n",
       "      <td>пенсионер</td>\n",
       "      <td>1</td>\n",
       "      <td>NaN</td>\n",
       "      <td>сыграть свадьбу</td>\n",
       "    </tr>\n",
       "  </tbody>\n",
       "</table>\n",
       "</div>"
      ],
      "text/plain": [
       "    children  days_employed  dob_years education  education_id  \\\n",
       "12         0            NaN         65   среднее             1   \n",
       "26         0            NaN         41   среднее             1   \n",
       "29         0            NaN         63   среднее             1   \n",
       "41         0            NaN         50   среднее             1   \n",
       "55         0            NaN         54   среднее             1   \n",
       "\n",
       "            family_status  family_status_id gender  income_type  debt  \\\n",
       "12       гражданский брак                 1      M    пенсионер     0   \n",
       "26        женат / замужем                 0      M  госслужащий     0   \n",
       "29  Не женат / не замужем                 4      F    пенсионер     0   \n",
       "41        женат / замужем                 0      F  госслужащий     0   \n",
       "55       гражданский брак                 1      F    пенсионер     1   \n",
       "\n",
       "    total_income                           purpose  \n",
       "12           NaN                   сыграть свадьбу  \n",
       "26           NaN                       образование  \n",
       "29           NaN  строительство жилой недвижимости  \n",
       "41           NaN  сделка с подержанным автомобилем  \n",
       "55           NaN                   сыграть свадьбу  "
      ]
     },
     "execution_count": 6,
     "metadata": {},
     "output_type": "execute_result"
    }
   ],
   "source": [
    "# выведем первые строки с пропусками по колонке total_income\n",
    "df[df['total_income'].isna()].head()"
   ]
  },
  {
   "cell_type": "markdown",
   "metadata": {},
   "source": [
    "Строки, в котроых произошел пропуск и их количество полностью совподают у двух  колонок `days_employed` и `total_income`\n",
    "\n",
    "Так как значеня в колонках являются количественными переменными и есть определенная зависимость от категориальной переменной расположенной в колонке `income_type` рассчитаем значения медиан для каждой категории. После заполним пропущенные значения медианой в соответствии с категорией в колонке `income_type` "
   ]
  },
  {
   "cell_type": "code",
   "execution_count": 7,
   "metadata": {},
   "outputs": [],
   "source": [
    "# Сгруппировав по колонке 'income_type' надйдем медианы по колонке 'days_employed' и сохраним в переменной days_employed_median\n",
    "days_employed_median = df.groupby('income_type')['days_employed'].median()"
   ]
  },
  {
   "cell_type": "code",
   "execution_count": 8,
   "metadata": {},
   "outputs": [],
   "source": [
    "# Сгруппировав по колонке 'income_type' надйдем медианы по колонке 'total_income' и сохраним в переменной total_income_median\n",
    "total_income_median = df.groupby('income_type')['total_income'].median()"
   ]
  },
  {
   "cell_type": "code",
   "execution_count": 9,
   "metadata": {},
   "outputs": [],
   "source": [
    "'''Используя days_employed_median заполним заполним пропущенные значения в 'days_employed' == value \n",
    "   в зависимости от значения в колонке 'income_type' == key '''\n",
    "for key, value in days_employed_median.items():\n",
    "    df.loc[df['income_type'] == key, 'days_employed'] = df.loc[df['income_type'] == key, 'days_employed'].fillna(value)"
   ]
  },
  {
   "cell_type": "code",
   "execution_count": 10,
   "metadata": {},
   "outputs": [],
   "source": [
    "'''Используя total_income_median заполним заполним пропущенные значения в 'total_income' == value \n",
    "   в зависимости от значения в колонке 'income_type' == key '''\n",
    "for key, value in total_income_median.items():\n",
    "    df.loc[df['income_type'] == key, 'total_income'] = df.loc[df['income_type'] == key, 'total_income'].fillna(value)"
   ]
  },
  {
   "cell_type": "code",
   "execution_count": 11,
   "metadata": {},
   "outputs": [
    {
     "name": "stdout",
     "output_type": "stream",
     "text": [
      "<class 'pandas.core.frame.DataFrame'>\n",
      "RangeIndex: 21525 entries, 0 to 21524\n",
      "Data columns (total 12 columns):\n",
      "children            21525 non-null int64\n",
      "days_employed       21525 non-null float64\n",
      "dob_years           21525 non-null int64\n",
      "education           21525 non-null object\n",
      "education_id        21525 non-null int64\n",
      "family_status       21525 non-null object\n",
      "family_status_id    21525 non-null int64\n",
      "gender              21525 non-null object\n",
      "income_type         21525 non-null object\n",
      "debt                21525 non-null int64\n",
      "total_income        21525 non-null float64\n",
      "purpose             21525 non-null object\n",
      "dtypes: float64(2), int64(5), object(5)\n",
      "memory usage: 2.0+ MB\n"
     ]
    }
   ],
   "source": [
    "#Проверим что пропусков больше нет\n",
    "df.info()"
   ]
  },
  {
   "cell_type": "markdown",
   "metadata": {},
   "source": [
    "**Вывод**"
   ]
  },
  {
   "cell_type": "markdown",
   "metadata": {},
   "source": [
    "Используя метод **median()** и цикл **for**  заполнили все пропущенные значения медианными в колонках `days_employed` и `total_income` в зависимости от типазанятости заемщика."
   ]
  },
  {
   "cell_type": "markdown",
   "metadata": {},
   "source": [
    "### Замена типа данных"
   ]
  },
  {
   "cell_type": "markdown",
   "metadata": {},
   "source": [
    "Для перевода вещественного типа данных в колонках `days_employed` и `total_income` на целочисленное значение подойдет метод **astype()**  с аргументом 'int'. \n",
    "Для перевода в положительное значение будем применять функцию **abs()**."
   ]
  },
  {
   "cell_type": "code",
   "execution_count": 12,
   "metadata": {},
   "outputs": [],
   "source": [
    "# Замена типа данных в колонке days_employed\n",
    "df['days_employed'] = df['days_employed'].astype('int').abs()"
   ]
  },
  {
   "cell_type": "code",
   "execution_count": 13,
   "metadata": {},
   "outputs": [],
   "source": [
    "# Замена типа данных в колонке total_income\n",
    "df['total_income'] = df['total_income'].astype('int').abs()"
   ]
  },
  {
   "cell_type": "code",
   "execution_count": 14,
   "metadata": {},
   "outputs": [
    {
     "name": "stdout",
     "output_type": "stream",
     "text": [
      "<class 'pandas.core.frame.DataFrame'>\n",
      "RangeIndex: 21525 entries, 0 to 21524\n",
      "Data columns (total 12 columns):\n",
      "children            21525 non-null int64\n",
      "days_employed       21525 non-null int64\n",
      "dob_years           21525 non-null int64\n",
      "education           21525 non-null object\n",
      "education_id        21525 non-null int64\n",
      "family_status       21525 non-null object\n",
      "family_status_id    21525 non-null int64\n",
      "gender              21525 non-null object\n",
      "income_type         21525 non-null object\n",
      "debt                21525 non-null int64\n",
      "total_income        21525 non-null int64\n",
      "purpose             21525 non-null object\n",
      "dtypes: int64(7), object(5)\n",
      "memory usage: 2.0+ MB\n"
     ]
    }
   ],
   "source": [
    "# Проверим что тип данных поменялся на необходимый\n",
    "df.info()"
   ]
  },
  {
   "cell_type": "code",
   "execution_count": 15,
   "metadata": {},
   "outputs": [
    {
     "data": {
      "text/html": [
       "<div>\n",
       "<style scoped>\n",
       "    .dataframe tbody tr th:only-of-type {\n",
       "        vertical-align: middle;\n",
       "    }\n",
       "\n",
       "    .dataframe tbody tr th {\n",
       "        vertical-align: top;\n",
       "    }\n",
       "\n",
       "    .dataframe thead th {\n",
       "        text-align: right;\n",
       "    }\n",
       "</style>\n",
       "<table border=\"1\" class=\"dataframe\">\n",
       "  <thead>\n",
       "    <tr style=\"text-align: right;\">\n",
       "      <th></th>\n",
       "      <th>children</th>\n",
       "      <th>days_employed</th>\n",
       "      <th>dob_years</th>\n",
       "      <th>education</th>\n",
       "      <th>education_id</th>\n",
       "      <th>family_status</th>\n",
       "      <th>family_status_id</th>\n",
       "      <th>gender</th>\n",
       "      <th>income_type</th>\n",
       "      <th>debt</th>\n",
       "      <th>total_income</th>\n",
       "      <th>purpose</th>\n",
       "    </tr>\n",
       "  </thead>\n",
       "  <tbody>\n",
       "    <tr>\n",
       "      <td>0</td>\n",
       "      <td>1</td>\n",
       "      <td>8437</td>\n",
       "      <td>42</td>\n",
       "      <td>высшее</td>\n",
       "      <td>0</td>\n",
       "      <td>женат / замужем</td>\n",
       "      <td>0</td>\n",
       "      <td>F</td>\n",
       "      <td>сотрудник</td>\n",
       "      <td>0</td>\n",
       "      <td>253875</td>\n",
       "      <td>покупка жилья</td>\n",
       "    </tr>\n",
       "    <tr>\n",
       "      <td>1</td>\n",
       "      <td>1</td>\n",
       "      <td>4024</td>\n",
       "      <td>36</td>\n",
       "      <td>среднее</td>\n",
       "      <td>1</td>\n",
       "      <td>женат / замужем</td>\n",
       "      <td>0</td>\n",
       "      <td>F</td>\n",
       "      <td>сотрудник</td>\n",
       "      <td>0</td>\n",
       "      <td>112080</td>\n",
       "      <td>приобретение автомобиля</td>\n",
       "    </tr>\n",
       "    <tr>\n",
       "      <td>2</td>\n",
       "      <td>0</td>\n",
       "      <td>5623</td>\n",
       "      <td>33</td>\n",
       "      <td>Среднее</td>\n",
       "      <td>1</td>\n",
       "      <td>женат / замужем</td>\n",
       "      <td>0</td>\n",
       "      <td>M</td>\n",
       "      <td>сотрудник</td>\n",
       "      <td>0</td>\n",
       "      <td>145885</td>\n",
       "      <td>покупка жилья</td>\n",
       "    </tr>\n",
       "    <tr>\n",
       "      <td>3</td>\n",
       "      <td>3</td>\n",
       "      <td>4124</td>\n",
       "      <td>32</td>\n",
       "      <td>среднее</td>\n",
       "      <td>1</td>\n",
       "      <td>женат / замужем</td>\n",
       "      <td>0</td>\n",
       "      <td>M</td>\n",
       "      <td>сотрудник</td>\n",
       "      <td>0</td>\n",
       "      <td>267628</td>\n",
       "      <td>дополнительное образование</td>\n",
       "    </tr>\n",
       "    <tr>\n",
       "      <td>4</td>\n",
       "      <td>0</td>\n",
       "      <td>340266</td>\n",
       "      <td>53</td>\n",
       "      <td>среднее</td>\n",
       "      <td>1</td>\n",
       "      <td>гражданский брак</td>\n",
       "      <td>1</td>\n",
       "      <td>F</td>\n",
       "      <td>пенсионер</td>\n",
       "      <td>0</td>\n",
       "      <td>158616</td>\n",
       "      <td>сыграть свадьбу</td>\n",
       "    </tr>\n",
       "  </tbody>\n",
       "</table>\n",
       "</div>"
      ],
      "text/plain": [
       "   children  days_employed  dob_years education  education_id  \\\n",
       "0         1           8437         42    высшее             0   \n",
       "1         1           4024         36   среднее             1   \n",
       "2         0           5623         33   Среднее             1   \n",
       "3         3           4124         32   среднее             1   \n",
       "4         0         340266         53   среднее             1   \n",
       "\n",
       "      family_status  family_status_id gender income_type  debt  total_income  \\\n",
       "0   женат / замужем                 0      F   сотрудник     0        253875   \n",
       "1   женат / замужем                 0      F   сотрудник     0        112080   \n",
       "2   женат / замужем                 0      M   сотрудник     0        145885   \n",
       "3   женат / замужем                 0      M   сотрудник     0        267628   \n",
       "4  гражданский брак                 1      F   пенсионер     0        158616   \n",
       "\n",
       "                      purpose  \n",
       "0               покупка жилья  \n",
       "1     приобретение автомобиля  \n",
       "2               покупка жилья  \n",
       "3  дополнительное образование  \n",
       "4             сыграть свадьбу  "
      ]
     },
     "execution_count": 15,
     "metadata": {},
     "output_type": "execute_result"
    }
   ],
   "source": [
    "# Вызовем первые 5 строк для чтобы визуально удовстовериться в изменениях.\n",
    "df.head()"
   ]
  },
  {
   "cell_type": "markdown",
   "metadata": {},
   "source": [
    "**Вывод**"
   ]
  },
  {
   "cell_type": "markdown",
   "metadata": {},
   "source": [
    "Используя метод **astype()** и функцию **abs()** перевели значения в колонках `days_employed` и `total_income` в необходимый тип **int**."
   ]
  },
  {
   "cell_type": "markdown",
   "metadata": {},
   "source": [
    "### Обработка дубликатов"
   ]
  },
  {
   "cell_type": "markdown",
   "metadata": {},
   "source": [
    "Используя метод **value_count()**  проверим столбцы на наличие дубликатов и 'странных значений'"
   ]
  },
  {
   "cell_type": "code",
   "execution_count": 16,
   "metadata": {},
   "outputs": [
    {
     "data": {
      "text/plain": [
       " 0     14149\n",
       " 1      4818\n",
       " 2      2055\n",
       " 3       330\n",
       " 20       76\n",
       "-1        47\n",
       " 4        41\n",
       " 5         9\n",
       "Name: children, dtype: int64"
      ]
     },
     "execution_count": 16,
     "metadata": {},
     "output_type": "execute_result"
    }
   ],
   "source": [
    "# Применим метод value_counts() к колонке 'children'\n",
    "df.children.value_counts()"
   ]
  },
  {
   "cell_type": "markdown",
   "metadata": {},
   "source": [
    "В колонки присутствует скорее всего одно некоректное значение 20 и одно неверное -1"
   ]
  },
  {
   "cell_type": "code",
   "execution_count": 17,
   "metadata": {},
   "outputs": [
    {
     "data": {
      "text/html": [
       "<div>\n",
       "<style scoped>\n",
       "    .dataframe tbody tr th:only-of-type {\n",
       "        vertical-align: middle;\n",
       "    }\n",
       "\n",
       "    .dataframe tbody tr th {\n",
       "        vertical-align: top;\n",
       "    }\n",
       "\n",
       "    .dataframe thead th {\n",
       "        text-align: right;\n",
       "    }\n",
       "</style>\n",
       "<table border=\"1\" class=\"dataframe\">\n",
       "  <thead>\n",
       "    <tr style=\"text-align: right;\">\n",
       "      <th></th>\n",
       "      <th>children</th>\n",
       "      <th>days_employed</th>\n",
       "      <th>dob_years</th>\n",
       "      <th>education</th>\n",
       "      <th>education_id</th>\n",
       "      <th>family_status</th>\n",
       "      <th>family_status_id</th>\n",
       "      <th>gender</th>\n",
       "      <th>income_type</th>\n",
       "      <th>debt</th>\n",
       "      <th>total_income</th>\n",
       "      <th>purpose</th>\n",
       "    </tr>\n",
       "  </thead>\n",
       "  <tbody>\n",
       "    <tr>\n",
       "      <td>291</td>\n",
       "      <td>-1</td>\n",
       "      <td>4417</td>\n",
       "      <td>46</td>\n",
       "      <td>среднее</td>\n",
       "      <td>1</td>\n",
       "      <td>гражданский брак</td>\n",
       "      <td>1</td>\n",
       "      <td>F</td>\n",
       "      <td>сотрудник</td>\n",
       "      <td>0</td>\n",
       "      <td>102816</td>\n",
       "      <td>профильное образование</td>\n",
       "    </tr>\n",
       "    <tr>\n",
       "      <td>705</td>\n",
       "      <td>-1</td>\n",
       "      <td>902</td>\n",
       "      <td>50</td>\n",
       "      <td>среднее</td>\n",
       "      <td>1</td>\n",
       "      <td>женат / замужем</td>\n",
       "      <td>0</td>\n",
       "      <td>F</td>\n",
       "      <td>госслужащий</td>\n",
       "      <td>0</td>\n",
       "      <td>137882</td>\n",
       "      <td>приобретение автомобиля</td>\n",
       "    </tr>\n",
       "    <tr>\n",
       "      <td>742</td>\n",
       "      <td>-1</td>\n",
       "      <td>3174</td>\n",
       "      <td>57</td>\n",
       "      <td>среднее</td>\n",
       "      <td>1</td>\n",
       "      <td>женат / замужем</td>\n",
       "      <td>0</td>\n",
       "      <td>F</td>\n",
       "      <td>сотрудник</td>\n",
       "      <td>0</td>\n",
       "      <td>64268</td>\n",
       "      <td>дополнительное образование</td>\n",
       "    </tr>\n",
       "    <tr>\n",
       "      <td>800</td>\n",
       "      <td>-1</td>\n",
       "      <td>349987</td>\n",
       "      <td>54</td>\n",
       "      <td>среднее</td>\n",
       "      <td>1</td>\n",
       "      <td>Не женат / не замужем</td>\n",
       "      <td>4</td>\n",
       "      <td>F</td>\n",
       "      <td>пенсионер</td>\n",
       "      <td>0</td>\n",
       "      <td>86293</td>\n",
       "      <td>дополнительное образование</td>\n",
       "    </tr>\n",
       "    <tr>\n",
       "      <td>941</td>\n",
       "      <td>-1</td>\n",
       "      <td>365213</td>\n",
       "      <td>57</td>\n",
       "      <td>Среднее</td>\n",
       "      <td>1</td>\n",
       "      <td>женат / замужем</td>\n",
       "      <td>0</td>\n",
       "      <td>F</td>\n",
       "      <td>пенсионер</td>\n",
       "      <td>0</td>\n",
       "      <td>118514</td>\n",
       "      <td>на покупку своего автомобиля</td>\n",
       "    </tr>\n",
       "    <tr>\n",
       "      <td>1363</td>\n",
       "      <td>-1</td>\n",
       "      <td>1195</td>\n",
       "      <td>55</td>\n",
       "      <td>СРЕДНЕЕ</td>\n",
       "      <td>1</td>\n",
       "      <td>женат / замужем</td>\n",
       "      <td>0</td>\n",
       "      <td>F</td>\n",
       "      <td>компаньон</td>\n",
       "      <td>0</td>\n",
       "      <td>69550</td>\n",
       "      <td>профильное образование</td>\n",
       "    </tr>\n",
       "    <tr>\n",
       "      <td>1929</td>\n",
       "      <td>-1</td>\n",
       "      <td>1461</td>\n",
       "      <td>38</td>\n",
       "      <td>среднее</td>\n",
       "      <td>1</td>\n",
       "      <td>Не женат / не замужем</td>\n",
       "      <td>4</td>\n",
       "      <td>M</td>\n",
       "      <td>сотрудник</td>\n",
       "      <td>0</td>\n",
       "      <td>109121</td>\n",
       "      <td>покупка жилья</td>\n",
       "    </tr>\n",
       "    <tr>\n",
       "      <td>2073</td>\n",
       "      <td>-1</td>\n",
       "      <td>2539</td>\n",
       "      <td>42</td>\n",
       "      <td>среднее</td>\n",
       "      <td>1</td>\n",
       "      <td>в разводе</td>\n",
       "      <td>3</td>\n",
       "      <td>F</td>\n",
       "      <td>компаньон</td>\n",
       "      <td>0</td>\n",
       "      <td>162638</td>\n",
       "      <td>покупка жилья</td>\n",
       "    </tr>\n",
       "    <tr>\n",
       "      <td>3814</td>\n",
       "      <td>-1</td>\n",
       "      <td>3045</td>\n",
       "      <td>26</td>\n",
       "      <td>Среднее</td>\n",
       "      <td>1</td>\n",
       "      <td>гражданский брак</td>\n",
       "      <td>1</td>\n",
       "      <td>F</td>\n",
       "      <td>госслужащий</td>\n",
       "      <td>0</td>\n",
       "      <td>131892</td>\n",
       "      <td>на проведение свадьбы</td>\n",
       "    </tr>\n",
       "    <tr>\n",
       "      <td>4201</td>\n",
       "      <td>-1</td>\n",
       "      <td>901</td>\n",
       "      <td>41</td>\n",
       "      <td>среднее</td>\n",
       "      <td>1</td>\n",
       "      <td>женат / замужем</td>\n",
       "      <td>0</td>\n",
       "      <td>F</td>\n",
       "      <td>госслужащий</td>\n",
       "      <td>0</td>\n",
       "      <td>226375</td>\n",
       "      <td>операции со своей недвижимостью</td>\n",
       "    </tr>\n",
       "    <tr>\n",
       "      <td>4402</td>\n",
       "      <td>-1</td>\n",
       "      <td>398001</td>\n",
       "      <td>64</td>\n",
       "      <td>СРЕДНЕЕ</td>\n",
       "      <td>1</td>\n",
       "      <td>женат / замужем</td>\n",
       "      <td>0</td>\n",
       "      <td>F</td>\n",
       "      <td>пенсионер</td>\n",
       "      <td>0</td>\n",
       "      <td>163264</td>\n",
       "      <td>покупка недвижимости</td>\n",
       "    </tr>\n",
       "    <tr>\n",
       "      <td>4542</td>\n",
       "      <td>-1</td>\n",
       "      <td>1811</td>\n",
       "      <td>32</td>\n",
       "      <td>среднее</td>\n",
       "      <td>1</td>\n",
       "      <td>женат / замужем</td>\n",
       "      <td>0</td>\n",
       "      <td>F</td>\n",
       "      <td>сотрудник</td>\n",
       "      <td>0</td>\n",
       "      <td>160544</td>\n",
       "      <td>образование</td>\n",
       "    </tr>\n",
       "    <tr>\n",
       "      <td>5272</td>\n",
       "      <td>-1</td>\n",
       "      <td>1143</td>\n",
       "      <td>46</td>\n",
       "      <td>среднее</td>\n",
       "      <td>1</td>\n",
       "      <td>вдовец / вдова</td>\n",
       "      <td>2</td>\n",
       "      <td>F</td>\n",
       "      <td>сотрудник</td>\n",
       "      <td>0</td>\n",
       "      <td>278708</td>\n",
       "      <td>покупка недвижимости</td>\n",
       "    </tr>\n",
       "    <tr>\n",
       "      <td>6013</td>\n",
       "      <td>-1</td>\n",
       "      <td>1361</td>\n",
       "      <td>46</td>\n",
       "      <td>высшее</td>\n",
       "      <td>0</td>\n",
       "      <td>женат / замужем</td>\n",
       "      <td>0</td>\n",
       "      <td>F</td>\n",
       "      <td>сотрудник</td>\n",
       "      <td>0</td>\n",
       "      <td>143008</td>\n",
       "      <td>строительство собственной недвижимости</td>\n",
       "    </tr>\n",
       "    <tr>\n",
       "      <td>6385</td>\n",
       "      <td>-1</td>\n",
       "      <td>370215</td>\n",
       "      <td>48</td>\n",
       "      <td>среднее</td>\n",
       "      <td>1</td>\n",
       "      <td>вдовец / вдова</td>\n",
       "      <td>2</td>\n",
       "      <td>F</td>\n",
       "      <td>пенсионер</td>\n",
       "      <td>0</td>\n",
       "      <td>36052</td>\n",
       "      <td>образование</td>\n",
       "    </tr>\n",
       "    <tr>\n",
       "      <td>7190</td>\n",
       "      <td>-1</td>\n",
       "      <td>5928</td>\n",
       "      <td>34</td>\n",
       "      <td>СРЕДНЕЕ</td>\n",
       "      <td>1</td>\n",
       "      <td>женат / замужем</td>\n",
       "      <td>0</td>\n",
       "      <td>M</td>\n",
       "      <td>сотрудник</td>\n",
       "      <td>0</td>\n",
       "      <td>184315</td>\n",
       "      <td>приобретение автомобиля</td>\n",
       "    </tr>\n",
       "    <tr>\n",
       "      <td>7278</td>\n",
       "      <td>-1</td>\n",
       "      <td>526</td>\n",
       "      <td>51</td>\n",
       "      <td>среднее</td>\n",
       "      <td>1</td>\n",
       "      <td>женат / замужем</td>\n",
       "      <td>0</td>\n",
       "      <td>F</td>\n",
       "      <td>сотрудник</td>\n",
       "      <td>0</td>\n",
       "      <td>146928</td>\n",
       "      <td>операции с коммерческой недвижимостью</td>\n",
       "    </tr>\n",
       "    <tr>\n",
       "      <td>7615</td>\n",
       "      <td>-1</td>\n",
       "      <td>1574</td>\n",
       "      <td>35</td>\n",
       "      <td>среднее</td>\n",
       "      <td>1</td>\n",
       "      <td>женат / замужем</td>\n",
       "      <td>0</td>\n",
       "      <td>M</td>\n",
       "      <td>сотрудник</td>\n",
       "      <td>0</td>\n",
       "      <td>142594</td>\n",
       "      <td>образование</td>\n",
       "    </tr>\n",
       "    <tr>\n",
       "      <td>7685</td>\n",
       "      <td>-1</td>\n",
       "      <td>3237</td>\n",
       "      <td>53</td>\n",
       "      <td>среднее</td>\n",
       "      <td>1</td>\n",
       "      <td>вдовец / вдова</td>\n",
       "      <td>2</td>\n",
       "      <td>F</td>\n",
       "      <td>сотрудник</td>\n",
       "      <td>0</td>\n",
       "      <td>159676</td>\n",
       "      <td>строительство жилой недвижимости</td>\n",
       "    </tr>\n",
       "    <tr>\n",
       "      <td>8229</td>\n",
       "      <td>-1</td>\n",
       "      <td>1803</td>\n",
       "      <td>54</td>\n",
       "      <td>высшее</td>\n",
       "      <td>0</td>\n",
       "      <td>женат / замужем</td>\n",
       "      <td>0</td>\n",
       "      <td>F</td>\n",
       "      <td>компаньон</td>\n",
       "      <td>0</td>\n",
       "      <td>138809</td>\n",
       "      <td>покупка недвижимости</td>\n",
       "    </tr>\n",
       "    <tr>\n",
       "      <td>8251</td>\n",
       "      <td>-1</td>\n",
       "      <td>3113</td>\n",
       "      <td>31</td>\n",
       "      <td>среднее</td>\n",
       "      <td>1</td>\n",
       "      <td>гражданский брак</td>\n",
       "      <td>1</td>\n",
       "      <td>F</td>\n",
       "      <td>сотрудник</td>\n",
       "      <td>0</td>\n",
       "      <td>54412</td>\n",
       "      <td>свой автомобиль</td>\n",
       "    </tr>\n",
       "    <tr>\n",
       "      <td>8561</td>\n",
       "      <td>-1</td>\n",
       "      <td>195</td>\n",
       "      <td>31</td>\n",
       "      <td>среднее</td>\n",
       "      <td>1</td>\n",
       "      <td>женат / замужем</td>\n",
       "      <td>0</td>\n",
       "      <td>F</td>\n",
       "      <td>сотрудник</td>\n",
       "      <td>0</td>\n",
       "      <td>145577</td>\n",
       "      <td>ремонт жилью</td>\n",
       "    </tr>\n",
       "    <tr>\n",
       "      <td>9565</td>\n",
       "      <td>-1</td>\n",
       "      <td>2896</td>\n",
       "      <td>34</td>\n",
       "      <td>высшее</td>\n",
       "      <td>0</td>\n",
       "      <td>женат / замужем</td>\n",
       "      <td>0</td>\n",
       "      <td>M</td>\n",
       "      <td>сотрудник</td>\n",
       "      <td>0</td>\n",
       "      <td>126754</td>\n",
       "      <td>операции с недвижимостью</td>\n",
       "    </tr>\n",
       "    <tr>\n",
       "      <td>9574</td>\n",
       "      <td>-1</td>\n",
       "      <td>2710</td>\n",
       "      <td>28</td>\n",
       "      <td>высшее</td>\n",
       "      <td>0</td>\n",
       "      <td>женат / замужем</td>\n",
       "      <td>0</td>\n",
       "      <td>M</td>\n",
       "      <td>госслужащий</td>\n",
       "      <td>0</td>\n",
       "      <td>303137</td>\n",
       "      <td>получение дополнительного образования</td>\n",
       "    </tr>\n",
       "    <tr>\n",
       "      <td>10177</td>\n",
       "      <td>-1</td>\n",
       "      <td>1743</td>\n",
       "      <td>37</td>\n",
       "      <td>среднее</td>\n",
       "      <td>1</td>\n",
       "      <td>женат / замужем</td>\n",
       "      <td>0</td>\n",
       "      <td>M</td>\n",
       "      <td>сотрудник</td>\n",
       "      <td>0</td>\n",
       "      <td>310367</td>\n",
       "      <td>получение образования</td>\n",
       "    </tr>\n",
       "    <tr>\n",
       "      <td>10365</td>\n",
       "      <td>-1</td>\n",
       "      <td>345774</td>\n",
       "      <td>63</td>\n",
       "      <td>ВЫСШЕЕ</td>\n",
       "      <td>0</td>\n",
       "      <td>вдовец / вдова</td>\n",
       "      <td>2</td>\n",
       "      <td>F</td>\n",
       "      <td>пенсионер</td>\n",
       "      <td>0</td>\n",
       "      <td>170762</td>\n",
       "      <td>строительство жилой недвижимости</td>\n",
       "    </tr>\n",
       "    <tr>\n",
       "      <td>10918</td>\n",
       "      <td>-1</td>\n",
       "      <td>340499</td>\n",
       "      <td>50</td>\n",
       "      <td>среднее</td>\n",
       "      <td>1</td>\n",
       "      <td>женат / замужем</td>\n",
       "      <td>0</td>\n",
       "      <td>M</td>\n",
       "      <td>пенсионер</td>\n",
       "      <td>0</td>\n",
       "      <td>170762</td>\n",
       "      <td>покупка своего жилья</td>\n",
       "    </tr>\n",
       "    <tr>\n",
       "      <td>11109</td>\n",
       "      <td>-1</td>\n",
       "      <td>3438</td>\n",
       "      <td>59</td>\n",
       "      <td>среднее</td>\n",
       "      <td>1</td>\n",
       "      <td>женат / замужем</td>\n",
       "      <td>0</td>\n",
       "      <td>F</td>\n",
       "      <td>сотрудник</td>\n",
       "      <td>0</td>\n",
       "      <td>219874</td>\n",
       "      <td>операции с жильем</td>\n",
       "    </tr>\n",
       "    <tr>\n",
       "      <td>11268</td>\n",
       "      <td>-1</td>\n",
       "      <td>1048</td>\n",
       "      <td>30</td>\n",
       "      <td>высшее</td>\n",
       "      <td>0</td>\n",
       "      <td>гражданский брак</td>\n",
       "      <td>1</td>\n",
       "      <td>F</td>\n",
       "      <td>компаньон</td>\n",
       "      <td>0</td>\n",
       "      <td>321603</td>\n",
       "      <td>на покупку автомобиля</td>\n",
       "    </tr>\n",
       "    <tr>\n",
       "      <td>11617</td>\n",
       "      <td>-1</td>\n",
       "      <td>370</td>\n",
       "      <td>27</td>\n",
       "      <td>среднее</td>\n",
       "      <td>1</td>\n",
       "      <td>женат / замужем</td>\n",
       "      <td>0</td>\n",
       "      <td>F</td>\n",
       "      <td>компаньон</td>\n",
       "      <td>0</td>\n",
       "      <td>164591</td>\n",
       "      <td>покупка жилья для сдачи</td>\n",
       "    </tr>\n",
       "    <tr>\n",
       "      <td>12304</td>\n",
       "      <td>-1</td>\n",
       "      <td>8493</td>\n",
       "      <td>61</td>\n",
       "      <td>неоконченное высшее</td>\n",
       "      <td>2</td>\n",
       "      <td>женат / замужем</td>\n",
       "      <td>0</td>\n",
       "      <td>M</td>\n",
       "      <td>сотрудник</td>\n",
       "      <td>0</td>\n",
       "      <td>315006</td>\n",
       "      <td>недвижимость</td>\n",
       "    </tr>\n",
       "    <tr>\n",
       "      <td>13786</td>\n",
       "      <td>-1</td>\n",
       "      <td>1547</td>\n",
       "      <td>42</td>\n",
       "      <td>среднее</td>\n",
       "      <td>1</td>\n",
       "      <td>Не женат / не замужем</td>\n",
       "      <td>4</td>\n",
       "      <td>M</td>\n",
       "      <td>компаньон</td>\n",
       "      <td>0</td>\n",
       "      <td>172357</td>\n",
       "      <td>автомобиль</td>\n",
       "    </tr>\n",
       "    <tr>\n",
       "      <td>14357</td>\n",
       "      <td>-1</td>\n",
       "      <td>268</td>\n",
       "      <td>23</td>\n",
       "      <td>среднее</td>\n",
       "      <td>1</td>\n",
       "      <td>в разводе</td>\n",
       "      <td>3</td>\n",
       "      <td>F</td>\n",
       "      <td>компаньон</td>\n",
       "      <td>0</td>\n",
       "      <td>92257</td>\n",
       "      <td>покупка жилой недвижимости</td>\n",
       "    </tr>\n",
       "    <tr>\n",
       "      <td>15147</td>\n",
       "      <td>-1</td>\n",
       "      <td>9851</td>\n",
       "      <td>44</td>\n",
       "      <td>среднее</td>\n",
       "      <td>1</td>\n",
       "      <td>в разводе</td>\n",
       "      <td>3</td>\n",
       "      <td>F</td>\n",
       "      <td>сотрудник</td>\n",
       "      <td>0</td>\n",
       "      <td>110990</td>\n",
       "      <td>свой автомобиль</td>\n",
       "    </tr>\n",
       "    <tr>\n",
       "      <td>15435</td>\n",
       "      <td>-1</td>\n",
       "      <td>3614</td>\n",
       "      <td>40</td>\n",
       "      <td>высшее</td>\n",
       "      <td>0</td>\n",
       "      <td>гражданский брак</td>\n",
       "      <td>1</td>\n",
       "      <td>F</td>\n",
       "      <td>сотрудник</td>\n",
       "      <td>0</td>\n",
       "      <td>98127</td>\n",
       "      <td>сыграть свадьбу</td>\n",
       "    </tr>\n",
       "    <tr>\n",
       "      <td>16129</td>\n",
       "      <td>-1</td>\n",
       "      <td>457</td>\n",
       "      <td>33</td>\n",
       "      <td>среднее</td>\n",
       "      <td>1</td>\n",
       "      <td>женат / замужем</td>\n",
       "      <td>0</td>\n",
       "      <td>F</td>\n",
       "      <td>сотрудник</td>\n",
       "      <td>1</td>\n",
       "      <td>149641</td>\n",
       "      <td>автомобиль</td>\n",
       "    </tr>\n",
       "    <tr>\n",
       "      <td>16265</td>\n",
       "      <td>-1</td>\n",
       "      <td>2802</td>\n",
       "      <td>40</td>\n",
       "      <td>высшее</td>\n",
       "      <td>0</td>\n",
       "      <td>женат / замужем</td>\n",
       "      <td>0</td>\n",
       "      <td>M</td>\n",
       "      <td>сотрудник</td>\n",
       "      <td>0</td>\n",
       "      <td>111984</td>\n",
       "      <td>покупка жилья</td>\n",
       "    </tr>\n",
       "    <tr>\n",
       "      <td>17095</td>\n",
       "      <td>-1</td>\n",
       "      <td>2809</td>\n",
       "      <td>34</td>\n",
       "      <td>среднее</td>\n",
       "      <td>1</td>\n",
       "      <td>женат / замужем</td>\n",
       "      <td>0</td>\n",
       "      <td>F</td>\n",
       "      <td>сотрудник</td>\n",
       "      <td>0</td>\n",
       "      <td>182543</td>\n",
       "      <td>на покупку подержанного автомобиля</td>\n",
       "    </tr>\n",
       "    <tr>\n",
       "      <td>17429</td>\n",
       "      <td>-1</td>\n",
       "      <td>895</td>\n",
       "      <td>37</td>\n",
       "      <td>среднее</td>\n",
       "      <td>1</td>\n",
       "      <td>женат / замужем</td>\n",
       "      <td>0</td>\n",
       "      <td>F</td>\n",
       "      <td>компаньон</td>\n",
       "      <td>0</td>\n",
       "      <td>214814</td>\n",
       "      <td>жилье</td>\n",
       "    </tr>\n",
       "    <tr>\n",
       "      <td>17657</td>\n",
       "      <td>-1</td>\n",
       "      <td>4571</td>\n",
       "      <td>41</td>\n",
       "      <td>среднее</td>\n",
       "      <td>1</td>\n",
       "      <td>женат / замужем</td>\n",
       "      <td>0</td>\n",
       "      <td>F</td>\n",
       "      <td>сотрудник</td>\n",
       "      <td>0</td>\n",
       "      <td>122105</td>\n",
       "      <td>операции со своей недвижимостью</td>\n",
       "    </tr>\n",
       "    <tr>\n",
       "      <td>18219</td>\n",
       "      <td>-1</td>\n",
       "      <td>3575</td>\n",
       "      <td>33</td>\n",
       "      <td>среднее</td>\n",
       "      <td>1</td>\n",
       "      <td>женат / замужем</td>\n",
       "      <td>0</td>\n",
       "      <td>F</td>\n",
       "      <td>сотрудник</td>\n",
       "      <td>0</td>\n",
       "      <td>128362</td>\n",
       "      <td>высшее образование</td>\n",
       "    </tr>\n",
       "    <tr>\n",
       "      <td>19100</td>\n",
       "      <td>-1</td>\n",
       "      <td>617</td>\n",
       "      <td>38</td>\n",
       "      <td>среднее</td>\n",
       "      <td>1</td>\n",
       "      <td>Не женат / не замужем</td>\n",
       "      <td>4</td>\n",
       "      <td>M</td>\n",
       "      <td>сотрудник</td>\n",
       "      <td>0</td>\n",
       "      <td>122205</td>\n",
       "      <td>строительство жилой недвижимости</td>\n",
       "    </tr>\n",
       "    <tr>\n",
       "      <td>19366</td>\n",
       "      <td>-1</td>\n",
       "      <td>372</td>\n",
       "      <td>43</td>\n",
       "      <td>СРЕДНЕЕ</td>\n",
       "      <td>1</td>\n",
       "      <td>женат / замужем</td>\n",
       "      <td>0</td>\n",
       "      <td>M</td>\n",
       "      <td>сотрудник</td>\n",
       "      <td>0</td>\n",
       "      <td>155588</td>\n",
       "      <td>сделка с подержанным автомобилем</td>\n",
       "    </tr>\n",
       "    <tr>\n",
       "      <td>19417</td>\n",
       "      <td>-1</td>\n",
       "      <td>350340</td>\n",
       "      <td>28</td>\n",
       "      <td>среднее</td>\n",
       "      <td>1</td>\n",
       "      <td>в разводе</td>\n",
       "      <td>3</td>\n",
       "      <td>F</td>\n",
       "      <td>пенсионер</td>\n",
       "      <td>0</td>\n",
       "      <td>52872</td>\n",
       "      <td>автомобили</td>\n",
       "    </tr>\n",
       "    <tr>\n",
       "      <td>20393</td>\n",
       "      <td>-1</td>\n",
       "      <td>355157</td>\n",
       "      <td>69</td>\n",
       "      <td>среднее</td>\n",
       "      <td>1</td>\n",
       "      <td>Не женат / не замужем</td>\n",
       "      <td>4</td>\n",
       "      <td>F</td>\n",
       "      <td>пенсионер</td>\n",
       "      <td>0</td>\n",
       "      <td>116521</td>\n",
       "      <td>операции с недвижимостью</td>\n",
       "    </tr>\n",
       "    <tr>\n",
       "      <td>20717</td>\n",
       "      <td>-1</td>\n",
       "      <td>661</td>\n",
       "      <td>32</td>\n",
       "      <td>высшее</td>\n",
       "      <td>0</td>\n",
       "      <td>женат / замужем</td>\n",
       "      <td>0</td>\n",
       "      <td>F</td>\n",
       "      <td>сотрудник</td>\n",
       "      <td>0</td>\n",
       "      <td>137405</td>\n",
       "      <td>покупка жилой недвижимости</td>\n",
       "    </tr>\n",
       "    <tr>\n",
       "      <td>21140</td>\n",
       "      <td>-1</td>\n",
       "      <td>1422</td>\n",
       "      <td>44</td>\n",
       "      <td>среднее</td>\n",
       "      <td>1</td>\n",
       "      <td>женат / замужем</td>\n",
       "      <td>0</td>\n",
       "      <td>F</td>\n",
       "      <td>компаньон</td>\n",
       "      <td>0</td>\n",
       "      <td>169562</td>\n",
       "      <td>операции со своей недвижимостью</td>\n",
       "    </tr>\n",
       "  </tbody>\n",
       "</table>\n",
       "</div>"
      ],
      "text/plain": [
       "       children  days_employed  dob_years            education  education_id  \\\n",
       "291          -1           4417         46              среднее             1   \n",
       "705          -1            902         50              среднее             1   \n",
       "742          -1           3174         57              среднее             1   \n",
       "800          -1         349987         54              среднее             1   \n",
       "941          -1         365213         57              Среднее             1   \n",
       "1363         -1           1195         55              СРЕДНЕЕ             1   \n",
       "1929         -1           1461         38              среднее             1   \n",
       "2073         -1           2539         42              среднее             1   \n",
       "3814         -1           3045         26              Среднее             1   \n",
       "4201         -1            901         41              среднее             1   \n",
       "4402         -1         398001         64              СРЕДНЕЕ             1   \n",
       "4542         -1           1811         32              среднее             1   \n",
       "5272         -1           1143         46              среднее             1   \n",
       "6013         -1           1361         46               высшее             0   \n",
       "6385         -1         370215         48              среднее             1   \n",
       "7190         -1           5928         34              СРЕДНЕЕ             1   \n",
       "7278         -1            526         51              среднее             1   \n",
       "7615         -1           1574         35              среднее             1   \n",
       "7685         -1           3237         53              среднее             1   \n",
       "8229         -1           1803         54               высшее             0   \n",
       "8251         -1           3113         31              среднее             1   \n",
       "8561         -1            195         31              среднее             1   \n",
       "9565         -1           2896         34               высшее             0   \n",
       "9574         -1           2710         28               высшее             0   \n",
       "10177        -1           1743         37              среднее             1   \n",
       "10365        -1         345774         63               ВЫСШЕЕ             0   \n",
       "10918        -1         340499         50              среднее             1   \n",
       "11109        -1           3438         59              среднее             1   \n",
       "11268        -1           1048         30               высшее             0   \n",
       "11617        -1            370         27              среднее             1   \n",
       "12304        -1           8493         61  неоконченное высшее             2   \n",
       "13786        -1           1547         42              среднее             1   \n",
       "14357        -1            268         23              среднее             1   \n",
       "15147        -1           9851         44              среднее             1   \n",
       "15435        -1           3614         40               высшее             0   \n",
       "16129        -1            457         33              среднее             1   \n",
       "16265        -1           2802         40               высшее             0   \n",
       "17095        -1           2809         34              среднее             1   \n",
       "17429        -1            895         37              среднее             1   \n",
       "17657        -1           4571         41              среднее             1   \n",
       "18219        -1           3575         33              среднее             1   \n",
       "19100        -1            617         38              среднее             1   \n",
       "19366        -1            372         43              СРЕДНЕЕ             1   \n",
       "19417        -1         350340         28              среднее             1   \n",
       "20393        -1         355157         69              среднее             1   \n",
       "20717        -1            661         32               высшее             0   \n",
       "21140        -1           1422         44              среднее             1   \n",
       "\n",
       "               family_status  family_status_id gender  income_type  debt  \\\n",
       "291         гражданский брак                 1      F    сотрудник     0   \n",
       "705          женат / замужем                 0      F  госслужащий     0   \n",
       "742          женат / замужем                 0      F    сотрудник     0   \n",
       "800    Не женат / не замужем                 4      F    пенсионер     0   \n",
       "941          женат / замужем                 0      F    пенсионер     0   \n",
       "1363         женат / замужем                 0      F    компаньон     0   \n",
       "1929   Не женат / не замужем                 4      M    сотрудник     0   \n",
       "2073               в разводе                 3      F    компаньон     0   \n",
       "3814        гражданский брак                 1      F  госслужащий     0   \n",
       "4201         женат / замужем                 0      F  госслужащий     0   \n",
       "4402         женат / замужем                 0      F    пенсионер     0   \n",
       "4542         женат / замужем                 0      F    сотрудник     0   \n",
       "5272          вдовец / вдова                 2      F    сотрудник     0   \n",
       "6013         женат / замужем                 0      F    сотрудник     0   \n",
       "6385          вдовец / вдова                 2      F    пенсионер     0   \n",
       "7190         женат / замужем                 0      M    сотрудник     0   \n",
       "7278         женат / замужем                 0      F    сотрудник     0   \n",
       "7615         женат / замужем                 0      M    сотрудник     0   \n",
       "7685          вдовец / вдова                 2      F    сотрудник     0   \n",
       "8229         женат / замужем                 0      F    компаньон     0   \n",
       "8251        гражданский брак                 1      F    сотрудник     0   \n",
       "8561         женат / замужем                 0      F    сотрудник     0   \n",
       "9565         женат / замужем                 0      M    сотрудник     0   \n",
       "9574         женат / замужем                 0      M  госслужащий     0   \n",
       "10177        женат / замужем                 0      M    сотрудник     0   \n",
       "10365         вдовец / вдова                 2      F    пенсионер     0   \n",
       "10918        женат / замужем                 0      M    пенсионер     0   \n",
       "11109        женат / замужем                 0      F    сотрудник     0   \n",
       "11268       гражданский брак                 1      F    компаньон     0   \n",
       "11617        женат / замужем                 0      F    компаньон     0   \n",
       "12304        женат / замужем                 0      M    сотрудник     0   \n",
       "13786  Не женат / не замужем                 4      M    компаньон     0   \n",
       "14357              в разводе                 3      F    компаньон     0   \n",
       "15147              в разводе                 3      F    сотрудник     0   \n",
       "15435       гражданский брак                 1      F    сотрудник     0   \n",
       "16129        женат / замужем                 0      F    сотрудник     1   \n",
       "16265        женат / замужем                 0      M    сотрудник     0   \n",
       "17095        женат / замужем                 0      F    сотрудник     0   \n",
       "17429        женат / замужем                 0      F    компаньон     0   \n",
       "17657        женат / замужем                 0      F    сотрудник     0   \n",
       "18219        женат / замужем                 0      F    сотрудник     0   \n",
       "19100  Не женат / не замужем                 4      M    сотрудник     0   \n",
       "19366        женат / замужем                 0      M    сотрудник     0   \n",
       "19417              в разводе                 3      F    пенсионер     0   \n",
       "20393  Не женат / не замужем                 4      F    пенсионер     0   \n",
       "20717        женат / замужем                 0      F    сотрудник     0   \n",
       "21140        женат / замужем                 0      F    компаньон     0   \n",
       "\n",
       "       total_income                                 purpose  \n",
       "291          102816                  профильное образование  \n",
       "705          137882                 приобретение автомобиля  \n",
       "742           64268              дополнительное образование  \n",
       "800           86293              дополнительное образование  \n",
       "941          118514            на покупку своего автомобиля  \n",
       "1363          69550                  профильное образование  \n",
       "1929         109121                           покупка жилья  \n",
       "2073         162638                           покупка жилья  \n",
       "3814         131892                   на проведение свадьбы  \n",
       "4201         226375         операции со своей недвижимостью  \n",
       "4402         163264                    покупка недвижимости  \n",
       "4542         160544                             образование  \n",
       "5272         278708                    покупка недвижимости  \n",
       "6013         143008  строительство собственной недвижимости  \n",
       "6385          36052                             образование  \n",
       "7190         184315                 приобретение автомобиля  \n",
       "7278         146928   операции с коммерческой недвижимостью  \n",
       "7615         142594                             образование  \n",
       "7685         159676        строительство жилой недвижимости  \n",
       "8229         138809                    покупка недвижимости  \n",
       "8251          54412                         свой автомобиль  \n",
       "8561         145577                            ремонт жилью  \n",
       "9565         126754                операции с недвижимостью  \n",
       "9574         303137   получение дополнительного образования  \n",
       "10177        310367                   получение образования  \n",
       "10365        170762        строительство жилой недвижимости  \n",
       "10918        170762                    покупка своего жилья  \n",
       "11109        219874                       операции с жильем  \n",
       "11268        321603                   на покупку автомобиля  \n",
       "11617        164591                 покупка жилья для сдачи  \n",
       "12304        315006                            недвижимость  \n",
       "13786        172357                              автомобиль  \n",
       "14357         92257              покупка жилой недвижимости  \n",
       "15147        110990                         свой автомобиль  \n",
       "15435         98127                         сыграть свадьбу  \n",
       "16129        149641                              автомобиль  \n",
       "16265        111984                           покупка жилья  \n",
       "17095        182543      на покупку подержанного автомобиля  \n",
       "17429        214814                                   жилье  \n",
       "17657        122105         операции со своей недвижимостью  \n",
       "18219        128362                      высшее образование  \n",
       "19100        122205        строительство жилой недвижимости  \n",
       "19366        155588        сделка с подержанным автомобилем  \n",
       "19417         52872                              автомобили  \n",
       "20393        116521                операции с недвижимостью  \n",
       "20717        137405              покупка жилой недвижимости  \n",
       "21140        169562         операции со своей недвижимостью  "
      ]
     },
     "execution_count": 17,
     "metadata": {},
     "output_type": "execute_result"
    }
   ],
   "source": [
    "#Проанализируем строки в которых в столбце 'children' указано значение -1\n",
    "df[df['children'] == -1]"
   ]
  },
  {
   "cell_type": "code",
   "execution_count": 18,
   "metadata": {},
   "outputs": [
    {
     "data": {
      "text/html": [
       "<div>\n",
       "<style scoped>\n",
       "    .dataframe tbody tr th:only-of-type {\n",
       "        vertical-align: middle;\n",
       "    }\n",
       "\n",
       "    .dataframe tbody tr th {\n",
       "        vertical-align: top;\n",
       "    }\n",
       "\n",
       "    .dataframe thead th {\n",
       "        text-align: right;\n",
       "    }\n",
       "</style>\n",
       "<table border=\"1\" class=\"dataframe\">\n",
       "  <thead>\n",
       "    <tr style=\"text-align: right;\">\n",
       "      <th></th>\n",
       "      <th>children</th>\n",
       "      <th>days_employed</th>\n",
       "      <th>dob_years</th>\n",
       "      <th>education</th>\n",
       "      <th>education_id</th>\n",
       "      <th>family_status</th>\n",
       "      <th>family_status_id</th>\n",
       "      <th>gender</th>\n",
       "      <th>income_type</th>\n",
       "      <th>debt</th>\n",
       "      <th>total_income</th>\n",
       "      <th>purpose</th>\n",
       "    </tr>\n",
       "  </thead>\n",
       "  <tbody>\n",
       "    <tr>\n",
       "      <td>606</td>\n",
       "      <td>20</td>\n",
       "      <td>880</td>\n",
       "      <td>21</td>\n",
       "      <td>среднее</td>\n",
       "      <td>1</td>\n",
       "      <td>женат / замужем</td>\n",
       "      <td>0</td>\n",
       "      <td>M</td>\n",
       "      <td>компаньон</td>\n",
       "      <td>0</td>\n",
       "      <td>145334</td>\n",
       "      <td>покупка жилья</td>\n",
       "    </tr>\n",
       "    <tr>\n",
       "      <td>720</td>\n",
       "      <td>20</td>\n",
       "      <td>855</td>\n",
       "      <td>44</td>\n",
       "      <td>среднее</td>\n",
       "      <td>1</td>\n",
       "      <td>женат / замужем</td>\n",
       "      <td>0</td>\n",
       "      <td>F</td>\n",
       "      <td>компаньон</td>\n",
       "      <td>0</td>\n",
       "      <td>112998</td>\n",
       "      <td>покупка недвижимости</td>\n",
       "    </tr>\n",
       "    <tr>\n",
       "      <td>1074</td>\n",
       "      <td>20</td>\n",
       "      <td>3310</td>\n",
       "      <td>56</td>\n",
       "      <td>среднее</td>\n",
       "      <td>1</td>\n",
       "      <td>женат / замужем</td>\n",
       "      <td>0</td>\n",
       "      <td>F</td>\n",
       "      <td>сотрудник</td>\n",
       "      <td>1</td>\n",
       "      <td>229518</td>\n",
       "      <td>получение образования</td>\n",
       "    </tr>\n",
       "    <tr>\n",
       "      <td>2510</td>\n",
       "      <td>20</td>\n",
       "      <td>2714</td>\n",
       "      <td>59</td>\n",
       "      <td>высшее</td>\n",
       "      <td>0</td>\n",
       "      <td>вдовец / вдова</td>\n",
       "      <td>2</td>\n",
       "      <td>F</td>\n",
       "      <td>сотрудник</td>\n",
       "      <td>0</td>\n",
       "      <td>264474</td>\n",
       "      <td>операции с коммерческой недвижимостью</td>\n",
       "    </tr>\n",
       "    <tr>\n",
       "      <td>2941</td>\n",
       "      <td>20</td>\n",
       "      <td>2161</td>\n",
       "      <td>0</td>\n",
       "      <td>среднее</td>\n",
       "      <td>1</td>\n",
       "      <td>женат / замужем</td>\n",
       "      <td>0</td>\n",
       "      <td>F</td>\n",
       "      <td>сотрудник</td>\n",
       "      <td>0</td>\n",
       "      <td>199739</td>\n",
       "      <td>на покупку автомобиля</td>\n",
       "    </tr>\n",
       "  </tbody>\n",
       "</table>\n",
       "</div>"
      ],
      "text/plain": [
       "      children  days_employed  dob_years education  education_id  \\\n",
       "606         20            880         21   среднее             1   \n",
       "720         20            855         44   среднее             1   \n",
       "1074        20           3310         56   среднее             1   \n",
       "2510        20           2714         59    высшее             0   \n",
       "2941        20           2161          0   среднее             1   \n",
       "\n",
       "        family_status  family_status_id gender income_type  debt  \\\n",
       "606   женат / замужем                 0      M   компаньон     0   \n",
       "720   женат / замужем                 0      F   компаньон     0   \n",
       "1074  женат / замужем                 0      F   сотрудник     1   \n",
       "2510   вдовец / вдова                 2      F   сотрудник     0   \n",
       "2941  женат / замужем                 0      F   сотрудник     0   \n",
       "\n",
       "      total_income                                purpose  \n",
       "606         145334                          покупка жилья  \n",
       "720         112998                   покупка недвижимости  \n",
       "1074        229518                  получение образования  \n",
       "2510        264474  операции с коммерческой недвижимостью  \n",
       "2941        199739                  на покупку автомобиля  "
      ]
     },
     "execution_count": 18,
     "metadata": {},
     "output_type": "execute_result"
    }
   ],
   "source": [
    "#Проанализируем строки в которых в столбце 'children' указано значение 20\n",
    "df[df['children'] == 20].head()"
   ]
  },
  {
   "cell_type": "code",
   "execution_count": 19,
   "metadata": {},
   "outputs": [],
   "source": [
    "# удалим строки в которых в колонке children значения -1 и 20\n",
    "df = df.loc[(df['children'] >= 0) & (df['children'] != 20)]"
   ]
  },
  {
   "cell_type": "markdown",
   "metadata": {},
   "source": [
    "Возможно эти значения возникли в результати ошибки при выгрузки данных и число -1  является значением 1 а 20 значением 2.\n",
    "Так как по структуре данных не прослеживается четкая зависимость этих значений от значений в других колонках и их общее количество мало в соотлношении со всем датафеймом возможно стоит удалить строки с этими значениями и провести анализ уже без них. Без этих значений сильной корректировки ответов на вопросы не произойдет.  "
   ]
  },
  {
   "cell_type": "code",
   "execution_count": 20,
   "metadata": {},
   "outputs": [
    {
     "data": {
      "text/plain": [
       "array([42, 36, 33, 32, 53, 27, 43, 50, 35, 41, 40, 65, 54, 56, 26, 48, 24,\n",
       "       21, 57, 67, 28, 63, 62, 47, 34, 68, 25, 31, 30, 20, 49, 37, 45, 61,\n",
       "       64, 44, 52, 46, 23, 38, 39, 51,  0, 59, 29, 60, 55, 58, 71, 22, 73,\n",
       "       66, 69, 19, 72, 70, 74, 75])"
      ]
     },
     "execution_count": 20,
     "metadata": {},
     "output_type": "execute_result"
    }
   ],
   "source": [
    "df.dob_years.unique()"
   ]
  },
  {
   "cell_type": "code",
   "execution_count": 21,
   "metadata": {},
   "outputs": [
    {
     "data": {
      "text/plain": [
       "35    614\n",
       "40    603\n",
       "41    603\n",
       "34    597\n",
       "38    595\n",
       "42    592\n",
       "33    577\n",
       "39    572\n",
       "31    556\n",
       "36    553\n",
       "29    543\n",
       "44    543\n",
       "30    536\n",
       "48    536\n",
       "37    531\n",
       "43    510\n",
       "50    509\n",
       "32    506\n",
       "49    505\n",
       "28    501\n",
       "45    494\n",
       "27    490\n",
       "52    483\n",
       "56    482\n",
       "47    480\n",
       "54    476\n",
       "46    469\n",
       "58    461\n",
       "57    457\n",
       "53    457\n",
       "51    446\n",
       "55    441\n",
       "59    441\n",
       "26    406\n",
       "60    376\n",
       "25    356\n",
       "61    353\n",
       "62    351\n",
       "63    268\n",
       "64    263\n",
       "24    263\n",
       "23    252\n",
       "65    194\n",
       "66    183\n",
       "22    183\n",
       "67    167\n",
       "21    110\n",
       "0     100\n",
       "68     99\n",
       "69     83\n",
       "70     65\n",
       "71     58\n",
       "20     51\n",
       "72     33\n",
       "19     14\n",
       "73      8\n",
       "74      6\n",
       "75      1\n",
       "Name: dob_years, dtype: int64"
      ]
     },
     "execution_count": 21,
     "metadata": {},
     "output_type": "execute_result"
    }
   ],
   "source": [
    "# Применим метод value_counts() к колонке 'dob_years'\n",
    "df.dob_years.value_counts()"
   ]
  },
  {
   "cell_type": "code",
   "execution_count": 22,
   "metadata": {},
   "outputs": [
    {
     "data": {
      "text/html": [
       "<div>\n",
       "<style scoped>\n",
       "    .dataframe tbody tr th:only-of-type {\n",
       "        vertical-align: middle;\n",
       "    }\n",
       "\n",
       "    .dataframe tbody tr th {\n",
       "        vertical-align: top;\n",
       "    }\n",
       "\n",
       "    .dataframe thead th {\n",
       "        text-align: right;\n",
       "    }\n",
       "</style>\n",
       "<table border=\"1\" class=\"dataframe\">\n",
       "  <thead>\n",
       "    <tr style=\"text-align: right;\">\n",
       "      <th></th>\n",
       "      <th>children</th>\n",
       "      <th>days_employed</th>\n",
       "      <th>dob_years</th>\n",
       "      <th>education</th>\n",
       "      <th>education_id</th>\n",
       "      <th>family_status</th>\n",
       "      <th>family_status_id</th>\n",
       "      <th>gender</th>\n",
       "      <th>income_type</th>\n",
       "      <th>debt</th>\n",
       "      <th>total_income</th>\n",
       "      <th>purpose</th>\n",
       "    </tr>\n",
       "  </thead>\n",
       "  <tbody>\n",
       "    <tr>\n",
       "      <td>99</td>\n",
       "      <td>0</td>\n",
       "      <td>346541</td>\n",
       "      <td>0</td>\n",
       "      <td>Среднее</td>\n",
       "      <td>1</td>\n",
       "      <td>женат / замужем</td>\n",
       "      <td>0</td>\n",
       "      <td>F</td>\n",
       "      <td>пенсионер</td>\n",
       "      <td>0</td>\n",
       "      <td>71291</td>\n",
       "      <td>автомобиль</td>\n",
       "    </tr>\n",
       "    <tr>\n",
       "      <td>149</td>\n",
       "      <td>0</td>\n",
       "      <td>2664</td>\n",
       "      <td>0</td>\n",
       "      <td>среднее</td>\n",
       "      <td>1</td>\n",
       "      <td>в разводе</td>\n",
       "      <td>3</td>\n",
       "      <td>F</td>\n",
       "      <td>сотрудник</td>\n",
       "      <td>0</td>\n",
       "      <td>70176</td>\n",
       "      <td>операции с жильем</td>\n",
       "    </tr>\n",
       "    <tr>\n",
       "      <td>270</td>\n",
       "      <td>3</td>\n",
       "      <td>1872</td>\n",
       "      <td>0</td>\n",
       "      <td>среднее</td>\n",
       "      <td>1</td>\n",
       "      <td>женат / замужем</td>\n",
       "      <td>0</td>\n",
       "      <td>F</td>\n",
       "      <td>сотрудник</td>\n",
       "      <td>0</td>\n",
       "      <td>102166</td>\n",
       "      <td>ремонт жилью</td>\n",
       "    </tr>\n",
       "    <tr>\n",
       "      <td>578</td>\n",
       "      <td>0</td>\n",
       "      <td>397856</td>\n",
       "      <td>0</td>\n",
       "      <td>среднее</td>\n",
       "      <td>1</td>\n",
       "      <td>женат / замужем</td>\n",
       "      <td>0</td>\n",
       "      <td>F</td>\n",
       "      <td>пенсионер</td>\n",
       "      <td>0</td>\n",
       "      <td>97620</td>\n",
       "      <td>строительство собственной недвижимости</td>\n",
       "    </tr>\n",
       "    <tr>\n",
       "      <td>1040</td>\n",
       "      <td>0</td>\n",
       "      <td>1158</td>\n",
       "      <td>0</td>\n",
       "      <td>высшее</td>\n",
       "      <td>0</td>\n",
       "      <td>в разводе</td>\n",
       "      <td>3</td>\n",
       "      <td>F</td>\n",
       "      <td>компаньон</td>\n",
       "      <td>0</td>\n",
       "      <td>303994</td>\n",
       "      <td>свой автомобиль</td>\n",
       "    </tr>\n",
       "  </tbody>\n",
       "</table>\n",
       "</div>"
      ],
      "text/plain": [
       "      children  days_employed  dob_years education  education_id  \\\n",
       "99           0         346541          0   Среднее             1   \n",
       "149          0           2664          0   среднее             1   \n",
       "270          3           1872          0   среднее             1   \n",
       "578          0         397856          0   среднее             1   \n",
       "1040         0           1158          0    высшее             0   \n",
       "\n",
       "        family_status  family_status_id gender income_type  debt  \\\n",
       "99    женат / замужем                 0      F   пенсионер     0   \n",
       "149         в разводе                 3      F   сотрудник     0   \n",
       "270   женат / замужем                 0      F   сотрудник     0   \n",
       "578   женат / замужем                 0      F   пенсионер     0   \n",
       "1040        в разводе                 3      F   компаньон     0   \n",
       "\n",
       "      total_income                                 purpose  \n",
       "99           71291                              автомобиль  \n",
       "149          70176                       операции с жильем  \n",
       "270         102166                            ремонт жилью  \n",
       "578          97620  строительство собственной недвижимости  \n",
       "1040        303994                         свой автомобиль  "
      ]
     },
     "execution_count": 22,
     "metadata": {},
     "output_type": "execute_result"
    }
   ],
   "source": [
    "#Проанализируем строки в которых в столбце 'dob_years' указано значение 0\n",
    "df[df['dob_years'] == 0].head()"
   ]
  },
  {
   "cell_type": "markdown",
   "metadata": {},
   "source": [
    "В колонке `dob_years` - возраст клиента в годах встречается значение - 0. Так как значение этого столбца в виду их малого количества не влияют на поставленные перед нами вопросы можно оствить строки с этими значеними но сообщить о проблеме с данными в этой колонке. "
   ]
  },
  {
   "cell_type": "code",
   "execution_count": 23,
   "metadata": {},
   "outputs": [
    {
     "data": {
      "text/plain": [
       "среднее                13667\n",
       "высшее                  4698\n",
       "СРЕДНЕЕ                  766\n",
       "Среднее                  703\n",
       "неоконченное высшее      665\n",
       "ВЫСШЕЕ                   271\n",
       "Высшее                   268\n",
       "начальное                250\n",
       "Неоконченное высшее       47\n",
       "НЕОКОНЧЕННОЕ ВЫСШЕЕ       29\n",
       "НАЧАЛЬНОЕ                 17\n",
       "Начальное                 15\n",
       "ученая степень             4\n",
       "УЧЕНАЯ СТЕПЕНЬ             1\n",
       "Ученая степень             1\n",
       "Name: education, dtype: int64"
      ]
     },
     "execution_count": 23,
     "metadata": {},
     "output_type": "execute_result"
    }
   ],
   "source": [
    "# Применим метод value_counts() к колонке 'dob_years'\n",
    "df.education.value_counts()"
   ]
  },
  {
   "cell_type": "markdown",
   "metadata": {},
   "source": [
    "В столбце `education` встречаются одинаковые значения которые отличаются регистром записи букв. Приведем все значения к нижнему регистру с помощью метода **lower()** ."
   ]
  },
  {
   "cell_type": "code",
   "execution_count": 24,
   "metadata": {},
   "outputs": [],
   "source": [
    "# Приведем все значения колонки 'education' к нижнему регистру с помощью метода lower()\n",
    "df.education = df.education.str.lower()"
   ]
  },
  {
   "cell_type": "code",
   "execution_count": 25,
   "metadata": {},
   "outputs": [
    {
     "data": {
      "text/plain": [
       "среднее                15136\n",
       "высшее                  5237\n",
       "неоконченное высшее      741\n",
       "начальное                282\n",
       "ученая степень             6\n",
       "Name: education, dtype: int64"
      ]
     },
     "execution_count": 25,
     "metadata": {},
     "output_type": "execute_result"
    }
   ],
   "source": [
    "#проверим что дубликатов больше нет.\n",
    "df.education.value_counts()"
   ]
  },
  {
   "cell_type": "code",
   "execution_count": 26,
   "metadata": {},
   "outputs": [
    {
     "data": {
      "text/plain": [
       "array([0, 1, 2, 3, 4])"
      ]
     },
     "execution_count": 26,
     "metadata": {},
     "output_type": "execute_result"
    }
   ],
   "source": [
    "# Применим метод value_counts() к колонке 'education_id'\n",
    "df.education_id.unique()"
   ]
  },
  {
   "cell_type": "code",
   "execution_count": 27,
   "metadata": {},
   "outputs": [
    {
     "data": {
      "text/plain": [
       "education\n",
       "высшее                 [0]\n",
       "начальное              [3]\n",
       "неоконченное высшее    [2]\n",
       "среднее                [1]\n",
       "ученая степень         [4]\n",
       "Name: education_id, dtype: object"
      ]
     },
     "execution_count": 27,
     "metadata": {},
     "output_type": "execute_result"
    }
   ],
   "source": [
    "# Проверим что значению в колонке 'education' соответствует только единственное значение 'education_id' \n",
    "df.groupby(['education']).education_id.unique()"
   ]
  },
  {
   "cell_type": "code",
   "execution_count": 28,
   "metadata": {},
   "outputs": [
    {
     "data": {
      "text/plain": [
       "женат / замужем          12302\n",
       "гражданский брак          4160\n",
       "Не женат / не замужем     2799\n",
       "в разводе                 1189\n",
       "вдовец / вдова             952\n",
       "Name: family_status, dtype: int64"
      ]
     },
     "execution_count": 28,
     "metadata": {},
     "output_type": "execute_result"
    }
   ],
   "source": [
    "# Применим метод value_counts() к колонке 'family_status'\n",
    "df['family_status'].value_counts()"
   ]
  },
  {
   "cell_type": "code",
   "execution_count": 29,
   "metadata": {},
   "outputs": [
    {
     "data": {
      "text/plain": [
       "array([0, 1, 2, 3, 4])"
      ]
     },
     "execution_count": 29,
     "metadata": {},
     "output_type": "execute_result"
    }
   ],
   "source": [
    "# Применим метод value_counts() к колонке 'family_status_id'\n",
    "df.family_status_id.unique()"
   ]
  },
  {
   "cell_type": "code",
   "execution_count": 30,
   "metadata": {},
   "outputs": [
    {
     "data": {
      "text/plain": [
       "family_status\n",
       "Не женат / не замужем    [4]\n",
       "в разводе                [3]\n",
       "вдовец / вдова           [2]\n",
       "гражданский брак         [1]\n",
       "женат / замужем          [0]\n",
       "Name: family_status_id, dtype: object"
      ]
     },
     "execution_count": 30,
     "metadata": {},
     "output_type": "execute_result"
    }
   ],
   "source": [
    "# Проверим что значению в колонке 'family_status' соответствует только единственное значение 'family_status_id' \n",
    "df.groupby(['family_status']).family_status_id.unique()"
   ]
  },
  {
   "cell_type": "code",
   "execution_count": 31,
   "metadata": {},
   "outputs": [
    {
     "data": {
      "text/plain": [
       "F      14154\n",
       "M       7247\n",
       "XNA        1\n",
       "Name: gender, dtype: int64"
      ]
     },
     "execution_count": 31,
     "metadata": {},
     "output_type": "execute_result"
    }
   ],
   "source": [
    "# Применим метод value_counts() к колонке 'gender'\n",
    "df['gender'].value_counts()"
   ]
  },
  {
   "cell_type": "markdown",
   "metadata": {},
   "source": [
    "Кроме предсказуемых значени F и M в одной из строк встречается некорректное значенин 'XNA'"
   ]
  },
  {
   "cell_type": "code",
   "execution_count": 32,
   "metadata": {},
   "outputs": [
    {
     "data": {
      "text/html": [
       "<div>\n",
       "<style scoped>\n",
       "    .dataframe tbody tr th:only-of-type {\n",
       "        vertical-align: middle;\n",
       "    }\n",
       "\n",
       "    .dataframe tbody tr th {\n",
       "        vertical-align: top;\n",
       "    }\n",
       "\n",
       "    .dataframe thead th {\n",
       "        text-align: right;\n",
       "    }\n",
       "</style>\n",
       "<table border=\"1\" class=\"dataframe\">\n",
       "  <thead>\n",
       "    <tr style=\"text-align: right;\">\n",
       "      <th></th>\n",
       "      <th>children</th>\n",
       "      <th>days_employed</th>\n",
       "      <th>dob_years</th>\n",
       "      <th>education</th>\n",
       "      <th>education_id</th>\n",
       "      <th>family_status</th>\n",
       "      <th>family_status_id</th>\n",
       "      <th>gender</th>\n",
       "      <th>income_type</th>\n",
       "      <th>debt</th>\n",
       "      <th>total_income</th>\n",
       "      <th>purpose</th>\n",
       "    </tr>\n",
       "  </thead>\n",
       "  <tbody>\n",
       "    <tr>\n",
       "      <td>10701</td>\n",
       "      <td>0</td>\n",
       "      <td>2358</td>\n",
       "      <td>24</td>\n",
       "      <td>неоконченное высшее</td>\n",
       "      <td>2</td>\n",
       "      <td>гражданский брак</td>\n",
       "      <td>1</td>\n",
       "      <td>XNA</td>\n",
       "      <td>компаньон</td>\n",
       "      <td>0</td>\n",
       "      <td>203905</td>\n",
       "      <td>покупка недвижимости</td>\n",
       "    </tr>\n",
       "  </tbody>\n",
       "</table>\n",
       "</div>"
      ],
      "text/plain": [
       "       children  days_employed  dob_years            education  education_id  \\\n",
       "10701         0           2358         24  неоконченное высшее             2   \n",
       "\n",
       "          family_status  family_status_id gender income_type  debt  \\\n",
       "10701  гражданский брак                 1    XNA   компаньон     0   \n",
       "\n",
       "       total_income               purpose  \n",
       "10701        203905  покупка недвижимости  "
      ]
     },
     "metadata": {},
     "output_type": "display_data"
    }
   ],
   "source": [
    "# Проанализируем строку в которой встрчается значение 'XNA'\n",
    "display(df[df['gender'] == 'XNA'])"
   ]
  },
  {
   "cell_type": "code",
   "execution_count": 33,
   "metadata": {},
   "outputs": [],
   "source": [
    "# удалим строки в которых в колонке gender == 'XNA'\n",
    "df = df.loc[df['gender'] != 'XNA']"
   ]
  },
  {
   "cell_type": "code",
   "execution_count": 34,
   "metadata": {},
   "outputs": [
    {
     "data": {
      "text/plain": [
       "array([0, 1])"
      ]
     },
     "execution_count": 34,
     "metadata": {},
     "output_type": "execute_result"
    }
   ],
   "source": [
    "# Применим метод value_counts() к колонке 'debt'\n",
    "df['debt'].unique()"
   ]
  },
  {
   "cell_type": "code",
   "execution_count": 35,
   "metadata": {},
   "outputs": [
    {
     "data": {
      "text/plain": [
       "свадьба                                   796\n",
       "на проведение свадьбы                     772\n",
       "сыграть свадьбу                           769\n",
       "операции с недвижимостью                  673\n",
       "покупка коммерческой недвижимости         661\n",
       "покупка жилья для сдачи                   651\n",
       "операции с жильем                         648\n",
       "операции с коммерческой недвижимостью     646\n",
       "жилье                                     642\n",
       "покупка жилья                             641\n",
       "покупка жилья для семьи                   640\n",
       "недвижимость                              632\n",
       "строительство собственной недвижимости    628\n",
       "операции со своей недвижимостью           626\n",
       "строительство жилой недвижимости          622\n",
       "строительство недвижимости                620\n",
       "покупка своего жилья                      619\n",
       "покупка недвижимости                      618\n",
       "ремонт жилью                              609\n",
       "покупка жилой недвижимости                603\n",
       "на покупку своего автомобиля              504\n",
       "заняться высшим образованием              496\n",
       "автомобиль                                492\n",
       "сделка с подержанным автомобилем          484\n",
       "автомобили                                476\n",
       "свой автомобиль                           475\n",
       "на покупку подержанного автомобиля        472\n",
       "на покупку автомобиля                     470\n",
       "приобретение автомобиля                   460\n",
       "дополнительное образование                457\n",
       "сделка с автомобилем                      455\n",
       "высшее образование                        447\n",
       "получение дополнительного образования     445\n",
       "образование                               442\n",
       "получение образования                     441\n",
       "профильное образование                    432\n",
       "получение высшего образования             425\n",
       "заняться образованием                     412\n",
       "Name: purpose, dtype: int64"
      ]
     },
     "execution_count": 35,
     "metadata": {},
     "output_type": "execute_result"
    }
   ],
   "source": [
    "# Применим метод value_counts() к колонке 'purpose'\n",
    "df['purpose'].value_counts()"
   ]
  },
  {
   "cell_type": "code",
   "execution_count": 36,
   "metadata": {},
   "outputs": [
    {
     "data": {
      "text/plain": [
       "71"
      ]
     },
     "execution_count": 36,
     "metadata": {},
     "output_type": "execute_result"
    }
   ],
   "source": [
    "#Используем метод duplicate для определения полностью совпадающих строк.\n",
    "df.duplicated().sum()"
   ]
  },
  {
   "cell_type": "markdown",
   "metadata": {},
   "source": [
    "**Вывод**"
   ]
  },
  {
   "cell_type": "markdown",
   "metadata": {},
   "source": [
    "Для поиска дубликатов был использован метод **value_count()** по следующим причинам:\n",
    " - можно сразу увидеть все уникальные значения которые встречаются в колонки и их количество\n",
    " - при использовании функции lower() выводится список пар \"значение-частота\" который легче анализировать\n",
    "\n",
    "По результатам использования метода **value_count()**  можно сделать следующие выводы:\n",
    " * в колонке `children` встречаются некорректные значения -1 и 20. Удалили строки с этими значениями.\n",
    " * в колонке `dob_years`  в 101 строке присутствует значение 0 чего не должно быть\n",
    " * В колонке `education`  перевели все значения в нижний регистр.\n",
    " * В колонке `gender` пристуствовало значение XNA. Удалили строку с ним.\n",
    "\n",
    "Метод duplicate показал полное совпадение по 71 строке. Но полное совпадение строки не означает что эти данные приходятся одному человеку так как среди колонок нет значений с уникальным id клиента. В связи с этим эти строки не были удалены из датафрейма. Остальные недочеты по колонка не должны вносить серьезных коррективов при ответе на интересующие нас вопросы. \n",
    "Возможно стоило удалить строки где количество детей равно -1 и 20."
   ]
  },
  {
   "cell_type": "markdown",
   "metadata": {},
   "source": [
    "### Лемматизация"
   ]
  },
  {
   "cell_type": "code",
   "execution_count": 37,
   "metadata": {},
   "outputs": [],
   "source": [
    "'''Цикл проходит по значениям списка purpose_unique, который состоит из уникальных значений колонки purpose\n",
    "   и создает словарь purpose_dict в котором ключом является уникальное значение из колоки purpose\n",
    "   а значением лемматизированное строка этой же колонки\n",
    "'''\n",
    "purpose_unique = df['purpose'].unique()\n",
    "purpose_dict = {}\n",
    "for i in purpose_unique:\n",
    "    lemmas = m.lemmatize(i)\n",
    "    purpose_dict[i] = lemmas\n",
    "    "
   ]
  },
  {
   "cell_type": "markdown",
   "metadata": {},
   "source": [
    "**Вывод**"
   ]
  },
  {
   "cell_type": "markdown",
   "metadata": {},
   "source": [
    "Создали словарь с лемматизированными значениями колонки puprose для более удобной категоризации по целям кредита"
   ]
  },
  {
   "cell_type": "markdown",
   "metadata": {},
   "source": [
    "### Категоризация данных"
   ]
  },
  {
   "cell_type": "code",
   "execution_count": 38,
   "metadata": {},
   "outputs": [],
   "source": [
    "''' функция purpose_id  принимает значение из колонки purpose,\n",
    "    исползует его как ключ для получения соответствующего списка  в словаре purpose_dict\n",
    "    и далее с помощью логического ветвления, возвращает числовое значение \n",
    "    вновь создоваеммной колонки purpose_id, в которой происходит числовая категоризация целей кредита.\n",
    "'''\n",
    "def purpose_id(purpose):\n",
    "    purpose_list = purpose_dict[purpose]\n",
    "    if 'автомобиль' in purpose_list:\n",
    "        return 'автомобиль'\n",
    "    if 'свадьба' in purpose_list:\n",
    "        return 'свадьба'\n",
    "    if 'образование' in purpose_list:  \n",
    "        return 'образование'\n",
    "    else:\n",
    "        return 'недвижимость'\n",
    "df['purpose_lemma'] = df['purpose'].apply(purpose_id)"
   ]
  },
  {
   "cell_type": "code",
   "execution_count": 39,
   "metadata": {},
   "outputs": [
    {
     "data": {
      "text/html": [
       "<div>\n",
       "<style scoped>\n",
       "    .dataframe tbody tr th:only-of-type {\n",
       "        vertical-align: middle;\n",
       "    }\n",
       "\n",
       "    .dataframe tbody tr th {\n",
       "        vertical-align: top;\n",
       "    }\n",
       "\n",
       "    .dataframe thead th {\n",
       "        text-align: right;\n",
       "    }\n",
       "</style>\n",
       "<table border=\"1\" class=\"dataframe\">\n",
       "  <thead>\n",
       "    <tr style=\"text-align: right;\">\n",
       "      <th></th>\n",
       "      <th>children</th>\n",
       "      <th>days_employed</th>\n",
       "      <th>dob_years</th>\n",
       "      <th>education</th>\n",
       "      <th>education_id</th>\n",
       "      <th>family_status</th>\n",
       "      <th>family_status_id</th>\n",
       "      <th>gender</th>\n",
       "      <th>income_type</th>\n",
       "      <th>debt</th>\n",
       "      <th>total_income</th>\n",
       "      <th>purpose</th>\n",
       "      <th>purpose_lemma</th>\n",
       "    </tr>\n",
       "  </thead>\n",
       "  <tbody>\n",
       "    <tr>\n",
       "      <td>0</td>\n",
       "      <td>1</td>\n",
       "      <td>8437</td>\n",
       "      <td>42</td>\n",
       "      <td>высшее</td>\n",
       "      <td>0</td>\n",
       "      <td>женат / замужем</td>\n",
       "      <td>0</td>\n",
       "      <td>F</td>\n",
       "      <td>сотрудник</td>\n",
       "      <td>0</td>\n",
       "      <td>253875</td>\n",
       "      <td>покупка жилья</td>\n",
       "      <td>недвижимость</td>\n",
       "    </tr>\n",
       "    <tr>\n",
       "      <td>1</td>\n",
       "      <td>1</td>\n",
       "      <td>4024</td>\n",
       "      <td>36</td>\n",
       "      <td>среднее</td>\n",
       "      <td>1</td>\n",
       "      <td>женат / замужем</td>\n",
       "      <td>0</td>\n",
       "      <td>F</td>\n",
       "      <td>сотрудник</td>\n",
       "      <td>0</td>\n",
       "      <td>112080</td>\n",
       "      <td>приобретение автомобиля</td>\n",
       "      <td>автомобиль</td>\n",
       "    </tr>\n",
       "    <tr>\n",
       "      <td>2</td>\n",
       "      <td>0</td>\n",
       "      <td>5623</td>\n",
       "      <td>33</td>\n",
       "      <td>среднее</td>\n",
       "      <td>1</td>\n",
       "      <td>женат / замужем</td>\n",
       "      <td>0</td>\n",
       "      <td>M</td>\n",
       "      <td>сотрудник</td>\n",
       "      <td>0</td>\n",
       "      <td>145885</td>\n",
       "      <td>покупка жилья</td>\n",
       "      <td>недвижимость</td>\n",
       "    </tr>\n",
       "    <tr>\n",
       "      <td>3</td>\n",
       "      <td>3</td>\n",
       "      <td>4124</td>\n",
       "      <td>32</td>\n",
       "      <td>среднее</td>\n",
       "      <td>1</td>\n",
       "      <td>женат / замужем</td>\n",
       "      <td>0</td>\n",
       "      <td>M</td>\n",
       "      <td>сотрудник</td>\n",
       "      <td>0</td>\n",
       "      <td>267628</td>\n",
       "      <td>дополнительное образование</td>\n",
       "      <td>образование</td>\n",
       "    </tr>\n",
       "    <tr>\n",
       "      <td>4</td>\n",
       "      <td>0</td>\n",
       "      <td>340266</td>\n",
       "      <td>53</td>\n",
       "      <td>среднее</td>\n",
       "      <td>1</td>\n",
       "      <td>гражданский брак</td>\n",
       "      <td>1</td>\n",
       "      <td>F</td>\n",
       "      <td>пенсионер</td>\n",
       "      <td>0</td>\n",
       "      <td>158616</td>\n",
       "      <td>сыграть свадьбу</td>\n",
       "      <td>свадьба</td>\n",
       "    </tr>\n",
       "    <tr>\n",
       "      <td>5</td>\n",
       "      <td>0</td>\n",
       "      <td>926</td>\n",
       "      <td>27</td>\n",
       "      <td>высшее</td>\n",
       "      <td>0</td>\n",
       "      <td>гражданский брак</td>\n",
       "      <td>1</td>\n",
       "      <td>M</td>\n",
       "      <td>компаньон</td>\n",
       "      <td>0</td>\n",
       "      <td>255763</td>\n",
       "      <td>покупка жилья</td>\n",
       "      <td>недвижимость</td>\n",
       "    </tr>\n",
       "    <tr>\n",
       "      <td>6</td>\n",
       "      <td>0</td>\n",
       "      <td>2879</td>\n",
       "      <td>43</td>\n",
       "      <td>высшее</td>\n",
       "      <td>0</td>\n",
       "      <td>женат / замужем</td>\n",
       "      <td>0</td>\n",
       "      <td>F</td>\n",
       "      <td>компаньон</td>\n",
       "      <td>0</td>\n",
       "      <td>240525</td>\n",
       "      <td>операции с жильем</td>\n",
       "      <td>недвижимость</td>\n",
       "    </tr>\n",
       "    <tr>\n",
       "      <td>7</td>\n",
       "      <td>0</td>\n",
       "      <td>152</td>\n",
       "      <td>50</td>\n",
       "      <td>среднее</td>\n",
       "      <td>1</td>\n",
       "      <td>женат / замужем</td>\n",
       "      <td>0</td>\n",
       "      <td>M</td>\n",
       "      <td>сотрудник</td>\n",
       "      <td>0</td>\n",
       "      <td>135823</td>\n",
       "      <td>образование</td>\n",
       "      <td>образование</td>\n",
       "    </tr>\n",
       "    <tr>\n",
       "      <td>8</td>\n",
       "      <td>2</td>\n",
       "      <td>6929</td>\n",
       "      <td>35</td>\n",
       "      <td>высшее</td>\n",
       "      <td>0</td>\n",
       "      <td>гражданский брак</td>\n",
       "      <td>1</td>\n",
       "      <td>F</td>\n",
       "      <td>сотрудник</td>\n",
       "      <td>0</td>\n",
       "      <td>95856</td>\n",
       "      <td>на проведение свадьбы</td>\n",
       "      <td>свадьба</td>\n",
       "    </tr>\n",
       "    <tr>\n",
       "      <td>9</td>\n",
       "      <td>0</td>\n",
       "      <td>2188</td>\n",
       "      <td>41</td>\n",
       "      <td>среднее</td>\n",
       "      <td>1</td>\n",
       "      <td>женат / замужем</td>\n",
       "      <td>0</td>\n",
       "      <td>M</td>\n",
       "      <td>сотрудник</td>\n",
       "      <td>0</td>\n",
       "      <td>144425</td>\n",
       "      <td>покупка жилья для семьи</td>\n",
       "      <td>недвижимость</td>\n",
       "    </tr>\n",
       "  </tbody>\n",
       "</table>\n",
       "</div>"
      ],
      "text/plain": [
       "   children  days_employed  dob_years education  education_id  \\\n",
       "0         1           8437         42    высшее             0   \n",
       "1         1           4024         36   среднее             1   \n",
       "2         0           5623         33   среднее             1   \n",
       "3         3           4124         32   среднее             1   \n",
       "4         0         340266         53   среднее             1   \n",
       "5         0            926         27    высшее             0   \n",
       "6         0           2879         43    высшее             0   \n",
       "7         0            152         50   среднее             1   \n",
       "8         2           6929         35    высшее             0   \n",
       "9         0           2188         41   среднее             1   \n",
       "\n",
       "      family_status  family_status_id gender income_type  debt  total_income  \\\n",
       "0   женат / замужем                 0      F   сотрудник     0        253875   \n",
       "1   женат / замужем                 0      F   сотрудник     0        112080   \n",
       "2   женат / замужем                 0      M   сотрудник     0        145885   \n",
       "3   женат / замужем                 0      M   сотрудник     0        267628   \n",
       "4  гражданский брак                 1      F   пенсионер     0        158616   \n",
       "5  гражданский брак                 1      M   компаньон     0        255763   \n",
       "6   женат / замужем                 0      F   компаньон     0        240525   \n",
       "7   женат / замужем                 0      M   сотрудник     0        135823   \n",
       "8  гражданский брак                 1      F   сотрудник     0         95856   \n",
       "9   женат / замужем                 0      M   сотрудник     0        144425   \n",
       "\n",
       "                      purpose purpose_lemma  \n",
       "0               покупка жилья  недвижимость  \n",
       "1     приобретение автомобиля    автомобиль  \n",
       "2               покупка жилья  недвижимость  \n",
       "3  дополнительное образование   образование  \n",
       "4             сыграть свадьбу       свадьба  \n",
       "5               покупка жилья  недвижимость  \n",
       "6           операции с жильем  недвижимость  \n",
       "7                 образование   образование  \n",
       "8       на проведение свадьбы       свадьба  \n",
       "9     покупка жилья для семьи  недвижимость  "
      ]
     },
     "metadata": {},
     "output_type": "display_data"
    }
   ],
   "source": [
    "# выведем первые 10 значений\n",
    "display(df.head(10))"
   ]
  },
  {
   "cell_type": "code",
   "execution_count": 40,
   "metadata": {},
   "outputs": [
    {
     "data": {
      "text/plain": [
       "недвижимость    10779\n",
       "автомобиль       4288\n",
       "образование      3997\n",
       "свадьба          2337\n",
       "Name: purpose_lemma, dtype: int64"
      ]
     },
     "execution_count": 40,
     "metadata": {},
     "output_type": "execute_result"
    }
   ],
   "source": [
    "# какая цель кредита самая популярная среди клиентов\n",
    "df['purpose_lemma'].value_counts()"
   ]
  },
  {
   "cell_type": "markdown",
   "metadata": {},
   "source": [
    "Категоризируем колнку ежемесячного дохода `total_income` разделив её на 3 условные группы:\n",
    " * низший класс\n",
    " * средний класс\n",
    " * высший класс"
   ]
  },
  {
   "cell_type": "code",
   "execution_count": 41,
   "metadata": {},
   "outputs": [
    {
     "data": {
      "text/plain": [
       "142594.0"
      ]
     },
     "execution_count": 41,
     "metadata": {},
     "output_type": "execute_result"
    }
   ],
   "source": [
    "# Неайдем медиану среди значений ежемесячного дохода клиентов\n",
    "middle = df['total_income'].median()\n",
    "middle"
   ]
  },
  {
   "cell_type": "code",
   "execution_count": 42,
   "metadata": {},
   "outputs": [
    {
     "data": {
      "text/plain": [
       "103525.5"
      ]
     },
     "execution_count": 42,
     "metadata": {},
     "output_type": "execute_result"
    }
   ],
   "source": [
    "# Найдем  границу по которой будет происходить категоризация на низший и средний классы\n",
    "df[df['total_income'] < 142594]['total_income'].median()"
   ]
  },
  {
   "cell_type": "code",
   "execution_count": 43,
   "metadata": {},
   "outputs": [
    {
     "data": {
      "text/plain": [
       "196554.0"
      ]
     },
     "execution_count": 43,
     "metadata": {},
     "output_type": "execute_result"
    }
   ],
   "source": [
    "# Найдем  границу по которой будет происходить категоризация на средний и высший классы\n",
    "df[df['total_income'] > 142594]['total_income'].median()"
   ]
  },
  {
   "cell_type": "code",
   "execution_count": 44,
   "metadata": {},
   "outputs": [],
   "source": [
    "def income_group(total_income):\n",
    "    ''' Возвращает группу по значению total_income, используя правила:\n",
    "     - 'низший класс', если total_income <= 103532 лет;\n",
    "     - 'средний класс', если total_income от 103533 до 196542;\n",
    "     - 'высший класс' — от 196543 и старше\n",
    "    '''\n",
    "    if total_income <= 103532:\n",
    "        return 'низший класс'\n",
    "    if total_income <= 196542:\n",
    "        return 'средний класс'\n",
    "    return 'высший класс'\n",
    "\n",
    "#добавим колонку income_group  используя функцию income_group.\n",
    "df['income_group'] = df['total_income'].apply(income_group)"
   ]
  },
  {
   "cell_type": "code",
   "execution_count": 45,
   "metadata": {},
   "outputs": [
    {
     "data": {
      "text/html": [
       "<div>\n",
       "<style scoped>\n",
       "    .dataframe tbody tr th:only-of-type {\n",
       "        vertical-align: middle;\n",
       "    }\n",
       "\n",
       "    .dataframe tbody tr th {\n",
       "        vertical-align: top;\n",
       "    }\n",
       "\n",
       "    .dataframe thead th {\n",
       "        text-align: right;\n",
       "    }\n",
       "</style>\n",
       "<table border=\"1\" class=\"dataframe\">\n",
       "  <thead>\n",
       "    <tr style=\"text-align: right;\">\n",
       "      <th></th>\n",
       "      <th>children</th>\n",
       "      <th>days_employed</th>\n",
       "      <th>dob_years</th>\n",
       "      <th>education</th>\n",
       "      <th>education_id</th>\n",
       "      <th>family_status</th>\n",
       "      <th>family_status_id</th>\n",
       "      <th>gender</th>\n",
       "      <th>income_type</th>\n",
       "      <th>debt</th>\n",
       "      <th>total_income</th>\n",
       "      <th>purpose</th>\n",
       "      <th>purpose_lemma</th>\n",
       "      <th>income_group</th>\n",
       "    </tr>\n",
       "  </thead>\n",
       "  <tbody>\n",
       "    <tr>\n",
       "      <td>0</td>\n",
       "      <td>1</td>\n",
       "      <td>8437</td>\n",
       "      <td>42</td>\n",
       "      <td>высшее</td>\n",
       "      <td>0</td>\n",
       "      <td>женат / замужем</td>\n",
       "      <td>0</td>\n",
       "      <td>F</td>\n",
       "      <td>сотрудник</td>\n",
       "      <td>0</td>\n",
       "      <td>253875</td>\n",
       "      <td>покупка жилья</td>\n",
       "      <td>недвижимость</td>\n",
       "      <td>высший класс</td>\n",
       "    </tr>\n",
       "    <tr>\n",
       "      <td>1</td>\n",
       "      <td>1</td>\n",
       "      <td>4024</td>\n",
       "      <td>36</td>\n",
       "      <td>среднее</td>\n",
       "      <td>1</td>\n",
       "      <td>женат / замужем</td>\n",
       "      <td>0</td>\n",
       "      <td>F</td>\n",
       "      <td>сотрудник</td>\n",
       "      <td>0</td>\n",
       "      <td>112080</td>\n",
       "      <td>приобретение автомобиля</td>\n",
       "      <td>автомобиль</td>\n",
       "      <td>средний класс</td>\n",
       "    </tr>\n",
       "    <tr>\n",
       "      <td>2</td>\n",
       "      <td>0</td>\n",
       "      <td>5623</td>\n",
       "      <td>33</td>\n",
       "      <td>среднее</td>\n",
       "      <td>1</td>\n",
       "      <td>женат / замужем</td>\n",
       "      <td>0</td>\n",
       "      <td>M</td>\n",
       "      <td>сотрудник</td>\n",
       "      <td>0</td>\n",
       "      <td>145885</td>\n",
       "      <td>покупка жилья</td>\n",
       "      <td>недвижимость</td>\n",
       "      <td>средний класс</td>\n",
       "    </tr>\n",
       "    <tr>\n",
       "      <td>3</td>\n",
       "      <td>3</td>\n",
       "      <td>4124</td>\n",
       "      <td>32</td>\n",
       "      <td>среднее</td>\n",
       "      <td>1</td>\n",
       "      <td>женат / замужем</td>\n",
       "      <td>0</td>\n",
       "      <td>M</td>\n",
       "      <td>сотрудник</td>\n",
       "      <td>0</td>\n",
       "      <td>267628</td>\n",
       "      <td>дополнительное образование</td>\n",
       "      <td>образование</td>\n",
       "      <td>высший класс</td>\n",
       "    </tr>\n",
       "    <tr>\n",
       "      <td>4</td>\n",
       "      <td>0</td>\n",
       "      <td>340266</td>\n",
       "      <td>53</td>\n",
       "      <td>среднее</td>\n",
       "      <td>1</td>\n",
       "      <td>гражданский брак</td>\n",
       "      <td>1</td>\n",
       "      <td>F</td>\n",
       "      <td>пенсионер</td>\n",
       "      <td>0</td>\n",
       "      <td>158616</td>\n",
       "      <td>сыграть свадьбу</td>\n",
       "      <td>свадьба</td>\n",
       "      <td>средний класс</td>\n",
       "    </tr>\n",
       "    <tr>\n",
       "      <td>5</td>\n",
       "      <td>0</td>\n",
       "      <td>926</td>\n",
       "      <td>27</td>\n",
       "      <td>высшее</td>\n",
       "      <td>0</td>\n",
       "      <td>гражданский брак</td>\n",
       "      <td>1</td>\n",
       "      <td>M</td>\n",
       "      <td>компаньон</td>\n",
       "      <td>0</td>\n",
       "      <td>255763</td>\n",
       "      <td>покупка жилья</td>\n",
       "      <td>недвижимость</td>\n",
       "      <td>высший класс</td>\n",
       "    </tr>\n",
       "    <tr>\n",
       "      <td>6</td>\n",
       "      <td>0</td>\n",
       "      <td>2879</td>\n",
       "      <td>43</td>\n",
       "      <td>высшее</td>\n",
       "      <td>0</td>\n",
       "      <td>женат / замужем</td>\n",
       "      <td>0</td>\n",
       "      <td>F</td>\n",
       "      <td>компаньон</td>\n",
       "      <td>0</td>\n",
       "      <td>240525</td>\n",
       "      <td>операции с жильем</td>\n",
       "      <td>недвижимость</td>\n",
       "      <td>высший класс</td>\n",
       "    </tr>\n",
       "    <tr>\n",
       "      <td>7</td>\n",
       "      <td>0</td>\n",
       "      <td>152</td>\n",
       "      <td>50</td>\n",
       "      <td>среднее</td>\n",
       "      <td>1</td>\n",
       "      <td>женат / замужем</td>\n",
       "      <td>0</td>\n",
       "      <td>M</td>\n",
       "      <td>сотрудник</td>\n",
       "      <td>0</td>\n",
       "      <td>135823</td>\n",
       "      <td>образование</td>\n",
       "      <td>образование</td>\n",
       "      <td>средний класс</td>\n",
       "    </tr>\n",
       "    <tr>\n",
       "      <td>8</td>\n",
       "      <td>2</td>\n",
       "      <td>6929</td>\n",
       "      <td>35</td>\n",
       "      <td>высшее</td>\n",
       "      <td>0</td>\n",
       "      <td>гражданский брак</td>\n",
       "      <td>1</td>\n",
       "      <td>F</td>\n",
       "      <td>сотрудник</td>\n",
       "      <td>0</td>\n",
       "      <td>95856</td>\n",
       "      <td>на проведение свадьбы</td>\n",
       "      <td>свадьба</td>\n",
       "      <td>низший класс</td>\n",
       "    </tr>\n",
       "    <tr>\n",
       "      <td>9</td>\n",
       "      <td>0</td>\n",
       "      <td>2188</td>\n",
       "      <td>41</td>\n",
       "      <td>среднее</td>\n",
       "      <td>1</td>\n",
       "      <td>женат / замужем</td>\n",
       "      <td>0</td>\n",
       "      <td>M</td>\n",
       "      <td>сотрудник</td>\n",
       "      <td>0</td>\n",
       "      <td>144425</td>\n",
       "      <td>покупка жилья для семьи</td>\n",
       "      <td>недвижимость</td>\n",
       "      <td>средний класс</td>\n",
       "    </tr>\n",
       "  </tbody>\n",
       "</table>\n",
       "</div>"
      ],
      "text/plain": [
       "   children  days_employed  dob_years education  education_id  \\\n",
       "0         1           8437         42    высшее             0   \n",
       "1         1           4024         36   среднее             1   \n",
       "2         0           5623         33   среднее             1   \n",
       "3         3           4124         32   среднее             1   \n",
       "4         0         340266         53   среднее             1   \n",
       "5         0            926         27    высшее             0   \n",
       "6         0           2879         43    высшее             0   \n",
       "7         0            152         50   среднее             1   \n",
       "8         2           6929         35    высшее             0   \n",
       "9         0           2188         41   среднее             1   \n",
       "\n",
       "      family_status  family_status_id gender income_type  debt  total_income  \\\n",
       "0   женат / замужем                 0      F   сотрудник     0        253875   \n",
       "1   женат / замужем                 0      F   сотрудник     0        112080   \n",
       "2   женат / замужем                 0      M   сотрудник     0        145885   \n",
       "3   женат / замужем                 0      M   сотрудник     0        267628   \n",
       "4  гражданский брак                 1      F   пенсионер     0        158616   \n",
       "5  гражданский брак                 1      M   компаньон     0        255763   \n",
       "6   женат / замужем                 0      F   компаньон     0        240525   \n",
       "7   женат / замужем                 0      M   сотрудник     0        135823   \n",
       "8  гражданский брак                 1      F   сотрудник     0         95856   \n",
       "9   женат / замужем                 0      M   сотрудник     0        144425   \n",
       "\n",
       "                      purpose purpose_lemma   income_group  \n",
       "0               покупка жилья  недвижимость   высший класс  \n",
       "1     приобретение автомобиля    автомобиль  средний класс  \n",
       "2               покупка жилья  недвижимость  средний класс  \n",
       "3  дополнительное образование   образование   высший класс  \n",
       "4             сыграть свадьбу       свадьба  средний класс  \n",
       "5               покупка жилья  недвижимость   высший класс  \n",
       "6           операции с жильем  недвижимость   высший класс  \n",
       "7                 образование   образование  средний класс  \n",
       "8       на проведение свадьбы       свадьба   низший класс  \n",
       "9     покупка жилья для семьи  недвижимость  средний класс  "
      ]
     },
     "metadata": {},
     "output_type": "display_data"
    }
   ],
   "source": [
    "# выведем первые 10 значений\n",
    "display(df.head(10))"
   ]
  },
  {
   "cell_type": "code",
   "execution_count": 46,
   "metadata": {},
   "outputs": [
    {
     "data": {
      "text/plain": [
       "средний класс    11245\n",
       "высший класс      5280\n",
       "низший класс      4876\n",
       "Name: income_group, dtype: int64"
      ]
     },
     "execution_count": 46,
     "metadata": {},
     "output_type": "execute_result"
    }
   ],
   "source": [
    "# какая цель кредита самая популярная среди клиентов\n",
    "df['income_group'].value_counts()"
   ]
  },
  {
   "cell_type": "markdown",
   "metadata": {},
   "source": [
    "**Вывод**"
   ]
  },
  {
   "cell_type": "markdown",
   "metadata": {},
   "source": [
    "Произведя категоризацию клиентов относительно цели получения кредита можно сделать вывод что половина из них берут кредит на недвижимость а меньше всего на свадьбу.\n",
    "\n",
    "Распределили клиентов относительно ежемесячного дохода на 3 группы для дальнейшего анализа:\n",
    " * клиенты с ежемесечным доходом меньше 103533 попадают в категорию \"низший класс\" \n",
    " * клиенты с ежемесечным доходом от 103533 до 196542 попадают в категорию \"средний класс\" \n",
    " * клиенты с ежемесечным доходом меньше 196543 попадают в категорию \"высший класс\" "
   ]
  },
  {
   "cell_type": "markdown",
   "metadata": {},
   "source": [
    "## Шаг 3. Ответьте на вопросы"
   ]
  },
  {
   "cell_type": "markdown",
   "metadata": {},
   "source": [
    "- Есть ли зависимость между наличием детей и возвратом кредита в срок?"
   ]
  },
  {
   "cell_type": "code",
   "execution_count": 47,
   "metadata": {},
   "outputs": [
    {
     "data": {
      "text/html": [
       "<div>\n",
       "<style scoped>\n",
       "    .dataframe tbody tr th:only-of-type {\n",
       "        vertical-align: middle;\n",
       "    }\n",
       "\n",
       "    .dataframe tbody tr th {\n",
       "        vertical-align: top;\n",
       "    }\n",
       "\n",
       "    .dataframe thead th {\n",
       "        text-align: right;\n",
       "    }\n",
       "</style>\n",
       "<table border=\"1\" class=\"dataframe\">\n",
       "  <thead>\n",
       "    <tr style=\"text-align: right;\">\n",
       "      <th></th>\n",
       "      <th>debt</th>\n",
       "    </tr>\n",
       "    <tr>\n",
       "      <th>children</th>\n",
       "      <th></th>\n",
       "    </tr>\n",
       "  </thead>\n",
       "  <tbody>\n",
       "    <tr>\n",
       "      <td>4</td>\n",
       "      <td>0.098</td>\n",
       "    </tr>\n",
       "    <tr>\n",
       "      <td>2</td>\n",
       "      <td>0.094</td>\n",
       "    </tr>\n",
       "    <tr>\n",
       "      <td>1</td>\n",
       "      <td>0.092</td>\n",
       "    </tr>\n",
       "    <tr>\n",
       "      <td>3</td>\n",
       "      <td>0.082</td>\n",
       "    </tr>\n",
       "    <tr>\n",
       "      <td>0</td>\n",
       "      <td>0.075</td>\n",
       "    </tr>\n",
       "    <tr>\n",
       "      <td>5</td>\n",
       "      <td>0.000</td>\n",
       "    </tr>\n",
       "  </tbody>\n",
       "</table>\n",
       "</div>"
      ],
      "text/plain": [
       "           debt\n",
       "children       \n",
       "4         0.098\n",
       "2         0.094\n",
       "1         0.092\n",
       "3         0.082\n",
       "0         0.075\n",
       "5         0.000"
      ]
     },
     "execution_count": 47,
     "metadata": {},
     "output_type": "execute_result"
    }
   ],
   "source": [
    "'''воспользуемся методами pivot_table, sort_values и round()\n",
    "   pivot_table - метод для создания сводной таблицы \n",
    "   sort_values - сортировка по убыванию значения в колонке debt\n",
    "   round() - оставим 3 знака после после \"запятой\" для значений.\n",
    "''' \n",
    "df.pivot_table(index = ['children'], values = 'debt' ).sort_values(by  = 'debt', ascending=False).round(3)"
   ]
  },
  {
   "cell_type": "markdown",
   "metadata": {},
   "source": [
    "**Вывод**"
   ]
  },
  {
   "cell_type": "markdown",
   "metadata": {},
   "source": [
    "Можно сказать что клиенты у которых нет детей имеют в среднем на 1.5% меньше задолжности относительно клиентов с детьми. Больше всего доля должников среди людей у которых 4 ребенка. Так как количество клиентов с пятью детьми слишком мало их можно не учитывать. \n"
   ]
  },
  {
   "cell_type": "markdown",
   "metadata": {},
   "source": [
    "- Есть ли зависимость между семейным положением и возвратом кредита в срок?"
   ]
  },
  {
   "cell_type": "code",
   "execution_count": 48,
   "metadata": {},
   "outputs": [
    {
     "data": {
      "text/html": [
       "<div>\n",
       "<style scoped>\n",
       "    .dataframe tbody tr th:only-of-type {\n",
       "        vertical-align: middle;\n",
       "    }\n",
       "\n",
       "    .dataframe tbody tr th {\n",
       "        vertical-align: top;\n",
       "    }\n",
       "\n",
       "    .dataframe thead th {\n",
       "        text-align: right;\n",
       "    }\n",
       "</style>\n",
       "<table border=\"1\" class=\"dataframe\">\n",
       "  <thead>\n",
       "    <tr style=\"text-align: right;\">\n",
       "      <th></th>\n",
       "      <th>debt</th>\n",
       "    </tr>\n",
       "    <tr>\n",
       "      <th>family_status</th>\n",
       "      <th></th>\n",
       "    </tr>\n",
       "  </thead>\n",
       "  <tbody>\n",
       "    <tr>\n",
       "      <td>Не женат / не замужем</td>\n",
       "      <td>0.098</td>\n",
       "    </tr>\n",
       "    <tr>\n",
       "      <td>гражданский брак</td>\n",
       "      <td>0.093</td>\n",
       "    </tr>\n",
       "    <tr>\n",
       "      <td>женат / замужем</td>\n",
       "      <td>0.075</td>\n",
       "    </tr>\n",
       "    <tr>\n",
       "      <td>в разводе</td>\n",
       "      <td>0.071</td>\n",
       "    </tr>\n",
       "    <tr>\n",
       "      <td>вдовец / вдова</td>\n",
       "      <td>0.066</td>\n",
       "    </tr>\n",
       "  </tbody>\n",
       "</table>\n",
       "</div>"
      ],
      "text/plain": [
       "                        debt\n",
       "family_status               \n",
       "Не женат / не замужем  0.098\n",
       "гражданский брак       0.093\n",
       "женат / замужем        0.075\n",
       "в разводе              0.071\n",
       "вдовец / вдова         0.066"
      ]
     },
     "execution_count": 48,
     "metadata": {},
     "output_type": "execute_result"
    }
   ],
   "source": [
    "'''воспользуемся методами pivot_table, sort_values и round()\n",
    "   pivot_table - метод для создания сводной таблицы \n",
    "   sort_values - сортировка по убыванию значения в колонке debt\n",
    "   round() - оставим 3 знака после после \"запятой\" для значений.\n",
    "''' \n",
    "df.pivot_table(index = ['family_status'], values = 'debt' ).sort_values(by  = 'debt', ascending=False).round(3)"
   ]
  },
  {
   "cell_type": "markdown",
   "metadata": {},
   "source": [
    "**Вывод**"
   ]
  },
  {
   "cell_type": "markdown",
   "metadata": {},
   "source": [
    "Меньший процент задолжности имеют клиенты в статусе семейного положения вдовец / вдова - 6.5\n",
    "Максимальный процент задолжности имеют клиенты которые не были женаты или за мужем - 9.74"
   ]
  },
  {
   "cell_type": "markdown",
   "metadata": {},
   "source": [
    "- Есть ли зависимость между уровнем дохода и возвратом кредита в срок?"
   ]
  },
  {
   "cell_type": "code",
   "execution_count": 49,
   "metadata": {},
   "outputs": [
    {
     "data": {
      "text/html": [
       "<div>\n",
       "<style scoped>\n",
       "    .dataframe tbody tr th:only-of-type {\n",
       "        vertical-align: middle;\n",
       "    }\n",
       "\n",
       "    .dataframe tbody tr th {\n",
       "        vertical-align: top;\n",
       "    }\n",
       "\n",
       "    .dataframe thead th {\n",
       "        text-align: right;\n",
       "    }\n",
       "</style>\n",
       "<table border=\"1\" class=\"dataframe\">\n",
       "  <thead>\n",
       "    <tr style=\"text-align: right;\">\n",
       "      <th></th>\n",
       "      <th>debt</th>\n",
       "    </tr>\n",
       "    <tr>\n",
       "      <th>income_group</th>\n",
       "      <th></th>\n",
       "    </tr>\n",
       "  </thead>\n",
       "  <tbody>\n",
       "    <tr>\n",
       "      <td>средний класс</td>\n",
       "      <td>0.086</td>\n",
       "    </tr>\n",
       "    <tr>\n",
       "      <td>низший класс</td>\n",
       "      <td>0.079</td>\n",
       "    </tr>\n",
       "    <tr>\n",
       "      <td>высший класс</td>\n",
       "      <td>0.071</td>\n",
       "    </tr>\n",
       "  </tbody>\n",
       "</table>\n",
       "</div>"
      ],
      "text/plain": [
       "                debt\n",
       "income_group        \n",
       "средний класс  0.086\n",
       "низший класс   0.079\n",
       "высший класс   0.071"
      ]
     },
     "execution_count": 49,
     "metadata": {},
     "output_type": "execute_result"
    }
   ],
   "source": [
    "df.pivot_table(index = ['income_group'], values = 'debt' ).sort_values(by  = 'debt', ascending=False).round(3)"
   ]
  },
  {
   "cell_type": "markdown",
   "metadata": {},
   "source": [
    "**Вывод**"
   ]
  },
  {
   "cell_type": "markdown",
   "metadata": {},
   "source": [
    "Наименьший процент задолжности имеют клиенты котрые относятся к группе \"высший класс\" - 7.1, а\n",
    "максимальный клиенты котрые относятся к группе \"средний класс\" - 8.7"
   ]
  },
  {
   "cell_type": "markdown",
   "metadata": {},
   "source": [
    "- Как разные цели кредита влияют на его возврат в срок?"
   ]
  },
  {
   "cell_type": "code",
   "execution_count": 50,
   "metadata": {},
   "outputs": [
    {
     "data": {
      "text/html": [
       "<div>\n",
       "<style scoped>\n",
       "    .dataframe tbody tr th:only-of-type {\n",
       "        vertical-align: middle;\n",
       "    }\n",
       "\n",
       "    .dataframe tbody tr th {\n",
       "        vertical-align: top;\n",
       "    }\n",
       "\n",
       "    .dataframe thead th {\n",
       "        text-align: right;\n",
       "    }\n",
       "</style>\n",
       "<table border=\"1\" class=\"dataframe\">\n",
       "  <thead>\n",
       "    <tr style=\"text-align: right;\">\n",
       "      <th></th>\n",
       "      <th>debt</th>\n",
       "    </tr>\n",
       "    <tr>\n",
       "      <th>purpose_lemma</th>\n",
       "      <th></th>\n",
       "    </tr>\n",
       "  </thead>\n",
       "  <tbody>\n",
       "    <tr>\n",
       "      <td>автомобиль</td>\n",
       "      <td>0.093</td>\n",
       "    </tr>\n",
       "    <tr>\n",
       "      <td>образование</td>\n",
       "      <td>0.092</td>\n",
       "    </tr>\n",
       "    <tr>\n",
       "      <td>свадьба</td>\n",
       "      <td>0.078</td>\n",
       "    </tr>\n",
       "    <tr>\n",
       "      <td>недвижимость</td>\n",
       "      <td>0.072</td>\n",
       "    </tr>\n",
       "  </tbody>\n",
       "</table>\n",
       "</div>"
      ],
      "text/plain": [
       "                debt\n",
       "purpose_lemma       \n",
       "автомобиль     0.093\n",
       "образование    0.092\n",
       "свадьба        0.078\n",
       "недвижимость   0.072"
      ]
     },
     "execution_count": 50,
     "metadata": {},
     "output_type": "execute_result"
    }
   ],
   "source": [
    "df.pivot_table(index = ['purpose_lemma'], values = 'debt').sort_values(by  = 'debt', ascending=False).round(3)"
   ]
  },
  {
   "cell_type": "markdown",
   "metadata": {},
   "source": [
    "**Вывод**"
   ]
  },
  {
   "cell_type": "markdown",
   "metadata": {},
   "source": [
    "Минимальный процент задолжности по кредиту имеют клиенты которые брали его на решение жилищного вопроса и проведение свадьбы - 7.2 и 7.9 соответственно.\n",
    "Клиенты которые брали кредит на автомобиль имеют максимальный процент задолжности - 9.3\n"
   ]
  },
  {
   "cell_type": "markdown",
   "metadata": {},
   "source": [
    "## Шаг 4. Общий вывод"
   ]
  },
  {
   "cell_type": "markdown",
   "metadata": {},
   "source": [
    "В результате прдобработки данных можно сделать следующие выводы:\n",
    " * в колонке `days_employed` и `total_income` были обнаружены пропуски значений в одних и тех же строках. Пропуски не зависили от значений в других колонках и скорее всего связаны\n",
    " * заполнили колонки с пропусками значениями медианы от группировки по колонки `income_type`\n",
    " * в колонке `children` встречаются некорректные значения -1 и 20 \n",
    " * в колонке `dob_years`  присутствует значение некорректное значение - 0. Количество таких строк - 101\n",
    " * В колонке `education`  перевели все значения в нижний регистр.\n",
    " * В колонке `gender` пристуствовало значение XNA котторое было заменено на значение M\n",
    " * Лемматиировали колонку `purpose` для дальнейшей категоризации по целям кредита\n",
    " * Произвели категоризацию по целям кредита и ежемесячному доходу использую для этого функции.\n",
    "\n",
    "После проведения всех шагов по предобработки данных были получены слудущие ответы на поставленные вопросы:\n",
    " * Клинты у которых нет детей имеют меньший процент задолжности относитеьно клиентов с детьми. Так как выборка из пяти детей слишком маленькая делать на основании нее выводы некорректно.\n",
    " * Максимальный процент задолжности имеют клиенты которые не были женаты или за мужем - 9.8. Меньший процент задолжности имеют клиенты в статусе семейного положения вдовец / вдова - 6.6\n",
    " * Наименьший процент задолжности имеют клиенты котрые относятся к группе \"высший класс\" - 7.1, а максимальный клиенты ,относящиеся к группе \"средний класс\" - 8.6.\n",
    " * Минимальный процент задолжности по кредиту имеют клиенты которые брали его на решение жилищного вопроса и проведение свадьбы - 7.2 и 7.8 соответственно. Клиенты которые брали кредит на автомобиль имеют максимальный процент задолжности - 9.3\n",
    " "
   ]
  }
 ],
 "metadata": {
  "ExecuteTimeLog": [
   {
    "duration": 823,
    "start_time": "2022-01-09T11:36:23.545Z"
   },
   {
    "duration": 271,
    "start_time": "2022-01-09T11:40:16.342Z"
   },
   {
    "duration": 361,
    "start_time": "2022-01-09T11:40:41.409Z"
   },
   {
    "duration": 283,
    "start_time": "2022-01-09T11:42:18.695Z"
   },
   {
    "duration": 15,
    "start_time": "2022-01-09T11:45:45.673Z"
   },
   {
    "duration": 250,
    "start_time": "2022-01-09T11:45:48.936Z"
   },
   {
    "duration": 257,
    "start_time": "2022-01-09T11:45:57.087Z"
   },
   {
    "duration": 435,
    "start_time": "2022-01-09T14:21:31.500Z"
   },
   {
    "duration": 7,
    "start_time": "2022-01-09T14:21:40.043Z"
   },
   {
    "duration": 7,
    "start_time": "2022-01-09T14:25:48.222Z"
   },
   {
    "duration": 668,
    "start_time": "2022-01-09T14:34:47.238Z"
   },
   {
    "duration": 6,
    "start_time": "2022-01-09T14:34:51.332Z"
   },
   {
    "duration": 7,
    "start_time": "2022-01-09T14:35:24.007Z"
   },
   {
    "duration": 22,
    "start_time": "2022-01-09T14:42:46.974Z"
   },
   {
    "duration": 21,
    "start_time": "2022-01-09T14:42:56.285Z"
   },
   {
    "duration": 20,
    "start_time": "2022-01-09T14:43:34.359Z"
   },
   {
    "duration": 20,
    "start_time": "2022-01-09T14:46:10.983Z"
   },
   {
    "duration": 300,
    "start_time": "2022-01-09T18:18:55.685Z"
   },
   {
    "duration": 7,
    "start_time": "2022-01-09T18:19:02.787Z"
   },
   {
    "duration": 7,
    "start_time": "2022-01-09T18:19:05.997Z"
   },
   {
    "duration": 7,
    "start_time": "2022-01-09T18:19:36.935Z"
   },
   {
    "duration": 7,
    "start_time": "2022-01-09T18:19:37.733Z"
   },
   {
    "duration": 8,
    "start_time": "2022-01-09T18:24:01.720Z"
   },
   {
    "duration": 7,
    "start_time": "2022-01-09T18:24:02.255Z"
   },
   {
    "duration": 285,
    "start_time": "2022-01-09T18:24:02.877Z"
   },
   {
    "duration": 280,
    "start_time": "2022-01-09T18:24:27.245Z"
   },
   {
    "duration": 70,
    "start_time": "2022-01-09T18:24:51.270Z"
   },
   {
    "duration": 57,
    "start_time": "2022-01-09T18:24:53.952Z"
   },
   {
    "duration": 58,
    "start_time": "2022-01-09T18:24:55.317Z"
   },
   {
    "duration": 15,
    "start_time": "2022-01-09T18:25:06.662Z"
   },
   {
    "duration": 6,
    "start_time": "2022-01-09T18:48:23.688Z"
   },
   {
    "duration": 7,
    "start_time": "2022-01-09T18:48:24.097Z"
   },
   {
    "duration": 15,
    "start_time": "2022-01-09T18:48:41.433Z"
   },
   {
    "duration": 1026,
    "start_time": "2022-01-11T03:56:05.515Z"
   },
   {
    "duration": 16,
    "start_time": "2022-01-11T03:56:08.500Z"
   },
   {
    "duration": 7,
    "start_time": "2022-01-11T03:56:08.979Z"
   },
   {
    "duration": 5,
    "start_time": "2022-01-11T03:56:09.316Z"
   },
   {
    "duration": 21,
    "start_time": "2022-01-11T03:56:10.202Z"
   },
   {
    "duration": 19,
    "start_time": "2022-01-11T03:56:10.402Z"
   },
   {
    "duration": 10,
    "start_time": "2022-01-11T03:56:10.578Z"
   },
   {
    "duration": 8,
    "start_time": "2022-01-11T03:56:10.754Z"
   },
   {
    "duration": 64,
    "start_time": "2022-01-11T03:56:10.914Z"
   },
   {
    "duration": 60,
    "start_time": "2022-01-11T03:56:11.076Z"
   },
   {
    "duration": 17,
    "start_time": "2022-01-11T03:56:11.226Z"
   },
   {
    "duration": 6,
    "start_time": "2022-01-11T03:56:11.938Z"
   },
   {
    "duration": 6,
    "start_time": "2022-01-11T03:56:12.161Z"
   },
   {
    "duration": 17,
    "start_time": "2022-01-11T03:56:12.412Z"
   },
   {
    "duration": 27,
    "start_time": "2022-01-11T06:34:48.631Z"
   },
   {
    "duration": 5,
    "start_time": "2022-01-11T06:44:41.404Z"
   },
   {
    "duration": 6,
    "start_time": "2022-01-11T06:44:43.169Z"
   },
   {
    "duration": 14,
    "start_time": "2022-01-11T06:46:17.177Z"
   },
   {
    "duration": 17,
    "start_time": "2022-01-11T06:56:46.174Z"
   },
   {
    "duration": 7,
    "start_time": "2022-01-11T06:57:12.589Z"
   },
   {
    "duration": 11,
    "start_time": "2022-01-11T06:57:13.577Z"
   },
   {
    "duration": 56,
    "start_time": "2022-01-11T06:57:17.629Z"
   },
   {
    "duration": 8,
    "start_time": "2022-01-11T06:57:21.647Z"
   },
   {
    "duration": 8,
    "start_time": "2022-01-11T06:57:22.884Z"
   },
   {
    "duration": 435,
    "start_time": "2022-01-11T06:57:28.946Z"
   },
   {
    "duration": 10,
    "start_time": "2022-01-11T06:57:39.576Z"
   },
   {
    "duration": 8,
    "start_time": "2022-01-11T06:57:45.338Z"
   },
   {
    "duration": 7,
    "start_time": "2022-01-11T06:57:46.352Z"
   },
   {
    "duration": 6,
    "start_time": "2022-01-11T06:57:55.759Z"
   },
   {
    "duration": 272,
    "start_time": "2022-01-11T06:58:06.531Z"
   },
   {
    "duration": 17,
    "start_time": "2022-01-11T06:58:30.179Z"
   },
   {
    "duration": 20,
    "start_time": "2022-01-11T06:58:31.599Z"
   },
   {
    "duration": 10,
    "start_time": "2022-01-11T07:00:49.733Z"
   },
   {
    "duration": 7,
    "start_time": "2022-01-11T07:00:50.821Z"
   },
   {
    "duration": 16,
    "start_time": "2022-01-11T07:00:54.929Z"
   },
   {
    "duration": 11,
    "start_time": "2022-01-11T07:00:55.829Z"
   },
   {
    "duration": 18,
    "start_time": "2022-01-11T07:00:56.424Z"
   },
   {
    "duration": 6,
    "start_time": "2022-01-11T07:00:59.909Z"
   },
   {
    "duration": 11,
    "start_time": "2022-01-11T07:01:00.494Z"
   },
   {
    "duration": 25,
    "start_time": "2022-01-11T07:01:19.759Z"
   },
   {
    "duration": 9,
    "start_time": "2022-01-11T07:28:33.139Z"
   },
   {
    "duration": 8,
    "start_time": "2022-01-11T07:28:34.369Z"
   },
   {
    "duration": 13,
    "start_time": "2022-01-11T07:29:16.624Z"
   },
   {
    "duration": 13,
    "start_time": "2022-01-11T07:29:26.677Z"
   },
   {
    "duration": 315,
    "start_time": "2022-01-11T07:29:31.847Z"
   },
   {
    "duration": 15,
    "start_time": "2022-01-11T07:29:38.322Z"
   },
   {
    "duration": 6,
    "start_time": "2022-01-11T07:29:45.072Z"
   },
   {
    "duration": 6,
    "start_time": "2022-01-11T07:29:45.662Z"
   },
   {
    "duration": 19,
    "start_time": "2022-01-11T07:29:53.200Z"
   },
   {
    "duration": 20,
    "start_time": "2022-01-11T07:30:02.340Z"
   },
   {
    "duration": 22,
    "start_time": "2022-01-11T07:30:54.427Z"
   },
   {
    "duration": 6,
    "start_time": "2022-01-11T08:52:32.477Z"
   },
   {
    "duration": 39,
    "start_time": "2022-01-11T08:57:36.541Z"
   },
   {
    "duration": 19,
    "start_time": "2022-01-11T08:58:19.876Z"
   },
   {
    "duration": 11,
    "start_time": "2022-01-11T09:39:21.737Z"
   },
   {
    "duration": 22,
    "start_time": "2022-01-11T09:39:58.117Z"
   },
   {
    "duration": 24,
    "start_time": "2022-01-11T10:06:54.272Z"
   },
   {
    "duration": 23,
    "start_time": "2022-01-11T10:07:04.279Z"
   },
   {
    "duration": 11,
    "start_time": "2022-01-11T10:07:55.772Z"
   },
   {
    "duration": 11,
    "start_time": "2022-01-11T10:08:19.556Z"
   },
   {
    "duration": 16,
    "start_time": "2022-01-11T10:08:33.784Z"
   },
   {
    "duration": 31,
    "start_time": "2022-01-11T10:13:31.190Z"
   },
   {
    "duration": 10,
    "start_time": "2022-01-11T10:26:43.527Z"
   },
   {
    "duration": 18,
    "start_time": "2022-01-11T10:30:41.377Z"
   },
   {
    "duration": 16,
    "start_time": "2022-01-11T10:30:44.114Z"
   },
   {
    "duration": 12,
    "start_time": "2022-01-11T10:30:44.712Z"
   },
   {
    "duration": 11,
    "start_time": "2022-01-11T10:34:54.049Z"
   },
   {
    "duration": 11,
    "start_time": "2022-01-11T10:35:31.314Z"
   },
   {
    "duration": 16,
    "start_time": "2022-01-11T10:37:33.479Z"
   },
   {
    "duration": 13,
    "start_time": "2022-01-11T10:41:16.623Z"
   },
   {
    "duration": 15,
    "start_time": "2022-01-11T10:41:36.389Z"
   },
   {
    "duration": 7,
    "start_time": "2022-01-11T12:18:24.788Z"
   },
   {
    "duration": 8,
    "start_time": "2022-01-11T12:22:39.341Z"
   },
   {
    "duration": 8,
    "start_time": "2022-01-11T12:23:20.889Z"
   },
   {
    "duration": 91,
    "start_time": "2022-01-11T12:25:32.784Z"
   },
   {
    "duration": 298,
    "start_time": "2022-01-11T12:25:40.906Z"
   },
   {
    "duration": 5,
    "start_time": "2022-01-11T12:29:04.887Z"
   },
   {
    "duration": 6,
    "start_time": "2022-01-11T12:29:12.509Z"
   },
   {
    "duration": 9,
    "start_time": "2022-01-11T12:29:38.849Z"
   },
   {
    "duration": 276,
    "start_time": "2022-01-11T12:37:24.505Z"
   },
   {
    "duration": 424,
    "start_time": "2022-01-11T12:37:30.696Z"
   },
   {
    "duration": 8,
    "start_time": "2022-01-11T12:37:46.266Z"
   },
   {
    "duration": 93,
    "start_time": "2022-01-11T12:51:13.915Z"
   },
   {
    "duration": 8,
    "start_time": "2022-01-11T12:51:17.126Z"
   },
   {
    "duration": 6,
    "start_time": "2022-01-11T12:51:36.114Z"
   },
   {
    "duration": 4,
    "start_time": "2022-01-11T12:51:41.522Z"
   },
   {
    "duration": 6,
    "start_time": "2022-01-11T12:51:48.328Z"
   },
   {
    "duration": 7,
    "start_time": "2022-01-11T12:52:14.074Z"
   },
   {
    "duration": 10,
    "start_time": "2022-01-11T12:52:25.678Z"
   },
   {
    "duration": 288,
    "start_time": "2022-01-11T13:01:07.111Z"
   },
   {
    "duration": 18,
    "start_time": "2022-01-11T13:01:31.391Z"
   },
   {
    "duration": 12,
    "start_time": "2022-01-11T13:03:50.491Z"
   },
   {
    "duration": 12,
    "start_time": "2022-01-11T13:04:05.582Z"
   },
   {
    "duration": 12,
    "start_time": "2022-01-11T13:04:34.068Z"
   },
   {
    "duration": 13,
    "start_time": "2022-01-11T13:05:11.094Z"
   },
   {
    "duration": 13,
    "start_time": "2022-01-11T13:06:45.801Z"
   },
   {
    "duration": 95,
    "start_time": "2022-01-11T13:07:48.036Z"
   },
   {
    "duration": 279,
    "start_time": "2022-01-11T13:07:52.701Z"
   },
   {
    "duration": 268,
    "start_time": "2022-01-11T13:08:20.595Z"
   },
   {
    "duration": 318,
    "start_time": "2022-01-11T13:08:31.191Z"
   },
   {
    "duration": 12,
    "start_time": "2022-01-11T13:08:35.981Z"
   },
   {
    "duration": 303,
    "start_time": "2022-01-11T13:09:24.799Z"
   },
   {
    "duration": 12,
    "start_time": "2022-01-11T13:09:34.452Z"
   },
   {
    "duration": 20,
    "start_time": "2022-01-11T13:13:16.387Z"
   },
   {
    "duration": 14,
    "start_time": "2022-01-11T13:13:50.557Z"
   },
   {
    "duration": 13,
    "start_time": "2022-01-11T13:14:33.917Z"
   },
   {
    "duration": 15,
    "start_time": "2022-01-11T13:15:09.051Z"
   },
   {
    "duration": 5311,
    "start_time": "2022-01-11T14:07:43.141Z"
   },
   {
    "duration": 5495,
    "start_time": "2022-01-11T14:08:26.876Z"
   },
   {
    "duration": 6370,
    "start_time": "2022-01-11T14:08:55.067Z"
   },
   {
    "duration": 466,
    "start_time": "2022-01-11T14:09:18.242Z"
   },
   {
    "duration": 8,
    "start_time": "2022-01-11T14:09:32.570Z"
   },
   {
    "duration": 6,
    "start_time": "2022-01-11T14:09:40.492Z"
   },
   {
    "duration": 8,
    "start_time": "2022-01-11T14:09:56.716Z"
   },
   {
    "duration": 7,
    "start_time": "2022-01-11T14:10:26.860Z"
   },
   {
    "duration": 311,
    "start_time": "2022-01-11T19:07:39.363Z"
   },
   {
    "duration": 261,
    "start_time": "2022-01-11T19:07:43.973Z"
   },
   {
    "duration": 296,
    "start_time": "2022-01-11T19:07:52.513Z"
   },
   {
    "duration": 989,
    "start_time": "2022-01-11T19:09:44.274Z"
   },
   {
    "duration": 16,
    "start_time": "2022-01-11T19:09:45.977Z"
   },
   {
    "duration": 4,
    "start_time": "2022-01-11T19:09:47.202Z"
   },
   {
    "duration": 5,
    "start_time": "2022-01-11T19:09:47.488Z"
   },
   {
    "duration": 13,
    "start_time": "2022-01-11T19:09:48.361Z"
   },
   {
    "duration": 12,
    "start_time": "2022-01-11T19:09:48.520Z"
   },
   {
    "duration": 6,
    "start_time": "2022-01-11T19:09:48.839Z"
   },
   {
    "duration": 5,
    "start_time": "2022-01-11T19:09:48.984Z"
   },
   {
    "duration": 38,
    "start_time": "2022-01-11T19:09:49.143Z"
   },
   {
    "duration": 40,
    "start_time": "2022-01-11T19:09:49.784Z"
   },
   {
    "duration": 10,
    "start_time": "2022-01-11T19:09:50.176Z"
   },
   {
    "duration": 5,
    "start_time": "2022-01-11T19:09:51.343Z"
   },
   {
    "duration": 4,
    "start_time": "2022-01-11T19:09:51.567Z"
   },
   {
    "duration": 15,
    "start_time": "2022-01-11T19:09:51.784Z"
   },
   {
    "duration": 15,
    "start_time": "2022-01-11T19:09:52.010Z"
   },
   {
    "duration": 7,
    "start_time": "2022-01-11T19:09:53.063Z"
   },
   {
    "duration": 27,
    "start_time": "2022-01-11T19:09:53.432Z"
   },
   {
    "duration": 14,
    "start_time": "2022-01-11T19:09:53.936Z"
   },
   {
    "duration": 6,
    "start_time": "2022-01-11T19:09:54.280Z"
   },
   {
    "duration": 8,
    "start_time": "2022-01-11T19:09:54.472Z"
   },
   {
    "duration": 14,
    "start_time": "2022-01-11T19:09:54.736Z"
   },
   {
    "duration": 8,
    "start_time": "2022-01-11T19:09:55.240Z"
   },
   {
    "duration": 11,
    "start_time": "2022-01-11T19:09:55.607Z"
   },
   {
    "duration": 8,
    "start_time": "2022-01-11T19:09:55.799Z"
   },
   {
    "duration": 5,
    "start_time": "2022-01-11T19:09:56.000Z"
   },
   {
    "duration": 13,
    "start_time": "2022-01-11T19:09:58.969Z"
   },
   {
    "duration": 7,
    "start_time": "2022-01-11T19:09:59.321Z"
   },
   {
    "duration": 5,
    "start_time": "2022-01-11T19:10:00.584Z"
   },
   {
    "duration": 12,
    "start_time": "2022-01-11T19:10:01.408Z"
   },
   {
    "duration": 9,
    "start_time": "2022-01-11T19:10:01.600Z"
   },
   {
    "duration": 9,
    "start_time": "2022-01-11T19:10:03.633Z"
   },
   {
    "duration": 12,
    "start_time": "2022-01-11T19:10:14.665Z"
   },
   {
    "duration": 270,
    "start_time": "2022-01-11T19:14:24.888Z"
   },
   {
    "duration": 4,
    "start_time": "2022-01-11T19:14:30.966Z"
   },
   {
    "duration": 758,
    "start_time": "2022-01-12T18:34:21.488Z"
   },
   {
    "duration": 12,
    "start_time": "2022-01-12T18:34:34.052Z"
   },
   {
    "duration": 5,
    "start_time": "2022-01-12T18:34:35.532Z"
   },
   {
    "duration": 4,
    "start_time": "2022-01-12T18:34:36.210Z"
   },
   {
    "duration": 12,
    "start_time": "2022-01-12T18:34:54.235Z"
   },
   {
    "duration": 13,
    "start_time": "2022-01-12T18:34:54.419Z"
   },
   {
    "duration": 6,
    "start_time": "2022-01-12T18:34:54.738Z"
   },
   {
    "duration": 5,
    "start_time": "2022-01-12T18:34:54.907Z"
   },
   {
    "duration": 39,
    "start_time": "2022-01-12T18:34:55.074Z"
   },
   {
    "duration": 37,
    "start_time": "2022-01-12T18:34:55.236Z"
   },
   {
    "duration": 11,
    "start_time": "2022-01-12T18:34:55.386Z"
   },
   {
    "duration": 4,
    "start_time": "2022-01-12T18:34:56.179Z"
   },
   {
    "duration": 4,
    "start_time": "2022-01-12T18:34:56.330Z"
   },
   {
    "duration": 12,
    "start_time": "2022-01-12T18:34:56.492Z"
   },
   {
    "duration": 10,
    "start_time": "2022-01-12T18:34:56.652Z"
   },
   {
    "duration": 6,
    "start_time": "2022-01-12T18:34:57.481Z"
   },
   {
    "duration": 20,
    "start_time": "2022-01-12T18:34:57.834Z"
   },
   {
    "duration": 13,
    "start_time": "2022-01-12T18:34:58.002Z"
   },
   {
    "duration": 5,
    "start_time": "2022-01-12T18:34:58.371Z"
   },
   {
    "duration": 5,
    "start_time": "2022-01-12T18:34:58.555Z"
   },
   {
    "duration": 11,
    "start_time": "2022-01-12T18:34:58.747Z"
   },
   {
    "duration": 7,
    "start_time": "2022-01-12T18:34:59.483Z"
   },
   {
    "duration": 12,
    "start_time": "2022-01-12T18:35:00.435Z"
   },
   {
    "duration": 8,
    "start_time": "2022-01-12T18:35:00.650Z"
   },
   {
    "duration": 5,
    "start_time": "2022-01-12T18:35:00.843Z"
   },
   {
    "duration": 13,
    "start_time": "2022-01-12T18:35:01.075Z"
   },
   {
    "duration": 7,
    "start_time": "2022-01-12T18:35:01.322Z"
   },
   {
    "duration": 5,
    "start_time": "2022-01-12T18:35:01.586Z"
   },
   {
    "duration": 11,
    "start_time": "2022-01-12T18:35:01.827Z"
   },
   {
    "duration": 8,
    "start_time": "2022-01-12T18:35:02.026Z"
   },
   {
    "duration": 11,
    "start_time": "2022-01-12T18:35:02.419Z"
   },
   {
    "duration": 4,
    "start_time": "2022-01-12T18:35:02.643Z"
   },
   {
    "duration": 5,
    "start_time": "2022-01-12T18:35:03.069Z"
   },
   {
    "duration": 8,
    "start_time": "2022-01-12T18:35:03.242Z"
   },
   {
    "duration": 17,
    "start_time": "2022-01-12T18:35:03.747Z"
   },
   {
    "duration": 650,
    "start_time": "2022-01-12T18:35:06.067Z"
   },
   {
    "duration": 11,
    "start_time": "2022-01-12T18:35:19.187Z"
   },
   {
    "duration": 17,
    "start_time": "2022-01-12T18:35:22.379Z"
   },
   {
    "duration": 21,
    "start_time": "2022-01-12T18:35:32.581Z"
   },
   {
    "duration": 22,
    "start_time": "2022-01-12T18:44:02.732Z"
   },
   {
    "duration": 65,
    "start_time": "2022-01-12T18:44:16.543Z"
   },
   {
    "duration": 20,
    "start_time": "2022-01-12T18:44:43.268Z"
   },
   {
    "duration": 12,
    "start_time": "2022-01-12T18:45:02.014Z"
   },
   {
    "duration": 19,
    "start_time": "2022-01-12T18:45:08.910Z"
   },
   {
    "duration": 16,
    "start_time": "2022-01-12T18:45:44.436Z"
   },
   {
    "duration": 16,
    "start_time": "2022-01-12T18:45:49.597Z"
   },
   {
    "duration": 8,
    "start_time": "2022-01-12T18:46:28.452Z"
   },
   {
    "duration": 7,
    "start_time": "2022-01-12T18:46:51.893Z"
   },
   {
    "duration": 12,
    "start_time": "2022-01-12T18:52:57.740Z"
   },
   {
    "duration": 7,
    "start_time": "2022-01-12T18:55:27.559Z"
   },
   {
    "duration": 5,
    "start_time": "2022-01-12T18:55:33.550Z"
   },
   {
    "duration": 232,
    "start_time": "2022-01-12T19:02:45.695Z"
   },
   {
    "duration": 3569,
    "start_time": "2022-01-12T19:03:20.334Z"
   },
   {
    "duration": 3284,
    "start_time": "2022-01-12T19:03:38.243Z"
   },
   {
    "duration": 185,
    "start_time": "2022-01-12T19:04:36.225Z"
   },
   {
    "duration": 176,
    "start_time": "2022-01-12T19:04:48.305Z"
   },
   {
    "duration": 211,
    "start_time": "2022-01-12T19:04:55.657Z"
   },
   {
    "duration": 13,
    "start_time": "2022-01-12T19:05:32.897Z"
   },
   {
    "duration": 21,
    "start_time": "2022-01-12T19:05:46.577Z"
   },
   {
    "duration": 35,
    "start_time": "2022-01-12T19:06:11.200Z"
   },
   {
    "duration": 8,
    "start_time": "2022-01-12T19:06:29.057Z"
   },
   {
    "duration": 8,
    "start_time": "2022-01-12T19:06:48.428Z"
   },
   {
    "duration": 7,
    "start_time": "2022-01-12T19:07:04.554Z"
   },
   {
    "duration": 7,
    "start_time": "2022-01-12T19:07:31.530Z"
   },
   {
    "duration": 7,
    "start_time": "2022-01-12T19:07:47.490Z"
   },
   {
    "duration": 6,
    "start_time": "2022-01-12T19:08:00.778Z"
   },
   {
    "duration": 11,
    "start_time": "2022-01-12T19:17:05.355Z"
   },
   {
    "duration": 14,
    "start_time": "2022-01-12T19:22:12.624Z"
   },
   {
    "duration": 12,
    "start_time": "2022-01-12T19:22:15.041Z"
   },
   {
    "duration": 7,
    "start_time": "2022-01-12T19:22:15.675Z"
   },
   {
    "duration": 14,
    "start_time": "2022-01-12T19:23:06.395Z"
   },
   {
    "duration": 13,
    "start_time": "2022-01-12T19:23:06.906Z"
   },
   {
    "duration": 8,
    "start_time": "2022-01-12T19:23:07.508Z"
   },
   {
    "duration": 12,
    "start_time": "2022-01-12T19:23:21.690Z"
   },
   {
    "duration": 13,
    "start_time": "2022-01-12T19:23:22.131Z"
   },
   {
    "duration": 184,
    "start_time": "2022-01-12T19:23:39.723Z"
   },
   {
    "duration": 12,
    "start_time": "2022-01-12T19:23:40.042Z"
   },
   {
    "duration": 5,
    "start_time": "2022-01-12T19:23:40.193Z"
   },
   {
    "duration": 5,
    "start_time": "2022-01-12T19:23:40.345Z"
   },
   {
    "duration": 14,
    "start_time": "2022-01-12T19:23:41.129Z"
   },
   {
    "duration": 13,
    "start_time": "2022-01-12T19:23:41.289Z"
   },
   {
    "duration": 5,
    "start_time": "2022-01-12T19:23:41.569Z"
   },
   {
    "duration": 5,
    "start_time": "2022-01-12T19:23:41.723Z"
   },
   {
    "duration": 38,
    "start_time": "2022-01-12T19:23:41.873Z"
   },
   {
    "duration": 36,
    "start_time": "2022-01-12T19:23:42.020Z"
   },
   {
    "duration": 12,
    "start_time": "2022-01-12T19:23:42.152Z"
   },
   {
    "duration": 4,
    "start_time": "2022-01-12T19:23:42.905Z"
   },
   {
    "duration": 4,
    "start_time": "2022-01-12T19:23:43.060Z"
   },
   {
    "duration": 12,
    "start_time": "2022-01-12T19:23:43.209Z"
   },
   {
    "duration": 12,
    "start_time": "2022-01-12T19:23:43.377Z"
   },
   {
    "duration": 6,
    "start_time": "2022-01-12T19:23:44.194Z"
   },
   {
    "duration": 20,
    "start_time": "2022-01-12T19:23:44.557Z"
   },
   {
    "duration": 12,
    "start_time": "2022-01-12T19:23:44.729Z"
   },
   {
    "duration": 5,
    "start_time": "2022-01-12T19:23:45.095Z"
   },
   {
    "duration": 6,
    "start_time": "2022-01-12T19:23:45.281Z"
   },
   {
    "duration": 11,
    "start_time": "2022-01-12T19:23:45.538Z"
   },
   {
    "duration": 7,
    "start_time": "2022-01-12T19:23:45.897Z"
   },
   {
    "duration": 11,
    "start_time": "2022-01-12T19:23:46.498Z"
   },
   {
    "duration": 8,
    "start_time": "2022-01-12T19:23:46.681Z"
   },
   {
    "duration": 4,
    "start_time": "2022-01-12T19:23:46.874Z"
   },
   {
    "duration": 12,
    "start_time": "2022-01-12T19:23:47.050Z"
   },
   {
    "duration": 7,
    "start_time": "2022-01-12T19:23:47.233Z"
   },
   {
    "duration": 5,
    "start_time": "2022-01-12T19:23:47.425Z"
   },
   {
    "duration": 11,
    "start_time": "2022-01-12T19:23:47.617Z"
   },
   {
    "duration": 7,
    "start_time": "2022-01-12T19:23:47.810Z"
   },
   {
    "duration": 11,
    "start_time": "2022-01-12T19:23:48.161Z"
   },
   {
    "duration": 5,
    "start_time": "2022-01-12T19:23:48.346Z"
   },
   {
    "duration": 5,
    "start_time": "2022-01-12T19:23:48.545Z"
   },
   {
    "duration": 12,
    "start_time": "2022-01-12T19:23:48.729Z"
   },
   {
    "duration": 16,
    "start_time": "2022-01-12T19:23:48.897Z"
   },
   {
    "duration": 650,
    "start_time": "2022-01-12T19:23:49.730Z"
   },
   {
    "duration": 14,
    "start_time": "2022-01-12T19:23:50.473Z"
   },
   {
    "duration": 14,
    "start_time": "2022-01-12T19:23:50.649Z"
   },
   {
    "duration": 8,
    "start_time": "2022-01-12T19:23:50.842Z"
   },
   {
    "duration": 6,
    "start_time": "2022-01-12T19:37:19.343Z"
   },
   {
    "duration": 10,
    "start_time": "2022-01-12T19:56:52.200Z"
   },
   {
    "duration": 13,
    "start_time": "2022-01-12T19:57:04.296Z"
   },
   {
    "duration": 10,
    "start_time": "2022-01-12T19:59:02.034Z"
   },
   {
    "duration": 14,
    "start_time": "2022-01-12T20:11:01.788Z"
   },
   {
    "duration": 10,
    "start_time": "2022-01-12T20:11:38.621Z"
   },
   {
    "duration": 7,
    "start_time": "2022-01-12T20:14:23.459Z"
   },
   {
    "duration": 61,
    "start_time": "2022-01-12T20:21:18.687Z"
   },
   {
    "duration": 879,
    "start_time": "2022-01-12T21:17:01.827Z"
   },
   {
    "duration": -998,
    "start_time": "2022-01-12T21:17:03.706Z"
   },
   {
    "duration": 845,
    "start_time": "2022-01-12T21:17:21.652Z"
   },
   {
    "duration": 9,
    "start_time": "2022-01-12T21:17:47.051Z"
   },
   {
    "duration": 13,
    "start_time": "2022-01-12T21:17:48.091Z"
   },
   {
    "duration": 7,
    "start_time": "2022-01-12T21:17:48.755Z"
   },
   {
    "duration": 10,
    "start_time": "2022-01-12T21:17:54.379Z"
   },
   {
    "duration": 10,
    "start_time": "2022-01-12T21:17:55.340Z"
   },
   {
    "duration": 9,
    "start_time": "2022-01-12T21:17:56.027Z"
   },
   {
    "duration": 10,
    "start_time": "2022-01-12T21:17:57.971Z"
   },
   {
    "duration": 8,
    "start_time": "2022-01-12T21:18:28.963Z"
   },
   {
    "duration": 12,
    "start_time": "2022-01-12T21:18:30.860Z"
   },
   {
    "duration": 8,
    "start_time": "2022-01-12T21:18:31.283Z"
   },
   {
    "duration": 10,
    "start_time": "2022-01-12T21:18:33.995Z"
   },
   {
    "duration": 11,
    "start_time": "2022-01-12T21:18:35.618Z"
   },
   {
    "duration": 17,
    "start_time": "2022-01-12T21:18:36.242Z"
   },
   {
    "duration": 792,
    "start_time": "2022-01-14T19:45:01.895Z"
   },
   {
    "duration": 13,
    "start_time": "2022-01-14T19:45:02.690Z"
   },
   {
    "duration": 9,
    "start_time": "2022-01-14T19:45:02.705Z"
   },
   {
    "duration": 21,
    "start_time": "2022-01-14T19:45:02.716Z"
   },
   {
    "duration": 31,
    "start_time": "2022-01-14T19:45:02.739Z"
   },
   {
    "duration": 16,
    "start_time": "2022-01-14T19:45:02.772Z"
   },
   {
    "duration": 16,
    "start_time": "2022-01-14T19:45:02.789Z"
   },
   {
    "duration": 13,
    "start_time": "2022-01-14T19:45:02.807Z"
   },
   {
    "duration": 53,
    "start_time": "2022-01-14T19:45:02.823Z"
   },
   {
    "duration": 39,
    "start_time": "2022-01-14T19:45:02.878Z"
   },
   {
    "duration": 10,
    "start_time": "2022-01-14T19:45:02.919Z"
   },
   {
    "duration": 7,
    "start_time": "2022-01-14T19:45:02.931Z"
   },
   {
    "duration": 6,
    "start_time": "2022-01-14T19:45:02.940Z"
   },
   {
    "duration": 16,
    "start_time": "2022-01-14T19:45:02.948Z"
   },
   {
    "duration": 11,
    "start_time": "2022-01-14T19:45:02.966Z"
   },
   {
    "duration": 6,
    "start_time": "2022-01-14T19:45:02.999Z"
   },
   {
    "duration": 29,
    "start_time": "2022-01-14T19:45:03.007Z"
   },
   {
    "duration": 16,
    "start_time": "2022-01-14T19:45:03.038Z"
   },
   {
    "duration": 12,
    "start_time": "2022-01-14T19:45:03.055Z"
   },
   {
    "duration": 10,
    "start_time": "2022-01-14T19:45:03.069Z"
   },
   {
    "duration": 28,
    "start_time": "2022-01-14T19:45:03.081Z"
   },
   {
    "duration": 23,
    "start_time": "2022-01-14T19:45:03.111Z"
   },
   {
    "duration": 15,
    "start_time": "2022-01-14T19:45:03.137Z"
   },
   {
    "duration": 13,
    "start_time": "2022-01-14T19:45:03.155Z"
   },
   {
    "duration": 10,
    "start_time": "2022-01-14T19:45:03.169Z"
   },
   {
    "duration": 18,
    "start_time": "2022-01-14T19:45:03.181Z"
   },
   {
    "duration": 7,
    "start_time": "2022-01-14T19:45:03.201Z"
   },
   {
    "duration": 7,
    "start_time": "2022-01-14T19:45:03.210Z"
   },
   {
    "duration": 12,
    "start_time": "2022-01-14T19:45:03.219Z"
   },
   {
    "duration": 7,
    "start_time": "2022-01-14T19:45:03.232Z"
   },
   {
    "duration": 15,
    "start_time": "2022-01-14T19:45:03.241Z"
   },
   {
    "duration": 7,
    "start_time": "2022-01-14T19:45:03.258Z"
   },
   {
    "duration": 33,
    "start_time": "2022-01-14T19:45:03.267Z"
   },
   {
    "duration": 16,
    "start_time": "2022-01-14T19:45:03.301Z"
   },
   {
    "duration": 25,
    "start_time": "2022-01-14T19:45:03.319Z"
   },
   {
    "duration": 670,
    "start_time": "2022-01-14T19:45:03.346Z"
   },
   {
    "duration": 15,
    "start_time": "2022-01-14T19:45:04.018Z"
   },
   {
    "duration": 18,
    "start_time": "2022-01-14T19:45:04.034Z"
   },
   {
    "duration": 11,
    "start_time": "2022-01-14T19:45:04.053Z"
   },
   {
    "duration": 263,
    "start_time": "2022-01-14T19:45:04.065Z"
   },
   {
    "duration": 51,
    "start_time": "2022-01-14T19:45:04.278Z"
   },
   {
    "duration": 48,
    "start_time": "2022-01-14T19:45:04.283Z"
   },
   {
    "duration": 43,
    "start_time": "2022-01-14T19:45:04.288Z"
   },
   {
    "duration": 41,
    "start_time": "2022-01-14T19:45:04.291Z"
   },
   {
    "duration": 38,
    "start_time": "2022-01-14T19:45:04.295Z"
   },
   {
    "duration": 35,
    "start_time": "2022-01-14T19:45:04.299Z"
   },
   {
    "duration": 32,
    "start_time": "2022-01-14T19:45:04.303Z"
   },
   {
    "duration": 30,
    "start_time": "2022-01-14T19:45:04.306Z"
   },
   {
    "duration": 27,
    "start_time": "2022-01-14T19:45:04.310Z"
   },
   {
    "duration": 723,
    "start_time": "2022-01-14T19:45:21.046Z"
   },
   {
    "duration": 12,
    "start_time": "2022-01-14T19:45:21.771Z"
   },
   {
    "duration": 4,
    "start_time": "2022-01-14T19:45:21.786Z"
   },
   {
    "duration": 6,
    "start_time": "2022-01-14T19:45:21.792Z"
   },
   {
    "duration": 13,
    "start_time": "2022-01-14T19:45:21.800Z"
   },
   {
    "duration": 13,
    "start_time": "2022-01-14T19:45:21.815Z"
   },
   {
    "duration": 6,
    "start_time": "2022-01-14T19:45:21.830Z"
   },
   {
    "duration": 6,
    "start_time": "2022-01-14T19:45:21.838Z"
   },
   {
    "duration": 75,
    "start_time": "2022-01-14T19:45:21.848Z"
   },
   {
    "duration": 39,
    "start_time": "2022-01-14T19:45:21.925Z"
   },
   {
    "duration": 12,
    "start_time": "2022-01-14T19:45:21.965Z"
   },
   {
    "duration": 5,
    "start_time": "2022-01-14T19:45:21.998Z"
   },
   {
    "duration": 5,
    "start_time": "2022-01-14T19:45:22.005Z"
   },
   {
    "duration": 13,
    "start_time": "2022-01-14T19:45:22.011Z"
   },
   {
    "duration": 11,
    "start_time": "2022-01-14T19:45:22.026Z"
   },
   {
    "duration": 9,
    "start_time": "2022-01-14T19:45:22.039Z"
   },
   {
    "duration": 55,
    "start_time": "2022-01-14T19:45:22.050Z"
   },
   {
    "duration": 12,
    "start_time": "2022-01-14T19:45:22.108Z"
   },
   {
    "duration": 7,
    "start_time": "2022-01-14T19:45:22.122Z"
   },
   {
    "duration": 7,
    "start_time": "2022-01-14T19:45:22.131Z"
   },
   {
    "duration": 19,
    "start_time": "2022-01-14T19:45:22.140Z"
   },
   {
    "duration": 41,
    "start_time": "2022-01-14T19:45:22.161Z"
   },
   {
    "duration": 16,
    "start_time": "2022-01-14T19:45:22.204Z"
   },
   {
    "duration": 11,
    "start_time": "2022-01-14T19:45:22.222Z"
   },
   {
    "duration": 6,
    "start_time": "2022-01-14T19:45:22.235Z"
   },
   {
    "duration": 15,
    "start_time": "2022-01-14T19:45:22.243Z"
   },
   {
    "duration": 8,
    "start_time": "2022-01-14T19:45:22.261Z"
   },
   {
    "duration": 4,
    "start_time": "2022-01-14T19:45:22.300Z"
   },
   {
    "duration": 12,
    "start_time": "2022-01-14T19:45:22.306Z"
   },
   {
    "duration": 8,
    "start_time": "2022-01-14T19:45:22.320Z"
   },
   {
    "duration": 17,
    "start_time": "2022-01-14T19:45:22.330Z"
   },
   {
    "duration": 6,
    "start_time": "2022-01-14T19:45:22.348Z"
   },
   {
    "duration": 11,
    "start_time": "2022-01-14T19:45:22.356Z"
   },
   {
    "duration": 8,
    "start_time": "2022-01-14T19:45:22.399Z"
   },
   {
    "duration": 18,
    "start_time": "2022-01-14T19:45:22.408Z"
   },
   {
    "duration": 676,
    "start_time": "2022-01-14T19:45:22.428Z"
   },
   {
    "duration": 14,
    "start_time": "2022-01-14T19:45:23.106Z"
   },
   {
    "duration": 17,
    "start_time": "2022-01-14T19:45:23.121Z"
   },
   {
    "duration": 9,
    "start_time": "2022-01-14T19:45:23.139Z"
   },
   {
    "duration": 255,
    "start_time": "2022-01-14T19:45:23.149Z"
   },
   {
    "duration": -26,
    "start_time": "2022-01-14T19:45:23.432Z"
   },
   {
    "duration": -29,
    "start_time": "2022-01-14T19:45:23.436Z"
   },
   {
    "duration": -33,
    "start_time": "2022-01-14T19:45:23.441Z"
   },
   {
    "duration": -40,
    "start_time": "2022-01-14T19:45:23.449Z"
   },
   {
    "duration": -43,
    "start_time": "2022-01-14T19:45:23.453Z"
   },
   {
    "duration": -48,
    "start_time": "2022-01-14T19:45:23.459Z"
   },
   {
    "duration": -54,
    "start_time": "2022-01-14T19:45:23.466Z"
   },
   {
    "duration": -57,
    "start_time": "2022-01-14T19:45:23.470Z"
   },
   {
    "duration": -94,
    "start_time": "2022-01-14T19:45:23.507Z"
   },
   {
    "duration": 759,
    "start_time": "2022-01-14T19:45:48.778Z"
   },
   {
    "duration": 11,
    "start_time": "2022-01-14T19:45:49.540Z"
   },
   {
    "duration": 4,
    "start_time": "2022-01-14T19:45:49.554Z"
   },
   {
    "duration": 6,
    "start_time": "2022-01-14T19:45:49.560Z"
   },
   {
    "duration": 38,
    "start_time": "2022-01-14T19:45:49.567Z"
   },
   {
    "duration": 13,
    "start_time": "2022-01-14T19:45:49.607Z"
   },
   {
    "duration": 7,
    "start_time": "2022-01-14T19:45:49.621Z"
   },
   {
    "duration": 5,
    "start_time": "2022-01-14T19:45:49.631Z"
   },
   {
    "duration": 67,
    "start_time": "2022-01-14T19:45:49.638Z"
   },
   {
    "duration": 37,
    "start_time": "2022-01-14T19:45:49.707Z"
   },
   {
    "duration": 11,
    "start_time": "2022-01-14T19:45:49.745Z"
   },
   {
    "duration": 5,
    "start_time": "2022-01-14T19:45:49.758Z"
   },
   {
    "duration": 5,
    "start_time": "2022-01-14T19:45:49.764Z"
   },
   {
    "duration": 37,
    "start_time": "2022-01-14T19:45:49.771Z"
   },
   {
    "duration": 11,
    "start_time": "2022-01-14T19:45:49.810Z"
   },
   {
    "duration": 5,
    "start_time": "2022-01-14T19:45:49.823Z"
   },
   {
    "duration": 20,
    "start_time": "2022-01-14T19:45:49.830Z"
   },
   {
    "duration": 11,
    "start_time": "2022-01-14T19:45:49.852Z"
   },
   {
    "duration": 4,
    "start_time": "2022-01-14T19:45:49.899Z"
   },
   {
    "duration": 8,
    "start_time": "2022-01-14T19:45:49.905Z"
   },
   {
    "duration": 12,
    "start_time": "2022-01-14T19:45:49.914Z"
   },
   {
    "duration": 9,
    "start_time": "2022-01-14T19:45:49.927Z"
   },
   {
    "duration": 12,
    "start_time": "2022-01-14T19:45:49.939Z"
   },
   {
    "duration": 13,
    "start_time": "2022-01-14T19:45:49.952Z"
   },
   {
    "duration": 32,
    "start_time": "2022-01-14T19:45:49.967Z"
   },
   {
    "duration": 14,
    "start_time": "2022-01-14T19:45:50.001Z"
   },
   {
    "duration": 6,
    "start_time": "2022-01-14T19:45:50.016Z"
   },
   {
    "duration": 8,
    "start_time": "2022-01-14T19:45:50.024Z"
   },
   {
    "duration": 17,
    "start_time": "2022-01-14T19:45:50.034Z"
   },
   {
    "duration": 7,
    "start_time": "2022-01-14T19:45:50.052Z"
   },
   {
    "duration": 39,
    "start_time": "2022-01-14T19:45:50.060Z"
   },
   {
    "duration": 4,
    "start_time": "2022-01-14T19:45:50.101Z"
   },
   {
    "duration": 6,
    "start_time": "2022-01-14T19:45:50.106Z"
   },
   {
    "duration": 8,
    "start_time": "2022-01-14T19:45:50.113Z"
   },
   {
    "duration": 18,
    "start_time": "2022-01-14T19:45:50.122Z"
   },
   {
    "duration": 680,
    "start_time": "2022-01-14T19:45:50.142Z"
   },
   {
    "duration": 14,
    "start_time": "2022-01-14T19:45:50.824Z"
   },
   {
    "duration": 18,
    "start_time": "2022-01-14T19:45:50.839Z"
   },
   {
    "duration": 9,
    "start_time": "2022-01-14T19:45:50.859Z"
   },
   {
    "duration": 6,
    "start_time": "2022-01-14T19:45:50.869Z"
   },
   {
    "duration": 28,
    "start_time": "2022-01-14T19:45:50.877Z"
   },
   {
    "duration": 6,
    "start_time": "2022-01-14T19:45:50.906Z"
   },
   {
    "duration": 8,
    "start_time": "2022-01-14T19:45:50.914Z"
   },
   {
    "duration": 19,
    "start_time": "2022-01-14T19:45:50.924Z"
   },
   {
    "duration": 9,
    "start_time": "2022-01-14T19:45:50.944Z"
   },
   {
    "duration": 16,
    "start_time": "2022-01-14T19:45:50.954Z"
   },
   {
    "duration": 36,
    "start_time": "2022-01-14T19:45:50.972Z"
   },
   {
    "duration": 11,
    "start_time": "2022-01-14T19:45:51.010Z"
   },
   {
    "duration": 11,
    "start_time": "2022-01-14T19:45:51.023Z"
   },
   {
    "duration": 72,
    "start_time": "2022-01-14T19:48:16.313Z"
   },
   {
    "duration": 5,
    "start_time": "2022-01-14T21:42:34.147Z"
   },
   {
    "duration": 7,
    "start_time": "2022-01-14T21:59:17.045Z"
   },
   {
    "duration": 8,
    "start_time": "2022-01-14T22:05:36.422Z"
   },
   {
    "duration": 746,
    "start_time": "2022-01-14T22:17:18.615Z"
   },
   {
    "duration": 10,
    "start_time": "2022-01-14T22:17:19.363Z"
   },
   {
    "duration": 6,
    "start_time": "2022-01-14T22:17:19.375Z"
   },
   {
    "duration": 4,
    "start_time": "2022-01-14T22:17:19.383Z"
   },
   {
    "duration": 20,
    "start_time": "2022-01-14T22:17:19.388Z"
   },
   {
    "duration": 12,
    "start_time": "2022-01-14T22:17:19.409Z"
   },
   {
    "duration": 5,
    "start_time": "2022-01-14T22:17:19.423Z"
   },
   {
    "duration": 8,
    "start_time": "2022-01-14T22:17:19.429Z"
   },
   {
    "duration": 64,
    "start_time": "2022-01-14T22:17:19.440Z"
   },
   {
    "duration": 37,
    "start_time": "2022-01-14T22:17:19.506Z"
   },
   {
    "duration": 10,
    "start_time": "2022-01-14T22:17:19.545Z"
   },
   {
    "duration": 3,
    "start_time": "2022-01-14T22:17:19.556Z"
   },
   {
    "duration": 6,
    "start_time": "2022-01-14T22:17:19.561Z"
   },
   {
    "duration": 35,
    "start_time": "2022-01-14T22:17:19.569Z"
   },
   {
    "duration": 10,
    "start_time": "2022-01-14T22:17:19.606Z"
   },
   {
    "duration": 8,
    "start_time": "2022-01-14T22:17:19.617Z"
   },
   {
    "duration": 20,
    "start_time": "2022-01-14T22:17:19.626Z"
   },
   {
    "duration": 12,
    "start_time": "2022-01-14T22:17:19.648Z"
   },
   {
    "duration": 35,
    "start_time": "2022-01-14T22:17:19.663Z"
   },
   {
    "duration": 5,
    "start_time": "2022-01-14T22:17:19.700Z"
   },
   {
    "duration": 14,
    "start_time": "2022-01-14T22:17:19.707Z"
   },
   {
    "duration": 19,
    "start_time": "2022-01-14T22:17:19.723Z"
   },
   {
    "duration": 14,
    "start_time": "2022-01-14T22:17:19.744Z"
   },
   {
    "duration": 11,
    "start_time": "2022-01-14T22:17:19.759Z"
   },
   {
    "duration": 6,
    "start_time": "2022-01-14T22:17:19.772Z"
   },
   {
    "duration": 28,
    "start_time": "2022-01-14T22:17:19.779Z"
   },
   {
    "duration": 6,
    "start_time": "2022-01-14T22:17:19.810Z"
   },
   {
    "duration": 6,
    "start_time": "2022-01-14T22:17:19.818Z"
   },
   {
    "duration": 12,
    "start_time": "2022-01-14T22:17:19.826Z"
   },
   {
    "duration": 7,
    "start_time": "2022-01-14T22:17:19.840Z"
   },
   {
    "duration": 15,
    "start_time": "2022-01-14T22:17:19.849Z"
   },
   {
    "duration": 5,
    "start_time": "2022-01-14T22:17:19.898Z"
   },
   {
    "duration": 7,
    "start_time": "2022-01-14T22:17:19.905Z"
   },
   {
    "duration": 9,
    "start_time": "2022-01-14T22:17:19.913Z"
   },
   {
    "duration": 19,
    "start_time": "2022-01-14T22:17:19.923Z"
   },
   {
    "duration": 677,
    "start_time": "2022-01-14T22:17:19.943Z"
   },
   {
    "duration": 15,
    "start_time": "2022-01-14T22:17:20.622Z"
   },
   {
    "duration": 30,
    "start_time": "2022-01-14T22:17:20.639Z"
   },
   {
    "duration": 14,
    "start_time": "2022-01-14T22:17:20.670Z"
   },
   {
    "duration": 285,
    "start_time": "2022-01-14T22:17:20.686Z"
   },
   {
    "duration": 165,
    "start_time": "2022-01-14T22:17:20.808Z"
   },
   {
    "duration": 145,
    "start_time": "2022-01-14T22:17:20.829Z"
   },
   {
    "duration": 34,
    "start_time": "2022-01-14T22:17:20.941Z"
   },
   {
    "duration": 31,
    "start_time": "2022-01-14T22:17:20.946Z"
   },
   {
    "duration": 27,
    "start_time": "2022-01-14T22:17:20.951Z"
   },
   {
    "duration": 22,
    "start_time": "2022-01-14T22:17:20.957Z"
   },
   {
    "duration": 19,
    "start_time": "2022-01-14T22:17:20.961Z"
   },
   {
    "duration": 15,
    "start_time": "2022-01-14T22:17:20.966Z"
   },
   {
    "duration": 3,
    "start_time": "2022-01-14T22:17:20.979Z"
   },
   {
    "duration": 916,
    "start_time": "2022-01-15T11:39:16.537Z"
   },
   {
    "duration": 10,
    "start_time": "2022-01-15T11:39:17.454Z"
   },
   {
    "duration": 4,
    "start_time": "2022-01-15T11:39:17.465Z"
   },
   {
    "duration": 11,
    "start_time": "2022-01-15T11:39:17.470Z"
   },
   {
    "duration": 12,
    "start_time": "2022-01-15T11:39:21.049Z"
   },
   {
    "duration": 12,
    "start_time": "2022-01-15T11:39:21.273Z"
   },
   {
    "duration": 6,
    "start_time": "2022-01-15T11:39:22.568Z"
   },
   {
    "duration": 4,
    "start_time": "2022-01-15T11:39:22.752Z"
   },
   {
    "duration": 36,
    "start_time": "2022-01-15T11:39:22.932Z"
   },
   {
    "duration": 40,
    "start_time": "2022-01-15T11:39:23.113Z"
   },
   {
    "duration": 10,
    "start_time": "2022-01-15T11:39:23.296Z"
   },
   {
    "duration": 3,
    "start_time": "2022-01-15T11:39:24.769Z"
   },
   {
    "duration": 4,
    "start_time": "2022-01-15T11:39:24.952Z"
   },
   {
    "duration": 11,
    "start_time": "2022-01-15T11:39:25.177Z"
   },
   {
    "duration": 10,
    "start_time": "2022-01-15T11:39:25.393Z"
   },
   {
    "duration": 5,
    "start_time": "2022-01-15T11:39:27.105Z"
   },
   {
    "duration": 18,
    "start_time": "2022-01-15T11:39:27.762Z"
   },
   {
    "duration": 10,
    "start_time": "2022-01-15T11:39:27.961Z"
   },
   {
    "duration": 4,
    "start_time": "2022-01-15T11:39:29.280Z"
   },
   {
    "duration": 5,
    "start_time": "2022-01-15T11:39:29.993Z"
   },
   {
    "duration": 13,
    "start_time": "2022-01-15T11:39:31.438Z"
   },
   {
    "duration": 9,
    "start_time": "2022-01-15T11:39:32.737Z"
   },
   {
    "duration": 10,
    "start_time": "2022-01-15T11:39:34.833Z"
   },
   {
    "duration": 7,
    "start_time": "2022-01-15T11:39:35.377Z"
   },
   {
    "duration": 5,
    "start_time": "2022-01-15T11:39:36.130Z"
   },
   {
    "duration": 18,
    "start_time": "2022-01-15T11:39:36.624Z"
   },
   {
    "duration": 8,
    "start_time": "2022-01-15T11:39:37.569Z"
   },
   {
    "duration": 4,
    "start_time": "2022-01-15T11:39:38.081Z"
   },
   {
    "duration": 9,
    "start_time": "2022-01-15T11:39:38.833Z"
   },
   {
    "duration": 6,
    "start_time": "2022-01-15T11:39:39.312Z"
   },
   {
    "duration": 13,
    "start_time": "2022-01-15T11:39:40.539Z"
   },
   {
    "duration": 4,
    "start_time": "2022-01-15T11:39:41.041Z"
   },
   {
    "duration": 4,
    "start_time": "2022-01-15T11:39:42.331Z"
   },
   {
    "duration": 8,
    "start_time": "2022-01-15T11:39:49.208Z"
   },
   {
    "duration": 16,
    "start_time": "2022-01-15T11:39:49.933Z"
   },
   {
    "duration": 608,
    "start_time": "2022-01-15T11:39:57.368Z"
   },
   {
    "duration": 15,
    "start_time": "2022-01-15T11:40:02.193Z"
   },
   {
    "duration": 13,
    "start_time": "2022-01-15T11:40:02.979Z"
   },
   {
    "duration": 10,
    "start_time": "2022-01-15T11:40:03.208Z"
   },
   {
    "duration": 387,
    "start_time": "2022-01-15T11:40:04.147Z"
   },
   {
    "duration": -252,
    "start_time": "2022-01-15T11:40:04.788Z"
   },
   {
    "duration": 10,
    "start_time": "2022-01-15T11:40:04.611Z"
   },
   {
    "duration": 9,
    "start_time": "2022-01-15T11:40:04.825Z"
   },
   {
    "duration": 12,
    "start_time": "2022-01-15T11:40:05.608Z"
   },
   {
    "duration": 6,
    "start_time": "2022-01-15T11:40:05.825Z"
   },
   {
    "duration": 23,
    "start_time": "2022-01-15T11:40:08.560Z"
   },
   {
    "duration": 9,
    "start_time": "2022-01-15T11:40:11.089Z"
   },
   {
    "duration": 10,
    "start_time": "2022-01-15T11:40:12.881Z"
   },
   {
    "duration": 9,
    "start_time": "2022-01-15T11:40:14.713Z"
   },
   {
    "duration": 5,
    "start_time": "2022-01-15T11:41:43.537Z"
   },
   {
    "duration": 17,
    "start_time": "2022-01-15T19:08:02.670Z"
   },
   {
    "duration": 24,
    "start_time": "2022-01-15T19:09:52.828Z"
   },
   {
    "duration": 19,
    "start_time": "2022-01-15T19:10:24.573Z"
   },
   {
    "duration": 18,
    "start_time": "2022-01-15T19:11:00.007Z"
   },
   {
    "duration": 144,
    "start_time": "2022-01-15T19:13:39.152Z"
   },
   {
    "duration": 318,
    "start_time": "2022-01-15T19:13:46.256Z"
   },
   {
    "duration": 19,
    "start_time": "2022-01-15T19:15:58.160Z"
   },
   {
    "duration": 25,
    "start_time": "2022-01-15T19:16:12.199Z"
   },
   {
    "duration": 19,
    "start_time": "2022-01-15T19:16:36.480Z"
   },
   {
    "duration": 18,
    "start_time": "2022-01-15T19:25:48.361Z"
   },
   {
    "duration": 26,
    "start_time": "2022-01-15T19:26:26.560Z"
   },
   {
    "duration": 16,
    "start_time": "2022-01-15T19:26:44.936Z"
   },
   {
    "duration": 336,
    "start_time": "2022-01-15T19:44:32.676Z"
   },
   {
    "duration": 333,
    "start_time": "2022-01-15T19:44:51.179Z"
   },
   {
    "duration": 36,
    "start_time": "2022-01-15T19:45:00.700Z"
   },
   {
    "duration": 123,
    "start_time": "2022-01-15T19:55:30.275Z"
   },
   {
    "duration": 25,
    "start_time": "2022-01-15T19:55:35.019Z"
   },
   {
    "duration": 12,
    "start_time": "2022-01-15T19:56:16.139Z"
   },
   {
    "duration": 15,
    "start_time": "2022-01-15T19:56:24.340Z"
   },
   {
    "duration": 12,
    "start_time": "2022-01-15T19:59:17.764Z"
   },
   {
    "duration": 13,
    "start_time": "2022-01-15T20:00:30.764Z"
   },
   {
    "duration": 14,
    "start_time": "2022-01-15T20:01:36.452Z"
   },
   {
    "duration": 14,
    "start_time": "2022-01-15T20:01:45.380Z"
   },
   {
    "duration": 15,
    "start_time": "2022-01-15T20:02:43.044Z"
   },
   {
    "duration": 14,
    "start_time": "2022-01-15T20:03:31.661Z"
   },
   {
    "duration": 13,
    "start_time": "2022-01-15T20:04:17.596Z"
   },
   {
    "duration": 2694,
    "start_time": "2022-01-15T20:35:15.687Z"
   },
   {
    "duration": 20,
    "start_time": "2022-01-15T20:35:25.576Z"
   },
   {
    "duration": 423,
    "start_time": "2022-01-15T20:36:11.623Z"
   },
   {
    "duration": 16,
    "start_time": "2022-01-15T20:36:24.576Z"
   },
   {
    "duration": 194,
    "start_time": "2022-01-16T12:13:53.496Z"
   },
   {
    "duration": 273,
    "start_time": "2022-01-16T12:14:08.109Z"
   },
   {
    "duration": 10,
    "start_time": "2022-01-16T12:14:09.535Z"
   },
   {
    "duration": 4,
    "start_time": "2022-01-16T12:14:09.879Z"
   },
   {
    "duration": 4,
    "start_time": "2022-01-16T12:14:13.590Z"
   },
   {
    "duration": 115,
    "start_time": "2022-01-16T12:14:16.494Z"
   },
   {
    "duration": 115,
    "start_time": "2022-01-16T12:15:51.071Z"
   },
   {
    "duration": 127,
    "start_time": "2022-01-16T12:16:23.679Z"
   },
   {
    "duration": 198,
    "start_time": "2022-01-16T12:18:25.048Z"
   },
   {
    "duration": 108,
    "start_time": "2022-01-16T12:18:30.513Z"
   },
   {
    "duration": 113,
    "start_time": "2022-01-16T12:29:42.312Z"
   },
   {
    "duration": 13,
    "start_time": "2022-01-16T12:32:32.416Z"
   },
   {
    "duration": 14,
    "start_time": "2022-01-16T12:40:57.830Z"
   },
   {
    "duration": 12,
    "start_time": "2022-01-16T12:41:03.123Z"
   },
   {
    "duration": 808,
    "start_time": "2022-01-16T13:08:05.190Z"
   },
   {
    "duration": 9,
    "start_time": "2022-01-16T13:08:05.999Z"
   },
   {
    "duration": 4,
    "start_time": "2022-01-16T13:08:06.010Z"
   },
   {
    "duration": 5,
    "start_time": "2022-01-16T13:08:06.015Z"
   },
   {
    "duration": 11,
    "start_time": "2022-01-16T13:08:06.021Z"
   },
   {
    "duration": 10,
    "start_time": "2022-01-16T13:08:06.033Z"
   },
   {
    "duration": 4,
    "start_time": "2022-01-16T13:08:06.044Z"
   },
   {
    "duration": 5,
    "start_time": "2022-01-16T13:08:06.050Z"
   },
   {
    "duration": 57,
    "start_time": "2022-01-16T13:08:06.057Z"
   },
   {
    "duration": 32,
    "start_time": "2022-01-16T13:08:06.116Z"
   },
   {
    "duration": 8,
    "start_time": "2022-01-16T13:08:06.150Z"
   },
   {
    "duration": 4,
    "start_time": "2022-01-16T13:08:06.159Z"
   },
   {
    "duration": 4,
    "start_time": "2022-01-16T13:08:06.164Z"
   },
   {
    "duration": 11,
    "start_time": "2022-01-16T13:08:06.170Z"
   },
   {
    "duration": 33,
    "start_time": "2022-01-16T13:08:06.182Z"
   },
   {
    "duration": 7,
    "start_time": "2022-01-16T13:08:06.216Z"
   },
   {
    "duration": 17,
    "start_time": "2022-01-16T13:08:06.224Z"
   },
   {
    "duration": 10,
    "start_time": "2022-01-16T13:08:06.242Z"
   },
   {
    "duration": 3,
    "start_time": "2022-01-16T13:08:06.254Z"
   },
   {
    "duration": 6,
    "start_time": "2022-01-16T13:08:06.259Z"
   },
   {
    "duration": 10,
    "start_time": "2022-01-16T13:08:06.266Z"
   },
   {
    "duration": 5,
    "start_time": "2022-01-16T13:08:06.312Z"
   },
   {
    "duration": 11,
    "start_time": "2022-01-16T13:08:06.319Z"
   },
   {
    "duration": 16,
    "start_time": "2022-01-16T13:08:06.331Z"
   },
   {
    "duration": 4,
    "start_time": "2022-01-16T13:08:06.348Z"
   },
   {
    "duration": 12,
    "start_time": "2022-01-16T13:08:06.354Z"
   },
   {
    "duration": 5,
    "start_time": "2022-01-16T13:08:06.370Z"
   },
   {
    "duration": 5,
    "start_time": "2022-01-16T13:08:06.377Z"
   },
   {
    "duration": 34,
    "start_time": "2022-01-16T13:08:06.383Z"
   },
   {
    "duration": 5,
    "start_time": "2022-01-16T13:08:06.418Z"
   },
   {
    "duration": 11,
    "start_time": "2022-01-16T13:08:06.424Z"
   },
   {
    "duration": 4,
    "start_time": "2022-01-16T13:08:06.437Z"
   },
   {
    "duration": 5,
    "start_time": "2022-01-16T13:08:06.442Z"
   },
   {
    "duration": 8,
    "start_time": "2022-01-16T13:08:06.448Z"
   },
   {
    "duration": 15,
    "start_time": "2022-01-16T13:08:06.457Z"
   },
   {
    "duration": 628,
    "start_time": "2022-01-16T13:08:06.474Z"
   },
   {
    "duration": 18,
    "start_time": "2022-01-16T13:08:07.104Z"
   },
   {
    "duration": 13,
    "start_time": "2022-01-16T13:08:07.123Z"
   },
   {
    "duration": 7,
    "start_time": "2022-01-16T13:08:07.138Z"
   },
   {
    "duration": 6,
    "start_time": "2022-01-16T13:08:07.147Z"
   },
   {
    "duration": 9,
    "start_time": "2022-01-16T13:08:07.154Z"
   },
   {
    "duration": 5,
    "start_time": "2022-01-16T13:08:07.164Z"
   },
   {
    "duration": 43,
    "start_time": "2022-01-16T13:08:07.170Z"
   },
   {
    "duration": 14,
    "start_time": "2022-01-16T13:08:07.214Z"
   },
   {
    "duration": 7,
    "start_time": "2022-01-16T13:08:07.230Z"
   },
   {
    "duration": 17,
    "start_time": "2022-01-16T13:08:07.238Z"
   },
   {
    "duration": 13,
    "start_time": "2022-01-16T13:08:07.257Z"
   },
   {
    "duration": 13,
    "start_time": "2022-01-16T13:08:07.271Z"
   },
   {
    "duration": 13,
    "start_time": "2022-01-16T13:08:07.312Z"
   },
   {
    "duration": 252,
    "start_time": "2022-01-16T17:36:11.139Z"
   },
   {
    "duration": 336,
    "start_time": "2022-01-16T18:09:40.803Z"
   },
   {
    "duration": 261,
    "start_time": "2022-01-16T18:12:10.261Z"
   },
   {
    "duration": 11,
    "start_time": "2022-01-16T18:12:11.110Z"
   },
   {
    "duration": 5,
    "start_time": "2022-01-16T18:12:11.501Z"
   },
   {
    "duration": 4,
    "start_time": "2022-01-16T18:12:11.837Z"
   },
   {
    "duration": 12,
    "start_time": "2022-01-16T18:12:17.437Z"
   },
   {
    "duration": 11,
    "start_time": "2022-01-16T18:12:18.222Z"
   },
   {
    "duration": 4,
    "start_time": "2022-01-16T18:12:20.406Z"
   },
   {
    "duration": 4,
    "start_time": "2022-01-16T18:12:20.946Z"
   },
   {
    "duration": 34,
    "start_time": "2022-01-16T18:12:21.590Z"
   },
   {
    "duration": 34,
    "start_time": "2022-01-16T18:12:21.805Z"
   },
   {
    "duration": 10,
    "start_time": "2022-01-16T18:12:22.038Z"
   },
   {
    "duration": 3,
    "start_time": "2022-01-16T18:12:27.942Z"
   },
   {
    "duration": 3,
    "start_time": "2022-01-16T18:12:28.310Z"
   },
   {
    "duration": 11,
    "start_time": "2022-01-16T18:12:28.766Z"
   },
   {
    "duration": 9,
    "start_time": "2022-01-16T18:12:29.670Z"
   },
   {
    "duration": 5,
    "start_time": "2022-01-16T18:12:33.158Z"
   },
   {
    "duration": 20,
    "start_time": "2022-01-16T18:12:34.071Z"
   },
   {
    "duration": 11,
    "start_time": "2022-01-16T18:12:35.135Z"
   },
   {
    "duration": 7,
    "start_time": "2022-01-16T18:12:44.283Z"
   },
   {
    "duration": 5,
    "start_time": "2022-01-16T18:12:46.830Z"
   },
   {
    "duration": 6,
    "start_time": "2022-01-16T18:12:47.022Z"
   },
   {
    "duration": 11,
    "start_time": "2022-01-16T18:12:47.214Z"
   },
   {
    "duration": 6,
    "start_time": "2022-01-16T18:12:47.838Z"
   },
   {
    "duration": 12,
    "start_time": "2022-01-16T18:12:48.389Z"
   },
   {
    "duration": 8,
    "start_time": "2022-01-16T18:12:48.573Z"
   },
   {
    "duration": 4,
    "start_time": "2022-01-16T18:12:48.757Z"
   },
   {
    "duration": 12,
    "start_time": "2022-01-16T18:12:48.941Z"
   },
   {
    "duration": 7,
    "start_time": "2022-01-16T18:12:49.309Z"
   },
   {
    "duration": 4,
    "start_time": "2022-01-16T18:12:49.494Z"
   },
   {
    "duration": 11,
    "start_time": "2022-01-16T18:12:49.669Z"
   },
   {
    "duration": 6,
    "start_time": "2022-01-16T18:12:49.854Z"
   },
   {
    "duration": 11,
    "start_time": "2022-01-16T18:12:50.222Z"
   },
   {
    "duration": 7,
    "start_time": "2022-01-16T18:12:50.421Z"
   },
   {
    "duration": 4,
    "start_time": "2022-01-16T18:12:50.789Z"
   },
   {
    "duration": 7,
    "start_time": "2022-01-16T18:12:50.981Z"
   },
   {
    "duration": 14,
    "start_time": "2022-01-16T18:12:51.165Z"
   },
   {
    "duration": 621,
    "start_time": "2022-01-16T18:12:52.134Z"
   },
   {
    "duration": 12,
    "start_time": "2022-01-16T18:12:53.037Z"
   },
   {
    "duration": 13,
    "start_time": "2022-01-16T18:12:53.221Z"
   },
   {
    "duration": 7,
    "start_time": "2022-01-16T18:12:53.421Z"
   },
   {
    "duration": 5,
    "start_time": "2022-01-16T18:12:55.085Z"
   },
   {
    "duration": 10,
    "start_time": "2022-01-16T18:12:55.477Z"
   },
   {
    "duration": 7,
    "start_time": "2022-01-16T18:12:55.677Z"
   },
   {
    "duration": 10,
    "start_time": "2022-01-16T18:12:55.893Z"
   },
   {
    "duration": 12,
    "start_time": "2022-01-16T18:12:57.183Z"
   },
   {
    "duration": 7,
    "start_time": "2022-01-16T18:12:58.574Z"
   },
   {
    "duration": 16,
    "start_time": "2022-01-16T18:13:06.294Z"
   },
   {
    "duration": 15,
    "start_time": "2022-01-16T18:13:23.846Z"
   },
   {
    "duration": 14,
    "start_time": "2022-01-16T18:13:24.981Z"
   },
   {
    "duration": 15,
    "start_time": "2022-01-16T18:13:25.981Z"
   },
   {
    "duration": 111,
    "start_time": "2022-01-16T18:27:04.184Z"
   },
   {
    "duration": 893,
    "start_time": "2022-01-16T18:38:57.099Z"
   },
   {
    "duration": 10,
    "start_time": "2022-01-16T18:38:57.993Z"
   },
   {
    "duration": 6,
    "start_time": "2022-01-16T18:38:58.005Z"
   },
   {
    "duration": 6,
    "start_time": "2022-01-16T18:38:58.012Z"
   },
   {
    "duration": 15,
    "start_time": "2022-01-16T18:38:58.019Z"
   },
   {
    "duration": 10,
    "start_time": "2022-01-16T18:38:58.035Z"
   },
   {
    "duration": 5,
    "start_time": "2022-01-16T18:38:58.046Z"
   },
   {
    "duration": 5,
    "start_time": "2022-01-16T18:38:58.052Z"
   },
   {
    "duration": 33,
    "start_time": "2022-01-16T18:38:58.059Z"
   },
   {
    "duration": 58,
    "start_time": "2022-01-16T18:38:58.094Z"
   },
   {
    "duration": 8,
    "start_time": "2022-01-16T18:38:58.154Z"
   },
   {
    "duration": 4,
    "start_time": "2022-01-16T18:38:58.164Z"
   },
   {
    "duration": 5,
    "start_time": "2022-01-16T18:38:58.170Z"
   },
   {
    "duration": 17,
    "start_time": "2022-01-16T18:38:58.176Z"
   },
   {
    "duration": 9,
    "start_time": "2022-01-16T18:38:58.195Z"
   },
   {
    "duration": 5,
    "start_time": "2022-01-16T18:38:58.227Z"
   },
   {
    "duration": 18,
    "start_time": "2022-01-16T18:38:58.234Z"
   },
   {
    "duration": 11,
    "start_time": "2022-01-16T18:38:58.254Z"
   },
   {
    "duration": 7,
    "start_time": "2022-01-16T18:38:58.267Z"
   },
   {
    "duration": 4,
    "start_time": "2022-01-16T18:38:58.276Z"
   },
   {
    "duration": 6,
    "start_time": "2022-01-16T18:38:58.282Z"
   },
   {
    "duration": 39,
    "start_time": "2022-01-16T18:38:58.290Z"
   },
   {
    "duration": 8,
    "start_time": "2022-01-16T18:38:58.330Z"
   },
   {
    "duration": 11,
    "start_time": "2022-01-16T18:38:58.340Z"
   },
   {
    "duration": 10,
    "start_time": "2022-01-16T18:38:58.352Z"
   },
   {
    "duration": 5,
    "start_time": "2022-01-16T18:38:58.364Z"
   },
   {
    "duration": 11,
    "start_time": "2022-01-16T18:38:58.373Z"
   },
   {
    "duration": 6,
    "start_time": "2022-01-16T18:38:58.387Z"
   },
   {
    "duration": 35,
    "start_time": "2022-01-16T18:38:58.394Z"
   },
   {
    "duration": 10,
    "start_time": "2022-01-16T18:38:58.431Z"
   },
   {
    "duration": 5,
    "start_time": "2022-01-16T18:38:58.443Z"
   },
   {
    "duration": 10,
    "start_time": "2022-01-16T18:38:58.450Z"
   },
   {
    "duration": 6,
    "start_time": "2022-01-16T18:38:58.462Z"
   },
   {
    "duration": 4,
    "start_time": "2022-01-16T18:38:58.470Z"
   },
   {
    "duration": 7,
    "start_time": "2022-01-16T18:38:58.475Z"
   },
   {
    "duration": 53,
    "start_time": "2022-01-16T18:38:58.483Z"
   },
   {
    "duration": 611,
    "start_time": "2022-01-16T18:38:58.538Z"
   },
   {
    "duration": 12,
    "start_time": "2022-01-16T18:38:59.151Z"
   },
   {
    "duration": 15,
    "start_time": "2022-01-16T18:38:59.165Z"
   },
   {
    "duration": 9,
    "start_time": "2022-01-16T18:38:59.182Z"
   },
   {
    "duration": 6,
    "start_time": "2022-01-16T18:38:59.193Z"
   },
   {
    "duration": 26,
    "start_time": "2022-01-16T18:38:59.201Z"
   },
   {
    "duration": 6,
    "start_time": "2022-01-16T18:38:59.229Z"
   },
   {
    "duration": 8,
    "start_time": "2022-01-16T18:38:59.237Z"
   },
   {
    "duration": 16,
    "start_time": "2022-01-16T18:38:59.246Z"
   },
   {
    "duration": 6,
    "start_time": "2022-01-16T18:38:59.264Z"
   },
   {
    "duration": 16,
    "start_time": "2022-01-16T18:38:59.272Z"
   },
   {
    "duration": 39,
    "start_time": "2022-01-16T18:38:59.289Z"
   },
   {
    "duration": 13,
    "start_time": "2022-01-16T18:38:59.329Z"
   },
   {
    "duration": 12,
    "start_time": "2022-01-16T18:38:59.344Z"
   },
   {
    "duration": 877,
    "start_time": "2022-01-16T18:45:57.411Z"
   },
   {
    "duration": 9,
    "start_time": "2022-01-16T18:45:58.290Z"
   },
   {
    "duration": 4,
    "start_time": "2022-01-16T18:45:58.301Z"
   },
   {
    "duration": 7,
    "start_time": "2022-01-16T18:45:58.306Z"
   },
   {
    "duration": 19,
    "start_time": "2022-01-16T18:45:58.314Z"
   },
   {
    "duration": 10,
    "start_time": "2022-01-16T18:45:58.335Z"
   },
   {
    "duration": 5,
    "start_time": "2022-01-16T18:45:58.346Z"
   },
   {
    "duration": 4,
    "start_time": "2022-01-16T18:45:58.353Z"
   },
   {
    "duration": 32,
    "start_time": "2022-01-16T18:45:58.359Z"
   },
   {
    "duration": 58,
    "start_time": "2022-01-16T18:45:58.393Z"
   },
   {
    "duration": 10,
    "start_time": "2022-01-16T18:45:58.452Z"
   },
   {
    "duration": 4,
    "start_time": "2022-01-16T18:45:58.464Z"
   },
   {
    "duration": 5,
    "start_time": "2022-01-16T18:45:58.469Z"
   },
   {
    "duration": 11,
    "start_time": "2022-01-16T18:45:58.475Z"
   },
   {
    "duration": 40,
    "start_time": "2022-01-16T18:45:58.488Z"
   },
   {
    "duration": 6,
    "start_time": "2022-01-16T18:45:58.529Z"
   },
   {
    "duration": 22,
    "start_time": "2022-01-16T18:45:58.537Z"
   },
   {
    "duration": 11,
    "start_time": "2022-01-16T18:45:58.561Z"
   },
   {
    "duration": 6,
    "start_time": "2022-01-16T18:45:58.574Z"
   },
   {
    "duration": 5,
    "start_time": "2022-01-16T18:45:58.581Z"
   },
   {
    "duration": 39,
    "start_time": "2022-01-16T18:45:58.588Z"
   },
   {
    "duration": 11,
    "start_time": "2022-01-16T18:45:58.629Z"
   },
   {
    "duration": 6,
    "start_time": "2022-01-16T18:45:58.644Z"
   },
   {
    "duration": 11,
    "start_time": "2022-01-16T18:45:58.652Z"
   },
   {
    "duration": 8,
    "start_time": "2022-01-16T18:45:58.665Z"
   },
   {
    "duration": 5,
    "start_time": "2022-01-16T18:45:58.675Z"
   },
   {
    "duration": 45,
    "start_time": "2022-01-16T18:45:58.682Z"
   },
   {
    "duration": 6,
    "start_time": "2022-01-16T18:45:58.728Z"
   },
   {
    "duration": 6,
    "start_time": "2022-01-16T18:45:58.735Z"
   },
   {
    "duration": 10,
    "start_time": "2022-01-16T18:45:58.743Z"
   },
   {
    "duration": 5,
    "start_time": "2022-01-16T18:45:58.755Z"
   },
   {
    "duration": 14,
    "start_time": "2022-01-16T18:45:58.761Z"
   },
   {
    "duration": 8,
    "start_time": "2022-01-16T18:45:58.776Z"
   },
   {
    "duration": 6,
    "start_time": "2022-01-16T18:45:58.785Z"
   },
   {
    "duration": 8,
    "start_time": "2022-01-16T18:45:58.792Z"
   },
   {
    "duration": 41,
    "start_time": "2022-01-16T18:45:58.802Z"
   },
   {
    "duration": 611,
    "start_time": "2022-01-16T18:45:58.845Z"
   },
   {
    "duration": 12,
    "start_time": "2022-01-16T18:45:59.459Z"
   },
   {
    "duration": 14,
    "start_time": "2022-01-16T18:45:59.472Z"
   },
   {
    "duration": 8,
    "start_time": "2022-01-16T18:45:59.488Z"
   },
   {
    "duration": 7,
    "start_time": "2022-01-16T18:45:59.497Z"
   },
   {
    "duration": 8,
    "start_time": "2022-01-16T18:45:59.526Z"
   },
   {
    "duration": 5,
    "start_time": "2022-01-16T18:45:59.536Z"
   },
   {
    "duration": 7,
    "start_time": "2022-01-16T18:45:59.542Z"
   },
   {
    "duration": 13,
    "start_time": "2022-01-16T18:45:59.551Z"
   },
   {
    "duration": 7,
    "start_time": "2022-01-16T18:45:59.566Z"
   },
   {
    "duration": 18,
    "start_time": "2022-01-16T18:45:59.575Z"
   },
   {
    "duration": 36,
    "start_time": "2022-01-16T18:45:59.595Z"
   },
   {
    "duration": 13,
    "start_time": "2022-01-16T18:45:59.633Z"
   },
   {
    "duration": 12,
    "start_time": "2022-01-16T18:45:59.647Z"
   },
   {
    "duration": 1110,
    "start_time": "2022-01-17T14:17:34.059Z"
   },
   {
    "duration": 17,
    "start_time": "2022-01-17T14:17:35.173Z"
   },
   {
    "duration": 217,
    "start_time": "2022-01-17T14:17:35.193Z"
   },
   {
    "duration": 188,
    "start_time": "2022-01-17T14:17:35.413Z"
   },
   {
    "duration": 190,
    "start_time": "2022-01-17T14:17:35.604Z"
   },
   {
    "duration": 160,
    "start_time": "2022-01-17T14:17:35.796Z"
   },
   {
    "duration": 189,
    "start_time": "2022-01-17T14:17:35.959Z"
   },
   {
    "duration": 205,
    "start_time": "2022-01-17T14:17:36.153Z"
   },
   {
    "duration": 242,
    "start_time": "2022-01-17T14:17:36.362Z"
   },
   {
    "duration": 250,
    "start_time": "2022-01-17T14:17:36.607Z"
   },
   {
    "duration": 137,
    "start_time": "2022-01-17T14:17:36.859Z"
   },
   {
    "duration": 258,
    "start_time": "2022-01-17T14:17:36.998Z"
   },
   {
    "duration": 172,
    "start_time": "2022-01-17T14:17:37.258Z"
   },
   {
    "duration": 156,
    "start_time": "2022-01-17T14:17:37.433Z"
   },
   {
    "duration": 233,
    "start_time": "2022-01-17T14:17:37.591Z"
   },
   {
    "duration": 308,
    "start_time": "2022-01-17T14:17:37.827Z"
   },
   {
    "duration": 298,
    "start_time": "2022-01-17T14:17:38.137Z"
   },
   {
    "duration": 273,
    "start_time": "2022-01-17T14:17:38.437Z"
   },
   {
    "duration": 156,
    "start_time": "2022-01-17T14:17:38.712Z"
   },
   {
    "duration": 165,
    "start_time": "2022-01-17T14:17:38.871Z"
   },
   {
    "duration": 265,
    "start_time": "2022-01-17T14:17:39.039Z"
   },
   {
    "duration": 202,
    "start_time": "2022-01-17T14:17:39.307Z"
   },
   {
    "duration": 187,
    "start_time": "2022-01-17T14:17:39.511Z"
   },
   {
    "duration": 189,
    "start_time": "2022-01-17T14:17:39.701Z"
   },
   {
    "duration": 166,
    "start_time": "2022-01-17T14:17:39.892Z"
   },
   {
    "duration": 179,
    "start_time": "2022-01-17T14:17:40.063Z"
   },
   {
    "duration": 164,
    "start_time": "2022-01-17T14:17:40.245Z"
   },
   {
    "duration": 185,
    "start_time": "2022-01-17T14:17:40.411Z"
   },
   {
    "duration": 211,
    "start_time": "2022-01-17T14:17:40.598Z"
   },
   {
    "duration": 190,
    "start_time": "2022-01-17T14:17:40.811Z"
   },
   {
    "duration": 160,
    "start_time": "2022-01-17T14:17:41.003Z"
   },
   {
    "duration": 190,
    "start_time": "2022-01-17T14:17:41.165Z"
   },
   {
    "duration": 209,
    "start_time": "2022-01-17T14:17:41.357Z"
   },
   {
    "duration": 202,
    "start_time": "2022-01-17T14:17:41.568Z"
   },
   {
    "duration": 210,
    "start_time": "2022-01-17T14:17:41.772Z"
   },
   {
    "duration": 265,
    "start_time": "2022-01-17T14:17:41.984Z"
   },
   {
    "duration": 1075,
    "start_time": "2022-01-17T14:17:42.251Z"
   },
   {
    "duration": 20,
    "start_time": "2022-01-17T14:17:43.329Z"
   },
   {
    "duration": 208,
    "start_time": "2022-01-17T14:17:43.352Z"
   },
   {
    "duration": 238,
    "start_time": "2022-01-17T14:17:43.562Z"
   },
   {
    "duration": 451,
    "start_time": "2022-01-17T14:17:43.803Z"
   },
   {
    "duration": 282,
    "start_time": "2022-01-17T14:17:44.256Z"
   },
   {
    "duration": 207,
    "start_time": "2022-01-17T14:17:44.541Z"
   },
   {
    "duration": 210,
    "start_time": "2022-01-17T14:17:44.751Z"
   },
   {
    "duration": 259,
    "start_time": "2022-01-17T14:17:44.963Z"
   },
   {
    "duration": 306,
    "start_time": "2022-01-17T14:17:45.224Z"
   },
   {
    "duration": 296,
    "start_time": "2022-01-17T14:17:45.533Z"
   },
   {
    "duration": 327,
    "start_time": "2022-01-17T14:17:45.832Z"
   },
   {
    "duration": 159,
    "start_time": "2022-01-17T14:17:46.162Z"
   },
   {
    "duration": 182,
    "start_time": "2022-01-17T14:17:46.324Z"
   }
  ],
  "kernelspec": {
   "display_name": "Python 3 (ipykernel)",
   "language": "python",
   "name": "python3"
  },
  "language_info": {
   "codemirror_mode": {
    "name": "ipython",
    "version": 3
   },
   "file_extension": ".py",
   "mimetype": "text/x-python",
   "name": "python",
   "nbconvert_exporter": "python",
   "pygments_lexer": "ipython3",
   "version": "3.9.7"
  },
  "toc": {
   "base_numbering": 1,
   "nav_menu": {},
   "number_sections": true,
   "sideBar": true,
   "skip_h1_title": true,
   "title_cell": "Table of Contents",
   "title_sidebar": "Contents",
   "toc_cell": false,
   "toc_position": {},
   "toc_section_display": true,
   "toc_window_display": false
  }
 },
 "nbformat": 4,
 "nbformat_minor": 2
}
