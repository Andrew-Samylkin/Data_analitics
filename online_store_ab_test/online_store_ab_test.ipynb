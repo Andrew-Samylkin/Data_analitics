{
 "cells": [
  {
   "cell_type": "markdown",
   "id": "f6ae2a80",
   "metadata": {},
   "source": [
    "# Приоритезация гипотез и проведение A/B теста интернет-магазина"
   ]
  },
  {
   "cell_type": "markdown",
   "id": "e7914b87",
   "metadata": {},
   "source": [
    "# Задача :\n",
    " * Произвести приоритезацию списка гипотез для увеличения прибыли\n",
    " * На основании приоритезированного списка провести A/B-тест проанализировать результаты"
   ]
  },
  {
   "cell_type": "markdown",
   "id": "cc6c120a",
   "metadata": {},
   "source": [
    "## Загрузка данных и подготовка их к анализу"
   ]
  },
  {
   "cell_type": "markdown",
   "id": "a940c8e9",
   "metadata": {},
   "source": [
    "###  Загрузка файлов и импорт библиотек"
   ]
  },
  {
   "cell_type": "code",
   "execution_count": 1,
   "id": "89093e4c",
   "metadata": {},
   "outputs": [],
   "source": [
    "import pandas as pd\n",
    "import numpy as np\n",
    "import math \n",
    "import datetime as dt\n",
    "import scipy.stats as stats\n",
    "import seaborn as sns\n",
    "from scipy import stats as st\n",
    "import random\n",
    "from datetime import datetime, timedelta\n",
    "pd.set_option('display.max_columns', 40)"
   ]
  },
  {
   "cell_type": "code",
   "execution_count": 2,
   "id": "0fc428ea",
   "metadata": {},
   "outputs": [],
   "source": [
    "import matplotlib.pyplot as plt"
   ]
  },
  {
   "cell_type": "code",
   "execution_count": 3,
   "id": "546a685f",
   "metadata": {},
   "outputs": [],
   "source": [
    "try:\n",
    "    hypothesis, orders, visitors = ( \n",
    "        pd.read_csv('hypothesis.csv'), # список гипотез\n",
    "        pd.read_csv('orders.csv'), # журнал покупок\n",
    "        pd.read_csv('visitors.csv'),  # траты на рекламу\n",
    "    \n",
    "    )\n",
    "except:\n",
    "    hypothesis, orders, visitors = ( \n",
    "        pd.read_csv('/datasets/hypothesis.csv'),\n",
    "        pd.read_csv('/datasets/orders.csv'),\n",
    "        pd.read_csv('/datasets/visitors.csv'),\n",
    "    )"
   ]
  },
  {
   "cell_type": "markdown",
   "id": "cea25d03",
   "metadata": {},
   "source": [
    "### Знакомство с данными и предобработка"
   ]
  },
  {
   "cell_type": "code",
   "execution_count": 4,
   "id": "340b16a4",
   "metadata": {},
   "outputs": [
    {
     "data": {
      "text/html": [
       "<div>\n",
       "<style scoped>\n",
       "    .dataframe tbody tr th:only-of-type {\n",
       "        vertical-align: middle;\n",
       "    }\n",
       "\n",
       "    .dataframe tbody tr th {\n",
       "        vertical-align: top;\n",
       "    }\n",
       "\n",
       "    .dataframe thead th {\n",
       "        text-align: right;\n",
       "    }\n",
       "</style>\n",
       "<table border=\"1\" class=\"dataframe\">\n",
       "  <thead>\n",
       "    <tr style=\"text-align: right;\">\n",
       "      <th></th>\n",
       "      <th>Hypothesis</th>\n",
       "      <th>Reach</th>\n",
       "      <th>Impact</th>\n",
       "      <th>Confidence</th>\n",
       "      <th>Efforts</th>\n",
       "    </tr>\n",
       "  </thead>\n",
       "  <tbody>\n",
       "    <tr>\n",
       "      <th>0</th>\n",
       "      <td>Добавить два новых канала привлечения трафика,...</td>\n",
       "      <td>3</td>\n",
       "      <td>10</td>\n",
       "      <td>8</td>\n",
       "      <td>6</td>\n",
       "    </tr>\n",
       "    <tr>\n",
       "      <th>1</th>\n",
       "      <td>Запустить собственную службу доставки, что сок...</td>\n",
       "      <td>2</td>\n",
       "      <td>5</td>\n",
       "      <td>4</td>\n",
       "      <td>10</td>\n",
       "    </tr>\n",
       "    <tr>\n",
       "      <th>2</th>\n",
       "      <td>Добавить блоки рекомендаций товаров на сайт ин...</td>\n",
       "      <td>8</td>\n",
       "      <td>3</td>\n",
       "      <td>7</td>\n",
       "      <td>3</td>\n",
       "    </tr>\n",
       "    <tr>\n",
       "      <th>3</th>\n",
       "      <td>Изменить структура категорий, что увеличит кон...</td>\n",
       "      <td>8</td>\n",
       "      <td>3</td>\n",
       "      <td>3</td>\n",
       "      <td>8</td>\n",
       "    </tr>\n",
       "    <tr>\n",
       "      <th>4</th>\n",
       "      <td>Изменить цвет фона главной страницы, чтобы уве...</td>\n",
       "      <td>3</td>\n",
       "      <td>1</td>\n",
       "      <td>1</td>\n",
       "      <td>1</td>\n",
       "    </tr>\n",
       "    <tr>\n",
       "      <th>5</th>\n",
       "      <td>Добавить страницу отзывов клиентов о магазине,...</td>\n",
       "      <td>3</td>\n",
       "      <td>2</td>\n",
       "      <td>2</td>\n",
       "      <td>3</td>\n",
       "    </tr>\n",
       "    <tr>\n",
       "      <th>6</th>\n",
       "      <td>Показать на главной странице баннеры с актуаль...</td>\n",
       "      <td>5</td>\n",
       "      <td>3</td>\n",
       "      <td>8</td>\n",
       "      <td>3</td>\n",
       "    </tr>\n",
       "    <tr>\n",
       "      <th>7</th>\n",
       "      <td>Добавить форму подписки на все основные страни...</td>\n",
       "      <td>10</td>\n",
       "      <td>7</td>\n",
       "      <td>8</td>\n",
       "      <td>5</td>\n",
       "    </tr>\n",
       "    <tr>\n",
       "      <th>8</th>\n",
       "      <td>Запустить акцию, дающую скидку на товар в день...</td>\n",
       "      <td>1</td>\n",
       "      <td>9</td>\n",
       "      <td>9</td>\n",
       "      <td>5</td>\n",
       "    </tr>\n",
       "  </tbody>\n",
       "</table>\n",
       "</div>"
      ],
      "text/plain": [
       "                                          Hypothesis  Reach  Impact  \\\n",
       "0  Добавить два новых канала привлечения трафика,...      3      10   \n",
       "1  Запустить собственную службу доставки, что сок...      2       5   \n",
       "2  Добавить блоки рекомендаций товаров на сайт ин...      8       3   \n",
       "3  Изменить структура категорий, что увеличит кон...      8       3   \n",
       "4  Изменить цвет фона главной страницы, чтобы уве...      3       1   \n",
       "5  Добавить страницу отзывов клиентов о магазине,...      3       2   \n",
       "6  Показать на главной странице баннеры с актуаль...      5       3   \n",
       "7  Добавить форму подписки на все основные страни...     10       7   \n",
       "8  Запустить акцию, дающую скидку на товар в день...      1       9   \n",
       "\n",
       "   Confidence  Efforts  \n",
       "0           8        6  \n",
       "1           4       10  \n",
       "2           7        3  \n",
       "3           3        8  \n",
       "4           1        1  \n",
       "5           2        3  \n",
       "6           8        3  \n",
       "7           8        5  \n",
       "8           9        5  "
      ]
     },
     "execution_count": 4,
     "metadata": {},
     "output_type": "execute_result"
    }
   ],
   "source": [
    "hypothesis"
   ]
  },
  {
   "cell_type": "code",
   "execution_count": 5,
   "id": "e7f5f829",
   "metadata": {},
   "outputs": [
    {
     "name": "stdout",
     "output_type": "stream",
     "text": [
      "<class 'pandas.core.frame.DataFrame'>\n",
      "RangeIndex: 9 entries, 0 to 8\n",
      "Data columns (total 5 columns):\n",
      " #   Column      Non-Null Count  Dtype \n",
      "---  ------      --------------  ----- \n",
      " 0   Hypothesis  9 non-null      object\n",
      " 1   Reach       9 non-null      int64 \n",
      " 2   Impact      9 non-null      int64 \n",
      " 3   Confidence  9 non-null      int64 \n",
      " 4   Efforts     9 non-null      int64 \n",
      "dtypes: int64(4), object(1)\n",
      "memory usage: 488.0+ bytes\n"
     ]
    }
   ],
   "source": [
    "hypothesis.info()"
   ]
  },
  {
   "cell_type": "markdown",
   "id": "7b814ac0",
   "metadata": {},
   "source": [
    "* Hypothesis - краткое описание гипотезы\n",
    "* Reach - охват пользователей по 10-балльной шкале\n",
    "* Impact - влияние на пользователей по 10-балльной шкале\n",
    "* Confidence - уверенность в гипотезе по 10-балльной шкале\n",
    "* Efforts - затраты ресурсов на проверку гипотезы по 10-балльной шкале. "
   ]
  },
  {
   "cell_type": "code",
   "execution_count": 6,
   "id": "e4d0deb0",
   "metadata": {},
   "outputs": [
    {
     "data": {
      "text/html": [
       "<div>\n",
       "<style scoped>\n",
       "    .dataframe tbody tr th:only-of-type {\n",
       "        vertical-align: middle;\n",
       "    }\n",
       "\n",
       "    .dataframe tbody tr th {\n",
       "        vertical-align: top;\n",
       "    }\n",
       "\n",
       "    .dataframe thead th {\n",
       "        text-align: right;\n",
       "    }\n",
       "</style>\n",
       "<table border=\"1\" class=\"dataframe\">\n",
       "  <thead>\n",
       "    <tr style=\"text-align: right;\">\n",
       "      <th></th>\n",
       "      <th>transactionId</th>\n",
       "      <th>visitorId</th>\n",
       "      <th>date</th>\n",
       "      <th>revenue</th>\n",
       "      <th>group</th>\n",
       "    </tr>\n",
       "  </thead>\n",
       "  <tbody>\n",
       "    <tr>\n",
       "      <th>0</th>\n",
       "      <td>3667963787</td>\n",
       "      <td>3312258926</td>\n",
       "      <td>2019-08-15</td>\n",
       "      <td>1650</td>\n",
       "      <td>B</td>\n",
       "    </tr>\n",
       "    <tr>\n",
       "      <th>1</th>\n",
       "      <td>2804400009</td>\n",
       "      <td>3642806036</td>\n",
       "      <td>2019-08-15</td>\n",
       "      <td>730</td>\n",
       "      <td>B</td>\n",
       "    </tr>\n",
       "    <tr>\n",
       "      <th>2</th>\n",
       "      <td>2961555356</td>\n",
       "      <td>4069496402</td>\n",
       "      <td>2019-08-15</td>\n",
       "      <td>400</td>\n",
       "      <td>A</td>\n",
       "    </tr>\n",
       "    <tr>\n",
       "      <th>3</th>\n",
       "      <td>3797467345</td>\n",
       "      <td>1196621759</td>\n",
       "      <td>2019-08-15</td>\n",
       "      <td>9759</td>\n",
       "      <td>B</td>\n",
       "    </tr>\n",
       "    <tr>\n",
       "      <th>4</th>\n",
       "      <td>2282983706</td>\n",
       "      <td>2322279887</td>\n",
       "      <td>2019-08-15</td>\n",
       "      <td>2308</td>\n",
       "      <td>B</td>\n",
       "    </tr>\n",
       "    <tr>\n",
       "      <th>...</th>\n",
       "      <td>...</td>\n",
       "      <td>...</td>\n",
       "      <td>...</td>\n",
       "      <td>...</td>\n",
       "      <td>...</td>\n",
       "    </tr>\n",
       "    <tr>\n",
       "      <th>1192</th>\n",
       "      <td>2662137336</td>\n",
       "      <td>3733762160</td>\n",
       "      <td>2019-08-14</td>\n",
       "      <td>6490</td>\n",
       "      <td>B</td>\n",
       "    </tr>\n",
       "    <tr>\n",
       "      <th>1193</th>\n",
       "      <td>2203539145</td>\n",
       "      <td>370388673</td>\n",
       "      <td>2019-08-14</td>\n",
       "      <td>3190</td>\n",
       "      <td>A</td>\n",
       "    </tr>\n",
       "    <tr>\n",
       "      <th>1194</th>\n",
       "      <td>1807773912</td>\n",
       "      <td>573423106</td>\n",
       "      <td>2019-08-14</td>\n",
       "      <td>10550</td>\n",
       "      <td>A</td>\n",
       "    </tr>\n",
       "    <tr>\n",
       "      <th>1195</th>\n",
       "      <td>1947021204</td>\n",
       "      <td>1614305549</td>\n",
       "      <td>2019-08-14</td>\n",
       "      <td>100</td>\n",
       "      <td>A</td>\n",
       "    </tr>\n",
       "    <tr>\n",
       "      <th>1196</th>\n",
       "      <td>3936777065</td>\n",
       "      <td>2108080724</td>\n",
       "      <td>2019-08-15</td>\n",
       "      <td>202740</td>\n",
       "      <td>B</td>\n",
       "    </tr>\n",
       "  </tbody>\n",
       "</table>\n",
       "<p>1197 rows × 5 columns</p>\n",
       "</div>"
      ],
      "text/plain": [
       "      transactionId   visitorId        date  revenue group\n",
       "0        3667963787  3312258926  2019-08-15     1650     B\n",
       "1        2804400009  3642806036  2019-08-15      730     B\n",
       "2        2961555356  4069496402  2019-08-15      400     A\n",
       "3        3797467345  1196621759  2019-08-15     9759     B\n",
       "4        2282983706  2322279887  2019-08-15     2308     B\n",
       "...             ...         ...         ...      ...   ...\n",
       "1192     2662137336  3733762160  2019-08-14     6490     B\n",
       "1193     2203539145   370388673  2019-08-14     3190     A\n",
       "1194     1807773912   573423106  2019-08-14    10550     A\n",
       "1195     1947021204  1614305549  2019-08-14      100     A\n",
       "1196     3936777065  2108080724  2019-08-15   202740     B\n",
       "\n",
       "[1197 rows x 5 columns]"
      ]
     },
     "execution_count": 6,
     "metadata": {},
     "output_type": "execute_result"
    }
   ],
   "source": [
    "orders"
   ]
  },
  {
   "cell_type": "code",
   "execution_count": 7,
   "id": "5b5f372d",
   "metadata": {},
   "outputs": [
    {
     "name": "stdout",
     "output_type": "stream",
     "text": [
      "<class 'pandas.core.frame.DataFrame'>\n",
      "RangeIndex: 1197 entries, 0 to 1196\n",
      "Data columns (total 5 columns):\n",
      " #   Column         Non-Null Count  Dtype \n",
      "---  ------         --------------  ----- \n",
      " 0   transactionId  1197 non-null   int64 \n",
      " 1   visitorId      1197 non-null   int64 \n",
      " 2   date           1197 non-null   object\n",
      " 3   revenue        1197 non-null   int64 \n",
      " 4   group          1197 non-null   object\n",
      "dtypes: int64(3), object(2)\n",
      "memory usage: 46.9+ KB\n"
     ]
    }
   ],
   "source": [
    "orders.info()"
   ]
  },
  {
   "cell_type": "markdown",
   "id": "9911b976",
   "metadata": {},
   "source": [
    "* transactionId - индификатор заказа\n",
    "* visitorId - индикатор пользователя совершившего заказ\n",
    "* date - дата, когда был совершен заказ\n",
    "* revenue - выручка заказа\n",
    "* group - группа A/B-теста , в которую попал заказ"
   ]
  },
  {
   "cell_type": "code",
   "execution_count": 8,
   "id": "5b097e4a",
   "metadata": {},
   "outputs": [],
   "source": [
    "orders['date'] = orders['date'].map(\n",
    "    lambda x: dt.datetime.strptime(x, '%Y-%m-%d')\n",
    ")"
   ]
  },
  {
   "cell_type": "code",
   "execution_count": 9,
   "id": "d7f04b06",
   "metadata": {},
   "outputs": [
    {
     "data": {
      "text/html": [
       "<div>\n",
       "<style scoped>\n",
       "    .dataframe tbody tr th:only-of-type {\n",
       "        vertical-align: middle;\n",
       "    }\n",
       "\n",
       "    .dataframe tbody tr th {\n",
       "        vertical-align: top;\n",
       "    }\n",
       "\n",
       "    .dataframe thead th {\n",
       "        text-align: right;\n",
       "    }\n",
       "</style>\n",
       "<table border=\"1\" class=\"dataframe\">\n",
       "  <thead>\n",
       "    <tr style=\"text-align: right;\">\n",
       "      <th></th>\n",
       "      <th>date</th>\n",
       "      <th>group</th>\n",
       "      <th>visitors</th>\n",
       "    </tr>\n",
       "  </thead>\n",
       "  <tbody>\n",
       "    <tr>\n",
       "      <th>0</th>\n",
       "      <td>2019-08-01</td>\n",
       "      <td>A</td>\n",
       "      <td>719</td>\n",
       "    </tr>\n",
       "    <tr>\n",
       "      <th>1</th>\n",
       "      <td>2019-08-02</td>\n",
       "      <td>A</td>\n",
       "      <td>619</td>\n",
       "    </tr>\n",
       "    <tr>\n",
       "      <th>2</th>\n",
       "      <td>2019-08-03</td>\n",
       "      <td>A</td>\n",
       "      <td>507</td>\n",
       "    </tr>\n",
       "    <tr>\n",
       "      <th>3</th>\n",
       "      <td>2019-08-04</td>\n",
       "      <td>A</td>\n",
       "      <td>717</td>\n",
       "    </tr>\n",
       "    <tr>\n",
       "      <th>4</th>\n",
       "      <td>2019-08-05</td>\n",
       "      <td>A</td>\n",
       "      <td>756</td>\n",
       "    </tr>\n",
       "    <tr>\n",
       "      <th>...</th>\n",
       "      <td>...</td>\n",
       "      <td>...</td>\n",
       "      <td>...</td>\n",
       "    </tr>\n",
       "    <tr>\n",
       "      <th>57</th>\n",
       "      <td>2019-08-27</td>\n",
       "      <td>B</td>\n",
       "      <td>720</td>\n",
       "    </tr>\n",
       "    <tr>\n",
       "      <th>58</th>\n",
       "      <td>2019-08-28</td>\n",
       "      <td>B</td>\n",
       "      <td>654</td>\n",
       "    </tr>\n",
       "    <tr>\n",
       "      <th>59</th>\n",
       "      <td>2019-08-29</td>\n",
       "      <td>B</td>\n",
       "      <td>531</td>\n",
       "    </tr>\n",
       "    <tr>\n",
       "      <th>60</th>\n",
       "      <td>2019-08-30</td>\n",
       "      <td>B</td>\n",
       "      <td>490</td>\n",
       "    </tr>\n",
       "    <tr>\n",
       "      <th>61</th>\n",
       "      <td>2019-08-31</td>\n",
       "      <td>B</td>\n",
       "      <td>718</td>\n",
       "    </tr>\n",
       "  </tbody>\n",
       "</table>\n",
       "<p>62 rows × 3 columns</p>\n",
       "</div>"
      ],
      "text/plain": [
       "          date group  visitors\n",
       "0   2019-08-01     A       719\n",
       "1   2019-08-02     A       619\n",
       "2   2019-08-03     A       507\n",
       "3   2019-08-04     A       717\n",
       "4   2019-08-05     A       756\n",
       "..         ...   ...       ...\n",
       "57  2019-08-27     B       720\n",
       "58  2019-08-28     B       654\n",
       "59  2019-08-29     B       531\n",
       "60  2019-08-30     B       490\n",
       "61  2019-08-31     B       718\n",
       "\n",
       "[62 rows x 3 columns]"
      ]
     },
     "execution_count": 9,
     "metadata": {},
     "output_type": "execute_result"
    }
   ],
   "source": [
    "visitors"
   ]
  },
  {
   "cell_type": "code",
   "execution_count": 10,
   "id": "a950625e",
   "metadata": {},
   "outputs": [
    {
     "name": "stdout",
     "output_type": "stream",
     "text": [
      "<class 'pandas.core.frame.DataFrame'>\n",
      "RangeIndex: 62 entries, 0 to 61\n",
      "Data columns (total 3 columns):\n",
      " #   Column    Non-Null Count  Dtype \n",
      "---  ------    --------------  ----- \n",
      " 0   date      62 non-null     object\n",
      " 1   group     62 non-null     object\n",
      " 2   visitors  62 non-null     int64 \n",
      "dtypes: int64(1), object(2)\n",
      "memory usage: 1.6+ KB\n"
     ]
    }
   ],
   "source": [
    "visitors.info()"
   ]
  },
  {
   "cell_type": "markdown",
   "id": "b5c1de86",
   "metadata": {},
   "source": [
    "* date -дата\n",
    "* group - группа A/B-тестов\n",
    "* visitors - количество пользователей в указанную дату в указанной группе A/B-теста "
   ]
  },
  {
   "cell_type": "code",
   "execution_count": 11,
   "id": "e7d2dd2a",
   "metadata": {},
   "outputs": [],
   "source": [
    "visitors['date'] = visitors['date'].map(\n",
    "    lambda x: dt.datetime.strptime(x, '%Y-%m-%d')\n",
    ")"
   ]
  },
  {
   "cell_type": "code",
   "execution_count": 12,
   "id": "c73ec4ac",
   "metadata": {},
   "outputs": [
    {
     "name": "stdout",
     "output_type": "stream",
     "text": [
      "<class 'pandas.core.frame.DataFrame'>\n",
      "RangeIndex: 1197 entries, 0 to 1196\n",
      "Data columns (total 5 columns):\n",
      " #   Column         Non-Null Count  Dtype         \n",
      "---  ------         --------------  -----         \n",
      " 0   transactionId  1197 non-null   int64         \n",
      " 1   visitorId      1197 non-null   int64         \n",
      " 2   date           1197 non-null   datetime64[ns]\n",
      " 3   revenue        1197 non-null   int64         \n",
      " 4   group          1197 non-null   object        \n",
      "dtypes: datetime64[ns](1), int64(3), object(1)\n",
      "memory usage: 46.9+ KB\n"
     ]
    }
   ],
   "source": [
    "orders.info()"
   ]
  },
  {
   "cell_type": "code",
   "execution_count": 13,
   "id": "b90d85ba",
   "metadata": {},
   "outputs": [
    {
     "data": {
      "text/plain": [
       "58"
      ]
     },
     "execution_count": 13,
     "metadata": {},
     "output_type": "execute_result"
    }
   ],
   "source": [
    "# Проверим сколько юзеров есть встречаются в двух группах сразу и узнаем их ID\n",
    "bad_visitors = orders.groupby('visitorId').agg({'group' : 'nunique'}).reset_index()\n",
    "bad_visitors = bad_visitors.query('group >= 2')['visitorId']\n",
    "len(bad_visitors)"
   ]
  },
  {
   "cell_type": "code",
   "execution_count": 14,
   "id": "5877cfa5",
   "metadata": {},
   "outputs": [
    {
     "data": {
      "text/html": [
       "<div>\n",
       "<style scoped>\n",
       "    .dataframe tbody tr th:only-of-type {\n",
       "        vertical-align: middle;\n",
       "    }\n",
       "\n",
       "    .dataframe tbody tr th {\n",
       "        vertical-align: top;\n",
       "    }\n",
       "\n",
       "    .dataframe thead th {\n",
       "        text-align: right;\n",
       "    }\n",
       "</style>\n",
       "<table border=\"1\" class=\"dataframe\">\n",
       "  <thead>\n",
       "    <tr style=\"text-align: right;\">\n",
       "      <th></th>\n",
       "      <th>date</th>\n",
       "      <th>group</th>\n",
       "      <th>visitors</th>\n",
       "    </tr>\n",
       "  </thead>\n",
       "  <tbody>\n",
       "    <tr>\n",
       "      <th>0</th>\n",
       "      <td>2019-08-01</td>\n",
       "      <td>A</td>\n",
       "      <td>718</td>\n",
       "    </tr>\n",
       "    <tr>\n",
       "      <th>1</th>\n",
       "      <td>2019-08-02</td>\n",
       "      <td>A</td>\n",
       "      <td>618</td>\n",
       "    </tr>\n",
       "    <tr>\n",
       "      <th>2</th>\n",
       "      <td>2019-08-03</td>\n",
       "      <td>A</td>\n",
       "      <td>507</td>\n",
       "    </tr>\n",
       "    <tr>\n",
       "      <th>3</th>\n",
       "      <td>2019-08-04</td>\n",
       "      <td>A</td>\n",
       "      <td>712</td>\n",
       "    </tr>\n",
       "    <tr>\n",
       "      <th>4</th>\n",
       "      <td>2019-08-05</td>\n",
       "      <td>A</td>\n",
       "      <td>753</td>\n",
       "    </tr>\n",
       "    <tr>\n",
       "      <th>...</th>\n",
       "      <td>...</td>\n",
       "      <td>...</td>\n",
       "      <td>...</td>\n",
       "    </tr>\n",
       "    <tr>\n",
       "      <th>57</th>\n",
       "      <td>2019-08-27</td>\n",
       "      <td>B</td>\n",
       "      <td>715</td>\n",
       "    </tr>\n",
       "    <tr>\n",
       "      <th>58</th>\n",
       "      <td>2019-08-28</td>\n",
       "      <td>B</td>\n",
       "      <td>648</td>\n",
       "    </tr>\n",
       "    <tr>\n",
       "      <th>59</th>\n",
       "      <td>2019-08-29</td>\n",
       "      <td>B</td>\n",
       "      <td>526</td>\n",
       "    </tr>\n",
       "    <tr>\n",
       "      <th>60</th>\n",
       "      <td>2019-08-30</td>\n",
       "      <td>B</td>\n",
       "      <td>487</td>\n",
       "    </tr>\n",
       "    <tr>\n",
       "      <th>61</th>\n",
       "      <td>2019-08-31</td>\n",
       "      <td>B</td>\n",
       "      <td>715</td>\n",
       "    </tr>\n",
       "  </tbody>\n",
       "</table>\n",
       "<p>62 rows × 3 columns</p>\n",
       "</div>"
      ],
      "text/plain": [
       "         date group  visitors\n",
       "0  2019-08-01     A       718\n",
       "1  2019-08-02     A       618\n",
       "2  2019-08-03     A       507\n",
       "3  2019-08-04     A       712\n",
       "4  2019-08-05     A       753\n",
       "..        ...   ...       ...\n",
       "57 2019-08-27     B       715\n",
       "58 2019-08-28     B       648\n",
       "59 2019-08-29     B       526\n",
       "60 2019-08-30     B       487\n",
       "61 2019-08-31     B       715\n",
       "\n",
       "[62 rows x 3 columns]"
      ]
     },
     "execution_count": 14,
     "metadata": {},
     "output_type": "execute_result"
    }
   ],
   "source": [
    "# отфильруем только заказы 'плохих' пользователей\n",
    "orders_bad_visitors = orders[orders['visitorId'].isin(bad_visitors)]\n",
    "# сгруппируем эти заказы\n",
    "count_orders_bad_visitors = orders_bad_visitors.groupby(['date', 'group']).agg({'revenue': 'count'}).reset_index()\n",
    "# соединим таблицу общего количества визитов по группам и количиество визитов плохих пользователей по группе и дате\n",
    "visitors = visitors.merge(count_orders_bad_visitors, how='left', on=['date', 'group'])\n",
    "visitors = visitors.fillna(value={'revenue' : 0})\n",
    "visitors['visitors'] = visitors['visitors'] - visitors['revenue']\n",
    "visitors['visitors'] = visitors['visitors'].astype('int64')\n",
    "visitors.drop('revenue', axis=1, inplace=True)\n",
    "visitors"
   ]
  },
  {
   "cell_type": "code",
   "execution_count": 15,
   "id": "25c15bd8",
   "metadata": {},
   "outputs": [],
   "source": [
    "# удаляем заказы пользователей которые засветились в двух группах\n",
    "orders = orders[~(orders['visitorId'].isin(bad_visitors))]"
   ]
  },
  {
   "cell_type": "code",
   "execution_count": 16,
   "id": "aa45fd0c",
   "metadata": {},
   "outputs": [
    {
     "name": "stderr",
     "output_type": "stream",
     "text": [
      "/opt/conda/lib/python3.9/site-packages/pandas/core/frame.py:4441: SettingWithCopyWarning: \n",
      "A value is trying to be set on a copy of a slice from a DataFrame\n",
      "\n",
      "See the caveats in the documentation: https://pandas.pydata.org/pandas-docs/stable/user_guide/indexing.html#returning-a-view-versus-a-copy\n",
      "  return super().rename(\n"
     ]
    }
   ],
   "source": [
    "orders.rename(columns={'transactionId': 'orders', 'visitorId': 'buyers'}, inplace=True)"
   ]
  },
  {
   "cell_type": "markdown",
   "id": "36031115",
   "metadata": {},
   "source": [
    "Вывод:\n",
    "* Попусков в данных нет\n",
    "* Произведена замена типа данных столбцов содержащих дату с object на datetime"
   ]
  },
  {
   "cell_type": "markdown",
   "id": "dc2f5f68",
   "metadata": {},
   "source": [
    "## Приоритезация гипотез"
   ]
  },
  {
   "cell_type": "markdown",
   "id": "20db6e73",
   "metadata": {},
   "source": [
    "### Приоритезация гипотез с помощью фреймворка ICE"
   ]
  },
  {
   "cell_type": "markdown",
   "id": "b14a9616",
   "metadata": {},
   "source": [
    "Формула для расчета фреймворка ICE: \n",
    "$$ICE = \\frac{Impact * Confidence}{Efforts}$$"
   ]
  },
  {
   "cell_type": "code",
   "execution_count": 17,
   "id": "f7e77ffd",
   "metadata": {},
   "outputs": [
    {
     "name": "stdout",
     "output_type": "stream",
     "text": [
      "                                          Hypothesis        ICE\n",
      "8  Запустить акцию, дающую скидку на товар в день...  16.200000\n",
      "0  Добавить два новых канала привлечения трафика,...  13.333333\n",
      "7  Добавить форму подписки на все основные страни...  11.200000\n",
      "6  Показать на главной странице баннеры с актуаль...   8.000000\n",
      "2  Добавить блоки рекомендаций товаров на сайт ин...   7.000000\n",
      "1  Запустить собственную службу доставки, что сок...   2.000000\n",
      "5  Добавить страницу отзывов клиентов о магазине,...   1.333333\n",
      "3  Изменить структура категорий, что увеличит кон...   1.125000\n",
      "4  Изменить цвет фона главной страницы, чтобы уве...   1.000000\n"
     ]
    }
   ],
   "source": [
    "hypothesis['ICE'] = hypothesis['Impact'] * hypothesis['Confidence'] / hypothesis['Efforts']\n",
    "print(hypothesis[['Hypothesis', 'ICE']].sort_values(by='ICE', ascending=False))"
   ]
  },
  {
   "cell_type": "markdown",
   "id": "7d14038a",
   "metadata": {},
   "source": [
    "### Приоритезация гипотез с помощью фреймворка RICE"
   ]
  },
  {
   "cell_type": "markdown",
   "id": "7c21dcdc",
   "metadata": {},
   "source": [
    "Формула для расчета фреймворка RICE: \n",
    "$$RICE = \\frac{Reach * Impact * Confidence}{Efforts}$$"
   ]
  },
  {
   "cell_type": "code",
   "execution_count": 18,
   "id": "86557f95",
   "metadata": {},
   "outputs": [
    {
     "name": "stdout",
     "output_type": "stream",
     "text": [
      "                                          Hypothesis   RICE\n",
      "7  Добавить форму подписки на все основные страни...  112.0\n",
      "2  Добавить блоки рекомендаций товаров на сайт ин...   56.0\n",
      "0  Добавить два новых канала привлечения трафика,...   40.0\n",
      "6  Показать на главной странице баннеры с актуаль...   40.0\n",
      "8  Запустить акцию, дающую скидку на товар в день...   16.2\n",
      "3  Изменить структура категорий, что увеличит кон...    9.0\n",
      "1  Запустить собственную службу доставки, что сок...    4.0\n",
      "5  Добавить страницу отзывов клиентов о магазине,...    4.0\n",
      "4  Изменить цвет фона главной страницы, чтобы уве...    3.0\n"
     ]
    }
   ],
   "source": [
    "hypothesis['RICE'] = hypothesis['Reach'] * hypothesis['Impact'] * hypothesis['Confidence'] / hypothesis['Efforts']\n",
    "print(hypothesis[['Hypothesis', 'RICE']].sort_values(by='RICE', ascending=False))"
   ]
  },
  {
   "cell_type": "code",
   "execution_count": 19,
   "id": "8fb84e73",
   "metadata": {},
   "outputs": [
    {
     "data": {
      "text/html": [
       "<div>\n",
       "<style scoped>\n",
       "    .dataframe tbody tr th:only-of-type {\n",
       "        vertical-align: middle;\n",
       "    }\n",
       "\n",
       "    .dataframe tbody tr th {\n",
       "        vertical-align: top;\n",
       "    }\n",
       "\n",
       "    .dataframe thead th {\n",
       "        text-align: right;\n",
       "    }\n",
       "</style>\n",
       "<table border=\"1\" class=\"dataframe\">\n",
       "  <thead>\n",
       "    <tr style=\"text-align: right;\">\n",
       "      <th></th>\n",
       "      <th>Hypothesis</th>\n",
       "      <th>Reach</th>\n",
       "      <th>Impact</th>\n",
       "      <th>Confidence</th>\n",
       "      <th>Efforts</th>\n",
       "      <th>ICE</th>\n",
       "      <th>RICE</th>\n",
       "    </tr>\n",
       "  </thead>\n",
       "  <tbody>\n",
       "    <tr>\n",
       "      <th>7</th>\n",
       "      <td>Добавить форму подписки на все основные страницы, чтобы собрать базу клиентов для email-рассылок</td>\n",
       "      <td>10</td>\n",
       "      <td>7</td>\n",
       "      <td>8</td>\n",
       "      <td>5</td>\n",
       "      <td>11.200000</td>\n",
       "      <td>112.0</td>\n",
       "    </tr>\n",
       "    <tr>\n",
       "      <th>2</th>\n",
       "      <td>Добавить блоки рекомендаций товаров на сайт интернет магазина, чтобы повысить конверсию и средний чек заказа</td>\n",
       "      <td>8</td>\n",
       "      <td>3</td>\n",
       "      <td>7</td>\n",
       "      <td>3</td>\n",
       "      <td>7.000000</td>\n",
       "      <td>56.0</td>\n",
       "    </tr>\n",
       "    <tr>\n",
       "      <th>0</th>\n",
       "      <td>Добавить два новых канала привлечения трафика, что позволит привлекать на 30% больше пользователей</td>\n",
       "      <td>3</td>\n",
       "      <td>10</td>\n",
       "      <td>8</td>\n",
       "      <td>6</td>\n",
       "      <td>13.333333</td>\n",
       "      <td>40.0</td>\n",
       "    </tr>\n",
       "    <tr>\n",
       "      <th>6</th>\n",
       "      <td>Показать на главной странице баннеры с актуальными акциями и распродажами, чтобы увеличить конверсию</td>\n",
       "      <td>5</td>\n",
       "      <td>3</td>\n",
       "      <td>8</td>\n",
       "      <td>3</td>\n",
       "      <td>8.000000</td>\n",
       "      <td>40.0</td>\n",
       "    </tr>\n",
       "    <tr>\n",
       "      <th>8</th>\n",
       "      <td>Запустить акцию, дающую скидку на товар в день рождения</td>\n",
       "      <td>1</td>\n",
       "      <td>9</td>\n",
       "      <td>9</td>\n",
       "      <td>5</td>\n",
       "      <td>16.200000</td>\n",
       "      <td>16.2</td>\n",
       "    </tr>\n",
       "    <tr>\n",
       "      <th>3</th>\n",
       "      <td>Изменить структура категорий, что увеличит конверсию, т.к. пользователи быстрее найдут нужный товар</td>\n",
       "      <td>8</td>\n",
       "      <td>3</td>\n",
       "      <td>3</td>\n",
       "      <td>8</td>\n",
       "      <td>1.125000</td>\n",
       "      <td>9.0</td>\n",
       "    </tr>\n",
       "    <tr>\n",
       "      <th>1</th>\n",
       "      <td>Запустить собственную службу доставки, что сократит срок доставки заказов</td>\n",
       "      <td>2</td>\n",
       "      <td>5</td>\n",
       "      <td>4</td>\n",
       "      <td>10</td>\n",
       "      <td>2.000000</td>\n",
       "      <td>4.0</td>\n",
       "    </tr>\n",
       "    <tr>\n",
       "      <th>5</th>\n",
       "      <td>Добавить страницу отзывов клиентов о магазине, что позволит увеличить количество заказов</td>\n",
       "      <td>3</td>\n",
       "      <td>2</td>\n",
       "      <td>2</td>\n",
       "      <td>3</td>\n",
       "      <td>1.333333</td>\n",
       "      <td>4.0</td>\n",
       "    </tr>\n",
       "    <tr>\n",
       "      <th>4</th>\n",
       "      <td>Изменить цвет фона главной страницы, чтобы увеличить вовлеченность пользователей</td>\n",
       "      <td>3</td>\n",
       "      <td>1</td>\n",
       "      <td>1</td>\n",
       "      <td>1</td>\n",
       "      <td>1.000000</td>\n",
       "      <td>3.0</td>\n",
       "    </tr>\n",
       "  </tbody>\n",
       "</table>\n",
       "</div>"
      ],
      "text/plain": [
       "                                                                                                     Hypothesis  \\\n",
       "7              Добавить форму подписки на все основные страницы, чтобы собрать базу клиентов для email-рассылок   \n",
       "2  Добавить блоки рекомендаций товаров на сайт интернет магазина, чтобы повысить конверсию и средний чек заказа   \n",
       "0            Добавить два новых канала привлечения трафика, что позволит привлекать на 30% больше пользователей   \n",
       "6          Показать на главной странице баннеры с актуальными акциями и распродажами, чтобы увеличить конверсию   \n",
       "8                                                       Запустить акцию, дающую скидку на товар в день рождения   \n",
       "3           Изменить структура категорий, что увеличит конверсию, т.к. пользователи быстрее найдут нужный товар   \n",
       "1                                     Запустить собственную службу доставки, что сократит срок доставки заказов   \n",
       "5                      Добавить страницу отзывов клиентов о магазине, что позволит увеличить количество заказов   \n",
       "4                              Изменить цвет фона главной страницы, чтобы увеличить вовлеченность пользователей   \n",
       "\n",
       "   Reach  Impact  Confidence  Efforts        ICE   RICE  \n",
       "7     10       7           8        5  11.200000  112.0  \n",
       "2      8       3           7        3   7.000000   56.0  \n",
       "0      3      10           8        6  13.333333   40.0  \n",
       "6      5       3           8        3   8.000000   40.0  \n",
       "8      1       9           9        5  16.200000   16.2  \n",
       "3      8       3           3        8   1.125000    9.0  \n",
       "1      2       5           4       10   2.000000    4.0  \n",
       "5      3       2           2        3   1.333333    4.0  \n",
       "4      3       1           1        1   1.000000    3.0  "
      ]
     },
     "metadata": {},
     "output_type": "display_data"
    }
   ],
   "source": [
    "pd.set_option(\"display.max_colwidth\", None)\n",
    "display(hypothesis.sort_values(by=['RICE', 'ICE'], ascending=[False, False]))\n",
    "pd.reset_option(\"display.max_colwidth\") "
   ]
  },
  {
   "cell_type": "markdown",
   "id": "0cdd9ea3",
   "metadata": {},
   "source": [
    "### Вывод"
   ]
  },
  {
   "cell_type": "markdown",
   "id": "bde87901",
   "metadata": {},
   "source": [
    "При использовании метода приотезации гипотез ICE на первом место выходит гипотиза под номером 8 тогда как при методе RICE она лишь в середине списка. Все по причини низкого охвата аудитории при использовании этого метода. При использовании же метода RICE приоритетное право проверки занимает гипотиза под номером 7 а в методе ICE она занимает 3 строчку. Если есть дополнительный параметр Reach  с достоверной оценкой охвата аудитории лучше всего использовать метод RICE так как этот метод может показать более точную картину по приоритезации в виду большего количества используемых переменных"
   ]
  },
  {
   "cell_type": "markdown",
   "id": "9f3c795c",
   "metadata": {},
   "source": [
    "## Анализ A/B-теста"
   ]
  },
  {
   "cell_type": "code",
   "execution_count": 20,
   "id": "ab94f218",
   "metadata": {},
   "outputs": [],
   "source": [
    "# создаем массив уникальных пар значений дат и групп теста\n",
    "datesGroups = orders[['date','group']].drop_duplicates()"
   ]
  },
  {
   "cell_type": "code",
   "execution_count": 21,
   "id": "9802971b",
   "metadata": {},
   "outputs": [],
   "source": [
    "# получаем агрегированные кумулятивные по дням данные о заказах \n",
    "ordersAggregated = datesGroups.apply(lambda x: orders[np.logical_and(orders['date'] <= x['date'], orders['group'] == x['group'])]\\\n",
    ".agg({'date' : 'max', 'group' : 'max', 'orders' : 'nunique', 'buyers' : 'nunique', 'revenue' : 'sum'}), axis=1).sort_values(by=['date','group'])"
   ]
  },
  {
   "cell_type": "code",
   "execution_count": 22,
   "id": "e5bcb25c",
   "metadata": {},
   "outputs": [],
   "source": [
    "# получаем агрегированные кумулятивные по дням данные о посетителях интернет-магазина \n",
    "visitorsAggregated = datesGroups.apply(lambda x: visitors[np.logical_and(visitors['date'] <= x['date'], visitors['group'] == x['group'])].agg({'date' : 'max', 'group' : 'max', 'visitors' : 'sum'}), axis=1).sort_values(by=['date','group'])"
   ]
  },
  {
   "cell_type": "code",
   "execution_count": 23,
   "id": "e63f0290",
   "metadata": {},
   "outputs": [],
   "source": [
    "# объединяем кумулятивные данные в одной таблице и присваиваем ее столбцам понятные названия\n",
    "cumulativeData = ordersAggregated.merge(visitorsAggregated, left_on=['date', 'group'], right_on=['date', 'group'])"
   ]
  },
  {
   "cell_type": "code",
   "execution_count": 24,
   "id": "9dcc2420",
   "metadata": {},
   "outputs": [],
   "source": [
    "# датафрейм с кумулятивным количеством заказов и кумулятивной выручкой по дням в группе А\n",
    "cumulativeRevenueA = cumulativeData[cumulativeData['group']=='A'][['date','revenue', 'orders']]\n",
    "# датафрейм с кумулятивным количеством заказов и кумулятивной выручкой по дням в группе B\n",
    "cumulativeRevenueB = cumulativeData[cumulativeData['group']=='B'][['date','revenue', 'orders']]"
   ]
  },
  {
   "cell_type": "markdown",
   "id": "c3c29db1",
   "metadata": {},
   "source": [
    "### Анализ графика кумулятивной выручки по группам"
   ]
  },
  {
   "cell_type": "code",
   "execution_count": 25,
   "id": "35c102c2",
   "metadata": {},
   "outputs": [
    {
     "data": {
      "image/png": "[encoded data removed]",
      "text/plain": [
       "<Figure size 1080x576 with 1 Axes>"
      ]
     },
     "metadata": {
      "needs_background": "light"
     },
     "output_type": "display_data"
    }
   ],
   "source": [
    "plt.figure(figsize=(15, 8)) \n",
    "ax = sns.lineplot(data=cumulativeData, x=\"date\", y=\"revenue\", hue='group')\n",
    "sns.set_style('whitegrid') \n",
    "ax.set_xlabel('Дата')\n",
    "ax.set_ylabel('Значение кумулитивной выручки')\n",
    "ax.set_title(\"График кумулятивной выручки по группам\")\n",
    "ax.legend()\n",
    "sns.despine()"
   ]
  },
  {
   "cell_type": "markdown",
   "id": "3fc26f24",
   "metadata": {},
   "source": [
    "Занчение выручки равномерно увиличивается во время всего теста что является хорошим знаком. С 18 по 19 число происходит резкий рост выручки в группе B что возможгно происходит по причине резкого увеличения количества заказов либо о появлении очень дорогих заказов в выборке (выбросы)."
   ]
  },
  {
   "cell_type": "markdown",
   "id": "9a61c5ad",
   "metadata": {},
   "source": [
    "### Анализ графика кумулятивного среднего чека по группам"
   ]
  },
  {
   "cell_type": "code",
   "execution_count": 26,
   "id": "6306051c",
   "metadata": {},
   "outputs": [
    {
     "data": {
      "image/png": "[encoded data removed]",
      "text/plain": [
       "<Figure size 1080x576 with 1 Axes>"
      ]
     },
     "metadata": {},
     "output_type": "display_data"
    }
   ],
   "source": [
    "plt.figure(figsize=(15, 8))\n",
    "ax = sns.lineplot(x=cumulativeData[\"date\"], y=cumulativeData[\"revenue\"]/cumulativeData[\"orders\"], hue=cumulativeData['group'])\n",
    "sns.set_style('whitegrid') \n",
    "ax.set_xlabel('Дата')\n",
    "ax.set_ylabel('Значение кумулитивного среднего чека')\n",
    "ax.set_title(\"Графики среднего чека по группам\")\n",
    "ax.legend()\n",
    "sns.despine()"
   ]
  },
  {
   "cell_type": "markdown",
   "id": "270a8698",
   "metadata": {},
   "source": [
    "Средний чек становится равномерным ближе к концу теста у группы А. А вот в группе B происходит реский всплеск значения среднего чека в районе 18 августа и потом идет на снижение скорее всего этот всплеск связан с болшим заказом и чтобы снова стать равномерным  нужно больше данных чтобы прийти к реальному среднему чеку и установится на его уровне"
   ]
  },
  {
   "cell_type": "markdown",
   "id": "f7366bf7",
   "metadata": {},
   "source": [
    "###  Анализ графика относительного изменения кумулятивного среднего чека группы B к группе A"
   ]
  },
  {
   "cell_type": "code",
   "execution_count": 27,
   "id": "2b876b4e",
   "metadata": {},
   "outputs": [
    {
     "data": {
      "image/png": "[encoded data removed]",
      "text/plain": [
       "<Figure size 1080x576 with 1 Axes>"
      ]
     },
     "metadata": {},
     "output_type": "display_data"
    }
   ],
   "source": [
    "plt.figure(figsize=(15, 8))\n",
    "# собираем данные в одном датафрейме\n",
    "mergedCumulativeRevenue = cumulativeRevenueA.merge(cumulativeRevenueB, left_on='date', right_on='date', how='left', suffixes=['A', 'B'])\n",
    "# cтроим отношение средних чеков\n",
    "plt.plot(mergedCumulativeRevenue['date'], (mergedCumulativeRevenue['revenueB']/mergedCumulativeRevenue['ordersB'])/(mergedCumulativeRevenue['revenueA']/mergedCumulativeRevenue['ordersA'])-1)\n",
    "# добавляем ось X\n",
    "plt.axhline(y=0, color='black', linestyle='--')\n",
    "plt.ylabel('Отношение среднего чека B к А')\n",
    "plt.xlabel('Горизонт анализа')\n",
    "plt.title('Графика относительного изменения кумулятивного среднего чека группы B к группе A')\n",
    "plt.show()"
   ]
  },
  {
   "cell_type": "markdown",
   "id": "d708b8e6",
   "metadata": {},
   "source": [
    "Можно сказать что график относительного изменения кумулятивного среднего чека группы B к группе A в некоторых местах скачет возможно это связано с крупными заказами  которые формируют выбросы. Резкие скачки с 8 по 13 и с 18 пл 19 числа."
   ]
  },
  {
   "cell_type": "markdown",
   "id": "20562a81",
   "metadata": {},
   "source": [
    "### Анализ  графика кумулятивной конверсии по группам"
   ]
  },
  {
   "cell_type": "code",
   "execution_count": 28,
   "id": "a07c4d90",
   "metadata": {},
   "outputs": [
    {
     "data": {
      "image/png": "[encoded data removed]",
      "text/plain": [
       "<Figure size 1080x576 with 1 Axes>"
      ]
     },
     "metadata": {},
     "output_type": "display_data"
    }
   ],
   "source": [
    "# считаем кумулятивную конверсию\n",
    "cumulativeData['conversion'] = cumulativeData['orders']/cumulativeData['visitors']\n",
    "\n",
    "# отделяем данные по группе A\n",
    "cumulativeDataA = cumulativeData[cumulativeData['group']=='A']\n",
    "\n",
    "# отделяем данные по группе B\n",
    "cumulativeDataB = cumulativeData[cumulativeData['group']=='B']\n",
    "\n",
    "# строим графики\n",
    "plt.figure(figsize=(15, 8))\n",
    "plt.plot(cumulativeDataA['date'], cumulativeDataA['conversion'], label='A')\n",
    "plt.plot(cumulativeDataB['date'], cumulativeDataB['conversion'], label='B')\n",
    "plt.legend()\n",
    "# задаем масштаб осей\n",
    "plt.axis([cumulativeDataA['date'].min(), cumulativeDataA['date'].max(), 0.023, 0.037])\n",
    "plt.ylabel('График кумулятивной конверсии по группам')\n",
    "plt.xlabel('Горизонт анализа')\n",
    "plt.title('Значение кумулятивной конверсии')\n",
    "plt.show()"
   ]
  },
  {
   "cell_type": "markdown",
   "id": "ca19c880",
   "metadata": {},
   "source": [
    "На 14 день конверсия группы В первый раз достигает среднего значения и далее дигается вдоль нее. По началу наблюдалась сльная волотильность по этой группе. В группе А в начале наблюдается всплеск значения на 3 день но дальшее уже идет снижение значения до среднего которое в первый раз достигается 16 числа и далее в основно показатели приближены к нему"
   ]
  },
  {
   "cell_type": "markdown",
   "id": "4b5c5aea",
   "metadata": {},
   "source": [
    "###  Анализ графика относительного изменения кумулятивной конверсии группы B к группе  А"
   ]
  },
  {
   "cell_type": "code",
   "execution_count": 29,
   "id": "329c62d3",
   "metadata": {},
   "outputs": [
    {
     "data": {
      "image/png": "[encoded data removed]",
      "text/plain": [
       "<Figure size 1080x576 with 1 Axes>"
      ]
     },
     "metadata": {},
     "output_type": "display_data"
    }
   ],
   "source": [
    "plt.figure(figsize=(15, 8))\n",
    "mergedCumulativeConversions = cumulativeDataA[['date','conversion']].merge(cumulativeDataB[['date','conversion']], left_on='date', right_on='date', how='left', suffixes=['A', 'B'])\n",
    "\n",
    "plt.plot(mergedCumulativeConversions['date'], mergedCumulativeConversions['conversionB']/mergedCumulativeConversions['conversionA']-1, label=\"Относительный прирост конверсии группы B относительно группы A\")\n",
    "plt.legend()\n",
    "plt.axhline(y=0, color='black', linestyle='--')\n",
    "plt.axhline(y=-0.1, color='grey', linestyle='--')\n",
    "plt.axis([cumulativeDataA['date'].min(), cumulativeDataA['date'].max(), -0.27, 0.24])\n",
    "plt.ylabel('Отношение кумулятивной конверсии В к А')\n",
    "plt.xlabel('Горизонт анализа')\n",
    "plt.title('График относительного изменения кумулятивной конверсии группы B к группе  А')\n",
    "plt.show()"
   ]
  },
  {
   "cell_type": "markdown",
   "id": "5b2b6ca9",
   "metadata": {},
   "source": [
    "С 2 на 3 день можно видеть что конверсия стала в группе А больше чем в группе В но далее отношение конверсии в пользу группы В сохраналась на всем промежутке эсперемента с возможным средним в районе 0.13 Под конец теста видно что разница между конверсиями начинает расти в пользу В группы тестируемых."
   ]
  },
  {
   "cell_type": "markdown",
   "id": "9ef66aa0",
   "metadata": {},
   "source": [
    "###  Анализ точечного графика количества заказов по пользователям"
   ]
  },
  {
   "cell_type": "code",
   "execution_count": 30,
   "id": "934ee793",
   "metadata": {},
   "outputs": [
    {
     "name": "stdout",
     "output_type": "stream",
     "text": [
      "         buyers  orders\n",
      "908  3967698036       3\n",
      "55    249864742       3\n",
      "478  2108163459       3\n",
      "687  2988190573       3\n",
      "890  3908431265       3\n",
      "138   611059232       3\n",
      "632  2742574263       3\n",
      "157   678354126       2\n",
      "323  1404560065       2\n",
      "452  1985475298       2\n"
     ]
    }
   ],
   "source": [
    "ordersByUsers = orders.groupby('buyers',  as_index=False).agg({'orders' : 'nunique'})\n",
    "ordersByUsers.columns = ['buyers', 'orders']\n",
    "print(ordersByUsers.sort_values(by='orders', ascending=False).head(10)) "
   ]
  },
  {
   "cell_type": "code",
   "execution_count": 31,
   "id": "437eb32a",
   "metadata": {},
   "outputs": [
    {
     "data": {
      "image/png": "[encoded data removed]",
      "text/plain": [
       "<Figure size 1080x576 with 1 Axes>"
      ]
     },
     "metadata": {},
     "output_type": "display_data"
    }
   ],
   "source": [
    "plt.figure(figsize=(15, 8))\n",
    "plt.hist(ordersByUsers['orders'], bins=8)\n",
    "plt.ylabel('Количество заказов')\n",
    "plt.xlabel('Количество пользователей')\n",
    "plt.title('Гистограмма распределиения количества заказов по пользователям')\n",
    "plt.show()"
   ]
  },
  {
   "cell_type": "code",
   "execution_count": 32,
   "id": "7b8362ff",
   "metadata": {},
   "outputs": [
    {
     "data": {
      "image/png": "[encoded data removed]",
      "text/plain": [
       "<Figure size 1080x576 with 1 Axes>"
      ]
     },
     "metadata": {},
     "output_type": "display_data"
    }
   ],
   "source": [
    "plt.figure(figsize=(15, 8))\n",
    "x_values = pd.Series(range(0,len(ordersByUsers)))\n",
    "plt.scatter(x_values, ordersByUsers['orders'])\n",
    "plt.ylabel('Количество заказов')\n",
    "plt.xlabel('Пользователь')\n",
    "plt.title('Диаграмма рассеяния количества заказов по пользователям')\n",
    "plt.show()"
   ]
  },
  {
   "cell_type": "markdown",
   "id": "7910aaf5",
   "metadata": {},
   "source": [
    "В основном люди делали по 1-2 заказа. По графику можно сказать что есть определенное количество людей которые совершили и 3 заказа которые можно будет считать как выбросы и отфильтровать их в последствии но для начала нужно определить 95 и 99-й перцентили."
   ]
  },
  {
   "cell_type": "code",
   "execution_count": 33,
   "id": "6f93d634",
   "metadata": {},
   "outputs": [
    {
     "name": "stdout",
     "output_type": "stream",
     "text": [
      "[1. 2.]\n"
     ]
    }
   ],
   "source": [
    "print(np.percentile(ordersByUsers['orders'], [95, 99])) "
   ]
  },
  {
   "cell_type": "markdown",
   "id": "2d8864c9",
   "metadata": {},
   "source": [
    "Не более 5% пользователей оформляли больше чем 1 заказ. И 1% пользователей заказывали более 2 раз.\n",
    "Разумно выбрать 2 или 4 заказов на одного пользователя за нижнюю границу числа заказов, и отсеять аномальных пользователей по ней. "
   ]
  },
  {
   "cell_type": "markdown",
   "id": "7abc72d2",
   "metadata": {},
   "source": [
    "###  Анализ точечного графика стоимости заказа по пользователям"
   ]
  },
  {
   "cell_type": "code",
   "execution_count": 34,
   "id": "e7cd5433",
   "metadata": {},
   "outputs": [
    {
     "data": {
      "image/png": "[encoded data removed]",
      "text/plain": [
       "<Figure size 1080x576 with 1 Axes>"
      ]
     },
     "metadata": {},
     "output_type": "display_data"
    }
   ],
   "source": [
    "plt.figure(figsize=(15, 8))\n",
    "x_values = pd.Series(range(0,len(orders['revenue'])))\n",
    "plt.scatter(x_values, orders['revenue'])\n",
    "plt.ylabel('Стоимость заказа')\n",
    "plt.xlabel('Заказ пользователя')\n",
    "plt.title('Диаграмма рассеяния стоимости заказа по пользователям')\n",
    "plt.show()"
   ]
  },
  {
   "cell_type": "markdown",
   "id": "90df918e",
   "metadata": {},
   "source": [
    "По большей части стоимости заказов одинаковы и формирубт между собой прямую линию, но так же по графику отчеливо видны значения которые сильно выбиваеются из общей массы и могут существенно повлиять на расчет статистической значимости в последстивии."
   ]
  },
  {
   "cell_type": "code",
   "execution_count": 35,
   "id": "3d15a9f8",
   "metadata": {},
   "outputs": [
    {
     "name": "stdout",
     "output_type": "stream",
     "text": [
      "[26785. 53904.]\n"
     ]
    }
   ],
   "source": [
    "print(np.percentile(orders['revenue'], [95, 99])) "
   ]
  },
  {
   "cell_type": "markdown",
   "id": "18986ebe",
   "metadata": {},
   "source": [
    "Не более 5% заказов стоит больше 26785. И 1% заказов стоит больше 53904.\n",
    "Разумно выбрать 26785 за границу стоимости заказа, и отсеивать аномальные заказы по ней. "
   ]
  },
  {
   "cell_type": "markdown",
   "id": "6eb5d23b",
   "metadata": {},
   "source": [
    "### Расчет статистической значимости различий в конверсиях между группами по «сырым» данным"
   ]
  },
  {
   "cell_type": "markdown",
   "id": "17c16778",
   "metadata": {},
   "source": [
    "Сформулируем гипотезы:\n",
    "* Нулевая: различий в конверсии между группами нет. \n",
    "* Альтернативная: различия в конверсии между группами есть.\n",
    "\n",
    "Уровень значимости примем равный alpha = 0.05"
   ]
  },
  {
   "cell_type": "code",
   "execution_count": 36,
   "id": "41992e54",
   "metadata": {},
   "outputs": [],
   "source": [
    "# количество пользователей в выбранную дату в группе A\n",
    "visitorsADaily = visitors[visitors['group'] == 'A'][['date', 'visitors']]\n",
    "visitorsADaily.columns = ['date', 'visitorsPerDateA']\n",
    "# количество пользователей до выбранной даты включительно в группе A\n",
    "visitorsACummulative = visitorsADaily.apply(\n",
    "    lambda x: visitorsADaily[visitorsADaily['date'] <= x['date']].agg(\n",
    "        {'date': 'max', 'visitorsPerDateA': 'sum'}\n",
    "    ),\n",
    "    axis=1,\n",
    ")\n",
    "visitorsACummulative.columns = ['date', 'visitorsCummulativeA']\n",
    "# количество пользователей в выбранную дату в группе В\n",
    "visitorsBDaily = visitors[visitors['group'] == 'B'][['date', 'visitors']]\n",
    "visitorsBDaily.columns = ['date', 'visitorsPerDateB']\n",
    "# количество пользователей до выбранной даты включительно в группе В\n",
    "visitorsBCummulative = visitorsBDaily.apply(\n",
    "    lambda x: visitorsBDaily[visitorsBDaily['date'] <= x['date']].agg(\n",
    "        {'date': 'max', 'visitorsPerDateB': 'sum'}\n",
    "    ),\n",
    "    axis=1,\n",
    ")\n",
    "visitorsBCummulative.columns = ['date', 'visitorsCummulativeB']\n",
    "# количество заказов и  суммарная выручка в выбранную дату в группе A\n",
    "ordersADaily = (\n",
    "    orders[orders['group'] == 'A'][['date', 'orders', 'buyers', 'revenue']]\n",
    "    .groupby('date', as_index=False)\n",
    "    .agg({'orders': pd.Series.nunique, 'revenue': 'sum'})\n",
    ")\n",
    "ordersADaily.columns = ['date', 'ordersPerDateA', 'revenuePerDateA']\n",
    "# суммарное число заказов и суммарная выручка до выбранной даты включительно в группе A\n",
    "ordersACummulative = ordersADaily.apply(\n",
    "    lambda x: ordersADaily[ordersADaily['date'] <= x['date']].agg(\n",
    "        {'date': 'max', 'ordersPerDateA': 'sum', 'revenuePerDateA': 'sum'}\n",
    "    ),\n",
    "    axis=1,\n",
    ").sort_values(by=['date'])\n",
    "ordersACummulative.columns = [\n",
    "    'date',\n",
    "    'ordersCummulativeA',\n",
    "    'revenueCummulativeA',\n",
    "]\n",
    "# количество заказов и  суммарная выручка в выбранную дату в группе В\n",
    "ordersBDaily = (\n",
    "    orders[orders['group'] == 'B'][['date', 'orders', 'buyers', 'revenue']]\n",
    "    .groupby('date', as_index=False)\n",
    "    .agg({'orders': pd.Series.nunique, 'revenue': 'sum'})\n",
    ")\n",
    "ordersBDaily.columns = ['date', 'ordersPerDateB', 'revenuePerDateB']\n",
    "# суммарное число заказов и суммарная выручка до выбранной даты включительно в группе В\n",
    "ordersBCummulative = ordersBDaily.apply(\n",
    "    lambda x: ordersBDaily[ordersBDaily['date'] <= x['date']].agg(\n",
    "        {'date': 'max', 'ordersPerDateB': 'sum', 'revenuePerDateB': 'sum'}\n",
    "    ),\n",
    "    axis=1,\n",
    ").sort_values(by=['date'])\n",
    "ordersBCummulative.columns = [\n",
    "    'date',\n",
    "    'ordersCummulativeB',\n",
    "    'revenueCummulativeB',\n",
    "]\n",
    "# получпение общей таблицы \n",
    "data = (\n",
    "    ordersADaily.merge(\n",
    "        ordersBDaily, left_on='date', right_on='date', how='left'\n",
    "    )\n",
    "    .merge(ordersACummulative, left_on='date', right_on='date', how='left')\n",
    "    .merge(ordersBCummulative, left_on='date', right_on='date', how='left')\n",
    "    .merge(visitorsADaily, left_on='date', right_on='date', how='left')\n",
    "    .merge(visitorsBDaily, left_on='date', right_on='date', how='left')\n",
    "    .merge(visitorsACummulative, left_on='date', right_on='date', how='left')\n",
    "    .merge(visitorsBCummulative, left_on='date', right_on='date', how='left')\n",
    ")\n",
    "\n"
   ]
  },
  {
   "cell_type": "code",
   "execution_count": 37,
   "id": "70b2a3b5",
   "metadata": {},
   "outputs": [
    {
     "name": "stdout",
     "output_type": "stream",
     "text": [
      "0.011\n",
      "0.160\n"
     ]
    }
   ],
   "source": [
    "# число уникальных заказов свершенных пользователями в разбивке по группам\n",
    "ordersByUsersA = (\n",
    "    orders[orders['group'] == 'A']\n",
    "    .groupby('buyers', as_index=False)\n",
    "    .agg({'orders': pd.Series.nunique})\n",
    ")\n",
    "ordersByUsersA.columns = ['userId', 'orders']\n",
    "\n",
    "ordersByUsersB = (\n",
    "    orders[orders['group'] == 'B']\n",
    "    .groupby('buyers', as_index=False)\n",
    "    .agg({'orders': pd.Series.nunique})\n",
    ")\n",
    "ordersByUsersB.columns = ['userId', 'orders']\n",
    "\n",
    "sampleA = pd.concat(\n",
    "    [\n",
    "        ordersByUsersA['orders'],\n",
    "        pd.Series(\n",
    "            0,\n",
    "            index=np.arange(\n",
    "                data['visitorsPerDateA'].sum() - len(ordersByUsersA['orders'])\n",
    "            ),\n",
    "            name='orders',\n",
    "        ),\n",
    "    ],\n",
    "    axis=0,\n",
    ")\n",
    "\n",
    "sampleB = pd.concat(\n",
    "    [\n",
    "        ordersByUsersB['orders'],\n",
    "        pd.Series(\n",
    "            0,\n",
    "            index=np.arange(\n",
    "                data['visitorsPerDateB'].sum() - len(ordersByUsersB['orders'])\n",
    "            ),\n",
    "            name='orders',\n",
    "        ),\n",
    "    ],\n",
    "    axis=0,\n",
    ")\n",
    "\n",
    "print(\"{0:.3f}\".format(stats.mannwhitneyu(sampleA, sampleB)[1]))\n",
    "\n",
    "print(\"{0:.3f}\".format(sampleB.mean() / sampleA.mean() - 1))\n"
   ]
  },
  {
   "cell_type": "markdown",
   "id": "a33833aa",
   "metadata": {},
   "source": [
    "Вывод: \n",
    "* p-value = 0.011 а это значит что стастистически значемые различия между значениями есть и можно отвергнуть нулевую гипотезу.\n",
    "* конверсия в группе В на 16% больше чем в группе А"
   ]
  },
  {
   "cell_type": "markdown",
   "id": "a8488ad8",
   "metadata": {},
   "source": [
    "### Расчет  статистической значимости  в средних чеках заказа между группами по «сырым» данным"
   ]
  },
  {
   "cell_type": "markdown",
   "id": "32e0ce79",
   "metadata": {},
   "source": [
    " Формулировка гипотез:\n",
    "* Нулевая гипотеза: различий в среднем чеке между группами нет. \n",
    "* Альтернативная гипотеза: различия в среднем чеке между группами есть."
   ]
  },
  {
   "cell_type": "code",
   "execution_count": 38,
   "id": "e81c2cc6",
   "metadata": {},
   "outputs": [
    {
     "name": "stdout",
     "output_type": "stream",
     "text": [
      "0.829\n",
      "0.287\n"
     ]
    }
   ],
   "source": [
    "# рассчет статистической значимости различий в среднем чеке между группами\n",
    "print('{0:.3f}'.format(stats.mannwhitneyu(orders[orders['group']=='A']['revenue'], orders[orders['group']=='B']['revenue'])[1]))\n",
    "# расчет относительного различия между группами\n",
    "print('{0:.3f}'.format(orders[orders['group']=='B']['revenue'].mean()/orders[orders['group']=='A']['revenue'].mean()-1)) "
   ]
  },
  {
   "cell_type": "markdown",
   "id": "ab40df45",
   "metadata": {},
   "source": [
    "Вывод: \n",
    "* P-value значительно больше 0.05. Значит, причин отвергать нулевую гипотезу и считать, что в среднем чеке есть различия, нет \n",
    "* Средний чек группы B значительно выше среднего чека группы A"
   ]
  },
  {
   "cell_type": "markdown",
   "id": "b3335baa",
   "metadata": {},
   "source": [
    "### Расчет статистической значимости различий в конверсии между группами по «очищенным» данным"
   ]
  },
  {
   "cell_type": "markdown",
   "id": "3c85b8da",
   "metadata": {},
   "source": [
    "Отфильтруем покупателей кто совершил больше 4 заказов или совершил заказ дороже 28 000 рублей"
   ]
  },
  {
   "cell_type": "code",
   "execution_count": 39,
   "id": "343e8519",
   "metadata": {},
   "outputs": [
    {
     "name": "stdout",
     "output_type": "stream",
     "text": [
      "568     113298937\n",
      "1099    148427295\n",
      "928     204675465\n",
      "33      249864742\n",
      "684     358944393\n",
      "dtype: int64\n",
      "(58,)\n"
     ]
    }
   ],
   "source": [
    "usersWithManyOrders = pd.concat(\n",
    "    [\n",
    "        ordersByUsersA[ordersByUsersA['orders'] > 2]['userId'],\n",
    "        ordersByUsersB[ordersByUsersB['orders'] > 2]['userId'],\n",
    "    ],\n",
    "    axis=0,\n",
    ")\n",
    "usersWithExpensiveOrders = orders[orders['revenue'] > 26785]['buyers']\n",
    "abnormalUsers = (\n",
    "    pd.concat([usersWithManyOrders, usersWithExpensiveOrders], axis=0)\n",
    "    .drop_duplicates()\n",
    "    .sort_values()\n",
    ")\n",
    "print(abnormalUsers.head(5))\n",
    "print(abnormalUsers.shape)"
   ]
  },
  {
   "cell_type": "markdown",
   "id": "9b18241e",
   "metadata": {},
   "source": [
    "Всего 59 пользователей которые вышле за выбранные пределы которые считаются выбросами."
   ]
  },
  {
   "cell_type": "code",
   "execution_count": 40,
   "id": "634bb7ac",
   "metadata": {},
   "outputs": [
    {
     "name": "stdout",
     "output_type": "stream",
     "text": [
      "0.012\n",
      "0.182\n"
     ]
    }
   ],
   "source": [
    "sampleAFiltered = pd.concat(\n",
    "    [\n",
    "        ordersByUsersA[\n",
    "            np.logical_not(ordersByUsersA['userId'].isin(abnormalUsers))\n",
    "        ]['orders'],\n",
    "        pd.Series(\n",
    "            0,\n",
    "            index=np.arange(\n",
    "                data['visitorsPerDateA'].sum() - len(ordersByUsersA['orders'])\n",
    "            ),\n",
    "            name='orders',\n",
    "        ),\n",
    "    ],\n",
    "    axis=0,\n",
    ")\n",
    "\n",
    "sampleBFiltered = pd.concat(\n",
    "    [\n",
    "        ordersByUsersB[\n",
    "            np.logical_not(ordersByUsersB['userId'].isin(abnormalUsers))\n",
    "        ]['orders'],\n",
    "        pd.Series(\n",
    "            0,\n",
    "            index=np.arange(\n",
    "                data['visitorsPerDateB'].sum() - len(ordersByUsersB['orders'])\n",
    "            ),\n",
    "            name='orders',\n",
    "        ),\n",
    "    ],\n",
    "    axis=0,\n",
    ")\n",
    "\n",
    "print('{0:.3f}'.format(stats.mannwhitneyu(sampleAFiltered, sampleBFiltered)[1]))\n",
    "print('{0:.3f}'.format(sampleBFiltered.mean()/sampleAFiltered.mean()-1))"
   ]
  },
  {
   "cell_type": "markdown",
   "id": "bc571b37",
   "metadata": {},
   "source": [
    "После проведения расчета статистической значимости конверсии уже на отфильтрованных от выбросов значений можно сказать следущее:\n",
    "* Значения уровня значимости  почти такие же как и на сырых данных\n",
    "* P-value меньше 0.05 а это значит что можно отвергнуть нулевую гипотезу как и на сырых данных\n",
    "* На очищенных данных конверсия в группе В уже на 18.2% больше чем в группе А"
   ]
  },
  {
   "cell_type": "markdown",
   "id": "1933c9de",
   "metadata": {},
   "source": [
    "### Расчет статистичесой значимости различий в среднем чеке заказа между группами по «очищенным» данны"
   ]
  },
  {
   "cell_type": "code",
   "execution_count": 41,
   "id": "3f78df29",
   "metadata": {},
   "outputs": [
    {
     "name": "stdout",
     "output_type": "stream",
     "text": [
      "0.646\n",
      "-0.048\n"
     ]
    }
   ],
   "source": [
    "print(\n",
    "    '{0:.3f}'.format(\n",
    "        stats.mannwhitneyu(\n",
    "            orders[\n",
    "                np.logical_and(\n",
    "                    orders['group'] == 'A',\n",
    "                    np.logical_not(orders['buyers'].isin(abnormalUsers)),\n",
    "                )\n",
    "            ]['revenue'],\n",
    "            orders[\n",
    "                np.logical_and(\n",
    "                    orders['group'] == 'B',\n",
    "                    np.logical_not(orders['buyers'].isin(abnormalUsers)),\n",
    "                )\n",
    "            ]['revenue'],\n",
    "        )[1]\n",
    "    )\n",
    ")\n",
    "\n",
    "print(\n",
    "    \"{0:.3f}\".format(\n",
    "        orders[\n",
    "            np.logical_and(\n",
    "                orders['group'] == 'B',\n",
    "                np.logical_not(orders['buyers'].isin(abnormalUsers)),\n",
    "            )\n",
    "        ]['revenue'].mean()\n",
    "        / orders[\n",
    "            np.logical_and(\n",
    "                orders['group'] == 'A',\n",
    "                np.logical_not(orders['buyers'].isin(abnormalUsers)),\n",
    "            )\n",
    "        ]['revenue'].mean()\n",
    "        - 1\n",
    "    )\n",
    ")"
   ]
  },
  {
   "cell_type": "markdown",
   "id": "cc7486b5",
   "metadata": {},
   "source": [
    "После проведения расчета статистической значимости среднего чека заказа уже на отфильтрованных от выбросов значений можно сказать следущее:\n",
    "* P-value = 0.646 что является намного больше 0.05 а это значит что нельзя отвергнуть нулевую гипотезу как и на сырых данных\n",
    "* Разница между сегментами поменялась и теперь группа А показывает на 5% результат лучше группы В"
   ]
  },
  {
   "cell_type": "markdown",
   "id": "7101d2e8",
   "metadata": {},
   "source": [
    "## Вывод"
   ]
  },
  {
   "cell_type": "markdown",
   "id": "a8858fca",
   "metadata": {},
   "source": [
    "Вывод по приоритезации гипетез:\n",
    "* В приоритете гипотеза номер 7 так как показала лучшие результаты  в каждом из методов.\n",
    "\n",
    "Вывод по AB-тесту:\n",
    "* Есть статистически значимые различия по конверсии между группами и по «сырым», и по данным после фильтрации аномалий\n",
    "* После фильтрации разница между сигментами еще больше увеличилась\n",
    "* Нет статистически значимого различия по среднему чеку между группами ни по «сырым», ни по данным после фильтрации аномалий\n",
    "* График различия конверсии между группами сообщает, что результаты группы B лучше группы A и нет значительной тенденции к обратному\n",
    "* График различия среднего чека говорит о том, что результаты группы B лучше на 27% но есть тенденция на ухудшение\n",
    "* Исходя из приведенных выше фактов считаю что можно остановить тест и зафиксировать победу группы B"
   ]
  }
 ],
 "metadata": {
  "ExecuteTimeLog": [
   {
    "duration": 1145,
    "start_time": "2022-04-15T12:48:39.745Z"
   },
   {
    "duration": 3,
    "start_time": "2022-04-15T12:48:40.892Z"
   },
   {
    "duration": 107,
    "start_time": "2022-04-15T12:48:40.896Z"
   },
   {
    "duration": 96,
    "start_time": "2022-04-15T12:48:41.004Z"
   },
   {
    "duration": 0,
    "start_time": "2022-04-15T12:48:41.103Z"
   },
   {
    "duration": 0,
    "start_time": "2022-04-15T12:48:41.103Z"
   },
   {
    "duration": 0,
    "start_time": "2022-04-15T12:48:41.105Z"
   },
   {
    "duration": 0,
    "start_time": "2022-04-15T12:48:41.106Z"
   },
   {
    "duration": 0,
    "start_time": "2022-04-15T12:48:41.107Z"
   },
   {
    "duration": 0,
    "start_time": "2022-04-15T12:48:41.108Z"
   },
   {
    "duration": 0,
    "start_time": "2022-04-15T12:48:41.109Z"
   },
   {
    "duration": 0,
    "start_time": "2022-04-15T12:48:41.110Z"
   },
   {
    "duration": 0,
    "start_time": "2022-04-15T12:48:41.111Z"
   },
   {
    "duration": 0,
    "start_time": "2022-04-15T12:48:41.112Z"
   },
   {
    "duration": 0,
    "start_time": "2022-04-15T12:48:41.113Z"
   },
   {
    "duration": 0,
    "start_time": "2022-04-15T12:48:41.114Z"
   },
   {
    "duration": 0,
    "start_time": "2022-04-15T12:48:41.115Z"
   },
   {
    "duration": 0,
    "start_time": "2022-04-15T12:48:41.115Z"
   },
   {
    "duration": 0,
    "start_time": "2022-04-15T12:48:41.116Z"
   },
   {
    "duration": 0,
    "start_time": "2022-04-15T12:48:41.117Z"
   },
   {
    "duration": 0,
    "start_time": "2022-04-15T12:48:41.118Z"
   },
   {
    "duration": 0,
    "start_time": "2022-04-15T12:48:41.119Z"
   },
   {
    "duration": 0,
    "start_time": "2022-04-15T12:48:41.120Z"
   },
   {
    "duration": 0,
    "start_time": "2022-04-15T12:48:41.121Z"
   },
   {
    "duration": 0,
    "start_time": "2022-04-15T12:48:41.154Z"
   },
   {
    "duration": 0,
    "start_time": "2022-04-15T12:48:41.156Z"
   },
   {
    "duration": 0,
    "start_time": "2022-04-15T12:48:41.157Z"
   },
   {
    "duration": 0,
    "start_time": "2022-04-15T12:48:41.158Z"
   },
   {
    "duration": 0,
    "start_time": "2022-04-15T12:48:41.159Z"
   },
   {
    "duration": 0,
    "start_time": "2022-04-15T12:48:41.160Z"
   },
   {
    "duration": 0,
    "start_time": "2022-04-15T12:48:41.161Z"
   },
   {
    "duration": 0,
    "start_time": "2022-04-15T12:48:41.162Z"
   },
   {
    "duration": 0,
    "start_time": "2022-04-15T12:48:41.163Z"
   },
   {
    "duration": 0,
    "start_time": "2022-04-15T12:48:41.164Z"
   },
   {
    "duration": 0,
    "start_time": "2022-04-15T12:48:41.165Z"
   },
   {
    "duration": 0,
    "start_time": "2022-04-15T12:48:41.166Z"
   },
   {
    "duration": 0,
    "start_time": "2022-04-15T12:48:41.167Z"
   },
   {
    "duration": 0,
    "start_time": "2022-04-15T12:48:41.168Z"
   },
   {
    "duration": 0,
    "start_time": "2022-04-15T12:48:41.169Z"
   },
   {
    "duration": 9,
    "start_time": "2022-04-15T12:51:42.356Z"
   },
   {
    "duration": 1552,
    "start_time": "2022-04-15T12:52:36.507Z"
   },
   {
    "duration": 4,
    "start_time": "2022-04-15T12:52:38.062Z"
   },
   {
    "duration": 120,
    "start_time": "2022-04-15T12:52:38.067Z"
   },
   {
    "duration": 12,
    "start_time": "2022-04-15T12:52:38.189Z"
   },
   {
    "duration": 13,
    "start_time": "2022-04-15T12:52:38.203Z"
   },
   {
    "duration": 17,
    "start_time": "2022-04-15T12:52:38.218Z"
   },
   {
    "duration": 16,
    "start_time": "2022-04-15T12:52:38.237Z"
   },
   {
    "duration": 10,
    "start_time": "2022-04-15T12:52:38.255Z"
   },
   {
    "duration": 15,
    "start_time": "2022-04-15T12:52:38.267Z"
   },
   {
    "duration": 11,
    "start_time": "2022-04-15T12:52:38.284Z"
   },
   {
    "duration": 10,
    "start_time": "2022-04-15T12:52:38.297Z"
   },
   {
    "duration": 7,
    "start_time": "2022-04-15T12:52:38.309Z"
   },
   {
    "duration": 16,
    "start_time": "2022-04-15T12:52:38.317Z"
   },
   {
    "duration": 8,
    "start_time": "2022-04-15T12:52:38.354Z"
   },
   {
    "duration": 14,
    "start_time": "2022-04-15T12:52:38.364Z"
   },
   {
    "duration": 6,
    "start_time": "2022-04-15T12:52:38.380Z"
   },
   {
    "duration": 12,
    "start_time": "2022-04-15T12:52:38.388Z"
   },
   {
    "duration": 11,
    "start_time": "2022-04-15T12:52:38.402Z"
   },
   {
    "duration": 185,
    "start_time": "2022-04-15T12:52:38.415Z"
   },
   {
    "duration": 123,
    "start_time": "2022-04-15T12:52:38.602Z"
   },
   {
    "duration": 6,
    "start_time": "2022-04-15T12:52:38.727Z"
   },
   {
    "duration": 27,
    "start_time": "2022-04-15T12:52:38.735Z"
   },
   {
    "duration": 500,
    "start_time": "2022-04-15T12:52:38.763Z"
   },
   {
    "duration": 481,
    "start_time": "2022-04-15T12:52:39.265Z"
   },
   {
    "duration": 412,
    "start_time": "2022-04-15T12:52:39.748Z"
   },
   {
    "duration": 289,
    "start_time": "2022-04-15T12:52:40.162Z"
   },
   {
    "duration": 389,
    "start_time": "2022-04-15T12:52:40.453Z"
   },
   {
    "duration": 10,
    "start_time": "2022-04-15T12:52:40.846Z"
   },
   {
    "duration": 167,
    "start_time": "2022-04-15T12:52:40.857Z"
   },
   {
    "duration": 168,
    "start_time": "2022-04-15T12:52:41.026Z"
   },
   {
    "duration": 4,
    "start_time": "2022-04-15T12:52:41.196Z"
   },
   {
    "duration": 194,
    "start_time": "2022-04-15T12:52:41.201Z"
   },
   {
    "duration": 5,
    "start_time": "2022-04-15T12:52:41.396Z"
   },
   {
    "duration": 310,
    "start_time": "2022-04-15T12:52:41.402Z"
   },
   {
    "duration": 163,
    "start_time": "2022-04-15T12:52:41.714Z"
   },
   {
    "duration": 13,
    "start_time": "2022-04-15T12:52:41.879Z"
   },
   {
    "duration": 9,
    "start_time": "2022-04-15T12:52:41.894Z"
   },
   {
    "duration": 50,
    "start_time": "2022-04-15T12:52:41.904Z"
   },
   {
    "duration": 19,
    "start_time": "2022-04-15T12:52:41.957Z"
   },
   {
    "duration": 48,
    "start_time": "2022-04-15T13:45:21.712Z"
   },
   {
    "duration": 1282,
    "start_time": "2022-04-15T13:45:45.792Z"
   },
   {
    "duration": 3,
    "start_time": "2022-04-15T13:45:47.075Z"
   },
   {
    "duration": 92,
    "start_time": "2022-04-15T13:45:47.080Z"
   },
   {
    "duration": 11,
    "start_time": "2022-04-15T13:45:47.174Z"
   },
   {
    "duration": 11,
    "start_time": "2022-04-15T13:45:47.186Z"
   },
   {
    "duration": 12,
    "start_time": "2022-04-15T13:45:47.361Z"
   },
   {
    "duration": 11,
    "start_time": "2022-04-15T13:45:47.584Z"
   },
   {
    "duration": 5,
    "start_time": "2022-04-15T13:45:48.023Z"
   },
   {
    "duration": 12,
    "start_time": "2022-04-15T13:45:48.265Z"
   },
   {
    "duration": 10,
    "start_time": "2022-04-15T13:45:48.464Z"
   },
   {
    "duration": 11,
    "start_time": "2022-04-15T13:45:48.664Z"
   },
   {
    "duration": 4,
    "start_time": "2022-04-15T13:45:49.144Z"
   },
   {
    "duration": 10,
    "start_time": "2022-04-15T13:45:51.864Z"
   },
   {
    "duration": 9,
    "start_time": "2022-04-15T13:45:52.544Z"
   },
   {
    "duration": 12,
    "start_time": "2022-04-15T13:45:53.476Z"
   },
   {
    "duration": 154,
    "start_time": "2022-04-15T14:37:45.062Z"
   },
   {
    "duration": 151,
    "start_time": "2022-04-15T14:37:54.999Z"
   },
   {
    "duration": 77,
    "start_time": "2022-04-15T14:37:59.251Z"
   },
   {
    "duration": 14,
    "start_time": "2022-04-15T14:38:12.338Z"
   },
   {
    "duration": 4,
    "start_time": "2022-04-15T14:38:19.802Z"
   },
   {
    "duration": 3,
    "start_time": "2022-04-15T14:38:20.037Z"
   },
   {
    "duration": 114,
    "start_time": "2022-04-15T14:38:20.301Z"
   },
   {
    "duration": 8,
    "start_time": "2022-04-15T14:38:21.040Z"
   },
   {
    "duration": 11,
    "start_time": "2022-04-15T14:38:21.261Z"
   },
   {
    "duration": 13,
    "start_time": "2022-04-15T14:38:21.751Z"
   },
   {
    "duration": 10,
    "start_time": "2022-04-15T14:38:21.999Z"
   },
   {
    "duration": 4,
    "start_time": "2022-04-15T14:38:22.499Z"
   },
   {
    "duration": 11,
    "start_time": "2022-04-15T14:38:22.749Z"
   },
   {
    "duration": 10,
    "start_time": "2022-04-15T14:38:22.999Z"
   },
   {
    "duration": 11,
    "start_time": "2022-04-15T14:38:23.230Z"
   },
   {
    "duration": 5,
    "start_time": "2022-04-15T14:38:23.681Z"
   },
   {
    "duration": 9,
    "start_time": "2022-04-15T14:38:25.310Z"
   },
   {
    "duration": 9,
    "start_time": "2022-04-15T14:38:26.706Z"
   },
   {
    "duration": 17,
    "start_time": "2022-04-15T14:38:26.717Z"
   },
   {
    "duration": 6,
    "start_time": "2022-04-15T14:38:30.460Z"
   },
   {
    "duration": 10,
    "start_time": "2022-04-15T14:38:30.747Z"
   },
   {
    "duration": 11,
    "start_time": "2022-04-15T14:38:31.046Z"
   },
   {
    "duration": 155,
    "start_time": "2022-04-15T14:38:31.330Z"
   },
   {
    "duration": 117,
    "start_time": "2022-04-15T14:38:31.819Z"
   },
   {
    "duration": 6,
    "start_time": "2022-04-15T14:38:32.071Z"
   },
   {
    "duration": 7,
    "start_time": "2022-04-15T14:38:32.371Z"
   },
   {
    "duration": 309,
    "start_time": "2022-04-15T14:38:32.921Z"
   },
   {
    "duration": 311,
    "start_time": "2022-04-15T14:38:34.013Z"
   },
   {
    "duration": 386,
    "start_time": "2022-04-15T14:38:34.911Z"
   },
   {
    "duration": 299,
    "start_time": "2022-04-15T14:38:36.590Z"
   },
   {
    "duration": 489,
    "start_time": "2022-04-15T14:38:39.279Z"
   },
   {
    "duration": 8,
    "start_time": "2022-04-15T14:38:41.230Z"
   },
   {
    "duration": 158,
    "start_time": "2022-04-15T14:38:42.229Z"
   },
   {
    "duration": 162,
    "start_time": "2022-04-15T14:38:42.569Z"
   },
   {
    "duration": 372,
    "start_time": "2022-04-15T14:39:03.491Z"
   },
   {
    "duration": 378,
    "start_time": "2022-04-15T15:58:45.991Z"
   },
   {
    "duration": 6,
    "start_time": "2022-04-15T16:00:59.282Z"
   },
   {
    "duration": 10,
    "start_time": "2022-04-15T16:00:59.611Z"
   },
   {
    "duration": 10,
    "start_time": "2022-04-15T16:00:59.871Z"
   },
   {
    "duration": 153,
    "start_time": "2022-04-15T16:01:00.090Z"
   },
   {
    "duration": 112,
    "start_time": "2022-04-15T16:01:00.342Z"
   },
   {
    "duration": 7,
    "start_time": "2022-04-15T16:01:00.542Z"
   },
   {
    "duration": 7,
    "start_time": "2022-04-15T16:01:00.783Z"
   },
   {
    "duration": 341,
    "start_time": "2022-04-15T16:01:01.267Z"
   },
   {
    "duration": 335,
    "start_time": "2022-04-15T16:01:02.670Z"
   },
   {
    "duration": 358,
    "start_time": "2022-04-15T16:01:05.711Z"
   },
   {
    "duration": 287,
    "start_time": "2022-04-15T16:01:13.824Z"
   },
   {
    "duration": 402,
    "start_time": "2022-04-15T16:01:40.971Z"
   },
   {
    "duration": 173,
    "start_time": "2022-04-15T16:02:07.670Z"
   },
   {
    "duration": 10,
    "start_time": "2022-04-15T16:02:14.882Z"
   },
   {
    "duration": 274,
    "start_time": "2022-04-15T16:02:15.230Z"
   },
   {
    "duration": 178,
    "start_time": "2022-04-15T16:02:22.840Z"
   },
   {
    "duration": 4,
    "start_time": "2022-04-15T16:02:26.596Z"
   },
   {
    "duration": 176,
    "start_time": "2022-04-15T16:02:27.348Z"
   },
   {
    "duration": 191,
    "start_time": "2022-04-15T16:02:31.530Z"
   },
   {
    "duration": 372,
    "start_time": "2022-04-15T16:04:21.001Z"
   },
   {
    "duration": 305,
    "start_time": "2022-04-15T16:06:26.929Z"
   },
   {
    "duration": 414,
    "start_time": "2022-04-15T16:08:36.789Z"
   },
   {
    "duration": 436,
    "start_time": "2022-04-15T16:08:58.951Z"
   },
   {
    "duration": 173,
    "start_time": "2022-04-15T16:10:17.839Z"
   },
   {
    "duration": 179,
    "start_time": "2022-04-15T16:12:20.239Z"
   },
   {
    "duration": 196,
    "start_time": "2022-04-15T16:14:24.341Z"
   },
   {
    "duration": 14,
    "start_time": "2022-04-15T18:48:42.941Z"
   },
   {
    "duration": 3,
    "start_time": "2022-04-15T18:49:01.662Z"
   },
   {
    "duration": 2,
    "start_time": "2022-04-15T18:49:01.872Z"
   },
   {
    "duration": 90,
    "start_time": "2022-04-15T18:49:02.102Z"
   },
   {
    "duration": 8,
    "start_time": "2022-04-15T18:49:02.772Z"
   },
   {
    "duration": 11,
    "start_time": "2022-04-15T18:49:02.992Z"
   },
   {
    "duration": 12,
    "start_time": "2022-04-15T18:49:03.885Z"
   },
   {
    "duration": 11,
    "start_time": "2022-04-15T18:49:04.231Z"
   },
   {
    "duration": 3,
    "start_time": "2022-04-15T18:49:07.254Z"
   },
   {
    "duration": 11,
    "start_time": "2022-04-15T18:49:07.592Z"
   },
   {
    "duration": 10,
    "start_time": "2022-04-15T18:49:08.161Z"
   },
   {
    "duration": 10,
    "start_time": "2022-04-15T18:49:08.462Z"
   },
   {
    "duration": 5,
    "start_time": "2022-04-15T18:49:11.391Z"
   },
   {
    "duration": 12,
    "start_time": "2022-04-15T18:49:12.233Z"
   },
   {
    "duration": 11,
    "start_time": "2022-04-15T18:49:32.290Z"
   },
   {
    "duration": 93,
    "start_time": "2022-04-15T18:49:44.427Z"
   },
   {
    "duration": 8,
    "start_time": "2022-04-15T18:49:51.254Z"
   },
   {
    "duration": 11,
    "start_time": "2022-04-15T18:49:52.330Z"
   },
   {
    "duration": 11,
    "start_time": "2022-04-15T18:49:53.694Z"
   },
   {
    "duration": 11,
    "start_time": "2022-04-15T18:49:54.050Z"
   },
   {
    "duration": 14,
    "start_time": "2022-04-15T18:50:20.610Z"
   },
   {
    "duration": 11,
    "start_time": "2022-04-15T18:50:47.171Z"
   },
   {
    "duration": 10,
    "start_time": "2022-04-15T18:51:25.619Z"
   },
   {
    "duration": 4,
    "start_time": "2022-04-15T18:56:10.075Z"
   },
   {
    "duration": 15,
    "start_time": "2022-04-15T18:56:16.186Z"
   },
   {
    "duration": 10,
    "start_time": "2022-04-15T18:58:02.398Z"
   },
   {
    "duration": 23,
    "start_time": "2022-04-15T19:03:08.003Z"
   },
   {
    "duration": 13,
    "start_time": "2022-04-15T19:05:20.185Z"
   },
   {
    "duration": 1227,
    "start_time": "2022-04-15T19:06:59.650Z"
   },
   {
    "duration": 3,
    "start_time": "2022-04-15T19:07:00.879Z"
   },
   {
    "duration": 100,
    "start_time": "2022-04-15T19:07:02.170Z"
   },
   {
    "duration": 14,
    "start_time": "2022-04-15T19:07:03.270Z"
   },
   {
    "duration": 11,
    "start_time": "2022-04-15T19:07:03.560Z"
   },
   {
    "duration": 14,
    "start_time": "2022-04-15T19:07:04.190Z"
   },
   {
    "duration": 11,
    "start_time": "2022-04-15T19:07:04.450Z"
   },
   {
    "duration": 14,
    "start_time": "2022-04-15T19:07:05.030Z"
   },
   {
    "duration": 11,
    "start_time": "2022-04-15T19:07:05.291Z"
   },
   {
    "duration": 12,
    "start_time": "2022-04-15T19:07:05.550Z"
   },
   {
    "duration": 5,
    "start_time": "2022-04-15T19:07:06.090Z"
   },
   {
    "duration": 12,
    "start_time": "2022-04-15T19:07:06.390Z"
   },
   {
    "duration": 12,
    "start_time": "2022-04-15T19:07:06.750Z"
   },
   {
    "duration": 27,
    "start_time": "2022-04-15T19:07:07.030Z"
   },
   {
    "duration": 5,
    "start_time": "2022-04-15T19:07:07.370Z"
   },
   {
    "duration": 7,
    "start_time": "2022-04-15T19:07:07.950Z"
   },
   {
    "duration": 9,
    "start_time": "2022-04-15T19:07:48.400Z"
   },
   {
    "duration": 12,
    "start_time": "2022-04-15T19:07:51.350Z"
   },
   {
    "duration": 9,
    "start_time": "2022-04-15T19:08:26.564Z"
   },
   {
    "duration": 9,
    "start_time": "2022-04-15T19:08:27.397Z"
   },
   {
    "duration": 13,
    "start_time": "2022-04-15T19:08:27.622Z"
   },
   {
    "duration": 6,
    "start_time": "2022-04-15T19:08:29.035Z"
   },
   {
    "duration": 152,
    "start_time": "2022-04-15T19:08:29.346Z"
   },
   {
    "duration": 112,
    "start_time": "2022-04-15T19:08:29.726Z"
   },
   {
    "duration": 9,
    "start_time": "2022-04-15T19:08:30.125Z"
   },
   {
    "duration": 7,
    "start_time": "2022-04-15T19:08:30.376Z"
   },
   {
    "duration": 325,
    "start_time": "2022-04-15T19:08:30.838Z"
   },
   {
    "duration": 322,
    "start_time": "2022-04-15T19:08:32.548Z"
   },
   {
    "duration": 430,
    "start_time": "2022-04-15T19:08:35.846Z"
   },
   {
    "duration": 294,
    "start_time": "2022-04-15T19:08:37.876Z"
   },
   {
    "duration": 436,
    "start_time": "2022-04-15T19:08:39.945Z"
   },
   {
    "duration": 10,
    "start_time": "2022-04-15T19:08:42.975Z"
   },
   {
    "duration": 197,
    "start_time": "2022-04-15T19:08:43.385Z"
   },
   {
    "duration": 194,
    "start_time": "2022-04-15T19:08:43.936Z"
   },
   {
    "duration": 5,
    "start_time": "2022-04-15T19:08:59.134Z"
   },
   {
    "duration": 312,
    "start_time": "2022-04-15T19:10:46.441Z"
   },
   {
    "duration": 378,
    "start_time": "2022-04-15T19:11:34.104Z"
   },
   {
    "duration": 380,
    "start_time": "2022-04-15T19:11:53.702Z"
   },
   {
    "duration": 396,
    "start_time": "2022-04-15T19:12:10.677Z"
   },
   {
    "duration": 305,
    "start_time": "2022-04-15T19:12:40.593Z"
   },
   {
    "duration": 4,
    "start_time": "2022-04-15T19:14:10.330Z"
   },
   {
    "duration": 196,
    "start_time": "2022-04-15T19:14:13.458Z"
   },
   {
    "duration": 4,
    "start_time": "2022-04-15T19:14:18.267Z"
   },
   {
    "duration": 192,
    "start_time": "2022-04-15T19:15:15.342Z"
   },
   {
    "duration": 5,
    "start_time": "2022-04-15T19:15:15.712Z"
   },
   {
    "duration": 218,
    "start_time": "2022-04-15T19:15:21.103Z"
   },
   {
    "duration": 139,
    "start_time": "2022-04-15T19:15:21.739Z"
   },
   {
    "duration": 11,
    "start_time": "2022-04-15T19:15:56.181Z"
   },
   {
    "duration": 10,
    "start_time": "2022-04-15T19:16:47.772Z"
   },
   {
    "duration": 28,
    "start_time": "2022-04-15T19:16:50.902Z"
   },
   {
    "duration": 14,
    "start_time": "2022-04-15T19:17:25.292Z"
   },
   {
    "duration": 12,
    "start_time": "2022-04-15T19:21:33.636Z"
   },
   {
    "duration": 110,
    "start_time": "2022-04-15T19:23:51.088Z"
   },
   {
    "duration": 105,
    "start_time": "2022-04-15T19:24:35.992Z"
   },
   {
    "duration": 1506,
    "start_time": "2022-04-16T07:22:32.334Z"
   },
   {
    "duration": 4,
    "start_time": "2022-04-16T07:22:33.842Z"
   },
   {
    "duration": 181,
    "start_time": "2022-04-16T07:22:33.848Z"
   },
   {
    "duration": 13,
    "start_time": "2022-04-16T07:22:34.031Z"
   },
   {
    "duration": 13,
    "start_time": "2022-04-16T07:22:34.046Z"
   },
   {
    "duration": 16,
    "start_time": "2022-04-16T07:22:34.061Z"
   },
   {
    "duration": 12,
    "start_time": "2022-04-16T07:22:34.079Z"
   },
   {
    "duration": 48,
    "start_time": "2022-04-16T07:22:34.093Z"
   },
   {
    "duration": 18,
    "start_time": "2022-04-16T07:22:34.143Z"
   },
   {
    "duration": 13,
    "start_time": "2022-04-16T07:22:34.163Z"
   },
   {
    "duration": 7,
    "start_time": "2022-04-16T07:22:34.178Z"
   },
   {
    "duration": 14,
    "start_time": "2022-04-16T07:22:34.186Z"
   },
   {
    "duration": 42,
    "start_time": "2022-04-16T07:22:34.202Z"
   },
   {
    "duration": 31,
    "start_time": "2022-04-16T07:22:34.248Z"
   },
   {
    "duration": 5,
    "start_time": "2022-04-16T07:22:34.281Z"
   },
   {
    "duration": 8,
    "start_time": "2022-04-16T07:22:34.288Z"
   },
   {
    "duration": 39,
    "start_time": "2022-04-16T07:22:34.298Z"
   },
   {
    "duration": 13,
    "start_time": "2022-04-16T07:22:34.339Z"
   },
   {
    "duration": 20,
    "start_time": "2022-04-16T07:22:34.354Z"
   },
   {
    "duration": 8,
    "start_time": "2022-04-16T07:22:34.376Z"
   },
   {
    "duration": 225,
    "start_time": "2022-04-16T07:22:34.386Z"
   },
   {
    "duration": 140,
    "start_time": "2022-04-16T07:22:34.613Z"
   },
   {
    "duration": 6,
    "start_time": "2022-04-16T07:22:34.755Z"
   },
   {
    "duration": 10,
    "start_time": "2022-04-16T07:22:34.763Z"
   },
   {
    "duration": 379,
    "start_time": "2022-04-16T07:22:34.775Z"
   },
   {
    "duration": 373,
    "start_time": "2022-04-16T07:22:35.156Z"
   },
   {
    "duration": 465,
    "start_time": "2022-04-16T07:22:35.534Z"
   },
   {
    "duration": 350,
    "start_time": "2022-04-16T07:22:36.001Z"
   },
   {
    "duration": 425,
    "start_time": "2022-04-16T07:22:36.353Z"
   },
   {
    "duration": 12,
    "start_time": "2022-04-16T07:22:36.780Z"
   },
   {
    "duration": 260,
    "start_time": "2022-04-16T07:22:36.794Z"
   },
   {
    "duration": 240,
    "start_time": "2022-04-16T07:22:37.056Z"
   },
   {
    "duration": 5,
    "start_time": "2022-04-16T07:22:37.299Z"
   },
   {
    "duration": 234,
    "start_time": "2022-04-16T07:22:37.306Z"
   },
   {
    "duration": 6,
    "start_time": "2022-04-16T07:22:37.542Z"
   },
   {
    "duration": 347,
    "start_time": "2022-04-16T07:22:37.550Z"
   },
   {
    "duration": 188,
    "start_time": "2022-04-16T07:22:37.899Z"
   },
   {
    "duration": 12,
    "start_time": "2022-04-16T07:22:38.089Z"
   },
   {
    "duration": 34,
    "start_time": "2022-04-16T07:22:38.104Z"
   },
   {
    "duration": 31,
    "start_time": "2022-04-16T07:22:38.141Z"
   },
   {
    "duration": 14,
    "start_time": "2022-04-16T07:22:38.176Z"
   }
  ],
  "kernelspec": {
   "display_name": "Python 3 (ipykernel)",
   "language": "python",
   "name": "python3"
  },
  "language_info": {
   "codemirror_mode": {
    "name": "ipython",
    "version": 3
   },
   "file_extension": ".py",
   "mimetype": "text/x-python",
   "name": "python",
   "nbconvert_exporter": "python",
   "pygments_lexer": "ipython3",
   "version": "3.9.7"
  },
  "toc": {
   "base_numbering": 1,
   "nav_menu": {},
   "number_sections": true,
   "sideBar": true,
   "skip_h1_title": true,
   "title_cell": "Table of Contents",
   "title_sidebar": "Contents",
   "toc_cell": false,
   "toc_position": {
    "height": "calc(100% - 180px)",
    "left": "10px",
    "top": "150px",
    "width": "303.825px"
   },
   "toc_section_display": true,
   "toc_window_display": false
  }
 },
 "nbformat": 4,
 "nbformat_minor": 5
}
