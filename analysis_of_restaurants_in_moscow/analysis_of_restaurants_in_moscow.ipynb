{
 "cells": [
  {
   "cell_type": "markdown",
   "id": "893f2d1c",
   "metadata": {},
   "source": [
    "# Анализ рынка заведений общественного питания Москвы"
   ]
  },
  {
   "cell_type": "markdown",
   "id": "ec2e2e67",
   "metadata": {},
   "source": [
    "# Задача:"
   ]
  },
  {
   "cell_type": "markdown",
   "id": "9c1ed822",
   "metadata": {},
   "source": [
    "* Провети анализ текущего положения дел на рынке заведений общественного питания\n",
    "* На основании проведенного анализа предложить вариант который с большей вероятностью будет пользоваться на рынке популярностью. Так же определить основные районы города минимальным уровнем конкуренции и относительно большим потоком людей"
   ]
  },
  {
   "cell_type": "markdown",
   "id": "2e0f4605",
   "metadata": {
    "toc": true
   },
   "source": [
    "<h1>Содержание<span class=\"tocSkip\"></span></h1>\n",
    "<div class=\"toc\"><ul class=\"toc-item\"><li><span><a href=\"#Импорт-данных-и-их-предобработка\" data-toc-modified-id=\"Импорт-данных-и-их-предобработка-1\"><span class=\"toc-item-num\">1&nbsp;&nbsp;</span>Импорт данных и их предобработка</a></span><ul class=\"toc-item\"><li><span><a href=\"#Импорт-библиотек-и-данных\" data-toc-modified-id=\"Импорт-библиотек-и-данных-1.1\"><span class=\"toc-item-num\">1.1&nbsp;&nbsp;</span>Импорт библиотек и данных</a></span></li></ul></li><li><span><a href=\"#Анализ-данных\" data-toc-modified-id=\"Анализ-данных-2\"><span class=\"toc-item-num\">2&nbsp;&nbsp;</span>Анализ данных</a></span><ul class=\"toc-item\"><li><span><a href=\"#Анализ-соотношения-видов-объектов-общественного-питания-по-количеству\" data-toc-modified-id=\"Анализ-соотношения-видов-объектов-общественного-питания-по-количеству-2.1\"><span class=\"toc-item-num\">2.1&nbsp;&nbsp;</span>Анализ соотношения видов объектов общественного питания по количеству</a></span></li><li><span><a href=\"#Cоотношение-сетевых-и-несетевых-заведений-по-количеству\" data-toc-modified-id=\"Cоотношение-сетевых-и-несетевых-заведений-по-количеству-2.2\"><span class=\"toc-item-num\">2.2&nbsp;&nbsp;</span>Cоотношение сетевых и несетевых заведений по количеству</a></span></li><li><span><a href=\"#Анализ-видов-общественного-питания-в-зависимости-от-его-типа\" data-toc-modified-id=\"Анализ-видов-общественного-питания-в-зависимости-от-его-типа-2.3\"><span class=\"toc-item-num\">2.3&nbsp;&nbsp;</span>Анализ видов общественного питания в зависимости от его типа</a></span></li><li><span><a href=\"#Анализ-числа-посадочных-мест-в-сетевых-заведениях\" data-toc-modified-id=\"Анализ-числа-посадочных-мест-в-сетевых-заведениях-2.4\"><span class=\"toc-item-num\">2.4&nbsp;&nbsp;</span>Анализ числа посадочных мест в сетевых заведениях</a></span></li><li><span><a href=\"#Анализ-среднего-количества-мест-в-зависимости-от-вида-общественного-питания\" data-toc-modified-id=\"Анализ-среднего-количества-мест-в-зависимости-от-вида-общественного-питания-2.5\"><span class=\"toc-item-num\">2.5&nbsp;&nbsp;</span>Анализ среднего количества мест в зависимости от вида общественного питания</a></span></li><li><span><a href=\"#Анализ-объектов-общественного-питания-относительно-улиц-на-которых-они-расположены\" data-toc-modified-id=\"Анализ-объектов-общественного-питания-относительно-улиц-на-которых-они-расположены-2.6\"><span class=\"toc-item-num\">2.6&nbsp;&nbsp;</span>Анализ объектов общественного питания относительно улиц на которых они расположены</a></span></li><li><span><a href=\"#Анализ-улиц-с-одним-объектом-общественного-питания\" data-toc-modified-id=\"Анализ-улиц-с-одним-объектом-общественного-питания-2.7\"><span class=\"toc-item-num\">2.7&nbsp;&nbsp;</span>Анализ улиц с одним объектом общественного питания</a></span></li><li><span><a href=\"#Анализ--распределение-количества-посадочных-мест-для-улиц-с-большим-количеством-объектов-общественного-питания\" data-toc-modified-id=\"Анализ--распределение-количества-посадочных-мест-для-улиц-с-большим-количеством-объектов-общественного-питания-2.8\"><span class=\"toc-item-num\">2.8&nbsp;&nbsp;</span>Анализ  распределение количества посадочных мест для улиц с большим количеством объектов общественного питания</a></span></li></ul></li><li><span><a href=\"#Общий-вывод\" data-toc-modified-id=\"Общий-вывод-3\"><span class=\"toc-item-num\">3&nbsp;&nbsp;</span>Общий вывод</a></span></li></ul></div>"
   ]
  },
  {
   "cell_type": "markdown",
   "id": "5666062f",
   "metadata": {},
   "source": [
    "## Импорт данных и их предобработка"
   ]
  },
  {
   "cell_type": "markdown",
   "id": "2169731d",
   "metadata": {},
   "source": [
    "### Импорт библиотек и данных"
   ]
  },
  {
   "cell_type": "code",
   "execution_count": 2,
   "id": "786117d3",
   "metadata": {},
   "outputs": [],
   "source": [
    "import pandas as pd\n",
    "import numpy as np\n",
    "import math \n",
    "import datetime as dt\n",
    "import scipy.stats as stats\n",
    "import matplotlib.pyplot as plt\n",
    "import seaborn as sns\n",
    "from scipy import stats as st\n",
    "import random\n",
    "from datetime import datetime, timedelta\n",
    "pd.set_option('display.max_columns', 40)"
   ]
  },
  {
   "cell_type": "code",
   "execution_count": 3,
   "id": "c3737086",
   "metadata": {},
   "outputs": [],
   "source": [
    "import plotly.graph_objects as go"
   ]
  },
  {
   "cell_type": "code",
   "execution_count": 4,
   "id": "c808f8ad",
   "metadata": {},
   "outputs": [],
   "source": [
    "import warnings\n",
    "warnings.filterwarnings('ignore')"
   ]
  },
  {
   "cell_type": "code",
   "execution_count": 5,
   "id": "83ec1dda",
   "metadata": {},
   "outputs": [
    {
     "data": {
      "text/html": [
       "<div>\n",
       "<style scoped>\n",
       "    .dataframe tbody tr th:only-of-type {\n",
       "        vertical-align: middle;\n",
       "    }\n",
       "\n",
       "    .dataframe tbody tr th {\n",
       "        vertical-align: top;\n",
       "    }\n",
       "\n",
       "    .dataframe thead th {\n",
       "        text-align: right;\n",
       "    }\n",
       "</style>\n",
       "<table border=\"1\" class=\"dataframe\">\n",
       "  <thead>\n",
       "    <tr style=\"text-align: right;\">\n",
       "      <th></th>\n",
       "      <th>streetname</th>\n",
       "      <th>areaid</th>\n",
       "      <th>okrug</th>\n",
       "      <th>area</th>\n",
       "    </tr>\n",
       "  </thead>\n",
       "  <tbody>\n",
       "    <tr>\n",
       "      <th>0</th>\n",
       "      <td>Выставочный переулок</td>\n",
       "      <td>17</td>\n",
       "      <td>ЦАО</td>\n",
       "      <td>Пресненский район</td>\n",
       "    </tr>\n",
       "    <tr>\n",
       "      <th>1</th>\n",
       "      <td>улица Гашека</td>\n",
       "      <td>17</td>\n",
       "      <td>ЦАО</td>\n",
       "      <td>Пресненский район</td>\n",
       "    </tr>\n",
       "    <tr>\n",
       "      <th>2</th>\n",
       "      <td>Большая Никитская улица</td>\n",
       "      <td>17</td>\n",
       "      <td>ЦАО</td>\n",
       "      <td>Пресненский район</td>\n",
       "    </tr>\n",
       "    <tr>\n",
       "      <th>3</th>\n",
       "      <td>Глубокий переулок</td>\n",
       "      <td>17</td>\n",
       "      <td>ЦАО</td>\n",
       "      <td>Пресненский район</td>\n",
       "    </tr>\n",
       "    <tr>\n",
       "      <th>4</th>\n",
       "      <td>Большой Гнездниковский переулок</td>\n",
       "      <td>17</td>\n",
       "      <td>ЦАО</td>\n",
       "      <td>Пресненский район</td>\n",
       "    </tr>\n",
       "    <tr>\n",
       "      <th>...</th>\n",
       "      <td>...</td>\n",
       "      <td>...</td>\n",
       "      <td>...</td>\n",
       "      <td>...</td>\n",
       "    </tr>\n",
       "    <tr>\n",
       "      <th>4393</th>\n",
       "      <td>Вознесенский проезд</td>\n",
       "      <td>17</td>\n",
       "      <td>ЦАО</td>\n",
       "      <td>Пресненский район</td>\n",
       "    </tr>\n",
       "    <tr>\n",
       "      <th>4394</th>\n",
       "      <td>Волков переулок</td>\n",
       "      <td>17</td>\n",
       "      <td>ЦАО</td>\n",
       "      <td>Пресненский район</td>\n",
       "    </tr>\n",
       "    <tr>\n",
       "      <th>4395</th>\n",
       "      <td>Поварская улица</td>\n",
       "      <td>17</td>\n",
       "      <td>ЦАО</td>\n",
       "      <td>Пресненский район</td>\n",
       "    </tr>\n",
       "    <tr>\n",
       "      <th>4396</th>\n",
       "      <td>Кудринская площадь</td>\n",
       "      <td>17</td>\n",
       "      <td>ЦАО</td>\n",
       "      <td>Пресненский район</td>\n",
       "    </tr>\n",
       "    <tr>\n",
       "      <th>4397</th>\n",
       "      <td>Вспольный переулок</td>\n",
       "      <td>17</td>\n",
       "      <td>ЦАО</td>\n",
       "      <td>Пресненский район</td>\n",
       "    </tr>\n",
       "  </tbody>\n",
       "</table>\n",
       "<p>4398 rows × 4 columns</p>\n",
       "</div>"
      ],
      "text/plain": [
       "                           streetname  areaid okrug               area\n",
       "0                Выставочный переулок      17   ЦАО  Пресненский район\n",
       "1                        улица Гашека      17   ЦАО  Пресненский район\n",
       "2             Большая Никитская улица      17   ЦАО  Пресненский район\n",
       "3                   Глубокий переулок      17   ЦАО  Пресненский район\n",
       "4     Большой Гнездниковский переулок      17   ЦАО  Пресненский район\n",
       "...                               ...     ...   ...                ...\n",
       "4393              Вознесенский проезд      17   ЦАО  Пресненский район\n",
       "4394                  Волков переулок      17   ЦАО  Пресненский район\n",
       "4395                  Поварская улица      17   ЦАО  Пресненский район\n",
       "4396               Кудринская площадь      17   ЦАО  Пресненский район\n",
       "4397               Вспольный переулок      17   ЦАО  Пресненский район\n",
       "\n",
       "[4398 rows x 4 columns]"
      ]
     },
     "execution_count": 5,
     "metadata": {},
     "output_type": "execute_result"
    }
   ],
   "source": [
    "# импортируем данные мосгаза по улицам Москвы и к каким округам и районам они относятся\n",
    "from io import BytesIO\n",
    "import requests\n",
    "spreadsheet_id = '1NtouYT9WCb8n0I9bgITyN-TDsNmYis5jepi7Y756tOA'\n",
    "file_name = 'https://docs.google.com/spreadsheets/d/{}/export?format=csv'.format(spreadsheet_id)\n",
    "r = requests.get(file_name)\n",
    "mosgaz_streets = pd.read_csv(BytesIO(r.content))\n",
    "mosgaz_streets"
   ]
  },
  {
   "cell_type": "code",
   "execution_count": 6,
   "id": "1875798f",
   "metadata": {},
   "outputs": [],
   "source": [
    "# иморит основной базы по заведениям общепита\n",
    "path = \"F:\\\\datasets\\\\History_from_data\\\\\"\n",
    "try:\n",
    "    restaurant = pd.read_csv(path + 'rest_data.csv') \n",
    "except:\n",
    "    restaurant = pd.read_csv('/datasets/rest_data.csv')"
   ]
  },
  {
   "cell_type": "code",
   "execution_count": 7,
   "id": "a66f7aa6",
   "metadata": {},
   "outputs": [
    {
     "data": {
      "text/html": [
       "<div>\n",
       "<style scoped>\n",
       "    .dataframe tbody tr th:only-of-type {\n",
       "        vertical-align: middle;\n",
       "    }\n",
       "\n",
       "    .dataframe tbody tr th {\n",
       "        vertical-align: top;\n",
       "    }\n",
       "\n",
       "    .dataframe thead th {\n",
       "        text-align: right;\n",
       "    }\n",
       "</style>\n",
       "<table border=\"1\" class=\"dataframe\">\n",
       "  <thead>\n",
       "    <tr style=\"text-align: right;\">\n",
       "      <th></th>\n",
       "      <th>id</th>\n",
       "      <th>object_name</th>\n",
       "      <th>chain</th>\n",
       "      <th>object_type</th>\n",
       "      <th>address</th>\n",
       "      <th>number</th>\n",
       "    </tr>\n",
       "  </thead>\n",
       "  <tbody>\n",
       "    <tr>\n",
       "      <th>0</th>\n",
       "      <td>151635</td>\n",
       "      <td>СМЕТАНА</td>\n",
       "      <td>нет</td>\n",
       "      <td>кафе</td>\n",
       "      <td>город Москва, улица Егора Абакумова, дом 9</td>\n",
       "      <td>48</td>\n",
       "    </tr>\n",
       "    <tr>\n",
       "      <th>1</th>\n",
       "      <td>77874</td>\n",
       "      <td>Родник</td>\n",
       "      <td>нет</td>\n",
       "      <td>кафе</td>\n",
       "      <td>город Москва, улица Талалихина, дом 2/1, корпус 1</td>\n",
       "      <td>35</td>\n",
       "    </tr>\n",
       "    <tr>\n",
       "      <th>2</th>\n",
       "      <td>24309</td>\n",
       "      <td>Кафе «Академия»</td>\n",
       "      <td>нет</td>\n",
       "      <td>кафе</td>\n",
       "      <td>город Москва, Абельмановская улица, дом 6</td>\n",
       "      <td>95</td>\n",
       "    </tr>\n",
       "    <tr>\n",
       "      <th>3</th>\n",
       "      <td>21894</td>\n",
       "      <td>ПИЦЦЕТОРИЯ</td>\n",
       "      <td>да</td>\n",
       "      <td>кафе</td>\n",
       "      <td>город Москва, Абрамцевская улица, дом 1</td>\n",
       "      <td>40</td>\n",
       "    </tr>\n",
       "    <tr>\n",
       "      <th>4</th>\n",
       "      <td>119365</td>\n",
       "      <td>Кафе «Вишневая метель»</td>\n",
       "      <td>нет</td>\n",
       "      <td>кафе</td>\n",
       "      <td>город Москва, Абрамцевская улица, дом 9, корпус 1</td>\n",
       "      <td>50</td>\n",
       "    </tr>\n",
       "    <tr>\n",
       "      <th>...</th>\n",
       "      <td>...</td>\n",
       "      <td>...</td>\n",
       "      <td>...</td>\n",
       "      <td>...</td>\n",
       "      <td>...</td>\n",
       "      <td>...</td>\n",
       "    </tr>\n",
       "    <tr>\n",
       "      <th>15361</th>\n",
       "      <td>208537</td>\n",
       "      <td>Шоколадница</td>\n",
       "      <td>да</td>\n",
       "      <td>кафе</td>\n",
       "      <td>город Москва, 3-й Крутицкий переулок, дом 18</td>\n",
       "      <td>50</td>\n",
       "    </tr>\n",
       "    <tr>\n",
       "      <th>15362</th>\n",
       "      <td>209264</td>\n",
       "      <td>Шоколадница</td>\n",
       "      <td>да</td>\n",
       "      <td>кафе</td>\n",
       "      <td>город Москва, улица Земляной Вал, дом 33</td>\n",
       "      <td>10</td>\n",
       "    </tr>\n",
       "    <tr>\n",
       "      <th>15363</th>\n",
       "      <td>209186</td>\n",
       "      <td>Шоколадница</td>\n",
       "      <td>да</td>\n",
       "      <td>кафе</td>\n",
       "      <td>город Москва, улица Земляной Вал, дом 33</td>\n",
       "      <td>20</td>\n",
       "    </tr>\n",
       "    <tr>\n",
       "      <th>15364</th>\n",
       "      <td>221900</td>\n",
       "      <td>Шоколадница</td>\n",
       "      <td>да</td>\n",
       "      <td>кафе</td>\n",
       "      <td>город Москва, поселение Московский, Киевское ш...</td>\n",
       "      <td>36</td>\n",
       "    </tr>\n",
       "    <tr>\n",
       "      <th>15365</th>\n",
       "      <td>222535</td>\n",
       "      <td>Шоколадница</td>\n",
       "      <td>да</td>\n",
       "      <td>кафе</td>\n",
       "      <td>город Москва, Ходынский бульвар, дом 4</td>\n",
       "      <td>10</td>\n",
       "    </tr>\n",
       "  </tbody>\n",
       "</table>\n",
       "<p>15366 rows × 6 columns</p>\n",
       "</div>"
      ],
      "text/plain": [
       "           id             object_name chain object_type  \\\n",
       "0      151635                 СМЕТАНА   нет        кафе   \n",
       "1       77874                  Родник   нет        кафе   \n",
       "2       24309         Кафе «Академия»   нет        кафе   \n",
       "3       21894              ПИЦЦЕТОРИЯ    да        кафе   \n",
       "4      119365  Кафе «Вишневая метель»   нет        кафе   \n",
       "...       ...                     ...   ...         ...   \n",
       "15361  208537             Шоколадница    да        кафе   \n",
       "15362  209264             Шоколадница    да        кафе   \n",
       "15363  209186             Шоколадница    да        кафе   \n",
       "15364  221900             Шоколадница    да        кафе   \n",
       "15365  222535             Шоколадница    да        кафе   \n",
       "\n",
       "                                                 address  number  \n",
       "0             город Москва, улица Егора Абакумова, дом 9      48  \n",
       "1      город Москва, улица Талалихина, дом 2/1, корпус 1      35  \n",
       "2              город Москва, Абельмановская улица, дом 6      95  \n",
       "3                город Москва, Абрамцевская улица, дом 1      40  \n",
       "4      город Москва, Абрамцевская улица, дом 9, корпус 1      50  \n",
       "...                                                  ...     ...  \n",
       "15361       город Москва, 3-й Крутицкий переулок, дом 18      50  \n",
       "15362           город Москва, улица Земляной Вал, дом 33      10  \n",
       "15363           город Москва, улица Земляной Вал, дом 33      20  \n",
       "15364  город Москва, поселение Московский, Киевское ш...      36  \n",
       "15365             город Москва, Ходынский бульвар, дом 4      10  \n",
       "\n",
       "[15366 rows x 6 columns]"
      ]
     },
     "execution_count": 7,
     "metadata": {},
     "output_type": "execute_result"
    }
   ],
   "source": [
    "restaurant"
   ]
  },
  {
   "cell_type": "code",
   "execution_count": 8,
   "id": "c909a891",
   "metadata": {},
   "outputs": [
    {
     "data": {
      "text/plain": [
       "город Москва, Ходынский бульвар, дом 4                       95\n",
       "город Москва, Пресненская набережная, дом 2                  63\n",
       "город Москва, проспект Мира, дом 211, корпус 2               60\n",
       "город Москва, Кировоградская улица, дом 13А                  53\n",
       "город Москва, площадь Киевского Вокзала, дом 2               48\n",
       "                                                             ..\n",
       "город Москва, 7-я Кожуховская улица, дом 13/4                 1\n",
       "город Москва, Садовая-Самотёчная улица, дом 6, строение 1     1\n",
       "город Москва, улица Земляной Вал, дом 32                      1\n",
       "город Москва, Садовническая улица, дом 20, строение 1         1\n",
       "город Москва, 9-я Северная линия, дом 1                       1\n",
       "Name: address, Length: 9108, dtype: int64"
      ]
     },
     "execution_count": 8,
     "metadata": {},
     "output_type": "execute_result"
    }
   ],
   "source": [
    "restaurant.address.value_counts()"
   ]
  },
  {
   "cell_type": "code",
   "execution_count": 9,
   "id": "fbd9805b",
   "metadata": {},
   "outputs": [
    {
     "name": "stdout",
     "output_type": "stream",
     "text": [
      "<class 'pandas.core.frame.DataFrame'>\n",
      "RangeIndex: 15366 entries, 0 to 15365\n",
      "Data columns (total 6 columns):\n",
      " #   Column       Non-Null Count  Dtype \n",
      "---  ------       --------------  ----- \n",
      " 0   id           15366 non-null  int64 \n",
      " 1   object_name  15366 non-null  object\n",
      " 2   chain        15366 non-null  object\n",
      " 3   object_type  15366 non-null  object\n",
      " 4   address      15366 non-null  object\n",
      " 5   number       15366 non-null  int64 \n",
      "dtypes: int64(2), object(4)\n",
      "memory usage: 720.4+ KB\n"
     ]
    }
   ],
   "source": [
    "restaurant.info()"
   ]
  },
  {
   "cell_type": "markdown",
   "id": "81df2d54",
   "metadata": {},
   "source": [
    "* `id` - индификатор объекта\n",
    "* `object_name` - название объекта общественного питания\n",
    "* `chain` - сетевой ресторан\n",
    "* `object_type` - тип объекта общественного питания\n",
    "* `address` - адресс\n",
    "* `number` - количество посадочных мест\n",
    "\n",
    "Пропусков в колонках нет"
   ]
  },
  {
   "cell_type": "code",
   "execution_count": 10,
   "id": "67206530",
   "metadata": {},
   "outputs": [],
   "source": [
    "# переименовал значения\n",
    "chain = {'нет' : 'Не сеть', 'да': 'Сеть'}\n",
    "restaurant['chain'].replace(chain, inplace=True)"
   ]
  },
  {
   "cell_type": "code",
   "execution_count": 11,
   "id": "0927f824",
   "metadata": {},
   "outputs": [
    {
     "data": {
      "text/html": [
       "<div>\n",
       "<style scoped>\n",
       "    .dataframe tbody tr th:only-of-type {\n",
       "        vertical-align: middle;\n",
       "    }\n",
       "\n",
       "    .dataframe tbody tr th {\n",
       "        vertical-align: top;\n",
       "    }\n",
       "\n",
       "    .dataframe thead th {\n",
       "        text-align: right;\n",
       "    }\n",
       "</style>\n",
       "<table border=\"1\" class=\"dataframe\">\n",
       "  <thead>\n",
       "    <tr style=\"text-align: right;\">\n",
       "      <th></th>\n",
       "      <th>id</th>\n",
       "      <th>object_name</th>\n",
       "      <th>chain</th>\n",
       "      <th>object_type</th>\n",
       "      <th>address</th>\n",
       "      <th>number</th>\n",
       "    </tr>\n",
       "  </thead>\n",
       "  <tbody>\n",
       "    <tr>\n",
       "      <th>0</th>\n",
       "      <td>151635</td>\n",
       "      <td>СМЕТАНА</td>\n",
       "      <td>Не сеть</td>\n",
       "      <td>кафе</td>\n",
       "      <td>город Москва, улица Егора Абакумова, дом 9</td>\n",
       "      <td>48</td>\n",
       "    </tr>\n",
       "    <tr>\n",
       "      <th>1</th>\n",
       "      <td>77874</td>\n",
       "      <td>Родник</td>\n",
       "      <td>Не сеть</td>\n",
       "      <td>кафе</td>\n",
       "      <td>город Москва, улица Талалихина, дом 2/1, корпус 1</td>\n",
       "      <td>35</td>\n",
       "    </tr>\n",
       "    <tr>\n",
       "      <th>2</th>\n",
       "      <td>24309</td>\n",
       "      <td>Кафе «Академия»</td>\n",
       "      <td>Не сеть</td>\n",
       "      <td>кафе</td>\n",
       "      <td>город Москва, Абельмановская улица, дом 6</td>\n",
       "      <td>95</td>\n",
       "    </tr>\n",
       "    <tr>\n",
       "      <th>3</th>\n",
       "      <td>21894</td>\n",
       "      <td>ПИЦЦЕТОРИЯ</td>\n",
       "      <td>Сеть</td>\n",
       "      <td>кафе</td>\n",
       "      <td>город Москва, Абрамцевская улица, дом 1</td>\n",
       "      <td>40</td>\n",
       "    </tr>\n",
       "    <tr>\n",
       "      <th>4</th>\n",
       "      <td>119365</td>\n",
       "      <td>Кафе «Вишневая метель»</td>\n",
       "      <td>Не сеть</td>\n",
       "      <td>кафе</td>\n",
       "      <td>город Москва, Абрамцевская улица, дом 9, корпус 1</td>\n",
       "      <td>50</td>\n",
       "    </tr>\n",
       "    <tr>\n",
       "      <th>...</th>\n",
       "      <td>...</td>\n",
       "      <td>...</td>\n",
       "      <td>...</td>\n",
       "      <td>...</td>\n",
       "      <td>...</td>\n",
       "      <td>...</td>\n",
       "    </tr>\n",
       "    <tr>\n",
       "      <th>15361</th>\n",
       "      <td>208537</td>\n",
       "      <td>Шоколадница</td>\n",
       "      <td>Сеть</td>\n",
       "      <td>кафе</td>\n",
       "      <td>город Москва, 3-й Крутицкий переулок, дом 18</td>\n",
       "      <td>50</td>\n",
       "    </tr>\n",
       "    <tr>\n",
       "      <th>15362</th>\n",
       "      <td>209264</td>\n",
       "      <td>Шоколадница</td>\n",
       "      <td>Сеть</td>\n",
       "      <td>кафе</td>\n",
       "      <td>город Москва, улица Земляной Вал, дом 33</td>\n",
       "      <td>10</td>\n",
       "    </tr>\n",
       "    <tr>\n",
       "      <th>15363</th>\n",
       "      <td>209186</td>\n",
       "      <td>Шоколадница</td>\n",
       "      <td>Сеть</td>\n",
       "      <td>кафе</td>\n",
       "      <td>город Москва, улица Земляной Вал, дом 33</td>\n",
       "      <td>20</td>\n",
       "    </tr>\n",
       "    <tr>\n",
       "      <th>15364</th>\n",
       "      <td>221900</td>\n",
       "      <td>Шоколадница</td>\n",
       "      <td>Сеть</td>\n",
       "      <td>кафе</td>\n",
       "      <td>город Москва, поселение Московский, Киевское ш...</td>\n",
       "      <td>36</td>\n",
       "    </tr>\n",
       "    <tr>\n",
       "      <th>15365</th>\n",
       "      <td>222535</td>\n",
       "      <td>Шоколадница</td>\n",
       "      <td>Сеть</td>\n",
       "      <td>кафе</td>\n",
       "      <td>город Москва, Ходынский бульвар, дом 4</td>\n",
       "      <td>10</td>\n",
       "    </tr>\n",
       "  </tbody>\n",
       "</table>\n",
       "<p>15366 rows × 6 columns</p>\n",
       "</div>"
      ],
      "text/plain": [
       "           id             object_name    chain object_type  \\\n",
       "0      151635                 СМЕТАНА  Не сеть        кафе   \n",
       "1       77874                  Родник  Не сеть        кафе   \n",
       "2       24309         Кафе «Академия»  Не сеть        кафе   \n",
       "3       21894              ПИЦЦЕТОРИЯ     Сеть        кафе   \n",
       "4      119365  Кафе «Вишневая метель»  Не сеть        кафе   \n",
       "...       ...                     ...      ...         ...   \n",
       "15361  208537             Шоколадница     Сеть        кафе   \n",
       "15362  209264             Шоколадница     Сеть        кафе   \n",
       "15363  209186             Шоколадница     Сеть        кафе   \n",
       "15364  221900             Шоколадница     Сеть        кафе   \n",
       "15365  222535             Шоколадница     Сеть        кафе   \n",
       "\n",
       "                                                 address  number  \n",
       "0             город Москва, улица Егора Абакумова, дом 9      48  \n",
       "1      город Москва, улица Талалихина, дом 2/1, корпус 1      35  \n",
       "2              город Москва, Абельмановская улица, дом 6      95  \n",
       "3                город Москва, Абрамцевская улица, дом 1      40  \n",
       "4      город Москва, Абрамцевская улица, дом 9, корпус 1      50  \n",
       "...                                                  ...     ...  \n",
       "15361       город Москва, 3-й Крутицкий переулок, дом 18      50  \n",
       "15362           город Москва, улица Земляной Вал, дом 33      10  \n",
       "15363           город Москва, улица Земляной Вал, дом 33      20  \n",
       "15364  город Москва, поселение Московский, Киевское ш...      36  \n",
       "15365             город Москва, Ходынский бульвар, дом 4      10  \n",
       "\n",
       "[15366 rows x 6 columns]"
      ]
     },
     "execution_count": 11,
     "metadata": {},
     "output_type": "execute_result"
    }
   ],
   "source": [
    "\n",
    "chain = {'нет': 'Не сеть', 'да': 'Сеть'}\n",
    "restaurant['chain'].replace(chain, inplace=True)\n",
    "restaurant"
   ]
  },
  {
   "cell_type": "code",
   "execution_count": 12,
   "id": "8106707b",
   "metadata": {},
   "outputs": [
    {
     "data": {
      "text/plain": [
       "KFC                155\n",
       "Шоколадница        141\n",
       "Бургер Кинг        122\n",
       "Макдоналдс         122\n",
       "Домино'с Пицца      86\n",
       "Теремок             84\n",
       "Крошка Картошка     82\n",
       "Милти               65\n",
       "Суши Wok            61\n",
       "Папа Джонс          50\n",
       "Кофе с собой        44\n",
       "Чайхона №1          42\n",
       "Хинкальная          35\n",
       "Якитория            33\n",
       "Кофе Хаус           31\n",
       "Додо Пицца          31\n",
       "Starbucks           30\n",
       "МАКДОНАЛДС          29\n",
       "Subway              29\n",
       "Тануки              26\n",
       "Name: object_name, dtype: int64"
      ]
     },
     "execution_count": 12,
     "metadata": {},
     "output_type": "execute_result"
    }
   ],
   "source": [
    "restaurant[restaurant['chain'] == 'Сеть']['object_name'].value_counts().head(20)"
   ]
  },
  {
   "cell_type": "code",
   "execution_count": 13,
   "id": "7dea2782",
   "metadata": {},
   "outputs": [
    {
     "data": {
      "text/plain": [
       "724"
      ]
     },
     "execution_count": 13,
     "metadata": {},
     "output_type": "execute_result"
    }
   ],
   "source": [
    "len(restaurant[restaurant['chain'] == 'Сеть']['object_name'].unique())"
   ]
  },
  {
   "cell_type": "markdown",
   "id": "baad186d",
   "metadata": {},
   "source": [
    "Так как среди названий сетевых заведений общественного питания есть одни и те же заведения запизаные с использование слов в разных регистрах приведем все их названия к нижнему регистру а самые крупные сети приведем к единому названию в кононке"
   ]
  },
  {
   "cell_type": "code",
   "execution_count": 14,
   "id": "25d48adf",
   "metadata": {
    "code_folding": [
     1,
     3,
     5,
     7,
     9,
     11,
     13,
     15,
     17,
     19,
     21,
     23,
     25,
     27,
     29,
     31,
     33,
     35
    ]
   },
   "outputs": [],
   "source": [
    "def pattern_name(row):\n",
    "    if 'kfc' in row:\n",
    "        return 'kfc'\n",
    "    if 'макдоналдс' in row:\n",
    "        return 'макдоналдс'\n",
    "    if 'mcdonalds' in row:\n",
    "        return 'макдоналдс'\n",
    "    if 'теремок' in row:\n",
    "        return 'теремок'\n",
    "    if 'сабвей' in row:\n",
    "        return 'сабвей'\n",
    "    if 'subway' in row:\n",
    "        return 'сабвей'\n",
    "    if 'папа джонс' in row:\n",
    "        return 'папа джонс'\n",
    "    if 'крошка картошка' in row:\n",
    "        return 'крошка картошка'\n",
    "    if 'бургер кинг' in row:\n",
    "        return 'бургер кинг'\n",
    "    if 'шоколадница' in row:\n",
    "        return 'шоколадница'\n",
    "    if 'милти' in row:\n",
    "        return 'милти'\n",
    "    if 'суши вок' in row:\n",
    "        return 'суши wok'\n",
    "    if 'старбакс' in row:\n",
    "        return 'starbucks'\n",
    "    if 'му-му' in row:\n",
    "        return 'му-му'\n",
    "    if 'пицца хат' in row:\n",
    "        return 'пицца хат'\n",
    "    if 'кофе-хаус' in row:\n",
    "        return 'кофе хаус'\n",
    "    if 'домино\"с' in row:\n",
    "        return 'домино\"с пицца'\n",
    "    else:\n",
    "        return row\n",
    "    \n",
    "restaurant['object_name'] = restaurant['object_name'].map(lambda x : x.lower())\n",
    "restaurant['object_name'] = restaurant['object_name'].apply(pattern_name)"
   ]
  },
  {
   "cell_type": "code",
   "execution_count": 15,
   "id": "a49ba2ba",
   "metadata": {},
   "outputs": [
    {
     "data": {
      "text/plain": [
       "499"
      ]
     },
     "execution_count": 15,
     "metadata": {},
     "output_type": "execute_result"
    }
   ],
   "source": [
    "len(restaurant[restaurant['chain'] == 'Сеть']['object_name'].unique())"
   ]
  },
  {
   "cell_type": "code",
   "execution_count": 16,
   "id": "45104424",
   "metadata": {},
   "outputs": [
    {
     "data": {
      "text/plain": [
       "array(['кафе', 'столовая', 'закусочная',\n",
       "       'предприятие быстрого обслуживания', 'ресторан', 'кафетерий',\n",
       "       'буфет', 'бар', 'магазин (отдел кулинарии)'], dtype=object)"
      ]
     },
     "execution_count": 16,
     "metadata": {},
     "output_type": "execute_result"
    }
   ],
   "source": [
    "restaurant['object_type'].unique()"
   ]
  },
  {
   "cell_type": "markdown",
   "id": "735651cc",
   "metadata": {},
   "source": [
    "Всего 9 никальных типов заведений в базе. Среди них нет скрытых дубликатов все типы написаны корректно."
   ]
  },
  {
   "cell_type": "code",
   "execution_count": 17,
   "id": "dbea102f",
   "metadata": {},
   "outputs": [
    {
     "name": "stdout",
     "output_type": "stream",
     "text": [
      "<class 'pandas.core.frame.DataFrame'>\n",
      "RangeIndex: 15366 entries, 0 to 15365\n",
      "Data columns (total 6 columns):\n",
      " #   Column       Non-Null Count  Dtype \n",
      "---  ------       --------------  ----- \n",
      " 0   id           15366 non-null  int64 \n",
      " 1   object_name  15366 non-null  object\n",
      " 2   chain        15366 non-null  object\n",
      " 3   object_type  15366 non-null  object\n",
      " 4   address      15366 non-null  object\n",
      " 5   number       15366 non-null  int64 \n",
      "dtypes: int64(2), object(4)\n",
      "memory usage: 720.4+ KB\n"
     ]
    }
   ],
   "source": [
    "restaurant.info()"
   ]
  },
  {
   "cell_type": "code",
   "execution_count": 18,
   "id": "6a88254b",
   "metadata": {},
   "outputs": [
    {
     "data": {
      "text/plain": [
       "191"
      ]
     },
     "execution_count": 18,
     "metadata": {},
     "output_type": "execute_result"
    }
   ],
   "source": [
    "restaurant.duplicated(subset=['object_name', 'chain', 'object_type', 'address']).sum()"
   ]
  },
  {
   "cell_type": "code",
   "execution_count": 19,
   "id": "3a1e86d7",
   "metadata": {},
   "outputs": [
    {
     "data": {
      "text/html": [
       "<div>\n",
       "<style scoped>\n",
       "    .dataframe tbody tr th:only-of-type {\n",
       "        vertical-align: middle;\n",
       "    }\n",
       "\n",
       "    .dataframe tbody tr th {\n",
       "        vertical-align: top;\n",
       "    }\n",
       "\n",
       "    .dataframe thead th {\n",
       "        text-align: right;\n",
       "    }\n",
       "</style>\n",
       "<table border=\"1\" class=\"dataframe\">\n",
       "  <thead>\n",
       "    <tr style=\"text-align: right;\">\n",
       "      <th></th>\n",
       "      <th>id</th>\n",
       "      <th>object_name</th>\n",
       "      <th>chain</th>\n",
       "      <th>object_type</th>\n",
       "      <th>address</th>\n",
       "      <th>number</th>\n",
       "    </tr>\n",
       "  </thead>\n",
       "  <tbody>\n",
       "    <tr>\n",
       "      <th>0</th>\n",
       "      <td>151635</td>\n",
       "      <td>сметана</td>\n",
       "      <td>Не сеть</td>\n",
       "      <td>кафе</td>\n",
       "      <td>город Москва, улица Егора Абакумова, дом 9</td>\n",
       "      <td>48</td>\n",
       "    </tr>\n",
       "    <tr>\n",
       "      <th>1</th>\n",
       "      <td>77874</td>\n",
       "      <td>родник</td>\n",
       "      <td>Не сеть</td>\n",
       "      <td>кафе</td>\n",
       "      <td>город Москва, улица Талалихина, дом 2/1, корпус 1</td>\n",
       "      <td>35</td>\n",
       "    </tr>\n",
       "    <tr>\n",
       "      <th>2</th>\n",
       "      <td>24309</td>\n",
       "      <td>кафе «академия»</td>\n",
       "      <td>Не сеть</td>\n",
       "      <td>кафе</td>\n",
       "      <td>город Москва, Абельмановская улица, дом 6</td>\n",
       "      <td>95</td>\n",
       "    </tr>\n",
       "    <tr>\n",
       "      <th>3</th>\n",
       "      <td>21894</td>\n",
       "      <td>пиццетория</td>\n",
       "      <td>Сеть</td>\n",
       "      <td>кафе</td>\n",
       "      <td>город Москва, Абрамцевская улица, дом 1</td>\n",
       "      <td>40</td>\n",
       "    </tr>\n",
       "    <tr>\n",
       "      <th>4</th>\n",
       "      <td>119365</td>\n",
       "      <td>кафе «вишневая метель»</td>\n",
       "      <td>Не сеть</td>\n",
       "      <td>кафе</td>\n",
       "      <td>город Москва, Абрамцевская улица, дом 9, корпус 1</td>\n",
       "      <td>50</td>\n",
       "    </tr>\n",
       "    <tr>\n",
       "      <th>...</th>\n",
       "      <td>...</td>\n",
       "      <td>...</td>\n",
       "      <td>...</td>\n",
       "      <td>...</td>\n",
       "      <td>...</td>\n",
       "      <td>...</td>\n",
       "    </tr>\n",
       "    <tr>\n",
       "      <th>15170</th>\n",
       "      <td>222077</td>\n",
       "      <td>шоколадница</td>\n",
       "      <td>Сеть</td>\n",
       "      <td>кафе</td>\n",
       "      <td>город Москва, Кантемировская улица, дом 47</td>\n",
       "      <td>72</td>\n",
       "    </tr>\n",
       "    <tr>\n",
       "      <th>15171</th>\n",
       "      <td>219759</td>\n",
       "      <td>шоколадница</td>\n",
       "      <td>Сеть</td>\n",
       "      <td>кафе</td>\n",
       "      <td>город Москва, улица Вавилова, дом 3</td>\n",
       "      <td>36</td>\n",
       "    </tr>\n",
       "    <tr>\n",
       "      <th>15172</th>\n",
       "      <td>208537</td>\n",
       "      <td>шоколадница</td>\n",
       "      <td>Сеть</td>\n",
       "      <td>кафе</td>\n",
       "      <td>город Москва, 3-й Крутицкий переулок, дом 18</td>\n",
       "      <td>50</td>\n",
       "    </tr>\n",
       "    <tr>\n",
       "      <th>15173</th>\n",
       "      <td>209264</td>\n",
       "      <td>шоколадница</td>\n",
       "      <td>Сеть</td>\n",
       "      <td>кафе</td>\n",
       "      <td>город Москва, улица Земляной Вал, дом 33</td>\n",
       "      <td>10</td>\n",
       "    </tr>\n",
       "    <tr>\n",
       "      <th>15174</th>\n",
       "      <td>221900</td>\n",
       "      <td>шоколадница</td>\n",
       "      <td>Сеть</td>\n",
       "      <td>кафе</td>\n",
       "      <td>город Москва, поселение Московский, Киевское ш...</td>\n",
       "      <td>36</td>\n",
       "    </tr>\n",
       "  </tbody>\n",
       "</table>\n",
       "<p>15175 rows × 6 columns</p>\n",
       "</div>"
      ],
      "text/plain": [
       "           id             object_name    chain object_type  \\\n",
       "0      151635                 сметана  Не сеть        кафе   \n",
       "1       77874                  родник  Не сеть        кафе   \n",
       "2       24309         кафе «академия»  Не сеть        кафе   \n",
       "3       21894              пиццетория     Сеть        кафе   \n",
       "4      119365  кафе «вишневая метель»  Не сеть        кафе   \n",
       "...       ...                     ...      ...         ...   \n",
       "15170  222077             шоколадница     Сеть        кафе   \n",
       "15171  219759             шоколадница     Сеть        кафе   \n",
       "15172  208537             шоколадница     Сеть        кафе   \n",
       "15173  209264             шоколадница     Сеть        кафе   \n",
       "15174  221900             шоколадница     Сеть        кафе   \n",
       "\n",
       "                                                 address  number  \n",
       "0             город Москва, улица Егора Абакумова, дом 9      48  \n",
       "1      город Москва, улица Талалихина, дом 2/1, корпус 1      35  \n",
       "2              город Москва, Абельмановская улица, дом 6      95  \n",
       "3                город Москва, Абрамцевская улица, дом 1      40  \n",
       "4      город Москва, Абрамцевская улица, дом 9, корпус 1      50  \n",
       "...                                                  ...     ...  \n",
       "15170         город Москва, Кантемировская улица, дом 47      72  \n",
       "15171                город Москва, улица Вавилова, дом 3      36  \n",
       "15172       город Москва, 3-й Крутицкий переулок, дом 18      50  \n",
       "15173           город Москва, улица Земляной Вал, дом 33      10  \n",
       "15174  город Москва, поселение Московский, Киевское ш...      36  \n",
       "\n",
       "[15175 rows x 6 columns]"
      ]
     },
     "execution_count": 19,
     "metadata": {},
     "output_type": "execute_result"
    }
   ],
   "source": [
    "restaurant.drop_duplicates(subset=['object_name', 'chain', 'object_type', 'address'], keep='first', ignore_index=True, inplace=False)"
   ]
  },
  {
   "cell_type": "markdown",
   "id": "d2ce3531",
   "metadata": {},
   "source": [
    "## Анализ данных"
   ]
  },
  {
   "cell_type": "markdown",
   "id": "8f593e3f",
   "metadata": {},
   "source": [
    "### Анализ соотношения видов объектов общественного питания по количеству"
   ]
  },
  {
   "cell_type": "code",
   "execution_count": 20,
   "id": "1757319a",
   "metadata": {},
   "outputs": [
    {
     "data": {
      "image/png": "[encoded data removed]",
      "text/plain": [
       "<Figure size 1080x576 with 1 Axes>"
      ]
     },
     "metadata": {
      "needs_background": "light"
     },
     "output_type": "display_data"
    }
   ],
   "source": [
    "plt.style.use('seaborn-pastel')\n",
    "# color='#781D42'\n",
    "plt.figure(figsize=(15, 8))\n",
    "sns.set_style('whitegrid') \n",
    "ax = sns.countplot(x=\"object_type\", data=restaurant, order=restaurant.object_type.value_counts().index)\n",
    "for container in ax.containers:\n",
    "    ax.bar_label(container, padding=1, fontsize=14)\n",
    "#ax.bar_label(ax.containers[0])\n",
    "plt.title('Количкство объектов общественного питания по типам', fontsize=14)\n",
    "plt.ylabel('Количество объектов в Москве', fontsize=14)\n",
    "plt.xlabel('Тип объекта общественного питания', fontsize=14)\n",
    "ax.set_xticklabels(ax.get_xticklabels(), rotation=45\n",
    "                  , horizontalalignment= 'right', fontsize= 12)\n",
    "plt.show()"
   ]
  },
  {
   "cell_type": "code",
   "execution_count": 1,
   "id": "7c9e78a8",
   "metadata": {},
   "outputs": [
    {
     "ename": "NameError",
     "evalue": "name 'restaurant' is not defined",
     "output_type": "error",
     "traceback": [
      "\u001b[0;31m---------------------------------------------------------------------------\u001b[0m",
      "\u001b[0;31mNameError\u001b[0m                                 Traceback (most recent call last)",
      "\u001b[0;32m/tmp/ipykernel_318/1433543310.py\u001b[0m in \u001b[0;36m<module>\u001b[0;34m\u001b[0m\n\u001b[0;32m----> 1\u001b[0;31m \u001b[0mdata\u001b[0m \u001b[0;34m=\u001b[0m \u001b[0mrestaurant\u001b[0m\u001b[0;34m.\u001b[0m\u001b[0mgroupby\u001b[0m\u001b[0;34m(\u001b[0m\u001b[0mby\u001b[0m\u001b[0;34m=\u001b[0m\u001b[0;34m[\u001b[0m\u001b[0;34m'object_type'\u001b[0m\u001b[0;34m]\u001b[0m\u001b[0;34m)\u001b[0m\u001b[0;34m.\u001b[0m\u001b[0magg\u001b[0m\u001b[0;34m(\u001b[0m\u001b[0;34m{\u001b[0m\u001b[0;34m'id'\u001b[0m\u001b[0;34m:\u001b[0m \u001b[0;34m'count'\u001b[0m\u001b[0;34m}\u001b[0m\u001b[0;34m)\u001b[0m\u001b[0;34m.\u001b[0m\u001b[0msort_values\u001b[0m\u001b[0;34m(\u001b[0m\u001b[0;34m'id'\u001b[0m\u001b[0;34m,\u001b[0m \u001b[0mascending\u001b[0m\u001b[0;34m=\u001b[0m\u001b[0;32mFalse\u001b[0m\u001b[0;34m)\u001b[0m\u001b[0;34m.\u001b[0m\u001b[0mreset_index\u001b[0m\u001b[0;34m(\u001b[0m\u001b[0;34m)\u001b[0m\u001b[0;34m\u001b[0m\u001b[0;34m\u001b[0m\u001b[0m\n\u001b[0m\u001b[1;32m      2\u001b[0m \u001b[0mfig\u001b[0m \u001b[0;34m=\u001b[0m \u001b[0mgo\u001b[0m\u001b[0;34m.\u001b[0m\u001b[0mFigure\u001b[0m\u001b[0;34m(\u001b[0m\u001b[0mdata\u001b[0m\u001b[0;34m=\u001b[0m\u001b[0;34m[\u001b[0m\u001b[0mgo\u001b[0m\u001b[0;34m.\u001b[0m\u001b[0mPie\u001b[0m\u001b[0;34m(\u001b[0m\u001b[0mvalues\u001b[0m\u001b[0;34m=\u001b[0m\u001b[0mdata\u001b[0m\u001b[0;34m[\u001b[0m\u001b[0;34m'id'\u001b[0m\u001b[0;34m]\u001b[0m\u001b[0;34m,\u001b[0m \u001b[0mlabels\u001b[0m\u001b[0;34m=\u001b[0m\u001b[0mdata\u001b[0m\u001b[0;34m[\u001b[0m\u001b[0;34m'object_type'\u001b[0m\u001b[0;34m]\u001b[0m\u001b[0;34m,\u001b[0m \u001b[0mtitle\u001b[0m\u001b[0;34m=\u001b[0m\u001b[0;34m'Cоотношение видов объектов общественного питания по количеству'\u001b[0m\u001b[0;34m)\u001b[0m\u001b[0;34m]\u001b[0m\u001b[0;34m)\u001b[0m\u001b[0;34m\u001b[0m\u001b[0;34m\u001b[0m\u001b[0m\n\u001b[1;32m      3\u001b[0m \u001b[0mfig\u001b[0m\u001b[0;34m.\u001b[0m\u001b[0mupdate_traces\u001b[0m\u001b[0;34m(\u001b[0m\u001b[0mhoverinfo\u001b[0m\u001b[0;34m=\u001b[0m\u001b[0;34m'label+percent'\u001b[0m\u001b[0;34m,\u001b[0m \u001b[0mtextinfo\u001b[0m\u001b[0;34m=\u001b[0m\u001b[0;34m'label+percent'\u001b[0m\u001b[0;34m,\u001b[0m \u001b[0mtextfont_size\u001b[0m\u001b[0;34m=\u001b[0m\u001b[0;36m12\u001b[0m\u001b[0;34m)\u001b[0m\u001b[0;34m\u001b[0m\u001b[0;34m\u001b[0m\u001b[0m\n\u001b[1;32m      4\u001b[0m \u001b[0mfig\u001b[0m\u001b[0;34m\u001b[0m\u001b[0;34m\u001b[0m\u001b[0m\n",
      "\u001b[0;31mNameError\u001b[0m: name 'restaurant' is not defined"
     ]
    }
   ],
   "source": [
    "data = restaurant.groupby(by=['object_type']).agg({'id': 'count'}).sort_values('id', ascending=False).reset_index()\n",
    "fig = go.Figure(data=[go.Pie(values=data['id'], labels=data['object_type'], title='Cоотношение видов объектов общественного питания по количеству')])\n",
    "fig.update_traces(hoverinfo='label+percent', textinfo='label+percent', textfont_size=12)\n",
    "fig"
   ]
  },
  {
   "cell_type": "markdown",
   "id": "5cbbd216",
   "metadata": {},
   "source": [
    "Объектов общественного питания по типу `кафе` значительно больше остальных на рынке Москвы. Три последующих типа имеют в сумме примероно столько же объектов."
   ]
  },
  {
   "cell_type": "code",
   "execution_count": 22,
   "id": "0130eeed",
   "metadata": {},
   "outputs": [
    {
     "data": {
      "application/vnd.plotly.v1+json": {
       "config": {
        "plotlyServerURL": "https://plot.ly"
       },
       "data": [
        {
         "hoverinfo": "label+percent",
         "labels": [
          "столовая",
          "ресторан",
          "бар",
          "буфет",
          "кафе",
          "кафетерий",
          "предприятие быстрого обслуживания",
          "закусочная",
          "магазин (отдел кулинарии)"
         ],
         "textfont": {
          "size": 12
         },
         "textinfo": "label+percent+value",
         "title": {
          "text": "Cоотношение видов объектов общественного питания по среднему количеству мест"
         },
         "type": "pie",
         "values": [
          103,
          80,
          35,
          32,
          30,
          6,
          5,
          0,
          0
         ]
        }
       ],
       "layout": {
        "template": {
         "data": {
          "bar": [
           {
            "error_x": {
             "color": "#2a3f5f"
            },
            "error_y": {
             "color": "#2a3f5f"
            },
            "marker": {
             "line": {
              "color": "#E5ECF6",
              "width": 0.5
             },
             "pattern": {
              "fillmode": "overlay",
              "size": 10,
              "solidity": 0.2
             }
            },
            "type": "bar"
           }
          ],
          "barpolar": [
           {
            "marker": {
             "line": {
              "color": "#E5ECF6",
              "width": 0.5
             },
             "pattern": {
              "fillmode": "overlay",
              "size": 10,
              "solidity": 0.2
             }
            },
            "type": "barpolar"
           }
          ],
          "carpet": [
           {
            "aaxis": {
             "endlinecolor": "#2a3f5f",
             "gridcolor": "white",
             "linecolor": "white",
             "minorgridcolor": "white",
             "startlinecolor": "#2a3f5f"
            },
            "baxis": {
             "endlinecolor": "#2a3f5f",
             "gridcolor": "white",
             "linecolor": "white",
             "minorgridcolor": "white",
             "startlinecolor": "#2a3f5f"
            },
            "type": "carpet"
           }
          ],
          "choropleth": [
           {
            "colorbar": {
             "outlinewidth": 0,
             "ticks": ""
            },
            "type": "choropleth"
           }
          ],
          "contour": [
           {
            "colorbar": {
             "outlinewidth": 0,
             "ticks": ""
            },
            "colorscale": [
             [
              0,
              "#0d0887"
             ],
             [
              0.1111111111111111,
              "#46039f"
             ],
             [
              0.2222222222222222,
              "#7201a8"
             ],
             [
              0.3333333333333333,
              "#9c179e"
             ],
             [
              0.4444444444444444,
              "#bd3786"
             ],
             [
              0.5555555555555556,
              "#d8576b"
             ],
             [
              0.6666666666666666,
              "#ed7953"
             ],
             [
              0.7777777777777778,
              "#fb9f3a"
             ],
             [
              0.8888888888888888,
              "#fdca26"
             ],
             [
              1,
              "#f0f921"
             ]
            ],
            "type": "contour"
           }
          ],
          "contourcarpet": [
           {
            "colorbar": {
             "outlinewidth": 0,
             "ticks": ""
            },
            "type": "contourcarpet"
           }
          ],
          "heatmap": [
           {
            "colorbar": {
             "outlinewidth": 0,
             "ticks": ""
            },
            "colorscale": [
             [
              0,
              "#0d0887"
             ],
             [
              0.1111111111111111,
              "#46039f"
             ],
             [
              0.2222222222222222,
              "#7201a8"
             ],
             [
              0.3333333333333333,
              "#9c179e"
             ],
             [
              0.4444444444444444,
              "#bd3786"
             ],
             [
              0.5555555555555556,
              "#d8576b"
             ],
             [
              0.6666666666666666,
              "#ed7953"
             ],
             [
              0.7777777777777778,
              "#fb9f3a"
             ],
             [
              0.8888888888888888,
              "#fdca26"
             ],
             [
              1,
              "#f0f921"
             ]
            ],
            "type": "heatmap"
           }
          ],
          "heatmapgl": [
           {
            "colorbar": {
             "outlinewidth": 0,
             "ticks": ""
            },
            "colorscale": [
             [
              0,
              "#0d0887"
             ],
             [
              0.1111111111111111,
              "#46039f"
             ],
             [
              0.2222222222222222,
              "#7201a8"
             ],
             [
              0.3333333333333333,
              "#9c179e"
             ],
             [
              0.4444444444444444,
              "#bd3786"
             ],
             [
              0.5555555555555556,
              "#d8576b"
             ],
             [
              0.6666666666666666,
              "#ed7953"
             ],
             [
              0.7777777777777778,
              "#fb9f3a"
             ],
             [
              0.8888888888888888,
              "#fdca26"
             ],
             [
              1,
              "#f0f921"
             ]
            ],
            "type": "heatmapgl"
           }
          ],
          "histogram": [
           {
            "marker": {
             "pattern": {
              "fillmode": "overlay",
              "size": 10,
              "solidity": 0.2
             }
            },
            "type": "histogram"
           }
          ],
          "histogram2d": [
           {
            "colorbar": {
             "outlinewidth": 0,
             "ticks": ""
            },
            "colorscale": [
             [
              0,
              "#0d0887"
             ],
             [
              0.1111111111111111,
              "#46039f"
             ],
             [
              0.2222222222222222,
              "#7201a8"
             ],
             [
              0.3333333333333333,
              "#9c179e"
             ],
             [
              0.4444444444444444,
              "#bd3786"
             ],
             [
              0.5555555555555556,
              "#d8576b"
             ],
             [
              0.6666666666666666,
              "#ed7953"
             ],
             [
              0.7777777777777778,
              "#fb9f3a"
             ],
             [
              0.8888888888888888,
              "#fdca26"
             ],
             [
              1,
              "#f0f921"
             ]
            ],
            "type": "histogram2d"
           }
          ],
          "histogram2dcontour": [
           {
            "colorbar": {
             "outlinewidth": 0,
             "ticks": ""
            },
            "colorscale": [
             [
              0,
              "#0d0887"
             ],
             [
              0.1111111111111111,
              "#46039f"
             ],
             [
              0.2222222222222222,
              "#7201a8"
             ],
             [
              0.3333333333333333,
              "#9c179e"
             ],
             [
              0.4444444444444444,
              "#bd3786"
             ],
             [
              0.5555555555555556,
              "#d8576b"
             ],
             [
              0.6666666666666666,
              "#ed7953"
             ],
             [
              0.7777777777777778,
              "#fb9f3a"
             ],
             [
              0.8888888888888888,
              "#fdca26"
             ],
             [
              1,
              "#f0f921"
             ]
            ],
            "type": "histogram2dcontour"
           }
          ],
          "mesh3d": [
           {
            "colorbar": {
             "outlinewidth": 0,
             "ticks": ""
            },
            "type": "mesh3d"
           }
          ],
          "parcoords": [
           {
            "line": {
             "colorbar": {
              "outlinewidth": 0,
              "ticks": ""
             }
            },
            "type": "parcoords"
           }
          ],
          "pie": [
           {
            "automargin": true,
            "type": "pie"
           }
          ],
          "scatter": [
           {
            "marker": {
             "colorbar": {
              "outlinewidth": 0,
              "ticks": ""
             }
            },
            "type": "scatter"
           }
          ],
          "scatter3d": [
           {
            "line": {
             "colorbar": {
              "outlinewidth": 0,
              "ticks": ""
             }
            },
            "marker": {
             "colorbar": {
              "outlinewidth": 0,
              "ticks": ""
             }
            },
            "type": "scatter3d"
           }
          ],
          "scattercarpet": [
           {
            "marker": {
             "colorbar": {
              "outlinewidth": 0,
              "ticks": ""
             }
            },
            "type": "scattercarpet"
           }
          ],
          "scattergeo": [
           {
            "marker": {
             "colorbar": {
              "outlinewidth": 0,
              "ticks": ""
             }
            },
            "type": "scattergeo"
           }
          ],
          "scattergl": [
           {
            "marker": {
             "colorbar": {
              "outlinewidth": 0,
              "ticks": ""
             }
            },
            "type": "scattergl"
           }
          ],
          "scattermapbox": [
           {
            "marker": {
             "colorbar": {
              "outlinewidth": 0,
              "ticks": ""
             }
            },
            "type": "scattermapbox"
           }
          ],
          "scatterpolar": [
           {
            "marker": {
             "colorbar": {
              "outlinewidth": 0,
              "ticks": ""
             }
            },
            "type": "scatterpolar"
           }
          ],
          "scatterpolargl": [
           {
            "marker": {
             "colorbar": {
              "outlinewidth": 0,
              "ticks": ""
             }
            },
            "type": "scatterpolargl"
           }
          ],
          "scatterternary": [
           {
            "marker": {
             "colorbar": {
              "outlinewidth": 0,
              "ticks": ""
             }
            },
            "type": "scatterternary"
           }
          ],
          "surface": [
           {
            "colorbar": {
             "outlinewidth": 0,
             "ticks": ""
            },
            "colorscale": [
             [
              0,
              "#0d0887"
             ],
             [
              0.1111111111111111,
              "#46039f"
             ],
             [
              0.2222222222222222,
              "#7201a8"
             ],
             [
              0.3333333333333333,
              "#9c179e"
             ],
             [
              0.4444444444444444,
              "#bd3786"
             ],
             [
              0.5555555555555556,
              "#d8576b"
             ],
             [
              0.6666666666666666,
              "#ed7953"
             ],
             [
              0.7777777777777778,
              "#fb9f3a"
             ],
             [
              0.8888888888888888,
              "#fdca26"
             ],
             [
              1,
              "#f0f921"
             ]
            ],
            "type": "surface"
           }
          ],
          "table": [
           {
            "cells": {
             "fill": {
              "color": "#EBF0F8"
             },
             "line": {
              "color": "white"
             }
            },
            "header": {
             "fill": {
              "color": "#C8D4E3"
             },
             "line": {
              "color": "white"
             }
            },
            "type": "table"
           }
          ]
         },
         "layout": {
          "annotationdefaults": {
           "arrowcolor": "#2a3f5f",
           "arrowhead": 0,
           "arrowwidth": 1
          },
          "autotypenumbers": "strict",
          "coloraxis": {
           "colorbar": {
            "outlinewidth": 0,
            "ticks": ""
           }
          },
          "colorscale": {
           "diverging": [
            [
             0,
             "#8e0152"
            ],
            [
             0.1,
             "#c51b7d"
            ],
            [
             0.2,
             "#de77ae"
            ],
            [
             0.3,
             "#f1b6da"
            ],
            [
             0.4,
             "#fde0ef"
            ],
            [
             0.5,
             "#f7f7f7"
            ],
            [
             0.6,
             "#e6f5d0"
            ],
            [
             0.7,
             "#b8e186"
            ],
            [
             0.8,
             "#7fbc41"
            ],
            [
             0.9,
             "#4d9221"
            ],
            [
             1,
             "#276419"
            ]
           ],
           "sequential": [
            [
             0,
             "#0d0887"
            ],
            [
             0.1111111111111111,
             "#46039f"
            ],
            [
             0.2222222222222222,
             "#7201a8"
            ],
            [
             0.3333333333333333,
             "#9c179e"
            ],
            [
             0.4444444444444444,
             "#bd3786"
            ],
            [
             0.5555555555555556,
             "#d8576b"
            ],
            [
             0.6666666666666666,
             "#ed7953"
            ],
            [
             0.7777777777777778,
             "#fb9f3a"
            ],
            [
             0.8888888888888888,
             "#fdca26"
            ],
            [
             1,
             "#f0f921"
            ]
           ],
           "sequentialminus": [
            [
             0,
             "#0d0887"
            ],
            [
             0.1111111111111111,
             "#46039f"
            ],
            [
             0.2222222222222222,
             "#7201a8"
            ],
            [
             0.3333333333333333,
             "#9c179e"
            ],
            [
             0.4444444444444444,
             "#bd3786"
            ],
            [
             0.5555555555555556,
             "#d8576b"
            ],
            [
             0.6666666666666666,
             "#ed7953"
            ],
            [
             0.7777777777777778,
             "#fb9f3a"
            ],
            [
             0.8888888888888888,
             "#fdca26"
            ],
            [
             1,
             "#f0f921"
            ]
           ]
          },
          "colorway": [
           "#636efa",
           "#EF553B",
           "#00cc96",
           "#ab63fa",
           "#FFA15A",
           "#19d3f3",
           "#FF6692",
           "#B6E880",
           "#FF97FF",
           "#FECB52"
          ],
          "font": {
           "color": "#2a3f5f"
          },
          "geo": {
           "bgcolor": "white",
           "lakecolor": "white",
           "landcolor": "#E5ECF6",
           "showlakes": true,
           "showland": true,
           "subunitcolor": "white"
          },
          "hoverlabel": {
           "align": "left"
          },
          "hovermode": "closest",
          "mapbox": {
           "style": "light"
          },
          "paper_bgcolor": "white",
          "plot_bgcolor": "#E5ECF6",
          "polar": {
           "angularaxis": {
            "gridcolor": "white",
            "linecolor": "white",
            "ticks": ""
           },
           "bgcolor": "#E5ECF6",
           "radialaxis": {
            "gridcolor": "white",
            "linecolor": "white",
            "ticks": ""
           }
          },
          "scene": {
           "xaxis": {
            "backgroundcolor": "#E5ECF6",
            "gridcolor": "white",
            "gridwidth": 2,
            "linecolor": "white",
            "showbackground": true,
            "ticks": "",
            "zerolinecolor": "white"
           },
           "yaxis": {
            "backgroundcolor": "#E5ECF6",
            "gridcolor": "white",
            "gridwidth": 2,
            "linecolor": "white",
            "showbackground": true,
            "ticks": "",
            "zerolinecolor": "white"
           },
           "zaxis": {
            "backgroundcolor": "#E5ECF6",
            "gridcolor": "white",
            "gridwidth": 2,
            "linecolor": "white",
            "showbackground": true,
            "ticks": "",
            "zerolinecolor": "white"
           }
          },
          "shapedefaults": {
           "line": {
            "color": "#2a3f5f"
           }
          },
          "ternary": {
           "aaxis": {
            "gridcolor": "white",
            "linecolor": "white",
            "ticks": ""
           },
           "baxis": {
            "gridcolor": "white",
            "linecolor": "white",
            "ticks": ""
           },
           "bgcolor": "#E5ECF6",
           "caxis": {
            "gridcolor": "white",
            "linecolor": "white",
            "ticks": ""
           }
          },
          "title": {
           "x": 0.05
          },
          "xaxis": {
           "automargin": true,
           "gridcolor": "white",
           "linecolor": "white",
           "ticks": "",
           "title": {
            "standoff": 15
           },
           "zerolinecolor": "white",
           "zerolinewidth": 2
          },
          "yaxis": {
           "automargin": true,
           "gridcolor": "white",
           "linecolor": "white",
           "ticks": "",
           "title": {
            "standoff": 15
           },
           "zerolinecolor": "white",
           "zerolinewidth": 2
          }
         }
        }
       }
      },
      "text/html": [
       "<div>                            <div id=\"d3e62ece-ee1b-44a5-a7be-2b3569b6716e\" class=\"plotly-graph-div\" style=\"height:525px; width:100%;\"></div>            <script type=\"text/javascript\">                require([\"plotly\"], function(Plotly) {                    window.PLOTLYENV=window.PLOTLYENV || {};                                    if (document.getElementById(\"d3e62ece-ee1b-44a5-a7be-2b3569b6716e\")) {                    Plotly.newPlot(                        \"d3e62ece-ee1b-44a5-a7be-2b3569b6716e\",                        [{\"labels\":[\"\\u0441\\u0442\\u043e\\u043b\\u043e\\u0432\\u0430\\u044f\",\"\\u0440\\u0435\\u0441\\u0442\\u043e\\u0440\\u0430\\u043d\",\"\\u0431\\u0430\\u0440\",\"\\u0431\\u0443\\u0444\\u0435\\u0442\",\"\\u043a\\u0430\\u0444\\u0435\",\"\\u043a\\u0430\\u0444\\u0435\\u0442\\u0435\\u0440\\u0438\\u0439\",\"\\u043f\\u0440\\u0435\\u0434\\u043f\\u0440\\u0438\\u044f\\u0442\\u0438\\u0435 \\u0431\\u044b\\u0441\\u0442\\u0440\\u043e\\u0433\\u043e \\u043e\\u0431\\u0441\\u043b\\u0443\\u0436\\u0438\\u0432\\u0430\\u043d\\u0438\\u044f\",\"\\u0437\\u0430\\u043a\\u0443\\u0441\\u043e\\u0447\\u043d\\u0430\\u044f\",\"\\u043c\\u0430\\u0433\\u0430\\u0437\\u0438\\u043d (\\u043e\\u0442\\u0434\\u0435\\u043b \\u043a\\u0443\\u043b\\u0438\\u043d\\u0430\\u0440\\u0438\\u0438)\"],\"title\":{\"text\":\"C\\u043e\\u043e\\u0442\\u043d\\u043e\\u0448\\u0435\\u043d\\u0438\\u0435 \\u0432\\u0438\\u0434\\u043e\\u0432 \\u043e\\u0431\\u044a\\u0435\\u043a\\u0442\\u043e\\u0432 \\u043e\\u0431\\u0449\\u0435\\u0441\\u0442\\u0432\\u0435\\u043d\\u043d\\u043e\\u0433\\u043e \\u043f\\u0438\\u0442\\u0430\\u043d\\u0438\\u044f \\u043f\\u043e \\u0441\\u0440\\u0435\\u0434\\u043d\\u0435\\u043c\\u0443 \\u043a\\u043e\\u043b\\u0438\\u0447\\u0435\\u0441\\u0442\\u0432\\u0443 \\u043c\\u0435\\u0441\\u0442\"},\"values\":[103,80,35,32,30,6,5,0,0],\"type\":\"pie\",\"textfont\":{\"size\":12},\"hoverinfo\":\"label+percent\",\"textinfo\":\"label+percent+value\"}],                        {\"template\":{\"data\":{\"bar\":[{\"error_x\":{\"color\":\"#2a3f5f\"},\"error_y\":{\"color\":\"#2a3f5f\"},\"marker\":{\"line\":{\"color\":\"#E5ECF6\",\"width\":0.5},\"pattern\":{\"fillmode\":\"overlay\",\"size\":10,\"solidity\":0.2}},\"type\":\"bar\"}],\"barpolar\":[{\"marker\":{\"line\":{\"color\":\"#E5ECF6\",\"width\":0.5},\"pattern\":{\"fillmode\":\"overlay\",\"size\":10,\"solidity\":0.2}},\"type\":\"barpolar\"}],\"carpet\":[{\"aaxis\":{\"endlinecolor\":\"#2a3f5f\",\"gridcolor\":\"white\",\"linecolor\":\"white\",\"minorgridcolor\":\"white\",\"startlinecolor\":\"#2a3f5f\"},\"baxis\":{\"endlinecolor\":\"#2a3f5f\",\"gridcolor\":\"white\",\"linecolor\":\"white\",\"minorgridcolor\":\"white\",\"startlinecolor\":\"#2a3f5f\"},\"type\":\"carpet\"}],\"choropleth\":[{\"colorbar\":{\"outlinewidth\":0,\"ticks\":\"\"},\"type\":\"choropleth\"}],\"contour\":[{\"colorbar\":{\"outlinewidth\":0,\"ticks\":\"\"},\"colorscale\":[[0.0,\"#0d0887\"],[0.1111111111111111,\"#46039f\"],[0.2222222222222222,\"#7201a8\"],[0.3333333333333333,\"#9c179e\"],[0.4444444444444444,\"#bd3786\"],[0.5555555555555556,\"#d8576b\"],[0.6666666666666666,\"#ed7953\"],[0.7777777777777778,\"#fb9f3a\"],[0.8888888888888888,\"#fdca26\"],[1.0,\"#f0f921\"]],\"type\":\"contour\"}],\"contourcarpet\":[{\"colorbar\":{\"outlinewidth\":0,\"ticks\":\"\"},\"type\":\"contourcarpet\"}],\"heatmap\":[{\"colorbar\":{\"outlinewidth\":0,\"ticks\":\"\"},\"colorscale\":[[0.0,\"#0d0887\"],[0.1111111111111111,\"#46039f\"],[0.2222222222222222,\"#7201a8\"],[0.3333333333333333,\"#9c179e\"],[0.4444444444444444,\"#bd3786\"],[0.5555555555555556,\"#d8576b\"],[0.6666666666666666,\"#ed7953\"],[0.7777777777777778,\"#fb9f3a\"],[0.8888888888888888,\"#fdca26\"],[1.0,\"#f0f921\"]],\"type\":\"heatmap\"}],\"heatmapgl\":[{\"colorbar\":{\"outlinewidth\":0,\"ticks\":\"\"},\"colorscale\":[[0.0,\"#0d0887\"],[0.1111111111111111,\"#46039f\"],[0.2222222222222222,\"#7201a8\"],[0.3333333333333333,\"#9c179e\"],[0.4444444444444444,\"#bd3786\"],[0.5555555555555556,\"#d8576b\"],[0.6666666666666666,\"#ed7953\"],[0.7777777777777778,\"#fb9f3a\"],[0.8888888888888888,\"#fdca26\"],[1.0,\"#f0f921\"]],\"type\":\"heatmapgl\"}],\"histogram\":[{\"marker\":{\"pattern\":{\"fillmode\":\"overlay\",\"size\":10,\"solidity\":0.2}},\"type\":\"histogram\"}],\"histogram2d\":[{\"colorbar\":{\"outlinewidth\":0,\"ticks\":\"\"},\"colorscale\":[[0.0,\"#0d0887\"],[0.1111111111111111,\"#46039f\"],[0.2222222222222222,\"#7201a8\"],[0.3333333333333333,\"#9c179e\"],[0.4444444444444444,\"#bd3786\"],[0.5555555555555556,\"#d8576b\"],[0.6666666666666666,\"#ed7953\"],[0.7777777777777778,\"#fb9f3a\"],[0.8888888888888888,\"#fdca26\"],[1.0,\"#f0f921\"]],\"type\":\"histogram2d\"}],\"histogram2dcontour\":[{\"colorbar\":{\"outlinewidth\":0,\"ticks\":\"\"},\"colorscale\":[[0.0,\"#0d0887\"],[0.1111111111111111,\"#46039f\"],[0.2222222222222222,\"#7201a8\"],[0.3333333333333333,\"#9c179e\"],[0.4444444444444444,\"#bd3786\"],[0.5555555555555556,\"#d8576b\"],[0.6666666666666666,\"#ed7953\"],[0.7777777777777778,\"#fb9f3a\"],[0.8888888888888888,\"#fdca26\"],[1.0,\"#f0f921\"]],\"type\":\"histogram2dcontour\"}],\"mesh3d\":[{\"colorbar\":{\"outlinewidth\":0,\"ticks\":\"\"},\"type\":\"mesh3d\"}],\"parcoords\":[{\"line\":{\"colorbar\":{\"outlinewidth\":0,\"ticks\":\"\"}},\"type\":\"parcoords\"}],\"pie\":[{\"automargin\":true,\"type\":\"pie\"}],\"scatter\":[{\"marker\":{\"colorbar\":{\"outlinewidth\":0,\"ticks\":\"\"}},\"type\":\"scatter\"}],\"scatter3d\":[{\"line\":{\"colorbar\":{\"outlinewidth\":0,\"ticks\":\"\"}},\"marker\":{\"colorbar\":{\"outlinewidth\":0,\"ticks\":\"\"}},\"type\":\"scatter3d\"}],\"scattercarpet\":[{\"marker\":{\"colorbar\":{\"outlinewidth\":0,\"ticks\":\"\"}},\"type\":\"scattercarpet\"}],\"scattergeo\":[{\"marker\":{\"colorbar\":{\"outlinewidth\":0,\"ticks\":\"\"}},\"type\":\"scattergeo\"}],\"scattergl\":[{\"marker\":{\"colorbar\":{\"outlinewidth\":0,\"ticks\":\"\"}},\"type\":\"scattergl\"}],\"scattermapbox\":[{\"marker\":{\"colorbar\":{\"outlinewidth\":0,\"ticks\":\"\"}},\"type\":\"scattermapbox\"}],\"scatterpolar\":[{\"marker\":{\"colorbar\":{\"outlinewidth\":0,\"ticks\":\"\"}},\"type\":\"scatterpolar\"}],\"scatterpolargl\":[{\"marker\":{\"colorbar\":{\"outlinewidth\":0,\"ticks\":\"\"}},\"type\":\"scatterpolargl\"}],\"scatterternary\":[{\"marker\":{\"colorbar\":{\"outlinewidth\":0,\"ticks\":\"\"}},\"type\":\"scatterternary\"}],\"surface\":[{\"colorbar\":{\"outlinewidth\":0,\"ticks\":\"\"},\"colorscale\":[[0.0,\"#0d0887\"],[0.1111111111111111,\"#46039f\"],[0.2222222222222222,\"#7201a8\"],[0.3333333333333333,\"#9c179e\"],[0.4444444444444444,\"#bd3786\"],[0.5555555555555556,\"#d8576b\"],[0.6666666666666666,\"#ed7953\"],[0.7777777777777778,\"#fb9f3a\"],[0.8888888888888888,\"#fdca26\"],[1.0,\"#f0f921\"]],\"type\":\"surface\"}],\"table\":[{\"cells\":{\"fill\":{\"color\":\"#EBF0F8\"},\"line\":{\"color\":\"white\"}},\"header\":{\"fill\":{\"color\":\"#C8D4E3\"},\"line\":{\"color\":\"white\"}},\"type\":\"table\"}]},\"layout\":{\"annotationdefaults\":{\"arrowcolor\":\"#2a3f5f\",\"arrowhead\":0,\"arrowwidth\":1},\"autotypenumbers\":\"strict\",\"coloraxis\":{\"colorbar\":{\"outlinewidth\":0,\"ticks\":\"\"}},\"colorscale\":{\"diverging\":[[0,\"#8e0152\"],[0.1,\"#c51b7d\"],[0.2,\"#de77ae\"],[0.3,\"#f1b6da\"],[0.4,\"#fde0ef\"],[0.5,\"#f7f7f7\"],[0.6,\"#e6f5d0\"],[0.7,\"#b8e186\"],[0.8,\"#7fbc41\"],[0.9,\"#4d9221\"],[1,\"#276419\"]],\"sequential\":[[0.0,\"#0d0887\"],[0.1111111111111111,\"#46039f\"],[0.2222222222222222,\"#7201a8\"],[0.3333333333333333,\"#9c179e\"],[0.4444444444444444,\"#bd3786\"],[0.5555555555555556,\"#d8576b\"],[0.6666666666666666,\"#ed7953\"],[0.7777777777777778,\"#fb9f3a\"],[0.8888888888888888,\"#fdca26\"],[1.0,\"#f0f921\"]],\"sequentialminus\":[[0.0,\"#0d0887\"],[0.1111111111111111,\"#46039f\"],[0.2222222222222222,\"#7201a8\"],[0.3333333333333333,\"#9c179e\"],[0.4444444444444444,\"#bd3786\"],[0.5555555555555556,\"#d8576b\"],[0.6666666666666666,\"#ed7953\"],[0.7777777777777778,\"#fb9f3a\"],[0.8888888888888888,\"#fdca26\"],[1.0,\"#f0f921\"]]},\"colorway\":[\"#636efa\",\"#EF553B\",\"#00cc96\",\"#ab63fa\",\"#FFA15A\",\"#19d3f3\",\"#FF6692\",\"#B6E880\",\"#FF97FF\",\"#FECB52\"],\"font\":{\"color\":\"#2a3f5f\"},\"geo\":{\"bgcolor\":\"white\",\"lakecolor\":\"white\",\"landcolor\":\"#E5ECF6\",\"showlakes\":true,\"showland\":true,\"subunitcolor\":\"white\"},\"hoverlabel\":{\"align\":\"left\"},\"hovermode\":\"closest\",\"mapbox\":{\"style\":\"light\"},\"paper_bgcolor\":\"white\",\"plot_bgcolor\":\"#E5ECF6\",\"polar\":{\"angularaxis\":{\"gridcolor\":\"white\",\"linecolor\":\"white\",\"ticks\":\"\"},\"bgcolor\":\"#E5ECF6\",\"radialaxis\":{\"gridcolor\":\"white\",\"linecolor\":\"white\",\"ticks\":\"\"}},\"scene\":{\"xaxis\":{\"backgroundcolor\":\"#E5ECF6\",\"gridcolor\":\"white\",\"gridwidth\":2,\"linecolor\":\"white\",\"showbackground\":true,\"ticks\":\"\",\"zerolinecolor\":\"white\"},\"yaxis\":{\"backgroundcolor\":\"#E5ECF6\",\"gridcolor\":\"white\",\"gridwidth\":2,\"linecolor\":\"white\",\"showbackground\":true,\"ticks\":\"\",\"zerolinecolor\":\"white\"},\"zaxis\":{\"backgroundcolor\":\"#E5ECF6\",\"gridcolor\":\"white\",\"gridwidth\":2,\"linecolor\":\"white\",\"showbackground\":true,\"ticks\":\"\",\"zerolinecolor\":\"white\"}},\"shapedefaults\":{\"line\":{\"color\":\"#2a3f5f\"}},\"ternary\":{\"aaxis\":{\"gridcolor\":\"white\",\"linecolor\":\"white\",\"ticks\":\"\"},\"baxis\":{\"gridcolor\":\"white\",\"linecolor\":\"white\",\"ticks\":\"\"},\"bgcolor\":\"#E5ECF6\",\"caxis\":{\"gridcolor\":\"white\",\"linecolor\":\"white\",\"ticks\":\"\"}},\"title\":{\"x\":0.05},\"xaxis\":{\"automargin\":true,\"gridcolor\":\"white\",\"linecolor\":\"white\",\"ticks\":\"\",\"title\":{\"standoff\":15},\"zerolinecolor\":\"white\",\"zerolinewidth\":2},\"yaxis\":{\"automargin\":true,\"gridcolor\":\"white\",\"linecolor\":\"white\",\"ticks\":\"\",\"title\":{\"standoff\":15},\"zerolinecolor\":\"white\",\"zerolinewidth\":2}}}},                        {\"responsive\": true}                    ).then(function(){\n",
       "                            \n",
       "var gd = document.getElementById('d3e62ece-ee1b-44a5-a7be-2b3569b6716e');\n",
       "var x = new MutationObserver(function (mutations, observer) {{\n",
       "        var display = window.getComputedStyle(gd).display;\n",
       "        if (!display || display === 'none') {{\n",
       "            console.log([gd, 'removed!']);\n",
       "            Plotly.purge(gd);\n",
       "            observer.disconnect();\n",
       "        }}\n",
       "}});\n",
       "\n",
       "// Listen for the removal of the full notebook cells\n",
       "var notebookContainer = gd.closest('#notebook-container');\n",
       "if (notebookContainer) {{\n",
       "    x.observe(notebookContainer, {childList: true});\n",
       "}}\n",
       "\n",
       "// Listen for the clearing of the current output cell\n",
       "var outputEl = gd.closest('.output');\n",
       "if (outputEl) {{\n",
       "    x.observe(outputEl, {childList: true});\n",
       "}}\n",
       "\n",
       "                        })                };                });            </script>        </div>"
      ]
     },
     "metadata": {},
     "output_type": "display_data"
    }
   ],
   "source": [
    "data = restaurant.groupby(by=['object_type']).agg({'number': 'median'}).sort_values('number', ascending=False).reset_index()\n",
    "fig = go.Figure(data=[go.Pie(values=data['number'], labels=data['object_type'], title='Cоотношение видов объектов общественного питания по среднему количеству мест')])\n",
    "fig.update_traces(hoverinfo='label+percent', textinfo='label+percent+value', textfont_size=12)\n",
    "fig"
   ]
  },
  {
   "cell_type": "markdown",
   "id": "e22fb613",
   "metadata": {},
   "source": [
    "Из всех видов общественного питания `кафе` имеет большее представительство на рынке общественного питания г Москвы. Данный вид знанимает почти 40% от общего числа. Так же следует отметить `столовые` `рестораны` и `предприятия быстрого обслуживания` с 16.8, 14.9 и 12.5 процентов занимает существенную долю сферы общепита.\n",
    "\n",
    "По анализу средней вместимости по видам можно сказать что по посадачным местам для посетителей лидирует `столовые` с показателем 103  далее идут `рестораны` с медианым значением на 80 первсон `бары` - 35 и `буфеты` - 32. `Кафе` - которыей является лидером по количеству точек занимает лишь 4 место с вместимостью 30 человек."
   ]
  },
  {
   "cell_type": "markdown",
   "id": "fe3f1b16",
   "metadata": {},
   "source": [
    "### Cоотношение сетевых и несетевых заведений по количеству"
   ]
  },
  {
   "cell_type": "code",
   "execution_count": 23,
   "id": "e4beb9d3",
   "metadata": {},
   "outputs": [
    {
     "data": {
      "image/png": "[encoded data removed]",
      "text/plain": [
       "<Figure size 1080x576 with 1 Axes>"
      ]
     },
     "metadata": {},
     "output_type": "display_data"
    }
   ],
   "source": [
    "data_group = (restaurant.groupby('chain')\n",
    "                        . agg({'id': 'count'}).reset_index().sort_values(by='id', ascending=False)\n",
    "             )\n",
    "plt.figure(figsize=(15, 8))\n",
    "ax= sns.barplot(x='chain',\n",
    "                y= 'id',\n",
    "                data= data_group)\n",
    "for container in ax.containers:\n",
    "    ax.bar_label(container, padding=1, fontsize=14)\n",
    "# ax.barplot(ax.conteiner[0])    \n",
    "plt.title('Соотношение сетевых и несетевых заведений по количеству', fontsize=14)\n",
    "plt.xlabel('Тип заведения', fontsize=14)\n",
    "plt.ylabel('Количество заведений', fontsize=14)\n",
    "ax.set_yticklabels(ax.get_yticks(), size = 12)\n",
    "plt.show()"
   ]
  },
  {
   "cell_type": "markdown",
   "id": "d2ad1752",
   "metadata": {},
   "source": [
    "Можно заметить что количесто не сетевых заведений общественного питания в 4 раза больше чем сетевых "
   ]
  },
  {
   "cell_type": "markdown",
   "id": "8111fa42",
   "metadata": {},
   "source": [
    "### Анализ видов общественного питания в зависимости от его типа"
   ]
  },
  {
   "cell_type": "code",
   "execution_count": 24,
   "id": "810dcf91",
   "metadata": {},
   "outputs": [
    {
     "data": {
      "image/png": "[encoded data removed]",
      "text/plain": [
       "<Figure size 1080x576 with 1 Axes>"
      ]
     },
     "metadata": {},
     "output_type": "display_data"
    }
   ],
   "source": [
    "plt.style.use('seaborn-pastel')\n",
    "# color='#781D42'\n",
    "plt.figure(figsize=(15, 8))\n",
    "sns.set_style('whitegrid') \n",
    "ax = sns.countplot(x=\"object_type\", hue='chain', data=restaurant, order=restaurant.object_type.value_counts().index)\n",
    "for container in ax.containers:\n",
    "    ax.bar_label(container, padding=1, fontsize=14)\n",
    "plt.title('Количкство объектов общественного питания по типам с разбивкой по принадлежности к сети или нет', fontsize=14)\n",
    "plt.ylabel('Количество объектов в Москве', fontsize=14)\n",
    "plt.xlabel('Тип объекта общественного питания', fontsize=14)\n",
    "ax.set_xticklabels(ax.get_xticklabels(), rotation=45\n",
    "                  , horizontalalignment= 'right', fontsize= 12)\n",
    "plt.show()"
   ]
  },
  {
   "cell_type": "code",
   "execution_count": 25,
   "id": "524f64d8",
   "metadata": {},
   "outputs": [
    {
     "data": {
      "application/vnd.plotly.v1+json": {
       "config": {
        "plotlyServerURL": "https://plot.ly"
       },
       "data": [
        {
         "hoverinfo": "label+percent",
         "labels": [
          "кафе",
          "предприятие быстрого обслуживания",
          "ресторан",
          "магазин (отдел кулинарии)",
          "закусочная",
          "кафетерий",
          "бар",
          "буфет",
          "столовая"
         ],
         "textfont": {
          "size": 12
         },
         "textinfo": "label+percent",
         "title": {
          "text": "Cоотношение видов сетевых объектов общественного питания по количеству"
         },
         "type": "pie",
         "values": [
          1396,
          791,
          544,
          78,
          56,
          52,
          37,
          11,
          3
         ]
        }
       ],
       "layout": {
        "template": {
         "data": {
          "bar": [
           {
            "error_x": {
             "color": "#2a3f5f"
            },
            "error_y": {
             "color": "#2a3f5f"
            },
            "marker": {
             "line": {
              "color": "#E5ECF6",
              "width": 0.5
             },
             "pattern": {
              "fillmode": "overlay",
              "size": 10,
              "solidity": 0.2
             }
            },
            "type": "bar"
           }
          ],
          "barpolar": [
           {
            "marker": {
             "line": {
              "color": "#E5ECF6",
              "width": 0.5
             },
             "pattern": {
              "fillmode": "overlay",
              "size": 10,
              "solidity": 0.2
             }
            },
            "type": "barpolar"
           }
          ],
          "carpet": [
           {
            "aaxis": {
             "endlinecolor": "#2a3f5f",
             "gridcolor": "white",
             "linecolor": "white",
             "minorgridcolor": "white",
             "startlinecolor": "#2a3f5f"
            },
            "baxis": {
             "endlinecolor": "#2a3f5f",
             "gridcolor": "white",
             "linecolor": "white",
             "minorgridcolor": "white",
             "startlinecolor": "#2a3f5f"
            },
            "type": "carpet"
           }
          ],
          "choropleth": [
           {
            "colorbar": {
             "outlinewidth": 0,
             "ticks": ""
            },
            "type": "choropleth"
           }
          ],
          "contour": [
           {
            "colorbar": {
             "outlinewidth": 0,
             "ticks": ""
            },
            "colorscale": [
             [
              0,
              "#0d0887"
             ],
             [
              0.1111111111111111,
              "#46039f"
             ],
             [
              0.2222222222222222,
              "#7201a8"
             ],
             [
              0.3333333333333333,
              "#9c179e"
             ],
             [
              0.4444444444444444,
              "#bd3786"
             ],
             [
              0.5555555555555556,
              "#d8576b"
             ],
             [
              0.6666666666666666,
              "#ed7953"
             ],
             [
              0.7777777777777778,
              "#fb9f3a"
             ],
             [
              0.8888888888888888,
              "#fdca26"
             ],
             [
              1,
              "#f0f921"
             ]
            ],
            "type": "contour"
           }
          ],
          "contourcarpet": [
           {
            "colorbar": {
             "outlinewidth": 0,
             "ticks": ""
            },
            "type": "contourcarpet"
           }
          ],
          "heatmap": [
           {
            "colorbar": {
             "outlinewidth": 0,
             "ticks": ""
            },
            "colorscale": [
             [
              0,
              "#0d0887"
             ],
             [
              0.1111111111111111,
              "#46039f"
             ],
             [
              0.2222222222222222,
              "#7201a8"
             ],
             [
              0.3333333333333333,
              "#9c179e"
             ],
             [
              0.4444444444444444,
              "#bd3786"
             ],
             [
              0.5555555555555556,
              "#d8576b"
             ],
             [
              0.6666666666666666,
              "#ed7953"
             ],
             [
              0.7777777777777778,
              "#fb9f3a"
             ],
             [
              0.8888888888888888,
              "#fdca26"
             ],
             [
              1,
              "#f0f921"
             ]
            ],
            "type": "heatmap"
           }
          ],
          "heatmapgl": [
           {
            "colorbar": {
             "outlinewidth": 0,
             "ticks": ""
            },
            "colorscale": [
             [
              0,
              "#0d0887"
             ],
             [
              0.1111111111111111,
              "#46039f"
             ],
             [
              0.2222222222222222,
              "#7201a8"
             ],
             [
              0.3333333333333333,
              "#9c179e"
             ],
             [
              0.4444444444444444,
              "#bd3786"
             ],
             [
              0.5555555555555556,
              "#d8576b"
             ],
             [
              0.6666666666666666,
              "#ed7953"
             ],
             [
              0.7777777777777778,
              "#fb9f3a"
             ],
             [
              0.8888888888888888,
              "#fdca26"
             ],
             [
              1,
              "#f0f921"
             ]
            ],
            "type": "heatmapgl"
           }
          ],
          "histogram": [
           {
            "marker": {
             "pattern": {
              "fillmode": "overlay",
              "size": 10,
              "solidity": 0.2
             }
            },
            "type": "histogram"
           }
          ],
          "histogram2d": [
           {
            "colorbar": {
             "outlinewidth": 0,
             "ticks": ""
            },
            "colorscale": [
             [
              0,
              "#0d0887"
             ],
             [
              0.1111111111111111,
              "#46039f"
             ],
             [
              0.2222222222222222,
              "#7201a8"
             ],
             [
              0.3333333333333333,
              "#9c179e"
             ],
             [
              0.4444444444444444,
              "#bd3786"
             ],
             [
              0.5555555555555556,
              "#d8576b"
             ],
             [
              0.6666666666666666,
              "#ed7953"
             ],
             [
              0.7777777777777778,
              "#fb9f3a"
             ],
             [
              0.8888888888888888,
              "#fdca26"
             ],
             [
              1,
              "#f0f921"
             ]
            ],
            "type": "histogram2d"
           }
          ],
          "histogram2dcontour": [
           {
            "colorbar": {
             "outlinewidth": 0,
             "ticks": ""
            },
            "colorscale": [
             [
              0,
              "#0d0887"
             ],
             [
              0.1111111111111111,
              "#46039f"
             ],
             [
              0.2222222222222222,
              "#7201a8"
             ],
             [
              0.3333333333333333,
              "#9c179e"
             ],
             [
              0.4444444444444444,
              "#bd3786"
             ],
             [
              0.5555555555555556,
              "#d8576b"
             ],
             [
              0.6666666666666666,
              "#ed7953"
             ],
             [
              0.7777777777777778,
              "#fb9f3a"
             ],
             [
              0.8888888888888888,
              "#fdca26"
             ],
             [
              1,
              "#f0f921"
             ]
            ],
            "type": "histogram2dcontour"
           }
          ],
          "mesh3d": [
           {
            "colorbar": {
             "outlinewidth": 0,
             "ticks": ""
            },
            "type": "mesh3d"
           }
          ],
          "parcoords": [
           {
            "line": {
             "colorbar": {
              "outlinewidth": 0,
              "ticks": ""
             }
            },
            "type": "parcoords"
           }
          ],
          "pie": [
           {
            "automargin": true,
            "type": "pie"
           }
          ],
          "scatter": [
           {
            "marker": {
             "colorbar": {
              "outlinewidth": 0,
              "ticks": ""
             }
            },
            "type": "scatter"
           }
          ],
          "scatter3d": [
           {
            "line": {
             "colorbar": {
              "outlinewidth": 0,
              "ticks": ""
             }
            },
            "marker": {
             "colorbar": {
              "outlinewidth": 0,
              "ticks": ""
             }
            },
            "type": "scatter3d"
           }
          ],
          "scattercarpet": [
           {
            "marker": {
             "colorbar": {
              "outlinewidth": 0,
              "ticks": ""
             }
            },
            "type": "scattercarpet"
           }
          ],
          "scattergeo": [
           {
            "marker": {
             "colorbar": {
              "outlinewidth": 0,
              "ticks": ""
             }
            },
            "type": "scattergeo"
           }
          ],
          "scattergl": [
           {
            "marker": {
             "colorbar": {
              "outlinewidth": 0,
              "ticks": ""
             }
            },
            "type": "scattergl"
           }
          ],
          "scattermapbox": [
           {
            "marker": {
             "colorbar": {
              "outlinewidth": 0,
              "ticks": ""
             }
            },
            "type": "scattermapbox"
           }
          ],
          "scatterpolar": [
           {
            "marker": {
             "colorbar": {
              "outlinewidth": 0,
              "ticks": ""
             }
            },
            "type": "scatterpolar"
           }
          ],
          "scatterpolargl": [
           {
            "marker": {
             "colorbar": {
              "outlinewidth": 0,
              "ticks": ""
             }
            },
            "type": "scatterpolargl"
           }
          ],
          "scatterternary": [
           {
            "marker": {
             "colorbar": {
              "outlinewidth": 0,
              "ticks": ""
             }
            },
            "type": "scatterternary"
           }
          ],
          "surface": [
           {
            "colorbar": {
             "outlinewidth": 0,
             "ticks": ""
            },
            "colorscale": [
             [
              0,
              "#0d0887"
             ],
             [
              0.1111111111111111,
              "#46039f"
             ],
             [
              0.2222222222222222,
              "#7201a8"
             ],
             [
              0.3333333333333333,
              "#9c179e"
             ],
             [
              0.4444444444444444,
              "#bd3786"
             ],
             [
              0.5555555555555556,
              "#d8576b"
             ],
             [
              0.6666666666666666,
              "#ed7953"
             ],
             [
              0.7777777777777778,
              "#fb9f3a"
             ],
             [
              0.8888888888888888,
              "#fdca26"
             ],
             [
              1,
              "#f0f921"
             ]
            ],
            "type": "surface"
           }
          ],
          "table": [
           {
            "cells": {
             "fill": {
              "color": "#EBF0F8"
             },
             "line": {
              "color": "white"
             }
            },
            "header": {
             "fill": {
              "color": "#C8D4E3"
             },
             "line": {
              "color": "white"
             }
            },
            "type": "table"
           }
          ]
         },
         "layout": {
          "annotationdefaults": {
           "arrowcolor": "#2a3f5f",
           "arrowhead": 0,
           "arrowwidth": 1
          },
          "autotypenumbers": "strict",
          "coloraxis": {
           "colorbar": {
            "outlinewidth": 0,
            "ticks": ""
           }
          },
          "colorscale": {
           "diverging": [
            [
             0,
             "#8e0152"
            ],
            [
             0.1,
             "#c51b7d"
            ],
            [
             0.2,
             "#de77ae"
            ],
            [
             0.3,
             "#f1b6da"
            ],
            [
             0.4,
             "#fde0ef"
            ],
            [
             0.5,
             "#f7f7f7"
            ],
            [
             0.6,
             "#e6f5d0"
            ],
            [
             0.7,
             "#b8e186"
            ],
            [
             0.8,
             "#7fbc41"
            ],
            [
             0.9,
             "#4d9221"
            ],
            [
             1,
             "#276419"
            ]
           ],
           "sequential": [
            [
             0,
             "#0d0887"
            ],
            [
             0.1111111111111111,
             "#46039f"
            ],
            [
             0.2222222222222222,
             "#7201a8"
            ],
            [
             0.3333333333333333,
             "#9c179e"
            ],
            [
             0.4444444444444444,
             "#bd3786"
            ],
            [
             0.5555555555555556,
             "#d8576b"
            ],
            [
             0.6666666666666666,
             "#ed7953"
            ],
            [
             0.7777777777777778,
             "#fb9f3a"
            ],
            [
             0.8888888888888888,
             "#fdca26"
            ],
            [
             1,
             "#f0f921"
            ]
           ],
           "sequentialminus": [
            [
             0,
             "#0d0887"
            ],
            [
             0.1111111111111111,
             "#46039f"
            ],
            [
             0.2222222222222222,
             "#7201a8"
            ],
            [
             0.3333333333333333,
             "#9c179e"
            ],
            [
             0.4444444444444444,
             "#bd3786"
            ],
            [
             0.5555555555555556,
             "#d8576b"
            ],
            [
             0.6666666666666666,
             "#ed7953"
            ],
            [
             0.7777777777777778,
             "#fb9f3a"
            ],
            [
             0.8888888888888888,
             "#fdca26"
            ],
            [
             1,
             "#f0f921"
            ]
           ]
          },
          "colorway": [
           "#636efa",
           "#EF553B",
           "#00cc96",
           "#ab63fa",
           "#FFA15A",
           "#19d3f3",
           "#FF6692",
           "#B6E880",
           "#FF97FF",
           "#FECB52"
          ],
          "font": {
           "color": "#2a3f5f"
          },
          "geo": {
           "bgcolor": "white",
           "lakecolor": "white",
           "landcolor": "#E5ECF6",
           "showlakes": true,
           "showland": true,
           "subunitcolor": "white"
          },
          "hoverlabel": {
           "align": "left"
          },
          "hovermode": "closest",
          "mapbox": {
           "style": "light"
          },
          "paper_bgcolor": "white",
          "plot_bgcolor": "#E5ECF6",
          "polar": {
           "angularaxis": {
            "gridcolor": "white",
            "linecolor": "white",
            "ticks": ""
           },
           "bgcolor": "#E5ECF6",
           "radialaxis": {
            "gridcolor": "white",
            "linecolor": "white",
            "ticks": ""
           }
          },
          "scene": {
           "xaxis": {
            "backgroundcolor": "#E5ECF6",
            "gridcolor": "white",
            "gridwidth": 2,
            "linecolor": "white",
            "showbackground": true,
            "ticks": "",
            "zerolinecolor": "white"
           },
           "yaxis": {
            "backgroundcolor": "#E5ECF6",
            "gridcolor": "white",
            "gridwidth": 2,
            "linecolor": "white",
            "showbackground": true,
            "ticks": "",
            "zerolinecolor": "white"
           },
           "zaxis": {
            "backgroundcolor": "#E5ECF6",
            "gridcolor": "white",
            "gridwidth": 2,
            "linecolor": "white",
            "showbackground": true,
            "ticks": "",
            "zerolinecolor": "white"
           }
          },
          "shapedefaults": {
           "line": {
            "color": "#2a3f5f"
           }
          },
          "ternary": {
           "aaxis": {
            "gridcolor": "white",
            "linecolor": "white",
            "ticks": ""
           },
           "baxis": {
            "gridcolor": "white",
            "linecolor": "white",
            "ticks": ""
           },
           "bgcolor": "#E5ECF6",
           "caxis": {
            "gridcolor": "white",
            "linecolor": "white",
            "ticks": ""
           }
          },
          "title": {
           "x": 0.05
          },
          "xaxis": {
           "automargin": true,
           "gridcolor": "white",
           "linecolor": "white",
           "ticks": "",
           "title": {
            "standoff": 15
           },
           "zerolinecolor": "white",
           "zerolinewidth": 2
          },
          "yaxis": {
           "automargin": true,
           "gridcolor": "white",
           "linecolor": "white",
           "ticks": "",
           "title": {
            "standoff": 15
           },
           "zerolinecolor": "white",
           "zerolinewidth": 2
          }
         }
        }
       }
      },
      "text/html": [
       "<div>                            <div id=\"038feed4-6650-4d7a-b3e2-65e757be2a5b\" class=\"plotly-graph-div\" style=\"height:525px; width:100%;\"></div>            <script type=\"text/javascript\">                require([\"plotly\"], function(Plotly) {                    window.PLOTLYENV=window.PLOTLYENV || {};                                    if (document.getElementById(\"038feed4-6650-4d7a-b3e2-65e757be2a5b\")) {                    Plotly.newPlot(                        \"038feed4-6650-4d7a-b3e2-65e757be2a5b\",                        [{\"labels\":[\"\\u043a\\u0430\\u0444\\u0435\",\"\\u043f\\u0440\\u0435\\u0434\\u043f\\u0440\\u0438\\u044f\\u0442\\u0438\\u0435 \\u0431\\u044b\\u0441\\u0442\\u0440\\u043e\\u0433\\u043e \\u043e\\u0431\\u0441\\u043b\\u0443\\u0436\\u0438\\u0432\\u0430\\u043d\\u0438\\u044f\",\"\\u0440\\u0435\\u0441\\u0442\\u043e\\u0440\\u0430\\u043d\",\"\\u043c\\u0430\\u0433\\u0430\\u0437\\u0438\\u043d (\\u043e\\u0442\\u0434\\u0435\\u043b \\u043a\\u0443\\u043b\\u0438\\u043d\\u0430\\u0440\\u0438\\u0438)\",\"\\u0437\\u0430\\u043a\\u0443\\u0441\\u043e\\u0447\\u043d\\u0430\\u044f\",\"\\u043a\\u0430\\u0444\\u0435\\u0442\\u0435\\u0440\\u0438\\u0439\",\"\\u0431\\u0430\\u0440\",\"\\u0431\\u0443\\u0444\\u0435\\u0442\",\"\\u0441\\u0442\\u043e\\u043b\\u043e\\u0432\\u0430\\u044f\"],\"title\":{\"text\":\"C\\u043e\\u043e\\u0442\\u043d\\u043e\\u0448\\u0435\\u043d\\u0438\\u0435 \\u0432\\u0438\\u0434\\u043e\\u0432 \\u0441\\u0435\\u0442\\u0435\\u0432\\u044b\\u0445 \\u043e\\u0431\\u044a\\u0435\\u043a\\u0442\\u043e\\u0432 \\u043e\\u0431\\u0449\\u0435\\u0441\\u0442\\u0432\\u0435\\u043d\\u043d\\u043e\\u0433\\u043e \\u043f\\u0438\\u0442\\u0430\\u043d\\u0438\\u044f \\u043f\\u043e \\u043a\\u043e\\u043b\\u0438\\u0447\\u0435\\u0441\\u0442\\u0432\\u0443\"},\"values\":[1396,791,544,78,56,52,37,11,3],\"type\":\"pie\",\"textfont\":{\"size\":12},\"hoverinfo\":\"label+percent\",\"textinfo\":\"label+percent\"}],                        {\"template\":{\"data\":{\"bar\":[{\"error_x\":{\"color\":\"#2a3f5f\"},\"error_y\":{\"color\":\"#2a3f5f\"},\"marker\":{\"line\":{\"color\":\"#E5ECF6\",\"width\":0.5},\"pattern\":{\"fillmode\":\"overlay\",\"size\":10,\"solidity\":0.2}},\"type\":\"bar\"}],\"barpolar\":[{\"marker\":{\"line\":{\"color\":\"#E5ECF6\",\"width\":0.5},\"pattern\":{\"fillmode\":\"overlay\",\"size\":10,\"solidity\":0.2}},\"type\":\"barpolar\"}],\"carpet\":[{\"aaxis\":{\"endlinecolor\":\"#2a3f5f\",\"gridcolor\":\"white\",\"linecolor\":\"white\",\"minorgridcolor\":\"white\",\"startlinecolor\":\"#2a3f5f\"},\"baxis\":{\"endlinecolor\":\"#2a3f5f\",\"gridcolor\":\"white\",\"linecolor\":\"white\",\"minorgridcolor\":\"white\",\"startlinecolor\":\"#2a3f5f\"},\"type\":\"carpet\"}],\"choropleth\":[{\"colorbar\":{\"outlinewidth\":0,\"ticks\":\"\"},\"type\":\"choropleth\"}],\"contour\":[{\"colorbar\":{\"outlinewidth\":0,\"ticks\":\"\"},\"colorscale\":[[0.0,\"#0d0887\"],[0.1111111111111111,\"#46039f\"],[0.2222222222222222,\"#7201a8\"],[0.3333333333333333,\"#9c179e\"],[0.4444444444444444,\"#bd3786\"],[0.5555555555555556,\"#d8576b\"],[0.6666666666666666,\"#ed7953\"],[0.7777777777777778,\"#fb9f3a\"],[0.8888888888888888,\"#fdca26\"],[1.0,\"#f0f921\"]],\"type\":\"contour\"}],\"contourcarpet\":[{\"colorbar\":{\"outlinewidth\":0,\"ticks\":\"\"},\"type\":\"contourcarpet\"}],\"heatmap\":[{\"colorbar\":{\"outlinewidth\":0,\"ticks\":\"\"},\"colorscale\":[[0.0,\"#0d0887\"],[0.1111111111111111,\"#46039f\"],[0.2222222222222222,\"#7201a8\"],[0.3333333333333333,\"#9c179e\"],[0.4444444444444444,\"#bd3786\"],[0.5555555555555556,\"#d8576b\"],[0.6666666666666666,\"#ed7953\"],[0.7777777777777778,\"#fb9f3a\"],[0.8888888888888888,\"#fdca26\"],[1.0,\"#f0f921\"]],\"type\":\"heatmap\"}],\"heatmapgl\":[{\"colorbar\":{\"outlinewidth\":0,\"ticks\":\"\"},\"colorscale\":[[0.0,\"#0d0887\"],[0.1111111111111111,\"#46039f\"],[0.2222222222222222,\"#7201a8\"],[0.3333333333333333,\"#9c179e\"],[0.4444444444444444,\"#bd3786\"],[0.5555555555555556,\"#d8576b\"],[0.6666666666666666,\"#ed7953\"],[0.7777777777777778,\"#fb9f3a\"],[0.8888888888888888,\"#fdca26\"],[1.0,\"#f0f921\"]],\"type\":\"heatmapgl\"}],\"histogram\":[{\"marker\":{\"pattern\":{\"fillmode\":\"overlay\",\"size\":10,\"solidity\":0.2}},\"type\":\"histogram\"}],\"histogram2d\":[{\"colorbar\":{\"outlinewidth\":0,\"ticks\":\"\"},\"colorscale\":[[0.0,\"#0d0887\"],[0.1111111111111111,\"#46039f\"],[0.2222222222222222,\"#7201a8\"],[0.3333333333333333,\"#9c179e\"],[0.4444444444444444,\"#bd3786\"],[0.5555555555555556,\"#d8576b\"],[0.6666666666666666,\"#ed7953\"],[0.7777777777777778,\"#fb9f3a\"],[0.8888888888888888,\"#fdca26\"],[1.0,\"#f0f921\"]],\"type\":\"histogram2d\"}],\"histogram2dcontour\":[{\"colorbar\":{\"outlinewidth\":0,\"ticks\":\"\"},\"colorscale\":[[0.0,\"#0d0887\"],[0.1111111111111111,\"#46039f\"],[0.2222222222222222,\"#7201a8\"],[0.3333333333333333,\"#9c179e\"],[0.4444444444444444,\"#bd3786\"],[0.5555555555555556,\"#d8576b\"],[0.6666666666666666,\"#ed7953\"],[0.7777777777777778,\"#fb9f3a\"],[0.8888888888888888,\"#fdca26\"],[1.0,\"#f0f921\"]],\"type\":\"histogram2dcontour\"}],\"mesh3d\":[{\"colorbar\":{\"outlinewidth\":0,\"ticks\":\"\"},\"type\":\"mesh3d\"}],\"parcoords\":[{\"line\":{\"colorbar\":{\"outlinewidth\":0,\"ticks\":\"\"}},\"type\":\"parcoords\"}],\"pie\":[{\"automargin\":true,\"type\":\"pie\"}],\"scatter\":[{\"marker\":{\"colorbar\":{\"outlinewidth\":0,\"ticks\":\"\"}},\"type\":\"scatter\"}],\"scatter3d\":[{\"line\":{\"colorbar\":{\"outlinewidth\":0,\"ticks\":\"\"}},\"marker\":{\"colorbar\":{\"outlinewidth\":0,\"ticks\":\"\"}},\"type\":\"scatter3d\"}],\"scattercarpet\":[{\"marker\":{\"colorbar\":{\"outlinewidth\":0,\"ticks\":\"\"}},\"type\":\"scattercarpet\"}],\"scattergeo\":[{\"marker\":{\"colorbar\":{\"outlinewidth\":0,\"ticks\":\"\"}},\"type\":\"scattergeo\"}],\"scattergl\":[{\"marker\":{\"colorbar\":{\"outlinewidth\":0,\"ticks\":\"\"}},\"type\":\"scattergl\"}],\"scattermapbox\":[{\"marker\":{\"colorbar\":{\"outlinewidth\":0,\"ticks\":\"\"}},\"type\":\"scattermapbox\"}],\"scatterpolar\":[{\"marker\":{\"colorbar\":{\"outlinewidth\":0,\"ticks\":\"\"}},\"type\":\"scatterpolar\"}],\"scatterpolargl\":[{\"marker\":{\"colorbar\":{\"outlinewidth\":0,\"ticks\":\"\"}},\"type\":\"scatterpolargl\"}],\"scatterternary\":[{\"marker\":{\"colorbar\":{\"outlinewidth\":0,\"ticks\":\"\"}},\"type\":\"scatterternary\"}],\"surface\":[{\"colorbar\":{\"outlinewidth\":0,\"ticks\":\"\"},\"colorscale\":[[0.0,\"#0d0887\"],[0.1111111111111111,\"#46039f\"],[0.2222222222222222,\"#7201a8\"],[0.3333333333333333,\"#9c179e\"],[0.4444444444444444,\"#bd3786\"],[0.5555555555555556,\"#d8576b\"],[0.6666666666666666,\"#ed7953\"],[0.7777777777777778,\"#fb9f3a\"],[0.8888888888888888,\"#fdca26\"],[1.0,\"#f0f921\"]],\"type\":\"surface\"}],\"table\":[{\"cells\":{\"fill\":{\"color\":\"#EBF0F8\"},\"line\":{\"color\":\"white\"}},\"header\":{\"fill\":{\"color\":\"#C8D4E3\"},\"line\":{\"color\":\"white\"}},\"type\":\"table\"}]},\"layout\":{\"annotationdefaults\":{\"arrowcolor\":\"#2a3f5f\",\"arrowhead\":0,\"arrowwidth\":1},\"autotypenumbers\":\"strict\",\"coloraxis\":{\"colorbar\":{\"outlinewidth\":0,\"ticks\":\"\"}},\"colorscale\":{\"diverging\":[[0,\"#8e0152\"],[0.1,\"#c51b7d\"],[0.2,\"#de77ae\"],[0.3,\"#f1b6da\"],[0.4,\"#fde0ef\"],[0.5,\"#f7f7f7\"],[0.6,\"#e6f5d0\"],[0.7,\"#b8e186\"],[0.8,\"#7fbc41\"],[0.9,\"#4d9221\"],[1,\"#276419\"]],\"sequential\":[[0.0,\"#0d0887\"],[0.1111111111111111,\"#46039f\"],[0.2222222222222222,\"#7201a8\"],[0.3333333333333333,\"#9c179e\"],[0.4444444444444444,\"#bd3786\"],[0.5555555555555556,\"#d8576b\"],[0.6666666666666666,\"#ed7953\"],[0.7777777777777778,\"#fb9f3a\"],[0.8888888888888888,\"#fdca26\"],[1.0,\"#f0f921\"]],\"sequentialminus\":[[0.0,\"#0d0887\"],[0.1111111111111111,\"#46039f\"],[0.2222222222222222,\"#7201a8\"],[0.3333333333333333,\"#9c179e\"],[0.4444444444444444,\"#bd3786\"],[0.5555555555555556,\"#d8576b\"],[0.6666666666666666,\"#ed7953\"],[0.7777777777777778,\"#fb9f3a\"],[0.8888888888888888,\"#fdca26\"],[1.0,\"#f0f921\"]]},\"colorway\":[\"#636efa\",\"#EF553B\",\"#00cc96\",\"#ab63fa\",\"#FFA15A\",\"#19d3f3\",\"#FF6692\",\"#B6E880\",\"#FF97FF\",\"#FECB52\"],\"font\":{\"color\":\"#2a3f5f\"},\"geo\":{\"bgcolor\":\"white\",\"lakecolor\":\"white\",\"landcolor\":\"#E5ECF6\",\"showlakes\":true,\"showland\":true,\"subunitcolor\":\"white\"},\"hoverlabel\":{\"align\":\"left\"},\"hovermode\":\"closest\",\"mapbox\":{\"style\":\"light\"},\"paper_bgcolor\":\"white\",\"plot_bgcolor\":\"#E5ECF6\",\"polar\":{\"angularaxis\":{\"gridcolor\":\"white\",\"linecolor\":\"white\",\"ticks\":\"\"},\"bgcolor\":\"#E5ECF6\",\"radialaxis\":{\"gridcolor\":\"white\",\"linecolor\":\"white\",\"ticks\":\"\"}},\"scene\":{\"xaxis\":{\"backgroundcolor\":\"#E5ECF6\",\"gridcolor\":\"white\",\"gridwidth\":2,\"linecolor\":\"white\",\"showbackground\":true,\"ticks\":\"\",\"zerolinecolor\":\"white\"},\"yaxis\":{\"backgroundcolor\":\"#E5ECF6\",\"gridcolor\":\"white\",\"gridwidth\":2,\"linecolor\":\"white\",\"showbackground\":true,\"ticks\":\"\",\"zerolinecolor\":\"white\"},\"zaxis\":{\"backgroundcolor\":\"#E5ECF6\",\"gridcolor\":\"white\",\"gridwidth\":2,\"linecolor\":\"white\",\"showbackground\":true,\"ticks\":\"\",\"zerolinecolor\":\"white\"}},\"shapedefaults\":{\"line\":{\"color\":\"#2a3f5f\"}},\"ternary\":{\"aaxis\":{\"gridcolor\":\"white\",\"linecolor\":\"white\",\"ticks\":\"\"},\"baxis\":{\"gridcolor\":\"white\",\"linecolor\":\"white\",\"ticks\":\"\"},\"bgcolor\":\"#E5ECF6\",\"caxis\":{\"gridcolor\":\"white\",\"linecolor\":\"white\",\"ticks\":\"\"}},\"title\":{\"x\":0.05},\"xaxis\":{\"automargin\":true,\"gridcolor\":\"white\",\"linecolor\":\"white\",\"ticks\":\"\",\"title\":{\"standoff\":15},\"zerolinecolor\":\"white\",\"zerolinewidth\":2},\"yaxis\":{\"automargin\":true,\"gridcolor\":\"white\",\"linecolor\":\"white\",\"ticks\":\"\",\"title\":{\"standoff\":15},\"zerolinecolor\":\"white\",\"zerolinewidth\":2}}}},                        {\"responsive\": true}                    ).then(function(){\n",
       "                            \n",
       "var gd = document.getElementById('038feed4-6650-4d7a-b3e2-65e757be2a5b');\n",
       "var x = new MutationObserver(function (mutations, observer) {{\n",
       "        var display = window.getComputedStyle(gd).display;\n",
       "        if (!display || display === 'none') {{\n",
       "            console.log([gd, 'removed!']);\n",
       "            Plotly.purge(gd);\n",
       "            observer.disconnect();\n",
       "        }}\n",
       "}});\n",
       "\n",
       "// Listen for the removal of the full notebook cells\n",
       "var notebookContainer = gd.closest('#notebook-container');\n",
       "if (notebookContainer) {{\n",
       "    x.observe(notebookContainer, {childList: true});\n",
       "}}\n",
       "\n",
       "// Listen for the clearing of the current output cell\n",
       "var outputEl = gd.closest('.output');\n",
       "if (outputEl) {{\n",
       "    x.observe(outputEl, {childList: true});\n",
       "}}\n",
       "\n",
       "                        })                };                });            </script>        </div>"
      ]
     },
     "metadata": {},
     "output_type": "display_data"
    }
   ],
   "source": [
    "data = restaurant.query('chain == \"Сеть\"').groupby(by=['object_type']).agg({'id': 'count'}).sort_values('id', ascending=False).reset_index()\n",
    "fig = go.Figure(data=[go.Pie(values=data['id'], labels=data['object_type'], title='Cоотношение видов сетевых объектов общественного питания по количеству')])\n",
    "fig.update_traces(hoverinfo='label+percent', textinfo='label+percent', textfont_size=12)\n",
    "fig"
   ]
  },
  {
   "cell_type": "markdown",
   "id": "a33139bc",
   "metadata": {},
   "source": [
    "Среди сетевых объектов общественного питания представленные в Москве являются `кафе`. Педприятия быстрого обслуживания занимают вторую строчку в рейтенге. Далее следует рестораны."
   ]
  },
  {
   "cell_type": "markdown",
   "id": "31c5bfa3",
   "metadata": {},
   "source": [
    "### Анализ числа посадочных мест в сетевых заведениях"
   ]
  },
  {
   "cell_type": "code",
   "execution_count": 26,
   "id": "1bcec439",
   "metadata": {},
   "outputs": [
    {
     "data": {
      "image/png": "[encoded data removed]",
      "text/plain": [
       "<Figure size 720x720 with 3 Axes>"
      ]
     },
     "metadata": {},
     "output_type": "display_data"
    }
   ],
   "source": [
    "chain_numbers = restaurant.query('chain == \"Сеть\"').groupby('object_name').agg({'id': 'count', 'number': 'median'}).reset_index().sort_values(by='id', ascending=False)\n",
    "ax = sns.jointplot(data=chain_numbers, x='id', y='number', kind='reg', color='#781D42', height=10, ratio=2)\n",
    "ax.fig.suptitle(\"Анализ числа посадочных мест в сетевых заведениях\", fontsize=14)\n",
    "ax.ax_joint.set_ylabel('Среднее количество мест', fontsize=14)\n",
    "ax.ax_joint.set_xlabel('Количество заведений в сети', fontsize=14)\n",
    "plt.show()"
   ]
  },
  {
   "cell_type": "markdown",
   "id": "28cfd0f1",
   "metadata": {},
   "source": [
    "По диаграмме рассеяния можно сказать что на рынке преобладает небольшие сетевые заведения с большим количеством мест."
   ]
  },
  {
   "cell_type": "markdown",
   "id": "c835647a",
   "metadata": {},
   "source": [
    "### Анализ среднего количества мест в зависимости от вида общественного питания"
   ]
  },
  {
   "cell_type": "code",
   "execution_count": 27,
   "id": "a92e9e0f",
   "metadata": {},
   "outputs": [
    {
     "data": {
      "text/html": [
       "<div>\n",
       "<style scoped>\n",
       "    .dataframe tbody tr th:only-of-type {\n",
       "        vertical-align: middle;\n",
       "    }\n",
       "\n",
       "    .dataframe tbody tr th {\n",
       "        vertical-align: top;\n",
       "    }\n",
       "\n",
       "    .dataframe thead th {\n",
       "        text-align: right;\n",
       "    }\n",
       "</style>\n",
       "<table border=\"1\" class=\"dataframe\">\n",
       "  <thead>\n",
       "    <tr style=\"text-align: right;\">\n",
       "      <th></th>\n",
       "      <th>object_type</th>\n",
       "      <th>count</th>\n",
       "      <th>mean</th>\n",
       "      <th>std</th>\n",
       "      <th>min</th>\n",
       "      <th>25%</th>\n",
       "      <th>50%</th>\n",
       "      <th>75%</th>\n",
       "      <th>max</th>\n",
       "    </tr>\n",
       "  </thead>\n",
       "  <tbody>\n",
       "    <tr>\n",
       "      <th>8</th>\n",
       "      <td>столовая</td>\n",
       "      <td>2587.0</td>\n",
       "      <td>130.246618</td>\n",
       "      <td>95.179313</td>\n",
       "      <td>0.0</td>\n",
       "      <td>50.0</td>\n",
       "      <td>103.0</td>\n",
       "      <td>200.0</td>\n",
       "      <td>1400.0</td>\n",
       "    </tr>\n",
       "    <tr>\n",
       "      <th>7</th>\n",
       "      <td>ресторан</td>\n",
       "      <td>2285.0</td>\n",
       "      <td>96.834136</td>\n",
       "      <td>94.756542</td>\n",
       "      <td>0.0</td>\n",
       "      <td>46.0</td>\n",
       "      <td>80.0</td>\n",
       "      <td>114.0</td>\n",
       "      <td>1500.0</td>\n",
       "    </tr>\n",
       "    <tr>\n",
       "      <th>1</th>\n",
       "      <td>буфет</td>\n",
       "      <td>585.0</td>\n",
       "      <td>51.129915</td>\n",
       "      <td>56.331974</td>\n",
       "      <td>0.0</td>\n",
       "      <td>14.0</td>\n",
       "      <td>32.0</td>\n",
       "      <td>80.0</td>\n",
       "      <td>320.0</td>\n",
       "    </tr>\n",
       "    <tr>\n",
       "      <th>0</th>\n",
       "      <td>бар</td>\n",
       "      <td>856.0</td>\n",
       "      <td>43.494159</td>\n",
       "      <td>67.082876</td>\n",
       "      <td>0.0</td>\n",
       "      <td>20.0</td>\n",
       "      <td>35.0</td>\n",
       "      <td>50.0</td>\n",
       "      <td>1700.0</td>\n",
       "    </tr>\n",
       "    <tr>\n",
       "      <th>3</th>\n",
       "      <td>кафе</td>\n",
       "      <td>6099.0</td>\n",
       "      <td>39.716019</td>\n",
       "      <td>37.720947</td>\n",
       "      <td>0.0</td>\n",
       "      <td>15.0</td>\n",
       "      <td>30.0</td>\n",
       "      <td>50.0</td>\n",
       "      <td>533.0</td>\n",
       "    </tr>\n",
       "    <tr>\n",
       "      <th>6</th>\n",
       "      <td>предприятие быстрого обслуживания</td>\n",
       "      <td>1923.0</td>\n",
       "      <td>20.552262</td>\n",
       "      <td>38.366974</td>\n",
       "      <td>0.0</td>\n",
       "      <td>0.0</td>\n",
       "      <td>5.0</td>\n",
       "      <td>25.0</td>\n",
       "      <td>580.0</td>\n",
       "    </tr>\n",
       "    <tr>\n",
       "      <th>4</th>\n",
       "      <td>кафетерий</td>\n",
       "      <td>398.0</td>\n",
       "      <td>9.123116</td>\n",
       "      <td>14.639150</td>\n",
       "      <td>0.0</td>\n",
       "      <td>0.0</td>\n",
       "      <td>6.0</td>\n",
       "      <td>12.0</td>\n",
       "      <td>200.0</td>\n",
       "    </tr>\n",
       "    <tr>\n",
       "      <th>2</th>\n",
       "      <td>закусочная</td>\n",
       "      <td>360.0</td>\n",
       "      <td>7.608333</td>\n",
       "      <td>16.650912</td>\n",
       "      <td>0.0</td>\n",
       "      <td>0.0</td>\n",
       "      <td>0.0</td>\n",
       "      <td>10.0</td>\n",
       "      <td>216.0</td>\n",
       "    </tr>\n",
       "    <tr>\n",
       "      <th>5</th>\n",
       "      <td>магазин (отдел кулинарии)</td>\n",
       "      <td>273.0</td>\n",
       "      <td>5.589744</td>\n",
       "      <td>9.872729</td>\n",
       "      <td>0.0</td>\n",
       "      <td>0.0</td>\n",
       "      <td>0.0</td>\n",
       "      <td>8.0</td>\n",
       "      <td>50.0</td>\n",
       "    </tr>\n",
       "  </tbody>\n",
       "</table>\n",
       "</div>"
      ],
      "text/plain": [
       "                         object_type   count        mean        std  min  \\\n",
       "8                           столовая  2587.0  130.246618  95.179313  0.0   \n",
       "7                           ресторан  2285.0   96.834136  94.756542  0.0   \n",
       "1                              буфет   585.0   51.129915  56.331974  0.0   \n",
       "0                                бар   856.0   43.494159  67.082876  0.0   \n",
       "3                               кафе  6099.0   39.716019  37.720947  0.0   \n",
       "6  предприятие быстрого обслуживания  1923.0   20.552262  38.366974  0.0   \n",
       "4                          кафетерий   398.0    9.123116  14.639150  0.0   \n",
       "2                         закусочная   360.0    7.608333  16.650912  0.0   \n",
       "5          магазин (отдел кулинарии)   273.0    5.589744   9.872729  0.0   \n",
       "\n",
       "    25%    50%    75%     max  \n",
       "8  50.0  103.0  200.0  1400.0  \n",
       "7  46.0   80.0  114.0  1500.0  \n",
       "1  14.0   32.0   80.0   320.0  \n",
       "0  20.0   35.0   50.0  1700.0  \n",
       "3  15.0   30.0   50.0   533.0  \n",
       "6   0.0    5.0   25.0   580.0  \n",
       "4   0.0    6.0   12.0   200.0  \n",
       "2   0.0    0.0   10.0   216.0  \n",
       "5   0.0    0.0    8.0    50.0  "
      ]
     },
     "execution_count": 27,
     "metadata": {},
     "output_type": "execute_result"
    }
   ],
   "source": [
    "restaurant.groupby('object_type')['number'].describe().reset_index().sort_values(by='mean', ascending=False)"
   ]
  },
  {
   "cell_type": "markdown",
   "id": "ab1b7479",
   "metadata": {},
   "source": [
    "В среднем больше всего количество мест у обладают столовые. Так же по максимальным значениям можно сказать что в базе существуют недостоверные значения по этому параметру. Необходимо избавится от ывбросов для корректного отоборажения значений."
   ]
  },
  {
   "cell_type": "code",
   "execution_count": 28,
   "id": "9fcfdb4c",
   "metadata": {},
   "outputs": [
    {
     "data": {
      "text/plain": [
       "{'кафе': 100,\n",
       " 'столовая': 289,\n",
       " 'закусочная': 35,\n",
       " 'предприятие быстрого обслуживания': 92,\n",
       " 'ресторан': 250,\n",
       " 'кафетерий': 30,\n",
       " 'буфет': 177,\n",
       " 'бар': 102,\n",
       " 'магазин (отдел кулинарии)': 28}"
      ]
     },
     "execution_count": 28,
     "metadata": {},
     "output_type": "execute_result"
    }
   ],
   "source": [
    "number_dict = {}\n",
    "for a in restaurant['object_type'].unique():\n",
    "    number_dict[a] = int(np.percentile(restaurant[restaurant['object_type']==a]['number'], [95]))\n",
    "number_dict "
   ]
  },
  {
   "cell_type": "code",
   "execution_count": 29,
   "id": "7e57efb8",
   "metadata": {},
   "outputs": [],
   "source": [
    "filtred_number_restauran = restaurant.query('(object_type == \"бар\" and number < 102)\\\n",
    "or (object_type == \"буфет\" and number < 177)\\\n",
    "or (object_type == \"магазин (отдел кулинарии)\" and number < 28)\\\n",
    "or (object_type == \"кафетерий\" and number < 30)\\\n",
    "or (object_type == \"ресторан\" and number < 250)\\\n",
    "or (object_type == \"предприятие быстрого обслуживания\" and number < 92)\\\n",
    "or (object_type == \"закусочная\" and number < 35)\\\n",
    "or (object_type == \"столовая\" and number < 289)\\\n",
    "or (object_type == \"кафэ\" and number < 100)')"
   ]
  },
  {
   "cell_type": "code",
   "execution_count": 30,
   "id": "f3ef7949",
   "metadata": {},
   "outputs": [
    {
     "data": {
      "image/png": "[encoded data removed]",
      "text/plain": [
       "<Figure size 1080x576 with 1 Axes>"
      ]
     },
     "metadata": {},
     "output_type": "display_data"
    }
   ],
   "source": [
    "plt.figure(figsize=(15, 8))\n",
    "my_order = filtred_number_restauran.groupby('object_type')['number'].mean().sort_values().iloc[::-1].index\n",
    "ax = sns.violinplot(data=filtred_number_restauran , x='object_type', y='number', order= my_order)\n",
    "plt.title('Количкство мест в зависимости от вида общественного питания', fontsize=14)\n",
    "plt.ylabel('Количество мест', fontsize=14)\n",
    "plt.xlabel('Тип объекта общественного питания', fontsize=14)\n",
    "ax.set_xticklabels(ax.get_xticklabels(), rotation=45\n",
    "                  , horizontalalignment= 'right', fontsize= 12)\n",
    "plt.show()"
   ]
  },
  {
   "cell_type": "code",
   "execution_count": 31,
   "id": "482db5ed",
   "metadata": {},
   "outputs": [
    {
     "data": {
      "image/png": "[encoded data removed]",
      "text/plain": [
       "<Figure size 1080x576 with 1 Axes>"
      ]
     },
     "metadata": {},
     "output_type": "display_data"
    }
   ],
   "source": [
    "plt.figure(figsize=(15, 8))\n",
    "my_order = filtred_number_restauran.groupby('object_type')['number'].median().sort_values().iloc[::-1].index\n",
    "ax = sns.boxplot(data=filtred_number_restauran , x='object_type', y='number', order= my_order)\n",
    "plt.title('Количество мест в зависимости от вида общественного питания', fontsize=14)\n",
    "plt.ylabel('Количество мест', fontsize=14)\n",
    "plt.xlabel('Тип объекта общественного питания', fontsize=14)\n",
    "ax.set_xticklabels(ax.get_xticklabels(), rotation=45\n",
    "                  , horizontalalignment= 'right', fontsize= 12)\n",
    "plt.show()"
   ]
  },
  {
   "cell_type": "code",
   "execution_count": 32,
   "id": "3fb4a412",
   "metadata": {},
   "outputs": [
    {
     "data": {
      "text/html": [
       "<style  type=\"text/css\" >\n",
       "#T_2e8c2_row0_col2,#T_2e8c2_row0_col6,#T_2e8c2_row0_col8{\n",
       "            background-color:  #6EBF8B;\n",
       "        }#T_2e8c2_row6_col6,#T_2e8c2_row7_col2,#T_2e8c2_row7_col6,#T_2e8c2_row7_col8{\n",
       "            background-color:  #D885A3;\n",
       "        }</style><table id=\"T_2e8c2_\" ><thead>    <tr>        <th class=\"blank level0\" ></th>        <th class=\"col_heading level0 col0\" >object_type</th>        <th class=\"col_heading level0 col1\" >count</th>        <th class=\"col_heading level0 col2\" >mean</th>        <th class=\"col_heading level0 col3\" >std</th>        <th class=\"col_heading level0 col4\" >min</th>        <th class=\"col_heading level0 col5\" >25%</th>        <th class=\"col_heading level0 col6\" >50%</th>        <th class=\"col_heading level0 col7\" >75%</th>        <th class=\"col_heading level0 col8\" >max</th>    </tr></thead><tbody>\n",
       "                <tr>\n",
       "                        <th id=\"T_2e8c2_level0_row0\" class=\"row_heading level0 row0\" >7</th>\n",
       "                        <td id=\"T_2e8c2_row0_col0\" class=\"data row0 col0\" >столовая</td>\n",
       "                        <td id=\"T_2e8c2_row0_col1\" class=\"data row0 col1\" >2457.000000</td>\n",
       "                        <td id=\"T_2e8c2_row0_col2\" class=\"data row0 col2\" >118.770859</td>\n",
       "                        <td id=\"T_2e8c2_row0_col3\" class=\"data row0 col3\" >75.979542</td>\n",
       "                        <td id=\"T_2e8c2_row0_col4\" class=\"data row0 col4\" >0.000000</td>\n",
       "                        <td id=\"T_2e8c2_row0_col5\" class=\"data row0 col5\" >50.000000</td>\n",
       "                        <td id=\"T_2e8c2_row0_col6\" class=\"data row0 col6\" >100.000000</td>\n",
       "                        <td id=\"T_2e8c2_row0_col7\" class=\"data row0 col7\" >185.000000</td>\n",
       "                        <td id=\"T_2e8c2_row0_col8\" class=\"data row0 col8\" >288.000000</td>\n",
       "            </tr>\n",
       "            <tr>\n",
       "                        <th id=\"T_2e8c2_level0_row1\" class=\"row_heading level0 row1\" >6</th>\n",
       "                        <td id=\"T_2e8c2_row1_col0\" class=\"data row1 col0\" >ресторан</td>\n",
       "                        <td id=\"T_2e8c2_row1_col1\" class=\"data row1 col1\" >2166.000000</td>\n",
       "                        <td id=\"T_2e8c2_row1_col2\" class=\"data row1 col2\" >80.935826</td>\n",
       "                        <td id=\"T_2e8c2_row1_col3\" class=\"data row1 col3\" >48.848865</td>\n",
       "                        <td id=\"T_2e8c2_row1_col4\" class=\"data row1 col4\" >0.000000</td>\n",
       "                        <td id=\"T_2e8c2_row1_col5\" class=\"data row1 col5\" >45.000000</td>\n",
       "                        <td id=\"T_2e8c2_row1_col6\" class=\"data row1 col6\" >75.000000</td>\n",
       "                        <td id=\"T_2e8c2_row1_col7\" class=\"data row1 col7\" >100.000000</td>\n",
       "                        <td id=\"T_2e8c2_row1_col8\" class=\"data row1 col8\" >240.000000</td>\n",
       "            </tr>\n",
       "            <tr>\n",
       "                        <th id=\"T_2e8c2_level0_row2\" class=\"row_heading level0 row2\" >0</th>\n",
       "                        <td id=\"T_2e8c2_row2_col0\" class=\"data row2 col0\" >бар</td>\n",
       "                        <td id=\"T_2e8c2_row2_col1\" class=\"data row2 col1\" >812.000000</td>\n",
       "                        <td id=\"T_2e8c2_row2_col2\" class=\"data row2 col2\" >35.709360</td>\n",
       "                        <td id=\"T_2e8c2_row2_col3\" class=\"data row2 col3\" >23.727684</td>\n",
       "                        <td id=\"T_2e8c2_row2_col4\" class=\"data row2 col4\" >0.000000</td>\n",
       "                        <td id=\"T_2e8c2_row2_col5\" class=\"data row2 col5\" >18.750000</td>\n",
       "                        <td id=\"T_2e8c2_row2_col6\" class=\"data row2 col6\" >32.000000</td>\n",
       "                        <td id=\"T_2e8c2_row2_col7\" class=\"data row2 col7\" >49.000000</td>\n",
       "                        <td id=\"T_2e8c2_row2_col8\" class=\"data row2 col8\" >100.000000</td>\n",
       "            </tr>\n",
       "            <tr>\n",
       "                        <th id=\"T_2e8c2_level0_row3\" class=\"row_heading level0 row3\" >1</th>\n",
       "                        <td id=\"T_2e8c2_row3_col0\" class=\"data row3 col0\" >буфет</td>\n",
       "                        <td id=\"T_2e8c2_row3_col1\" class=\"data row3 col1\" >555.000000</td>\n",
       "                        <td id=\"T_2e8c2_row3_col2\" class=\"data row3 col2\" >41.342342</td>\n",
       "                        <td id=\"T_2e8c2_row3_col3\" class=\"data row3 col3\" >37.375134</td>\n",
       "                        <td id=\"T_2e8c2_row3_col4\" class=\"data row3 col4\" >0.000000</td>\n",
       "                        <td id=\"T_2e8c2_row3_col5\" class=\"data row3 col5\" >12.000000</td>\n",
       "                        <td id=\"T_2e8c2_row3_col6\" class=\"data row3 col6\" >30.000000</td>\n",
       "                        <td id=\"T_2e8c2_row3_col7\" class=\"data row3 col7\" >60.000000</td>\n",
       "                        <td id=\"T_2e8c2_row3_col8\" class=\"data row3 col8\" >170.000000</td>\n",
       "            </tr>\n",
       "            <tr>\n",
       "                        <th id=\"T_2e8c2_level0_row4\" class=\"row_heading level0 row4\" >3</th>\n",
       "                        <td id=\"T_2e8c2_row4_col0\" class=\"data row4 col0\" >кафетерий</td>\n",
       "                        <td id=\"T_2e8c2_row4_col1\" class=\"data row4 col1\" >371.000000</td>\n",
       "                        <td id=\"T_2e8c2_row4_col2\" class=\"data row4 col2\" >6.401617</td>\n",
       "                        <td id=\"T_2e8c2_row4_col3\" class=\"data row4 col3\" >6.479731</td>\n",
       "                        <td id=\"T_2e8c2_row4_col4\" class=\"data row4 col4\" >0.000000</td>\n",
       "                        <td id=\"T_2e8c2_row4_col5\" class=\"data row4 col5\" >0.000000</td>\n",
       "                        <td id=\"T_2e8c2_row4_col6\" class=\"data row4 col6\" >5.000000</td>\n",
       "                        <td id=\"T_2e8c2_row4_col7\" class=\"data row4 col7\" >10.000000</td>\n",
       "                        <td id=\"T_2e8c2_row4_col8\" class=\"data row4 col8\" >26.000000</td>\n",
       "            </tr>\n",
       "            <tr>\n",
       "                        <th id=\"T_2e8c2_level0_row5\" class=\"row_heading level0 row5\" >5</th>\n",
       "                        <td id=\"T_2e8c2_row5_col0\" class=\"data row5 col0\" >предприятие быстрого обслуживания</td>\n",
       "                        <td id=\"T_2e8c2_row5_col1\" class=\"data row5 col1\" >1825.000000</td>\n",
       "                        <td id=\"T_2e8c2_row5_col2\" class=\"data row5 col2\" >14.056438</td>\n",
       "                        <td id=\"T_2e8c2_row5_col3\" class=\"data row5 col3\" >20.395395</td>\n",
       "                        <td id=\"T_2e8c2_row5_col4\" class=\"data row5 col4\" >0.000000</td>\n",
       "                        <td id=\"T_2e8c2_row5_col5\" class=\"data row5 col5\" >0.000000</td>\n",
       "                        <td id=\"T_2e8c2_row5_col6\" class=\"data row5 col6\" >4.000000</td>\n",
       "                        <td id=\"T_2e8c2_row5_col7\" class=\"data row5 col7\" >20.000000</td>\n",
       "                        <td id=\"T_2e8c2_row5_col8\" class=\"data row5 col8\" >90.000000</td>\n",
       "            </tr>\n",
       "            <tr>\n",
       "                        <th id=\"T_2e8c2_level0_row6\" class=\"row_heading level0 row6\" >2</th>\n",
       "                        <td id=\"T_2e8c2_row6_col0\" class=\"data row6 col0\" >закусочная</td>\n",
       "                        <td id=\"T_2e8c2_row6_col1\" class=\"data row6 col1\" >339.000000</td>\n",
       "                        <td id=\"T_2e8c2_row6_col2\" class=\"data row6 col2\" >4.696165</td>\n",
       "                        <td id=\"T_2e8c2_row6_col3\" class=\"data row6 col3\" >7.529764</td>\n",
       "                        <td id=\"T_2e8c2_row6_col4\" class=\"data row6 col4\" >0.000000</td>\n",
       "                        <td id=\"T_2e8c2_row6_col5\" class=\"data row6 col5\" >0.000000</td>\n",
       "                        <td id=\"T_2e8c2_row6_col6\" class=\"data row6 col6\" >0.000000</td>\n",
       "                        <td id=\"T_2e8c2_row6_col7\" class=\"data row6 col7\" >8.000000</td>\n",
       "                        <td id=\"T_2e8c2_row6_col8\" class=\"data row6 col8\" >34.000000</td>\n",
       "            </tr>\n",
       "            <tr>\n",
       "                        <th id=\"T_2e8c2_level0_row7\" class=\"row_heading level0 row7\" >4</th>\n",
       "                        <td id=\"T_2e8c2_row7_col0\" class=\"data row7 col0\" >магазин (отдел кулинарии)</td>\n",
       "                        <td id=\"T_2e8c2_row7_col1\" class=\"data row7 col1\" >257.000000</td>\n",
       "                        <td id=\"T_2e8c2_row7_col2\" class=\"data row7 col2\" >3.626459</td>\n",
       "                        <td id=\"T_2e8c2_row7_col3\" class=\"data row7 col3\" >5.826308</td>\n",
       "                        <td id=\"T_2e8c2_row7_col4\" class=\"data row7 col4\" >0.000000</td>\n",
       "                        <td id=\"T_2e8c2_row7_col5\" class=\"data row7 col5\" >0.000000</td>\n",
       "                        <td id=\"T_2e8c2_row7_col6\" class=\"data row7 col6\" >0.000000</td>\n",
       "                        <td id=\"T_2e8c2_row7_col7\" class=\"data row7 col7\" >6.000000</td>\n",
       "                        <td id=\"T_2e8c2_row7_col8\" class=\"data row7 col8\" >25.000000</td>\n",
       "            </tr>\n",
       "    </tbody></table>"
      ],
      "text/plain": [
       "<pandas.io.formats.style.Styler at 0x7f7e628b54c0>"
      ]
     },
     "execution_count": 32,
     "metadata": {},
     "output_type": "execute_result"
    }
   ],
   "source": [
    "subset_columns = ['mean', '50%', 'max']\n",
    "filtred_number_restauran.groupby('object_type')['number'].\\\n",
    "describe().reset_index().sort_values(by='50%', ascending=False).\\\n",
    "style.highlight_max(color='#6EBF8B', subset=subset_columns).highlight_min(color='#D885A3', subset=subset_columns)"
   ]
  },
  {
   "cell_type": "markdown",
   "id": "ffa9b31e",
   "metadata": {},
   "source": [
    "В среднем самое большое количество мест наблюдается в столовых. Далее следуют рестораны  и бары. Буфеты находятся на 4 строчке."
   ]
  },
  {
   "cell_type": "markdown",
   "id": "678f38ea",
   "metadata": {},
   "source": [
    "###  Анализ объектов общественного питания относительно улиц на которых они расположены"
   ]
  },
  {
   "cell_type": "code",
   "execution_count": 33,
   "id": "d587eeb8",
   "metadata": {},
   "outputs": [],
   "source": [
    "# создздание колонки с улицей (используем таблицу с улицами и районом)\n",
    "def street_funct(row):\n",
    "    row_split = row.split(',')\n",
    "    for i in row_split:\n",
    "        i = i.strip()\n",
    "        if i in streets_sets:\n",
    "            return i       \n",
    "    return 'unknown'\n",
    "\n",
    "streets_sets = set(mosgaz_streets['streetname'].unique())\n",
    "restaurant['street'] = restaurant['address'].apply(street_funct)"
   ]
  },
  {
   "cell_type": "code",
   "execution_count": 34,
   "id": "d842ba1a",
   "metadata": {},
   "outputs": [
    {
     "data": {
      "text/html": [
       "<div>\n",
       "<style scoped>\n",
       "    .dataframe tbody tr th:only-of-type {\n",
       "        vertical-align: middle;\n",
       "    }\n",
       "\n",
       "    .dataframe tbody tr th {\n",
       "        vertical-align: top;\n",
       "    }\n",
       "\n",
       "    .dataframe thead th {\n",
       "        text-align: right;\n",
       "    }\n",
       "</style>\n",
       "<table border=\"1\" class=\"dataframe\">\n",
       "  <thead>\n",
       "    <tr style=\"text-align: right;\">\n",
       "      <th></th>\n",
       "      <th>id</th>\n",
       "      <th>object_name</th>\n",
       "      <th>chain</th>\n",
       "      <th>object_type</th>\n",
       "      <th>address</th>\n",
       "      <th>number</th>\n",
       "      <th>street</th>\n",
       "    </tr>\n",
       "  </thead>\n",
       "  <tbody>\n",
       "    <tr>\n",
       "      <th>0</th>\n",
       "      <td>151635</td>\n",
       "      <td>сметана</td>\n",
       "      <td>Не сеть</td>\n",
       "      <td>кафе</td>\n",
       "      <td>город Москва, улица Егора Абакумова, дом 9</td>\n",
       "      <td>48</td>\n",
       "      <td>улица Егора Абакумова</td>\n",
       "    </tr>\n",
       "    <tr>\n",
       "      <th>1</th>\n",
       "      <td>77874</td>\n",
       "      <td>родник</td>\n",
       "      <td>Не сеть</td>\n",
       "      <td>кафе</td>\n",
       "      <td>город Москва, улица Талалихина, дом 2/1, корпус 1</td>\n",
       "      <td>35</td>\n",
       "      <td>улица Талалихина</td>\n",
       "    </tr>\n",
       "    <tr>\n",
       "      <th>2</th>\n",
       "      <td>24309</td>\n",
       "      <td>кафе «академия»</td>\n",
       "      <td>Не сеть</td>\n",
       "      <td>кафе</td>\n",
       "      <td>город Москва, Абельмановская улица, дом 6</td>\n",
       "      <td>95</td>\n",
       "      <td>Абельмановская улица</td>\n",
       "    </tr>\n",
       "    <tr>\n",
       "      <th>3</th>\n",
       "      <td>21894</td>\n",
       "      <td>пиццетория</td>\n",
       "      <td>Сеть</td>\n",
       "      <td>кафе</td>\n",
       "      <td>город Москва, Абрамцевская улица, дом 1</td>\n",
       "      <td>40</td>\n",
       "      <td>Абрамцевская улица</td>\n",
       "    </tr>\n",
       "    <tr>\n",
       "      <th>4</th>\n",
       "      <td>119365</td>\n",
       "      <td>кафе «вишневая метель»</td>\n",
       "      <td>Не сеть</td>\n",
       "      <td>кафе</td>\n",
       "      <td>город Москва, Абрамцевская улица, дом 9, корпус 1</td>\n",
       "      <td>50</td>\n",
       "      <td>Абрамцевская улица</td>\n",
       "    </tr>\n",
       "    <tr>\n",
       "      <th>...</th>\n",
       "      <td>...</td>\n",
       "      <td>...</td>\n",
       "      <td>...</td>\n",
       "      <td>...</td>\n",
       "      <td>...</td>\n",
       "      <td>...</td>\n",
       "      <td>...</td>\n",
       "    </tr>\n",
       "    <tr>\n",
       "      <th>15361</th>\n",
       "      <td>208537</td>\n",
       "      <td>шоколадница</td>\n",
       "      <td>Сеть</td>\n",
       "      <td>кафе</td>\n",
       "      <td>город Москва, 3-й Крутицкий переулок, дом 18</td>\n",
       "      <td>50</td>\n",
       "      <td>3-й Крутицкий переулок</td>\n",
       "    </tr>\n",
       "    <tr>\n",
       "      <th>15362</th>\n",
       "      <td>209264</td>\n",
       "      <td>шоколадница</td>\n",
       "      <td>Сеть</td>\n",
       "      <td>кафе</td>\n",
       "      <td>город Москва, улица Земляной Вал, дом 33</td>\n",
       "      <td>10</td>\n",
       "      <td>улица Земляной Вал</td>\n",
       "    </tr>\n",
       "    <tr>\n",
       "      <th>15363</th>\n",
       "      <td>209186</td>\n",
       "      <td>шоколадница</td>\n",
       "      <td>Сеть</td>\n",
       "      <td>кафе</td>\n",
       "      <td>город Москва, улица Земляной Вал, дом 33</td>\n",
       "      <td>20</td>\n",
       "      <td>улица Земляной Вал</td>\n",
       "    </tr>\n",
       "    <tr>\n",
       "      <th>15364</th>\n",
       "      <td>221900</td>\n",
       "      <td>шоколадница</td>\n",
       "      <td>Сеть</td>\n",
       "      <td>кафе</td>\n",
       "      <td>город Москва, поселение Московский, Киевское ш...</td>\n",
       "      <td>36</td>\n",
       "      <td>Киевское шоссе</td>\n",
       "    </tr>\n",
       "    <tr>\n",
       "      <th>15365</th>\n",
       "      <td>222535</td>\n",
       "      <td>шоколадница</td>\n",
       "      <td>Сеть</td>\n",
       "      <td>кафе</td>\n",
       "      <td>город Москва, Ходынский бульвар, дом 4</td>\n",
       "      <td>10</td>\n",
       "      <td>Ходынский бульвар</td>\n",
       "    </tr>\n",
       "  </tbody>\n",
       "</table>\n",
       "<p>15366 rows × 7 columns</p>\n",
       "</div>"
      ],
      "text/plain": [
       "           id             object_name    chain object_type  \\\n",
       "0      151635                 сметана  Не сеть        кафе   \n",
       "1       77874                  родник  Не сеть        кафе   \n",
       "2       24309         кафе «академия»  Не сеть        кафе   \n",
       "3       21894              пиццетория     Сеть        кафе   \n",
       "4      119365  кафе «вишневая метель»  Не сеть        кафе   \n",
       "...       ...                     ...      ...         ...   \n",
       "15361  208537             шоколадница     Сеть        кафе   \n",
       "15362  209264             шоколадница     Сеть        кафе   \n",
       "15363  209186             шоколадница     Сеть        кафе   \n",
       "15364  221900             шоколадница     Сеть        кафе   \n",
       "15365  222535             шоколадница     Сеть        кафе   \n",
       "\n",
       "                                                 address  number  \\\n",
       "0             город Москва, улица Егора Абакумова, дом 9      48   \n",
       "1      город Москва, улица Талалихина, дом 2/1, корпус 1      35   \n",
       "2              город Москва, Абельмановская улица, дом 6      95   \n",
       "3                город Москва, Абрамцевская улица, дом 1      40   \n",
       "4      город Москва, Абрамцевская улица, дом 9, корпус 1      50   \n",
       "...                                                  ...     ...   \n",
       "15361       город Москва, 3-й Крутицкий переулок, дом 18      50   \n",
       "15362           город Москва, улица Земляной Вал, дом 33      10   \n",
       "15363           город Москва, улица Земляной Вал, дом 33      20   \n",
       "15364  город Москва, поселение Московский, Киевское ш...      36   \n",
       "15365             город Москва, Ходынский бульвар, дом 4      10   \n",
       "\n",
       "                       street  \n",
       "0       улица Егора Абакумова  \n",
       "1            улица Талалихина  \n",
       "2        Абельмановская улица  \n",
       "3          Абрамцевская улица  \n",
       "4          Абрамцевская улица  \n",
       "...                       ...  \n",
       "15361  3-й Крутицкий переулок  \n",
       "15362      улица Земляной Вал  \n",
       "15363      улица Земляной Вал  \n",
       "15364          Киевское шоссе  \n",
       "15365       Ходынский бульвар  \n",
       "\n",
       "[15366 rows x 7 columns]"
      ]
     },
     "execution_count": 34,
     "metadata": {},
     "output_type": "execute_result"
    }
   ],
   "source": [
    "restaurant"
   ]
  },
  {
   "cell_type": "code",
   "execution_count": 35,
   "id": "ec1e51bb",
   "metadata": {},
   "outputs": [
    {
     "name": "stdout",
     "output_type": "stream",
     "text": [
      "Количество улиц названий которых нет в базе мосгаза состовляет 613.\n"
     ]
    }
   ],
   "source": [
    "s = len(restaurant.query('street == \"unknown\"'))\n",
    "print(f\"Количество улиц названий которых нет в базе мосгаза состовляет {s}.\")"
   ]
  },
  {
   "cell_type": "code",
   "execution_count": 36,
   "id": "1357b1f5",
   "metadata": {},
   "outputs": [
    {
     "data": {
      "text/html": [
       "<div>\n",
       "<style scoped>\n",
       "    .dataframe tbody tr th:only-of-type {\n",
       "        vertical-align: middle;\n",
       "    }\n",
       "\n",
       "    .dataframe tbody tr th {\n",
       "        vertical-align: top;\n",
       "    }\n",
       "\n",
       "    .dataframe thead th {\n",
       "        text-align: right;\n",
       "    }\n",
       "</style>\n",
       "<table border=\"1\" class=\"dataframe\">\n",
       "  <thead>\n",
       "    <tr style=\"text-align: right;\">\n",
       "      <th></th>\n",
       "      <th>street</th>\n",
       "      <th>id</th>\n",
       "    </tr>\n",
       "  </thead>\n",
       "  <tbody>\n",
       "    <tr>\n",
       "      <th>0</th>\n",
       "      <td>проспект Мира</td>\n",
       "      <td>204</td>\n",
       "    </tr>\n",
       "    <tr>\n",
       "      <th>1</th>\n",
       "      <td>Профсоюзная улица</td>\n",
       "      <td>183</td>\n",
       "    </tr>\n",
       "    <tr>\n",
       "      <th>2</th>\n",
       "      <td>Ленинградский проспект</td>\n",
       "      <td>173</td>\n",
       "    </tr>\n",
       "    <tr>\n",
       "      <th>3</th>\n",
       "      <td>Пресненская набережная</td>\n",
       "      <td>167</td>\n",
       "    </tr>\n",
       "    <tr>\n",
       "      <th>4</th>\n",
       "      <td>Варшавское шоссе</td>\n",
       "      <td>165</td>\n",
       "    </tr>\n",
       "    <tr>\n",
       "      <th>5</th>\n",
       "      <td>Ленинский проспект</td>\n",
       "      <td>148</td>\n",
       "    </tr>\n",
       "    <tr>\n",
       "      <th>6</th>\n",
       "      <td>проспект Вернадского</td>\n",
       "      <td>132</td>\n",
       "    </tr>\n",
       "    <tr>\n",
       "      <th>7</th>\n",
       "      <td>Кутузовский проспект</td>\n",
       "      <td>114</td>\n",
       "    </tr>\n",
       "    <tr>\n",
       "      <th>8</th>\n",
       "      <td>Каширское шоссе</td>\n",
       "      <td>112</td>\n",
       "    </tr>\n",
       "    <tr>\n",
       "      <th>9</th>\n",
       "      <td>Кировоградская улица</td>\n",
       "      <td>110</td>\n",
       "    </tr>\n",
       "  </tbody>\n",
       "</table>\n",
       "</div>"
      ],
      "text/plain": [
       "                   street   id\n",
       "0           проспект Мира  204\n",
       "1       Профсоюзная улица  183\n",
       "2  Ленинградский проспект  173\n",
       "3  Пресненская набережная  167\n",
       "4        Варшавское шоссе  165\n",
       "5      Ленинский проспект  148\n",
       "6    проспект Вернадского  132\n",
       "7    Кутузовский проспект  114\n",
       "8         Каширское шоссе  112\n",
       "9    Кировоградская улица  110"
      ]
     },
     "execution_count": 36,
     "metadata": {},
     "output_type": "execute_result"
    }
   ],
   "source": [
    "# топ-10 улиц по количеству объектов общественного питания\n",
    "top_streets = restaurant.query('(street != \"unknown\") and (street != \"город Зеленоград\")').groupby('street').agg({'id':'count'}).sort_values(by='id', ascending=False).reset_index().head(10)\n",
    "top_streets"
   ]
  },
  {
   "cell_type": "code",
   "execution_count": 37,
   "id": "51aa5cb0",
   "metadata": {},
   "outputs": [
    {
     "data": {
      "image/png": "[encoded data removed]",
      "text/plain": [
       "<Figure size 1080x576 with 1 Axes>"
      ]
     },
     "metadata": {},
     "output_type": "display_data"
    }
   ],
   "source": [
    "plt.figure(figsize=(15, 8))\n",
    "ax= sns.barplot(x='street',\n",
    "                y= 'id',\n",
    "                data= top_streets)\n",
    "#for container in ax.containers:\n",
    "#    ax.bar_label(container, padding=1, fontsize=14)\n",
    "plt.title('Топ-10 улиц по количеству объектов общественного питания', fontsize=14)\n",
    "plt.xlabel('Улица', fontsize=14)\n",
    "plt.ylabel('Количество заведений', fontsize=14)\n",
    "ax.set_yticklabels(ax.get_yticks(), size = 12)\n",
    "ax.set_xticklabels(ax.get_xticklabels(), rotation=45\n",
    "                  , horizontalalignment= 'right', fontsize= 12)\n",
    "plt.show()"
   ]
  },
  {
   "cell_type": "code",
   "execution_count": 38,
   "id": "cc49a1cd",
   "metadata": {},
   "outputs": [
    {
     "data": {
      "text/html": [
       "<div>\n",
       "<style scoped>\n",
       "    .dataframe tbody tr th:only-of-type {\n",
       "        vertical-align: middle;\n",
       "    }\n",
       "\n",
       "    .dataframe tbody tr th {\n",
       "        vertical-align: top;\n",
       "    }\n",
       "\n",
       "    .dataframe thead th {\n",
       "        text-align: right;\n",
       "    }\n",
       "</style>\n",
       "<table border=\"1\" class=\"dataframe\">\n",
       "  <thead>\n",
       "    <tr style=\"text-align: right;\">\n",
       "      <th></th>\n",
       "      <th>street</th>\n",
       "      <th>areaid</th>\n",
       "      <th>okrug</th>\n",
       "      <th>area</th>\n",
       "      <th>object_amount</th>\n",
       "    </tr>\n",
       "  </thead>\n",
       "  <tbody>\n",
       "    <tr>\n",
       "      <th>9</th>\n",
       "      <td>проспект Мира</td>\n",
       "      <td>70</td>\n",
       "      <td>СВАО</td>\n",
       "      <td>Алексеевский район ,Ярославский Район ,Район Марьина роща ,Останкинский район ,Район Ростокино ,Район Свиблово ,Мещанский район</td>\n",
       "      <td>204</td>\n",
       "    </tr>\n",
       "    <tr>\n",
       "      <th>7</th>\n",
       "      <td>Профсоюзная улица</td>\n",
       "      <td>123</td>\n",
       "      <td>ЮЗАО</td>\n",
       "      <td>Академический район ,Район Черемушки ,Район Ясенево ,Район Коньково ,Обручевский район ,Район Теплый Стан</td>\n",
       "      <td>183</td>\n",
       "    </tr>\n",
       "    <tr>\n",
       "      <th>4</th>\n",
       "      <td>Ленинградский проспект</td>\n",
       "      <td>54</td>\n",
       "      <td>САО</td>\n",
       "      <td>Район Аэропорт ,Район Беговой ,Хорошевский район ,Район Сокол</td>\n",
       "      <td>173</td>\n",
       "    </tr>\n",
       "    <tr>\n",
       "      <th>6</th>\n",
       "      <td>Пресненская набережная</td>\n",
       "      <td>17</td>\n",
       "      <td>ЦАО</td>\n",
       "      <td>Пресненский район</td>\n",
       "      <td>167</td>\n",
       "    </tr>\n",
       "    <tr>\n",
       "      <th>0</th>\n",
       "      <td>Варшавское шоссе</td>\n",
       "      <td>109</td>\n",
       "      <td>ЮАО</td>\n",
       "      <td>Район Чертаново Центральное ,Район Чертаново Северное ,Район Чертаново Южное ,Донской район ,Район Нагатино-Садовники ,Нагорный район ,Район Северное Бутово ,Район Южное Бутово</td>\n",
       "      <td>165</td>\n",
       "    </tr>\n",
       "    <tr>\n",
       "      <th>5</th>\n",
       "      <td>Ленинский проспект</td>\n",
       "      <td>44</td>\n",
       "      <td>ЗАО</td>\n",
       "      <td>Район Проспект Вернадского ,Район Тропарево-Никулино ,Донской район ,Район Гагаринский ,Ломоносовский район ,Обручевский район ,Район Теплый Стан ,Район Якиманка</td>\n",
       "      <td>148</td>\n",
       "    </tr>\n",
       "    <tr>\n",
       "      <th>8</th>\n",
       "      <td>проспект Вернадского</td>\n",
       "      <td>44</td>\n",
       "      <td>ЗАО</td>\n",
       "      <td>Район Проспект Вернадского ,Район Раменки ,Район Тропарево-Никулино ,Район Гагаринский ,Ломоносовский район</td>\n",
       "      <td>132</td>\n",
       "    </tr>\n",
       "    <tr>\n",
       "      <th>3</th>\n",
       "      <td>Кутузовский проспект</td>\n",
       "      <td>38</td>\n",
       "      <td>ЗАО</td>\n",
       "      <td>Район Дорогомилово ,Район Фили-Давыдково</td>\n",
       "      <td>114</td>\n",
       "    </tr>\n",
       "    <tr>\n",
       "      <th>1</th>\n",
       "      <td>Каширское шоссе</td>\n",
       "      <td>101</td>\n",
       "      <td>ЮАО</td>\n",
       "      <td>Район Москворечье-Сабурово ,Район Нагатино-Садовники ,Район Орехово-Борисово Южное ,Район Орехово-Борисово Северное</td>\n",
       "      <td>112</td>\n",
       "    </tr>\n",
       "    <tr>\n",
       "      <th>2</th>\n",
       "      <td>Кировоградская улица</td>\n",
       "      <td>109</td>\n",
       "      <td>ЮАО</td>\n",
       "      <td>Район Чертаново Центральное ,Район Чертаново Северное ,Район Чертаново Южное</td>\n",
       "      <td>110</td>\n",
       "    </tr>\n",
       "  </tbody>\n",
       "</table>\n",
       "</div>"
      ],
      "text/plain": [
       "                   street  areaid okrug  \\\n",
       "9           проспект Мира      70  СВАО   \n",
       "7       Профсоюзная улица     123  ЮЗАО   \n",
       "4  Ленинградский проспект      54   САО   \n",
       "6  Пресненская набережная      17   ЦАО   \n",
       "0        Варшавское шоссе     109   ЮАО   \n",
       "5      Ленинский проспект      44   ЗАО   \n",
       "8    проспект Вернадского      44   ЗАО   \n",
       "3    Кутузовский проспект      38   ЗАО   \n",
       "1         Каширское шоссе     101   ЮАО   \n",
       "2    Кировоградская улица     109   ЮАО   \n",
       "\n",
       "                                                                                                                                                                               area  \\\n",
       "9                                                   Алексеевский район ,Ярославский Район ,Район Марьина роща ,Останкинский район ,Район Ростокино ,Район Свиблово ,Мещанский район   \n",
       "7                                                                         Академический район ,Район Черемушки ,Район Ясенево ,Район Коньково ,Обручевский район ,Район Теплый Стан   \n",
       "4                                                                                                                     Район Аэропорт ,Район Беговой ,Хорошевский район ,Район Сокол   \n",
       "6                                                                                                                                                                 Пресненский район   \n",
       "0  Район Чертаново Центральное ,Район Чертаново Северное ,Район Чертаново Южное ,Донской район ,Район Нагатино-Садовники ,Нагорный район ,Район Северное Бутово ,Район Южное Бутово   \n",
       "5                 Район Проспект Вернадского ,Район Тропарево-Никулино ,Донской район ,Район Гагаринский ,Ломоносовский район ,Обручевский район ,Район Теплый Стан ,Район Якиманка   \n",
       "8                                                                       Район Проспект Вернадского ,Район Раменки ,Район Тропарево-Никулино ,Район Гагаринский ,Ломоносовский район   \n",
       "3                                                                                                                                          Район Дорогомилово ,Район Фили-Давыдково   \n",
       "1                                                               Район Москворечье-Сабурово ,Район Нагатино-Садовники ,Район Орехово-Борисово Южное ,Район Орехово-Борисово Северное   \n",
       "2                                                                                                      Район Чертаново Центральное ,Район Чертаново Северное ,Район Чертаново Южное   \n",
       "\n",
       "   object_amount  \n",
       "9            204  \n",
       "7            183  \n",
       "4            173  \n",
       "6            167  \n",
       "0            165  \n",
       "5            148  \n",
       "8            132  \n",
       "3            114  \n",
       "1            112  \n",
       "2            110  "
      ]
     },
     "metadata": {},
     "output_type": "display_data"
    }
   ],
   "source": [
    "top_streets = top_streets.merge(mosgaz_streets, how='left', left_on='street', right_on='streetname')\n",
    "top_streets = top_streets.drop(columns='streetname')\n",
    "top_area = top_streets.groupby('street').agg({'areaid': 'first', 'okrug': 'first', 'area': ' ,'.join, 'id': 'first'}).rename(columns={'id': 'object_amount'})\n",
    "pd.set_option(\"display.max_colwidth\", None)\n",
    "display(top_area.reset_index().sort_values(by='object_amount', ascending= False))"
   ]
  },
  {
   "cell_type": "markdown",
   "id": "57a768b8",
   "metadata": {},
   "source": [
    "Больше всего объектов общественного питания представлено на проспекте мира который относится сразу к 7 района города Москвы. Далее по количеству следуеет Профсоюзная которая относится срязу к 6 районам."
   ]
  },
  {
   "cell_type": "markdown",
   "id": "60fabaad",
   "metadata": {},
   "source": [
    "### Анализ улиц с одним объектом общественного питания"
   ]
  },
  {
   "cell_type": "code",
   "execution_count": 39,
   "id": "a9e8dae0",
   "metadata": {},
   "outputs": [
    {
     "name": "stdout",
     "output_type": "stream",
     "text": [
      "Общее количество улиц на которых находится только один объект общественного питания состовляет 518.\n"
     ]
    }
   ],
   "source": [
    "# количество улиц на которых находится только один объект общественного питания\n",
    "one_street = restaurant.query('(street != \"unknown\") and (street != \"город Зеленоград\")').groupby('street').agg({'id':'count', }).sort_values(by='id', ascending=False).reset_index()\n",
    "one_street = one_street.query('id == 1')\n",
    "print(f\"Общее количество улиц на которых находится только один объект общественного питания состовляет {len(one_street)}.\")"
   ]
  },
  {
   "cell_type": "code",
   "execution_count": 40,
   "id": "29639cab",
   "metadata": {},
   "outputs": [
    {
     "data": {
      "text/html": [
       "<div>\n",
       "<style scoped>\n",
       "    .dataframe tbody tr th:only-of-type {\n",
       "        vertical-align: middle;\n",
       "    }\n",
       "\n",
       "    .dataframe tbody tr th {\n",
       "        vertical-align: top;\n",
       "    }\n",
       "\n",
       "    .dataframe thead th {\n",
       "        text-align: right;\n",
       "    }\n",
       "</style>\n",
       "<table border=\"1\" class=\"dataframe\">\n",
       "  <thead>\n",
       "    <tr style=\"text-align: right;\">\n",
       "      <th></th>\n",
       "      <th>areaid</th>\n",
       "      <th>okrug</th>\n",
       "      <th>area</th>\n",
       "    </tr>\n",
       "    <tr>\n",
       "      <th>street</th>\n",
       "      <th></th>\n",
       "      <th></th>\n",
       "      <th></th>\n",
       "    </tr>\n",
       "  </thead>\n",
       "  <tbody>\n",
       "    <tr>\n",
       "      <th>1-й Балтийский переулок</th>\n",
       "      <td>54</td>\n",
       "      <td>САО</td>\n",
       "      <td>Район Аэропорт</td>\n",
       "    </tr>\n",
       "    <tr>\n",
       "      <th>1-й Басманный переулок</th>\n",
       "      <td>13</td>\n",
       "      <td>ЦАО</td>\n",
       "      <td>Басманный район</td>\n",
       "    </tr>\n",
       "    <tr>\n",
       "      <th>1-й Ботанический проезд</th>\n",
       "      <td>82</td>\n",
       "      <td>СВАО</td>\n",
       "      <td>Район Свиблово</td>\n",
       "    </tr>\n",
       "    <tr>\n",
       "      <th>1-й Вешняковский проезд</th>\n",
       "      <td>120</td>\n",
       "      <td>ЮВАО</td>\n",
       "      <td>Рязанский район</td>\n",
       "    </tr>\n",
       "    <tr>\n",
       "      <th>1-й Голутвинский переулок</th>\n",
       "      <td>21</td>\n",
       "      <td>ЦАО</td>\n",
       "      <td>Район Якиманка</td>\n",
       "    </tr>\n",
       "    <tr>\n",
       "      <th>...</th>\n",
       "      <td>...</td>\n",
       "      <td>...</td>\n",
       "      <td>...</td>\n",
       "    </tr>\n",
       "    <tr>\n",
       "      <th>улица Шеногина</th>\n",
       "      <td>92</td>\n",
       "      <td>СЗАО</td>\n",
       "      <td>Район Хорошево-Мневники</td>\n",
       "    </tr>\n",
       "    <tr>\n",
       "      <th>улица Шумилова</th>\n",
       "      <td>113</td>\n",
       "      <td>ЮВАО</td>\n",
       "      <td>Район Кузьминки</td>\n",
       "    </tr>\n",
       "    <tr>\n",
       "      <th>улица Шумкина</th>\n",
       "      <td>26</td>\n",
       "      <td>ВАО</td>\n",
       "      <td>Район Сокольники</td>\n",
       "    </tr>\n",
       "    <tr>\n",
       "      <th>улица Щорса</th>\n",
       "      <td>46</td>\n",
       "      <td>ЗАО</td>\n",
       "      <td>Район Солнцево</td>\n",
       "    </tr>\n",
       "    <tr>\n",
       "      <th>шоссе Фрезер</th>\n",
       "      <td>117</td>\n",
       "      <td>ЮВАО</td>\n",
       "      <td>Нижегородский район</td>\n",
       "    </tr>\n",
       "  </tbody>\n",
       "</table>\n",
       "<p>518 rows × 3 columns</p>\n",
       "</div>"
      ],
      "text/plain": [
       "                           areaid okrug                     area\n",
       "street                                                          \n",
       "1-й Балтийский переулок        54   САО           Район Аэропорт\n",
       "1-й Басманный переулок         13   ЦАО          Басманный район\n",
       "1-й Ботанический проезд        82  СВАО           Район Свиблово\n",
       "1-й Вешняковский проезд       120  ЮВАО          Рязанский район\n",
       "1-й Голутвинский переулок      21   ЦАО           Район Якиманка\n",
       "...                           ...   ...                      ...\n",
       "улица Шеногина                 92  СЗАО  Район Хорошево-Мневники\n",
       "улица Шумилова                113  ЮВАО          Район Кузьминки\n",
       "улица Шумкина                  26   ВАО         Район Сокольники\n",
       "улица Щорса                    46   ЗАО           Район Солнцево\n",
       "шоссе Фрезер                  117  ЮВАО      Нижегородский район\n",
       "\n",
       "[518 rows x 3 columns]"
      ]
     },
     "execution_count": 40,
     "metadata": {},
     "output_type": "execute_result"
    }
   ],
   "source": [
    "one_street = one_street.merge(mosgaz_streets, how='left', left_on='street', right_on='streetname')\n",
    "one_street = one_street.drop(columns='streetname')\n",
    "one_street = one_street.groupby('street').agg({'areaid': 'first', 'okrug': 'first', 'area': 'first'})\n",
    "one_street"
   ]
  },
  {
   "cell_type": "code",
   "execution_count": 41,
   "id": "8001b9e7",
   "metadata": {
    "scrolled": true
   },
   "outputs": [
    {
     "data": {
      "text/plain": [
       "array(['Район Аэропорт', 'Басманный район', 'Район Свиблово',\n",
       "       'Рязанский район', 'Район Якиманка', 'Район Хамовники',\n",
       "       'Район Соколиная Гора', 'Даниловский район',\n",
       "       'Красносельский район', 'Таганский район', 'Район Лефортово',\n",
       "       'Район Печатники', 'Район Сокольники', 'Район Замоскворечье',\n",
       "       'Хорошевский район', 'Район Арбат', 'Алексеевский район',\n",
       "       'Район Текстильщики', 'Район Ростокино', 'Район Раменки',\n",
       "       'Район Хорошево-Мневники', 'Район Покровское-Стрешнево',\n",
       "       'Район Марьина роща', 'Район Богородское', 'Нижегородский район',\n",
       "       'Тверской район', 'Лосиноостровский район', 'Район Преображенское',\n",
       "       'Район Ново-Переделкино', 'Район Измайлово',\n",
       "       'Район Восточное Измайлово', 'Район Беговой', 'Донской район',\n",
       "       'Район Гольяново', 'Войковский Район', 'Савеловский район',\n",
       "       'Район Филевский Парк', 'Район Перово', 'Район Чертаново Южное',\n",
       "       'Южнопортовый Район', 'Головинский район', 'Район Южное Бутово',\n",
       "       'Останкинский район', 'Район Северный', 'Район Кунцево',\n",
       "       'Район Люблино', 'Тимирязевский Район', 'Район Внуково',\n",
       "       'Мещанский район', 'Бескудниковский Район', 'Район Зюзино',\n",
       "       'Пресненский район', 'Район Солнцево', 'Дмитровский район',\n",
       "       'Район Метрогородок', 'Район Митино', 'Можайский Район',\n",
       "       'Район Кузьминки', 'Район Черемушки', 'Район Косино-Ухтомский',\n",
       "       'Район Коптево', 'Район Куркино', 'Ярославский Район',\n",
       "       'Район Бирюлево Восточное', 'Район Гагаринский', 'Район Котловка',\n",
       "       'Район Южное Тушино', 'Район Строгино', 'Район Отрадное',\n",
       "       'Бабушкинский район', 'Район Сокол', 'Район Дорогомилово',\n",
       "       'Район Марьино', 'Район Левобережный', 'Район Очаково-Матвеевское',\n",
       "       'Район Ивановское', 'Район Западное Дегунино',\n",
       "       'Район Северное Медведково', 'Нагорный район',\n",
       "       'Район Выхино-Жулебино', 'Район Матушкино-Савелки',\n",
       "       'Район Новогиреево', 'Алтуфьевский район',\n",
       "       'Район Чертаново Северное', 'Район Ясенево',\n",
       "       'Район Северное Бутово', 'Район Южное Медведково',\n",
       "       'Район Северное Измайлово', 'Район Восточный', 'Район Коньково',\n",
       "       'Район Марфино', 'Район Щукино', 'Бутырский район',\n",
       "       'Район Лианозово', 'Район Фили-Давыдково',\n",
       "       'Район Москворечье-Сабурово', 'Район Царицыно'], dtype=object)"
      ]
     },
     "execution_count": 41,
     "metadata": {},
     "output_type": "execute_result"
    }
   ],
   "source": [
    "# районы с улицами на которых не более одного объекта общественного питания\n",
    "one_street['area'].unique()"
   ]
  },
  {
   "cell_type": "code",
   "execution_count": 42,
   "id": "828e20f8",
   "metadata": {},
   "outputs": [
    {
     "name": "stdout",
     "output_type": "stream",
     "text": [
      "Общее количество районов с улицами на которых находится только один объект общественного питания состовляет 97.\n"
     ]
    }
   ],
   "source": [
    "print(f\"Общее количество районов с улицами на которых находится только один объект общественного питания состовляет {len(one_street['area'].unique())}.\")"
   ]
  },
  {
   "cell_type": "markdown",
   "id": "61fc6434",
   "metadata": {},
   "source": [
    "### Анализ  распределение количества посадочных мест для улиц с большим количеством объектов общественного питания"
   ]
  },
  {
   "cell_type": "code",
   "execution_count": 43,
   "id": "832ccbc7",
   "metadata": {},
   "outputs": [],
   "source": [
    "# отфильтруем от выбросов по местам\n",
    "filtred_number_restauran = restaurant.query('(object_type == \"бар\" and number < 102)\\\n",
    "or (object_type == \"буфет\" and number < 177)\\\n",
    "or (object_type == \"магазин (отдел кулинарии)\" and number < 28)\\\n",
    "or (object_type == \"кафетерий\" and number < 30)\\\n",
    "or (object_type == \"ресторан\" and number < 250)\\\n",
    "or (object_type == \"предприятие быстрого обслуживания\" and number < 92)\\\n",
    "or (object_type == \"закусочная\" and number < 35)\\\n",
    "or (object_type == \"столовая\" and number < 289)\\\n",
    "or (object_type == \"кафэ\" and number < 100)')"
   ]
  },
  {
   "cell_type": "code",
   "execution_count": 44,
   "id": "9bfb985f",
   "metadata": {},
   "outputs": [],
   "source": [
    "number_top_streets = filtred_number_restauran[filtred_number_restauran['street'].isin(top_streets.street)]"
   ]
  },
  {
   "cell_type": "code",
   "execution_count": 45,
   "id": "481aa1d8",
   "metadata": {},
   "outputs": [
    {
     "data": {
      "image/png": "[encoded data removed]",
      "text/plain": [
       "<Figure size 1080x576 with 1 Axes>"
      ]
     },
     "metadata": {},
     "output_type": "display_data"
    }
   ],
   "source": [
    "plt.figure(figsize=(15, 8))\n",
    "ax = sns.stripplot(x=\"street\", y=\"number\", data=number_top_streets )\n",
    "plt.title('Распределение количества посадочных мест для улиц с большим количеством объектов общественного питания', fontsize=14)\n",
    "plt.ylabel('Количество мест', fontsize=14)\n",
    "plt.xlabel('Улица', fontsize=14)\n",
    "ax.set_xticklabels(ax.get_xticklabels(), rotation=75\n",
    "                  , horizontalalignment= 'right', fontsize= 12)\n",
    "plt.show()"
   ]
  },
  {
   "cell_type": "code",
   "execution_count": 46,
   "id": "d3946ac7",
   "metadata": {},
   "outputs": [
    {
     "data": {
      "image/png": "[encoded data removed]",
      "text/plain": [
       "<Figure size 1080x576 with 1 Axes>"
      ]
     },
     "metadata": {},
     "output_type": "display_data"
    }
   ],
   "source": [
    "plt.figure(figsize=(15, 8))\n",
    "my_order = number_top_streets.groupby('street')['number'].median().sort_values().iloc[::-1].index\n",
    "ax = sns.boxplot(x=\"street\", y=\"number\", data=number_top_streets, order= my_order)\n",
    "plt.title('Распределение количества посадочных мест для улиц с большим количеством объектов общественного питания', fontsize=14)\n",
    "plt.ylabel('Количество мест', fontsize=14)\n",
    "plt.xlabel('Улица', fontsize=14)\n",
    "ax.set_xticklabels(ax.get_xticklabels(), rotation=45\n",
    "                  , horizontalalignment= 'right', fontsize= 12)\n",
    "plt.show()"
   ]
  },
  {
   "cell_type": "code",
   "execution_count": 47,
   "id": "35c025f0",
   "metadata": {},
   "outputs": [
    {
     "data": {
      "text/html": [
       "<style  type=\"text/css\" >\n",
       "#T_e20f2_row0_col2,#T_e20f2_row0_col6,#T_e20f2_row7_col8{\n",
       "            background-color:  #6EBF8B;\n",
       "        }#T_e20f2_row5_col2,#T_e20f2_row5_col8,#T_e20f2_row9_col6{\n",
       "            background-color:  #D885A3;\n",
       "        }</style><table id=\"T_e20f2_\" ><thead>    <tr>        <th class=\"blank level0\" ></th>        <th class=\"col_heading level0 col0\" >street</th>        <th class=\"col_heading level0 col1\" >count</th>        <th class=\"col_heading level0 col2\" >mean</th>        <th class=\"col_heading level0 col3\" >std</th>        <th class=\"col_heading level0 col4\" >min</th>        <th class=\"col_heading level0 col5\" >25%</th>        <th class=\"col_heading level0 col6\" >50%</th>        <th class=\"col_heading level0 col7\" >75%</th>        <th class=\"col_heading level0 col8\" >max</th>    </tr></thead><tbody>\n",
       "                <tr>\n",
       "                        <th id=\"T_e20f2_level0_row0\" class=\"row_heading level0 row0\" >3</th>\n",
       "                        <td id=\"T_e20f2_row0_col0\" class=\"data row0 col0\" >Кутузовский проспект</td>\n",
       "                        <td id=\"T_e20f2_row0_col1\" class=\"data row0 col1\" >70.000000</td>\n",
       "                        <td id=\"T_e20f2_row0_col2\" class=\"data row0 col2\" >75.657143</td>\n",
       "                        <td id=\"T_e20f2_row0_col3\" class=\"data row0 col3\" >55.614065</td>\n",
       "                        <td id=\"T_e20f2_row0_col4\" class=\"data row0 col4\" >0.000000</td>\n",
       "                        <td id=\"T_e20f2_row0_col5\" class=\"data row0 col5\" >30.500000</td>\n",
       "                        <td id=\"T_e20f2_row0_col6\" class=\"data row0 col6\" >69.000000</td>\n",
       "                        <td id=\"T_e20f2_row0_col7\" class=\"data row0 col7\" >100.000000</td>\n",
       "                        <td id=\"T_e20f2_row0_col8\" class=\"data row0 col8\" >200.000000</td>\n",
       "            </tr>\n",
       "            <tr>\n",
       "                        <th id=\"T_e20f2_level0_row1\" class=\"row_heading level0 row1\" >5</th>\n",
       "                        <td id=\"T_e20f2_row1_col0\" class=\"data row1 col0\" >Ленинский проспект</td>\n",
       "                        <td id=\"T_e20f2_row1_col1\" class=\"data row1 col1\" >78.000000</td>\n",
       "                        <td id=\"T_e20f2_row1_col2\" class=\"data row1 col2\" >66.435897</td>\n",
       "                        <td id=\"T_e20f2_row1_col3\" class=\"data row1 col3\" >51.649566</td>\n",
       "                        <td id=\"T_e20f2_row1_col4\" class=\"data row1 col4\" >0.000000</td>\n",
       "                        <td id=\"T_e20f2_row1_col5\" class=\"data row1 col5\" >22.500000</td>\n",
       "                        <td id=\"T_e20f2_row1_col6\" class=\"data row1 col6\" >60.000000</td>\n",
       "                        <td id=\"T_e20f2_row1_col7\" class=\"data row1 col7\" >90.000000</td>\n",
       "                        <td id=\"T_e20f2_row1_col8\" class=\"data row1 col8\" >220.000000</td>\n",
       "            </tr>\n",
       "            <tr>\n",
       "                        <th id=\"T_e20f2_level0_row2\" class=\"row_heading level0 row2\" >8</th>\n",
       "                        <td id=\"T_e20f2_row2_col0\" class=\"data row2 col0\" >проспект Вернадского</td>\n",
       "                        <td id=\"T_e20f2_row2_col1\" class=\"data row2 col1\" >71.000000</td>\n",
       "                        <td id=\"T_e20f2_row2_col2\" class=\"data row2 col2\" >65.577465</td>\n",
       "                        <td id=\"T_e20f2_row2_col3\" class=\"data row2 col3\" >60.095320</td>\n",
       "                        <td id=\"T_e20f2_row2_col4\" class=\"data row2 col4\" >0.000000</td>\n",
       "                        <td id=\"T_e20f2_row2_col5\" class=\"data row2 col5\" >20.000000</td>\n",
       "                        <td id=\"T_e20f2_row2_col6\" class=\"data row2 col6\" >49.000000</td>\n",
       "                        <td id=\"T_e20f2_row2_col7\" class=\"data row2 col7\" >90.000000</td>\n",
       "                        <td id=\"T_e20f2_row2_col8\" class=\"data row2 col8\" >240.000000</td>\n",
       "            </tr>\n",
       "            <tr>\n",
       "                        <th id=\"T_e20f2_level0_row3\" class=\"row_heading level0 row3\" >4</th>\n",
       "                        <td id=\"T_e20f2_row3_col0\" class=\"data row3 col0\" >Ленинградский проспект</td>\n",
       "                        <td id=\"T_e20f2_row3_col1\" class=\"data row3 col1\" >96.000000</td>\n",
       "                        <td id=\"T_e20f2_row3_col2\" class=\"data row3 col2\" >53.322917</td>\n",
       "                        <td id=\"T_e20f2_row3_col3\" class=\"data row3 col3\" >46.389993</td>\n",
       "                        <td id=\"T_e20f2_row3_col4\" class=\"data row3 col4\" >0.000000</td>\n",
       "                        <td id=\"T_e20f2_row3_col5\" class=\"data row3 col5\" >18.750000</td>\n",
       "                        <td id=\"T_e20f2_row3_col6\" class=\"data row3 col6\" >44.500000</td>\n",
       "                        <td id=\"T_e20f2_row3_col7\" class=\"data row3 col7\" >81.250000</td>\n",
       "                        <td id=\"T_e20f2_row3_col8\" class=\"data row3 col8\" >232.000000</td>\n",
       "            </tr>\n",
       "            <tr>\n",
       "                        <th id=\"T_e20f2_level0_row4\" class=\"row_heading level0 row4\" >9</th>\n",
       "                        <td id=\"T_e20f2_row4_col0\" class=\"data row4 col0\" >проспект Мира</td>\n",
       "                        <td id=\"T_e20f2_row4_col1\" class=\"data row4 col1\" >91.000000</td>\n",
       "                        <td id=\"T_e20f2_row4_col2\" class=\"data row4 col2\" >54.274725</td>\n",
       "                        <td id=\"T_e20f2_row4_col3\" class=\"data row4 col3\" >54.990518</td>\n",
       "                        <td id=\"T_e20f2_row4_col4\" class=\"data row4 col4\" >0.000000</td>\n",
       "                        <td id=\"T_e20f2_row4_col5\" class=\"data row4 col5\" >15.000000</td>\n",
       "                        <td id=\"T_e20f2_row4_col6\" class=\"data row4 col6\" >37.000000</td>\n",
       "                        <td id=\"T_e20f2_row4_col7\" class=\"data row4 col7\" >82.000000</td>\n",
       "                        <td id=\"T_e20f2_row4_col8\" class=\"data row4 col8\" >225.000000</td>\n",
       "            </tr>\n",
       "            <tr>\n",
       "                        <th id=\"T_e20f2_level0_row5\" class=\"row_heading level0 row5\" >6</th>\n",
       "                        <td id=\"T_e20f2_row5_col0\" class=\"data row5 col0\" >Пресненская набережная</td>\n",
       "                        <td id=\"T_e20f2_row5_col1\" class=\"data row5 col1\" >63.000000</td>\n",
       "                        <td id=\"T_e20f2_row5_col2\" class=\"data row5 col2\" >37.015873</td>\n",
       "                        <td id=\"T_e20f2_row5_col3\" class=\"data row5 col3\" >38.663767</td>\n",
       "                        <td id=\"T_e20f2_row5_col4\" class=\"data row5 col4\" >0.000000</td>\n",
       "                        <td id=\"T_e20f2_row5_col5\" class=\"data row5 col5\" >4.000000</td>\n",
       "                        <td id=\"T_e20f2_row5_col6\" class=\"data row5 col6\" >30.000000</td>\n",
       "                        <td id=\"T_e20f2_row5_col7\" class=\"data row5 col7\" >50.000000</td>\n",
       "                        <td id=\"T_e20f2_row5_col8\" class=\"data row5 col8\" >150.000000</td>\n",
       "            </tr>\n",
       "            <tr>\n",
       "                        <th id=\"T_e20f2_level0_row6\" class=\"row_heading level0 row6\" >2</th>\n",
       "                        <td id=\"T_e20f2_row6_col0\" class=\"data row6 col0\" >Кировоградская улица</td>\n",
       "                        <td id=\"T_e20f2_row6_col1\" class=\"data row6 col1\" >86.000000</td>\n",
       "                        <td id=\"T_e20f2_row6_col2\" class=\"data row6 col2\" >49.313953</td>\n",
       "                        <td id=\"T_e20f2_row6_col3\" class=\"data row6 col3\" >67.269478</td>\n",
       "                        <td id=\"T_e20f2_row6_col4\" class=\"data row6 col4\" >0.000000</td>\n",
       "                        <td id=\"T_e20f2_row6_col5\" class=\"data row6 col5\" >0.000000</td>\n",
       "                        <td id=\"T_e20f2_row6_col6\" class=\"data row6 col6\" >24.000000</td>\n",
       "                        <td id=\"T_e20f2_row6_col7\" class=\"data row6 col7\" >60.000000</td>\n",
       "                        <td id=\"T_e20f2_row6_col8\" class=\"data row6 col8\" >250.000000</td>\n",
       "            </tr>\n",
       "            <tr>\n",
       "                        <th id=\"T_e20f2_level0_row7\" class=\"row_heading level0 row7\" >1</th>\n",
       "                        <td id=\"T_e20f2_row7_col0\" class=\"data row7 col0\" >Каширское шоссе</td>\n",
       "                        <td id=\"T_e20f2_row7_col1\" class=\"data row7 col1\" >77.000000</td>\n",
       "                        <td id=\"T_e20f2_row7_col2\" class=\"data row7 col2\" >45.402597</td>\n",
       "                        <td id=\"T_e20f2_row7_col3\" class=\"data row7 col3\" >59.332307</td>\n",
       "                        <td id=\"T_e20f2_row7_col4\" class=\"data row7 col4\" >0.000000</td>\n",
       "                        <td id=\"T_e20f2_row7_col5\" class=\"data row7 col5\" >4.000000</td>\n",
       "                        <td id=\"T_e20f2_row7_col6\" class=\"data row7 col6\" >21.000000</td>\n",
       "                        <td id=\"T_e20f2_row7_col7\" class=\"data row7 col7\" >80.000000</td>\n",
       "                        <td id=\"T_e20f2_row7_col8\" class=\"data row7 col8\" >268.000000</td>\n",
       "            </tr>\n",
       "            <tr>\n",
       "                        <th id=\"T_e20f2_level0_row8\" class=\"row_heading level0 row8\" >0</th>\n",
       "                        <td id=\"T_e20f2_row8_col0\" class=\"data row8 col0\" >Варшавское шоссе</td>\n",
       "                        <td id=\"T_e20f2_row8_col1\" class=\"data row8 col1\" >88.000000</td>\n",
       "                        <td id=\"T_e20f2_row8_col2\" class=\"data row8 col2\" >38.840909</td>\n",
       "                        <td id=\"T_e20f2_row8_col3\" class=\"data row8 col3\" >50.724608</td>\n",
       "                        <td id=\"T_e20f2_row8_col4\" class=\"data row8 col4\" >0.000000</td>\n",
       "                        <td id=\"T_e20f2_row8_col5\" class=\"data row8 col5\" >2.000000</td>\n",
       "                        <td id=\"T_e20f2_row8_col6\" class=\"data row8 col6\" >20.000000</td>\n",
       "                        <td id=\"T_e20f2_row8_col7\" class=\"data row8 col7\" >55.500000</td>\n",
       "                        <td id=\"T_e20f2_row8_col8\" class=\"data row8 col8\" >250.000000</td>\n",
       "            </tr>\n",
       "            <tr>\n",
       "                        <th id=\"T_e20f2_level0_row9\" class=\"row_heading level0 row9\" >7</th>\n",
       "                        <td id=\"T_e20f2_row9_col0\" class=\"data row9 col0\" >Профсоюзная улица</td>\n",
       "                        <td id=\"T_e20f2_row9_col1\" class=\"data row9 col1\" >93.000000</td>\n",
       "                        <td id=\"T_e20f2_row9_col2\" class=\"data row9 col2\" >53.881720</td>\n",
       "                        <td id=\"T_e20f2_row9_col3\" class=\"data row9 col3\" >68.364091</td>\n",
       "                        <td id=\"T_e20f2_row9_col4\" class=\"data row9 col4\" >0.000000</td>\n",
       "                        <td id=\"T_e20f2_row9_col5\" class=\"data row9 col5\" >0.000000</td>\n",
       "                        <td id=\"T_e20f2_row9_col6\" class=\"data row9 col6\" >16.000000</td>\n",
       "                        <td id=\"T_e20f2_row9_col7\" class=\"data row9 col7\" >90.000000</td>\n",
       "                        <td id=\"T_e20f2_row9_col8\" class=\"data row9 col8\" >240.000000</td>\n",
       "            </tr>\n",
       "    </tbody></table>"
      ],
      "text/plain": [
       "<pandas.io.formats.style.Styler at 0x7f7e51c7ceb0>"
      ]
     },
     "execution_count": 47,
     "metadata": {},
     "output_type": "execute_result"
    }
   ],
   "source": [
    "subset_columns = ['mean', '50%', 'max']\n",
    "number_top_streets.groupby('street')['number'].\\\n",
    "describe().reset_index().sort_values(by='50%', ascending=False).\\\n",
    "style.highlight_max(color='#6EBF8B', subset=subset_columns).highlight_min(color='#D885A3', subset=subset_columns)"
   ]
  },
  {
   "cell_type": "markdown",
   "id": "b649c4b2",
   "metadata": {},
   "source": [
    "## Общий вывод"
   ]
  },
  {
   "cell_type": "markdown",
   "id": "ca809e98",
   "metadata": {},
   "source": [
    "* Кафе является доминирующим видом среди объектов общественного питания в городе. Их доля составляет почти 40 процентов.\n",
    "* Количесто не сетевых заведений общественного питания в 4 раза больше чем сетевых \n",
    "* Среди сетей также самым популярным видом является `кафе`. Таких заведений половина от общего чила.Педприятия быстрого обслуживания занимают вторую строчку в рейтенге. Далее следует рестораны.\n",
    "* На рынке преобладает небольшие сетевые заведения с большим количеством мест\n",
    "* В среднем самое большое количество мест наблюдается в столовых. Далее следуют рестораны  и бары. Буфеты находятся на 4 строчке.\n",
    "* Больше всего объектов общественного питания находится на проспекте Мира, далее следует профсоюзная улица, тройку замыкает Лненинградский проспект. Соответственно районы в которые входят данные улицы яляются одними из самых насыщенных на рынке в сфере общепита.\n",
    "* В основном на  юго-западе города находятся все регионы с большим количеством объектов общественного питания.\n",
    "* В городе присутствует более 500 улиц на которых находится только один обект общественного питания.\n",
    "* Районов в которых есть такие улицы в районе 90 процентов от всего города.\n",
    "* По улицам с большим количеством объектов общественного питания можно сказать что в среднем среднее количество мест в этих заведениях примерно в районе 50. По всем районам наблюдается положительная скошенность по количеству мест. Так же можно заметить что примерно во всех районах есть определенные значения в которых есть определенная скученность объектов по количеству мест. Это значения в районе 50 и 100 мест.\n"
   ]
  }
 ],
 "metadata": {
  "ExecuteTimeLog": [
   {
    "duration": 1298,
    "start_time": "2022-04-21T06:27:33.751Z"
   },
   {
    "duration": 5,
    "start_time": "2022-04-21T06:27:35.051Z"
   },
   {
    "duration": 4,
    "start_time": "2022-04-21T06:27:35.057Z"
   },
   {
    "duration": 1175,
    "start_time": "2022-04-21T06:27:35.062Z"
   },
   {
    "duration": 191,
    "start_time": "2022-04-21T06:27:36.240Z"
   },
   {
    "duration": 12,
    "start_time": "2022-04-21T06:27:36.433Z"
   },
   {
    "duration": 14,
    "start_time": "2022-04-21T06:27:36.446Z"
   },
   {
    "duration": 62,
    "start_time": "2022-04-21T06:27:36.462Z"
   },
   {
    "duration": 6,
    "start_time": "2022-04-21T06:27:36.526Z"
   },
   {
    "duration": 16,
    "start_time": "2022-04-21T06:27:36.534Z"
   },
   {
    "duration": 8,
    "start_time": "2022-04-21T06:27:36.551Z"
   },
   {
    "duration": 6,
    "start_time": "2022-04-21T06:27:36.561Z"
   },
   {
    "duration": 30,
    "start_time": "2022-04-21T06:27:36.623Z"
   },
   {
    "duration": 10,
    "start_time": "2022-04-21T06:27:36.657Z"
   },
   {
    "duration": 57,
    "start_time": "2022-04-21T06:27:36.669Z"
   },
   {
    "duration": 5,
    "start_time": "2022-04-21T06:27:36.728Z"
   },
   {
    "duration": 14,
    "start_time": "2022-04-21T06:27:36.734Z"
   },
   {
    "duration": 679,
    "start_time": "2022-04-21T06:27:36.750Z"
   },
   {
    "duration": 0,
    "start_time": "2022-04-21T06:27:37.431Z"
   },
   {
    "duration": 0,
    "start_time": "2022-04-21T06:27:37.432Z"
   },
   {
    "duration": 0,
    "start_time": "2022-04-21T06:27:37.433Z"
   },
   {
    "duration": 0,
    "start_time": "2022-04-21T06:27:37.434Z"
   },
   {
    "duration": 0,
    "start_time": "2022-04-21T06:27:37.435Z"
   },
   {
    "duration": 0,
    "start_time": "2022-04-21T06:27:37.436Z"
   },
   {
    "duration": 0,
    "start_time": "2022-04-21T06:27:37.437Z"
   },
   {
    "duration": 0,
    "start_time": "2022-04-21T06:27:37.438Z"
   },
   {
    "duration": 0,
    "start_time": "2022-04-21T06:27:37.439Z"
   },
   {
    "duration": 0,
    "start_time": "2022-04-21T06:27:37.440Z"
   },
   {
    "duration": 0,
    "start_time": "2022-04-21T06:27:37.440Z"
   },
   {
    "duration": 0,
    "start_time": "2022-04-21T06:27:37.441Z"
   },
   {
    "duration": 0,
    "start_time": "2022-04-21T06:27:37.442Z"
   },
   {
    "duration": 0,
    "start_time": "2022-04-21T06:27:37.443Z"
   },
   {
    "duration": 0,
    "start_time": "2022-04-21T06:27:37.445Z"
   },
   {
    "duration": 0,
    "start_time": "2022-04-21T06:27:37.446Z"
   },
   {
    "duration": 0,
    "start_time": "2022-04-21T06:27:37.447Z"
   },
   {
    "duration": 0,
    "start_time": "2022-04-21T06:27:37.449Z"
   },
   {
    "duration": 0,
    "start_time": "2022-04-21T06:27:37.450Z"
   },
   {
    "duration": 0,
    "start_time": "2022-04-21T06:27:37.451Z"
   },
   {
    "duration": 0,
    "start_time": "2022-04-21T06:27:37.452Z"
   },
   {
    "duration": 0,
    "start_time": "2022-04-21T06:27:37.453Z"
   },
   {
    "duration": 0,
    "start_time": "2022-04-21T06:27:37.454Z"
   },
   {
    "duration": 0,
    "start_time": "2022-04-21T06:27:37.455Z"
   },
   {
    "duration": 0,
    "start_time": "2022-04-21T06:27:37.456Z"
   },
   {
    "duration": 0,
    "start_time": "2022-04-21T06:27:37.458Z"
   },
   {
    "duration": 0,
    "start_time": "2022-04-21T06:27:37.459Z"
   },
   {
    "duration": 0,
    "start_time": "2022-04-21T06:27:37.460Z"
   },
   {
    "duration": 45,
    "start_time": "2022-04-21T06:57:52.738Z"
   },
   {
    "duration": 7,
    "start_time": "2022-04-21T06:58:07.898Z"
   },
   {
    "duration": 8,
    "start_time": "2022-04-21T06:59:04.545Z"
   },
   {
    "duration": 1299,
    "start_time": "2022-04-21T06:59:19.049Z"
   },
   {
    "duration": 4,
    "start_time": "2022-04-21T06:59:20.978Z"
   },
   {
    "duration": 2,
    "start_time": "2022-04-21T06:59:21.579Z"
   },
   {
    "duration": 1251,
    "start_time": "2022-04-21T06:59:21.858Z"
   },
   {
    "duration": 101,
    "start_time": "2022-04-21T06:59:23.110Z"
   },
   {
    "duration": 11,
    "start_time": "2022-04-21T06:59:24.458Z"
   },
   {
    "duration": 11,
    "start_time": "2022-04-21T06:59:25.258Z"
   },
   {
    "duration": 13,
    "start_time": "2022-04-21T06:59:25.817Z"
   },
   {
    "duration": 6,
    "start_time": "2022-04-21T06:59:26.938Z"
   },
   {
    "duration": 5,
    "start_time": "2022-04-21T06:59:55.187Z"
   },
   {
    "duration": 14,
    "start_time": "2022-04-21T06:59:57.187Z"
   },
   {
    "duration": 9,
    "start_time": "2022-04-21T06:59:57.778Z"
   },
   {
    "duration": 8,
    "start_time": "2022-04-21T06:59:58.169Z"
   },
   {
    "duration": 25,
    "start_time": "2022-04-21T06:59:59.034Z"
   },
   {
    "duration": 8,
    "start_time": "2022-04-21T06:59:59.417Z"
   },
   {
    "duration": 5,
    "start_time": "2022-04-21T07:00:00.010Z"
   },
   {
    "duration": 13,
    "start_time": "2022-04-21T07:00:11.609Z"
   },
   {
    "duration": 256,
    "start_time": "2022-04-21T07:00:34.938Z"
   },
   {
    "duration": 164,
    "start_time": "2022-04-21T07:00:53.273Z"
   },
   {
    "duration": 16,
    "start_time": "2022-04-21T07:01:13.457Z"
   },
   {
    "duration": 13,
    "start_time": "2022-04-21T07:01:15.025Z"
   },
   {
    "duration": 150,
    "start_time": "2022-04-21T07:01:16.098Z"
   },
   {
    "duration": 231,
    "start_time": "2022-04-21T07:01:17.737Z"
   },
   {
    "duration": 17,
    "start_time": "2022-04-21T07:01:18.258Z"
   },
   {
    "duration": 1117,
    "start_time": "2022-04-21T07:02:02.715Z"
   },
   {
    "duration": 34,
    "start_time": "2022-04-21T07:02:05.762Z"
   },
   {
    "duration": 23,
    "start_time": "2022-04-21T07:02:06.557Z"
   },
   {
    "duration": 17,
    "start_time": "2022-04-21T07:02:06.874Z"
   },
   {
    "duration": 346,
    "start_time": "2022-04-21T07:02:07.135Z"
   },
   {
    "duration": 286,
    "start_time": "2022-04-21T07:02:07.482Z"
   },
   {
    "duration": 79,
    "start_time": "2022-04-21T07:02:07.974Z"
   },
   {
    "duration": 19,
    "start_time": "2022-04-21T07:02:09.178Z"
   },
   {
    "duration": 15,
    "start_time": "2022-04-21T07:02:09.494Z"
   },
   {
    "duration": 9,
    "start_time": "2022-04-21T07:02:10.021Z"
   },
   {
    "duration": 19,
    "start_time": "2022-04-21T07:02:10.323Z"
   },
   {
    "duration": 233,
    "start_time": "2022-04-21T07:02:10.655Z"
   },
   {
    "duration": 20,
    "start_time": "2022-04-21T07:02:11.094Z"
   },
   {
    "duration": 18,
    "start_time": "2022-04-21T07:02:13.382Z"
   },
   {
    "duration": 20,
    "start_time": "2022-04-21T07:02:13.681Z"
   },
   {
    "duration": 4,
    "start_time": "2022-04-21T07:02:13.974Z"
   },
   {
    "duration": 3,
    "start_time": "2022-04-21T07:02:14.294Z"
   },
   {
    "duration": 16,
    "start_time": "2022-04-21T07:02:14.861Z"
   },
   {
    "duration": 4,
    "start_time": "2022-04-21T07:02:15.114Z"
   },
   {
    "duration": 261,
    "start_time": "2022-04-21T07:02:15.360Z"
   },
   {
    "duration": 355,
    "start_time": "2022-04-21T07:02:15.623Z"
   },
   {
    "duration": 160,
    "start_time": "2022-04-21T07:02:15.981Z"
   },
   {
    "duration": 429,
    "start_time": "2022-04-21T07:03:07.913Z"
   },
   {
    "duration": 263,
    "start_time": "2022-04-21T07:03:49.954Z"
   },
   {
    "duration": 147,
    "start_time": "2022-04-21T07:04:13.475Z"
   },
   {
    "duration": 138,
    "start_time": "2022-04-21T07:04:27.734Z"
   },
   {
    "duration": 180,
    "start_time": "2022-04-21T07:13:13.961Z"
   },
   {
    "duration": 154,
    "start_time": "2022-04-21T07:13:28.561Z"
   },
   {
    "duration": 140,
    "start_time": "2022-04-21T07:13:43.284Z"
   },
   {
    "duration": 161,
    "start_time": "2022-04-21T07:14:12.597Z"
   },
   {
    "duration": 214,
    "start_time": "2022-04-21T07:14:29.915Z"
   },
   {
    "duration": 138,
    "start_time": "2022-04-21T07:16:23.279Z"
   },
   {
    "duration": 224,
    "start_time": "2022-04-21T07:31:40.590Z"
   },
   {
    "duration": 223,
    "start_time": "2022-04-21T07:31:58.662Z"
   },
   {
    "duration": 216,
    "start_time": "2022-04-21T07:49:28.614Z"
   },
   {
    "duration": 1208,
    "start_time": "2022-04-21T07:51:43.227Z"
   },
   {
    "duration": 4,
    "start_time": "2022-04-21T07:51:45.191Z"
   },
   {
    "duration": 3,
    "start_time": "2022-04-21T07:51:45.970Z"
   },
   {
    "duration": 3,
    "start_time": "2022-04-21T07:51:46.631Z"
   },
   {
    "duration": 1112,
    "start_time": "2022-04-21T07:51:46.851Z"
   },
   {
    "duration": 111,
    "start_time": "2022-04-21T07:51:47.965Z"
   },
   {
    "duration": 11,
    "start_time": "2022-04-21T07:51:48.078Z"
   },
   {
    "duration": 11,
    "start_time": "2022-04-21T07:51:48.091Z"
   },
   {
    "duration": 14,
    "start_time": "2022-04-21T07:51:48.302Z"
   },
   {
    "duration": 6,
    "start_time": "2022-04-21T07:51:49.190Z"
   },
   {
    "duration": 14,
    "start_time": "2022-04-21T07:51:49.991Z"
   },
   {
    "duration": 8,
    "start_time": "2022-04-21T07:51:52.911Z"
   },
   {
    "duration": 7,
    "start_time": "2022-04-21T07:51:53.291Z"
   },
   {
    "duration": 24,
    "start_time": "2022-04-21T07:51:54.352Z"
   },
   {
    "duration": 7,
    "start_time": "2022-04-21T07:51:56.171Z"
   },
   {
    "duration": 4,
    "start_time": "2022-04-21T07:51:57.051Z"
   },
   {
    "duration": 13,
    "start_time": "2022-04-21T07:51:57.882Z"
   },
   {
    "duration": 353,
    "start_time": "2022-04-21T07:52:05.240Z"
   },
   {
    "duration": 155,
    "start_time": "2022-04-21T07:52:08.190Z"
   },
   {
    "duration": 215,
    "start_time": "2022-04-21T07:52:08.560Z"
   },
   {
    "duration": 21,
    "start_time": "2022-04-21T07:52:10.904Z"
   },
   {
    "duration": 17,
    "start_time": "2022-04-21T07:52:14.891Z"
   },
   {
    "duration": 210,
    "start_time": "2022-04-21T07:52:19.851Z"
   },
   {
    "duration": 87531,
    "start_time": "2022-04-21T07:54:21.029Z"
   },
   {
    "duration": 3729,
    "start_time": "2022-04-21T07:56:18.048Z"
   },
   {
    "duration": 5,
    "start_time": "2022-04-21T07:56:29.010Z"
   },
   {
    "duration": 2,
    "start_time": "2022-04-21T07:56:29.741Z"
   },
   {
    "duration": 3,
    "start_time": "2022-04-21T07:56:30.240Z"
   },
   {
    "duration": 944,
    "start_time": "2022-04-21T07:56:30.677Z"
   },
   {
    "duration": 118,
    "start_time": "2022-04-21T07:56:31.623Z"
   },
   {
    "duration": 12,
    "start_time": "2022-04-21T07:56:31.743Z"
   },
   {
    "duration": 15,
    "start_time": "2022-04-21T07:56:31.757Z"
   },
   {
    "duration": 12,
    "start_time": "2022-04-21T07:56:31.928Z"
   },
   {
    "duration": 6,
    "start_time": "2022-04-21T07:56:32.667Z"
   },
   {
    "duration": 15,
    "start_time": "2022-04-21T07:56:33.127Z"
   },
   {
    "duration": 9,
    "start_time": "2022-04-21T07:56:33.329Z"
   },
   {
    "duration": 8,
    "start_time": "2022-04-21T07:56:33.519Z"
   },
   {
    "duration": 25,
    "start_time": "2022-04-21T07:56:34.710Z"
   },
   {
    "duration": 8,
    "start_time": "2022-04-21T07:56:35.006Z"
   },
   {
    "duration": 6,
    "start_time": "2022-04-21T07:56:35.568Z"
   },
   {
    "duration": 14,
    "start_time": "2022-04-21T07:56:36.191Z"
   },
   {
    "duration": 367,
    "start_time": "2022-04-21T07:56:37.295Z"
   },
   {
    "duration": 107,
    "start_time": "2022-04-21T07:56:39.973Z"
   },
   {
    "duration": 1142,
    "start_time": "2022-04-21T07:57:03.347Z"
   },
   {
    "duration": 5,
    "start_time": "2022-04-21T07:57:04.491Z"
   },
   {
    "duration": 2,
    "start_time": "2022-04-21T07:57:05.328Z"
   },
   {
    "duration": 2,
    "start_time": "2022-04-21T07:57:05.579Z"
   },
   {
    "duration": 927,
    "start_time": "2022-04-21T07:57:05.786Z"
   },
   {
    "duration": 101,
    "start_time": "2022-04-21T07:57:06.715Z"
   },
   {
    "duration": 12,
    "start_time": "2022-04-21T07:57:06.817Z"
   },
   {
    "duration": 15,
    "start_time": "2022-04-21T07:57:06.831Z"
   },
   {
    "duration": 12,
    "start_time": "2022-04-21T07:57:06.848Z"
   },
   {
    "duration": 5,
    "start_time": "2022-04-21T07:57:07.008Z"
   },
   {
    "duration": 14,
    "start_time": "2022-04-21T07:57:07.388Z"
   },
   {
    "duration": 9,
    "start_time": "2022-04-21T07:57:07.587Z"
   },
   {
    "duration": 7,
    "start_time": "2022-04-21T07:57:07.816Z"
   },
   {
    "duration": 24,
    "start_time": "2022-04-21T07:57:08.256Z"
   },
   {
    "duration": 7,
    "start_time": "2022-04-21T07:57:08.467Z"
   },
   {
    "duration": 5,
    "start_time": "2022-04-21T07:57:08.999Z"
   },
   {
    "duration": 13,
    "start_time": "2022-04-21T07:57:09.719Z"
   },
   {
    "duration": 225,
    "start_time": "2022-04-21T07:57:12.188Z"
   },
   {
    "duration": 107,
    "start_time": "2022-04-21T07:58:33.528Z"
   },
   {
    "duration": 8,
    "start_time": "2022-04-21T07:58:47.587Z"
   },
   {
    "duration": 8,
    "start_time": "2022-04-21T07:58:51.362Z"
   },
   {
    "duration": 1802,
    "start_time": "2022-04-21T08:00:45.075Z"
   },
   {
    "duration": 1071,
    "start_time": "2022-04-21T08:21:35.807Z"
   },
   {
    "duration": 4,
    "start_time": "2022-04-21T08:21:42.178Z"
   },
   {
    "duration": 3,
    "start_time": "2022-04-21T08:21:42.898Z"
   },
   {
    "duration": 1811,
    "start_time": "2022-04-21T08:21:44.039Z"
   },
   {
    "duration": 883,
    "start_time": "2022-04-21T08:23:22.107Z"
   },
   {
    "duration": 36514,
    "start_time": "2022-04-21T08:23:31.715Z"
   },
   {
    "duration": 6241,
    "start_time": "2022-04-21T08:27:06.365Z"
   },
   {
    "duration": 1349,
    "start_time": "2022-04-21T08:27:18.646Z"
   },
   {
    "duration": 4,
    "start_time": "2022-04-21T08:27:22.806Z"
   },
   {
    "duration": 3,
    "start_time": "2022-04-21T08:27:23.497Z"
   },
   {
    "duration": 1097,
    "start_time": "2022-04-21T08:27:25.966Z"
   },
   {
    "duration": 159,
    "start_time": "2022-04-21T08:28:09.265Z"
   },
   {
    "duration": 13,
    "start_time": "2022-04-21T08:28:09.917Z"
   },
   {
    "duration": 11,
    "start_time": "2022-04-21T08:28:10.226Z"
   },
   {
    "duration": 13,
    "start_time": "2022-04-21T08:28:10.666Z"
   },
   {
    "duration": 6,
    "start_time": "2022-04-21T08:28:12.466Z"
   },
   {
    "duration": 14,
    "start_time": "2022-04-21T08:28:13.205Z"
   },
   {
    "duration": 10,
    "start_time": "2022-04-21T08:28:13.565Z"
   },
   {
    "duration": 8,
    "start_time": "2022-04-21T08:28:21.265Z"
   },
   {
    "duration": 24,
    "start_time": "2022-04-21T08:28:22.124Z"
   },
   {
    "duration": 7,
    "start_time": "2022-04-21T08:28:24.286Z"
   },
   {
    "duration": 5,
    "start_time": "2022-04-21T08:28:25.278Z"
   },
   {
    "duration": 13,
    "start_time": "2022-04-21T08:28:29.506Z"
   },
   {
    "duration": 240,
    "start_time": "2022-04-21T08:28:38.866Z"
   },
   {
    "duration": 279,
    "start_time": "2022-04-21T08:28:48.414Z"
   },
   {
    "duration": 188,
    "start_time": "2022-04-21T08:28:59.085Z"
   },
   {
    "duration": 163,
    "start_time": "2022-04-21T08:29:36.806Z"
   },
   {
    "duration": 17,
    "start_time": "2022-04-21T08:29:47.254Z"
   },
   {
    "duration": 13,
    "start_time": "2022-04-21T08:29:51.506Z"
   },
   {
    "duration": 1865,
    "start_time": "2022-04-21T08:29:59.125Z"
   },
   {
    "duration": 147,
    "start_time": "2022-04-21T08:32:21.386Z"
   },
   {
    "duration": 121,
    "start_time": "2022-04-21T08:32:29.765Z"
   },
   {
    "duration": 133,
    "start_time": "2022-04-21T08:33:26.666Z"
   },
   {
    "duration": 143,
    "start_time": "2022-04-21T08:33:34.927Z"
   },
   {
    "duration": 194,
    "start_time": "2022-04-21T08:34:50.544Z"
   },
   {
    "duration": 265,
    "start_time": "2022-04-21T08:35:14.633Z"
   },
   {
    "duration": 215,
    "start_time": "2022-04-21T08:35:31.706Z"
   },
   {
    "duration": 19,
    "start_time": "2022-04-21T08:35:32.486Z"
   },
   {
    "duration": 1075,
    "start_time": "2022-04-21T08:35:34.925Z"
   },
   {
    "duration": 33,
    "start_time": "2022-04-21T08:35:42.464Z"
   },
   {
    "duration": 22,
    "start_time": "2022-04-21T08:35:43.464Z"
   },
   {
    "duration": 17,
    "start_time": "2022-04-21T08:35:43.987Z"
   },
   {
    "duration": 302,
    "start_time": "2022-04-21T08:35:44.475Z"
   },
   {
    "duration": 254,
    "start_time": "2022-04-21T08:35:45.606Z"
   },
   {
    "duration": 167,
    "start_time": "2022-04-21T08:35:45.985Z"
   },
   {
    "duration": 19,
    "start_time": "2022-04-21T08:35:49.605Z"
   },
   {
    "duration": 15,
    "start_time": "2022-04-21T08:35:50.177Z"
   },
   {
    "duration": 8,
    "start_time": "2022-04-21T08:35:50.735Z"
   },
   {
    "duration": 21,
    "start_time": "2022-04-21T08:35:51.317Z"
   },
   {
    "duration": 240,
    "start_time": "2022-04-21T08:35:52.122Z"
   },
   {
    "duration": 23,
    "start_time": "2022-04-21T08:35:52.748Z"
   },
   {
    "duration": 18,
    "start_time": "2022-04-21T08:35:54.310Z"
   },
   {
    "duration": 20,
    "start_time": "2022-04-21T08:35:54.885Z"
   },
   {
    "duration": 5,
    "start_time": "2022-04-21T08:35:55.429Z"
   },
   {
    "duration": 4,
    "start_time": "2022-04-21T08:35:56.205Z"
   },
   {
    "duration": 16,
    "start_time": "2022-04-21T08:35:57.145Z"
   },
   {
    "duration": 5,
    "start_time": "2022-04-21T08:35:57.701Z"
   },
   {
    "duration": 252,
    "start_time": "2022-04-21T08:35:58.085Z"
   },
   {
    "duration": 284,
    "start_time": "2022-04-21T08:35:58.746Z"
   },
   {
    "duration": 39,
    "start_time": "2022-04-21T08:35:59.365Z"
   },
   {
    "duration": 2113,
    "start_time": "2022-04-21T08:40:30.385Z"
   },
   {
    "duration": 2093,
    "start_time": "2022-04-21T08:41:37.645Z"
   },
   {
    "duration": 1149,
    "start_time": "2022-04-21T08:43:20.227Z"
   },
   {
    "duration": 4,
    "start_time": "2022-04-21T08:43:22.299Z"
   },
   {
    "duration": 3,
    "start_time": "2022-04-21T08:43:23.047Z"
   },
   {
    "duration": 964,
    "start_time": "2022-04-21T08:43:23.796Z"
   },
   {
    "duration": 106,
    "start_time": "2022-04-21T08:43:25.688Z"
   },
   {
    "duration": 12,
    "start_time": "2022-04-21T08:44:09.588Z"
   },
   {
    "duration": 11,
    "start_time": "2022-04-21T08:44:10.507Z"
   },
   {
    "duration": 12,
    "start_time": "2022-04-21T08:44:11.147Z"
   },
   {
    "duration": 6,
    "start_time": "2022-04-21T08:44:12.586Z"
   },
   {
    "duration": 15,
    "start_time": "2022-04-21T08:44:13.587Z"
   },
   {
    "duration": 9,
    "start_time": "2022-04-21T08:44:16.827Z"
   },
   {
    "duration": 6,
    "start_time": "2022-04-21T08:44:17.579Z"
   },
   {
    "duration": 25,
    "start_time": "2022-04-21T08:44:20.299Z"
   },
   {
    "duration": 8,
    "start_time": "2022-04-21T08:44:20.326Z"
   },
   {
    "duration": 5,
    "start_time": "2022-04-21T08:44:21.435Z"
   },
   {
    "duration": 13,
    "start_time": "2022-04-21T08:44:22.867Z"
   },
   {
    "duration": 358,
    "start_time": "2022-04-21T08:44:28.029Z"
   },
   {
    "duration": 375,
    "start_time": "2022-04-21T09:09:29.105Z"
   },
   {
    "duration": 153,
    "start_time": "2022-04-21T09:09:33.423Z"
   },
   {
    "duration": 17,
    "start_time": "2022-04-21T09:09:39.976Z"
   },
   {
    "duration": 12,
    "start_time": "2022-04-21T09:09:41.448Z"
   },
   {
    "duration": 271,
    "start_time": "2022-04-21T09:09:42.617Z"
   },
   {
    "duration": 396,
    "start_time": "2022-04-21T09:09:46.817Z"
   },
   {
    "duration": 18,
    "start_time": "2022-04-21T09:09:47.304Z"
   },
   {
    "duration": 1165,
    "start_time": "2022-04-21T09:09:49.617Z"
   },
   {
    "duration": 33,
    "start_time": "2022-04-21T09:09:55.272Z"
   },
   {
    "duration": 20,
    "start_time": "2022-04-21T09:09:55.306Z"
   },
   {
    "duration": 16,
    "start_time": "2022-04-21T09:09:55.896Z"
   },
   {
    "duration": 391,
    "start_time": "2022-04-21T09:09:56.208Z"
   },
   {
    "duration": 360,
    "start_time": "2022-04-21T09:09:56.601Z"
   },
   {
    "duration": 64,
    "start_time": "2022-04-21T09:09:56.963Z"
   },
   {
    "duration": 20,
    "start_time": "2022-04-21T09:09:58.287Z"
   },
   {
    "duration": 15,
    "start_time": "2022-04-21T09:09:58.647Z"
   },
   {
    "duration": 8,
    "start_time": "2022-04-21T09:09:59.048Z"
   },
   {
    "duration": 20,
    "start_time": "2022-04-21T09:09:59.456Z"
   },
   {
    "duration": 352,
    "start_time": "2022-04-21T09:09:59.825Z"
   },
   {
    "duration": 19,
    "start_time": "2022-04-21T09:10:00.257Z"
   },
   {
    "duration": 17,
    "start_time": "2022-04-21T09:10:01.376Z"
   },
   {
    "duration": 18,
    "start_time": "2022-04-21T09:10:01.768Z"
   },
   {
    "duration": 5,
    "start_time": "2022-04-21T09:10:02.216Z"
   },
   {
    "duration": 4,
    "start_time": "2022-04-21T09:10:02.620Z"
   },
   {
    "duration": 17,
    "start_time": "2022-04-21T09:10:03.497Z"
   },
   {
    "duration": 5,
    "start_time": "2022-04-21T09:10:04.032Z"
   },
   {
    "duration": 344,
    "start_time": "2022-04-21T09:10:04.540Z"
   },
   {
    "duration": 507,
    "start_time": "2022-04-21T09:10:05.856Z"
   },
   {
    "duration": 38,
    "start_time": "2022-04-21T09:10:07.543Z"
   },
   {
    "duration": 1977,
    "start_time": "2022-04-21T11:47:34.624Z"
   },
   {
    "duration": 1103,
    "start_time": "2022-04-21T11:47:38.776Z"
   },
   {
    "duration": 5,
    "start_time": "2022-04-21T11:47:40.607Z"
   },
   {
    "duration": 3,
    "start_time": "2022-04-21T11:47:41.387Z"
   },
   {
    "duration": 1206,
    "start_time": "2022-04-21T11:47:42.337Z"
   },
   {
    "duration": 102,
    "start_time": "2022-04-21T11:47:43.546Z"
   },
   {
    "duration": 12,
    "start_time": "2022-04-21T11:47:44.288Z"
   },
   {
    "duration": 13,
    "start_time": "2022-04-21T11:47:45.016Z"
   },
   {
    "duration": 12,
    "start_time": "2022-04-21T11:47:45.476Z"
   },
   {
    "duration": 6,
    "start_time": "2022-04-21T11:47:47.696Z"
   },
   {
    "duration": 14,
    "start_time": "2022-04-21T11:47:49.787Z"
   },
   {
    "duration": 9,
    "start_time": "2022-04-21T11:47:50.596Z"
   },
   {
    "duration": 7,
    "start_time": "2022-04-21T11:47:51.117Z"
   },
   {
    "duration": 23,
    "start_time": "2022-04-21T11:47:52.405Z"
   },
   {
    "duration": 8,
    "start_time": "2022-04-21T11:47:53.376Z"
   },
   {
    "duration": 5,
    "start_time": "2022-04-21T11:47:54.817Z"
   },
   {
    "duration": 13,
    "start_time": "2022-04-21T11:47:59.676Z"
   },
   {
    "duration": 17,
    "start_time": "2022-04-21T11:48:01.357Z"
   },
   {
    "duration": 101,
    "start_time": "2022-04-21T11:48:02.496Z"
   },
   {
    "duration": 32,
    "start_time": "2022-04-21T11:48:23.976Z"
   },
   {
    "duration": 324,
    "start_time": "2022-04-21T11:48:34.678Z"
   },
   {
    "duration": 158,
    "start_time": "2022-04-21T11:48:35.416Z"
   },
   {
    "duration": 16,
    "start_time": "2022-04-21T11:48:40.436Z"
   },
   {
    "duration": 14,
    "start_time": "2022-04-21T11:48:42.147Z"
   },
   {
    "duration": 213,
    "start_time": "2022-04-21T11:48:54.196Z"
   },
   {
    "duration": 431,
    "start_time": "2022-04-21T11:48:55.776Z"
   },
   {
    "duration": 18,
    "start_time": "2022-04-21T11:48:56.897Z"
   },
   {
    "duration": 1203,
    "start_time": "2022-04-21T11:48:58.137Z"
   },
   {
    "duration": 31,
    "start_time": "2022-04-21T11:49:00.877Z"
   },
   {
    "duration": 20,
    "start_time": "2022-04-21T11:49:02.064Z"
   },
   {
    "duration": 15,
    "start_time": "2022-04-21T11:49:02.677Z"
   },
   {
    "duration": 416,
    "start_time": "2022-04-21T11:49:03.176Z"
   },
   {
    "duration": 350,
    "start_time": "2022-04-21T11:49:04.817Z"
   },
   {
    "duration": 67,
    "start_time": "2022-04-21T11:49:05.256Z"
   },
   {
    "duration": 19,
    "start_time": "2022-04-21T11:49:10.837Z"
   },
   {
    "duration": 14,
    "start_time": "2022-04-21T11:49:11.407Z"
   },
   {
    "duration": 9,
    "start_time": "2022-04-21T11:49:11.804Z"
   },
   {
    "duration": 20,
    "start_time": "2022-04-21T11:49:12.396Z"
   },
   {
    "duration": 362,
    "start_time": "2022-04-21T11:49:13.596Z"
   },
   {
    "duration": 20,
    "start_time": "2022-04-21T11:49:13.959Z"
   },
   {
    "duration": 17,
    "start_time": "2022-04-21T11:49:14.816Z"
   },
   {
    "duration": 18,
    "start_time": "2022-04-21T11:49:15.117Z"
   },
   {
    "duration": 5,
    "start_time": "2022-04-21T11:49:16.187Z"
   },
   {
    "duration": 4,
    "start_time": "2022-04-21T11:49:16.517Z"
   },
   {
    "duration": 15,
    "start_time": "2022-04-21T11:49:17.247Z"
   },
   {
    "duration": 5,
    "start_time": "2022-04-21T11:49:18.217Z"
   },
   {
    "duration": 348,
    "start_time": "2022-04-21T11:49:23.108Z"
   },
   {
    "duration": 420,
    "start_time": "2022-04-21T11:49:23.458Z"
   },
   {
    "duration": 141,
    "start_time": "2022-04-21T11:49:23.880Z"
   },
   {
    "duration": 6980,
    "start_time": "2022-04-22T07:12:43.469Z"
   },
   {
    "duration": 1718,
    "start_time": "2022-04-22T07:12:50.452Z"
   },
   {
    "duration": 7,
    "start_time": "2022-04-22T07:12:52.172Z"
   },
   {
    "duration": 12,
    "start_time": "2022-04-22T07:12:52.181Z"
   },
   {
    "duration": 1247,
    "start_time": "2022-04-22T07:12:52.195Z"
   },
   {
    "duration": 125,
    "start_time": "2022-04-22T07:12:53.444Z"
   },
   {
    "duration": 20,
    "start_time": "2022-04-22T07:12:53.572Z"
   },
   {
    "duration": 40,
    "start_time": "2022-04-22T07:12:53.595Z"
   },
   {
    "duration": 21,
    "start_time": "2022-04-22T07:12:53.637Z"
   },
   {
    "duration": 9,
    "start_time": "2022-04-22T07:12:53.664Z"
   },
   {
    "duration": 60,
    "start_time": "2022-04-22T07:12:53.675Z"
   },
   {
    "duration": 11,
    "start_time": "2022-04-22T07:12:53.738Z"
   },
   {
    "duration": 11,
    "start_time": "2022-04-22T07:12:53.751Z"
   },
   {
    "duration": 66,
    "start_time": "2022-04-22T07:12:53.764Z"
   },
   {
    "duration": 10,
    "start_time": "2022-04-22T07:12:53.832Z"
   },
   {
    "duration": 11,
    "start_time": "2022-04-22T07:12:53.844Z"
   },
   {
    "duration": 20,
    "start_time": "2022-04-22T07:12:53.857Z"
   },
   {
    "duration": 56,
    "start_time": "2022-04-22T07:12:53.879Z"
   },
   {
    "duration": 36,
    "start_time": "2022-04-22T07:12:53.938Z"
   },
   {
    "duration": 553,
    "start_time": "2022-04-22T07:12:53.977Z"
   },
   {
    "duration": 0,
    "start_time": "2022-04-22T07:12:54.533Z"
   },
   {
    "duration": 0,
    "start_time": "2022-04-22T07:12:54.535Z"
   },
   {
    "duration": 0,
    "start_time": "2022-04-22T07:12:54.537Z"
   },
   {
    "duration": 1,
    "start_time": "2022-04-22T07:12:54.538Z"
   },
   {
    "duration": 0,
    "start_time": "2022-04-22T07:12:54.540Z"
   },
   {
    "duration": 0,
    "start_time": "2022-04-22T07:12:54.541Z"
   },
   {
    "duration": 0,
    "start_time": "2022-04-22T07:12:54.543Z"
   },
   {
    "duration": 0,
    "start_time": "2022-04-22T07:12:54.544Z"
   },
   {
    "duration": 0,
    "start_time": "2022-04-22T07:12:54.546Z"
   },
   {
    "duration": 0,
    "start_time": "2022-04-22T07:12:54.548Z"
   },
   {
    "duration": 0,
    "start_time": "2022-04-22T07:12:54.549Z"
   },
   {
    "duration": 0,
    "start_time": "2022-04-22T07:12:54.551Z"
   },
   {
    "duration": 0,
    "start_time": "2022-04-22T07:12:54.552Z"
   },
   {
    "duration": 0,
    "start_time": "2022-04-22T07:12:54.554Z"
   },
   {
    "duration": 0,
    "start_time": "2022-04-22T07:12:54.555Z"
   },
   {
    "duration": 0,
    "start_time": "2022-04-22T07:12:54.557Z"
   },
   {
    "duration": 0,
    "start_time": "2022-04-22T07:12:54.559Z"
   },
   {
    "duration": 0,
    "start_time": "2022-04-22T07:12:54.560Z"
   },
   {
    "duration": 0,
    "start_time": "2022-04-22T07:12:54.562Z"
   },
   {
    "duration": 0,
    "start_time": "2022-04-22T07:12:54.564Z"
   },
   {
    "duration": 0,
    "start_time": "2022-04-22T07:12:54.565Z"
   },
   {
    "duration": 0,
    "start_time": "2022-04-22T07:12:54.566Z"
   },
   {
    "duration": 0,
    "start_time": "2022-04-22T07:12:54.568Z"
   },
   {
    "duration": 0,
    "start_time": "2022-04-22T07:12:54.625Z"
   },
   {
    "duration": 0,
    "start_time": "2022-04-22T07:12:54.627Z"
   },
   {
    "duration": 0,
    "start_time": "2022-04-22T07:12:54.628Z"
   },
   {
    "duration": 0,
    "start_time": "2022-04-22T07:12:54.630Z"
   },
   {
    "duration": 3232,
    "start_time": "2022-04-22T07:15:59.395Z"
   },
   {
    "duration": 2137,
    "start_time": "2022-04-22T07:16:02.630Z"
   },
   {
    "duration": 59,
    "start_time": "2022-04-22T07:16:04.769Z"
   },
   {
    "duration": 9,
    "start_time": "2022-04-22T07:16:04.831Z"
   },
   {
    "duration": 1113,
    "start_time": "2022-04-22T07:16:04.843Z"
   },
   {
    "duration": 108,
    "start_time": "2022-04-22T07:16:05.958Z"
   },
   {
    "duration": 18,
    "start_time": "2022-04-22T07:16:06.068Z"
   },
   {
    "duration": 20,
    "start_time": "2022-04-22T07:16:06.089Z"
   },
   {
    "duration": 18,
    "start_time": "2022-04-22T07:16:06.125Z"
   },
   {
    "duration": 15,
    "start_time": "2022-04-22T07:16:06.147Z"
   },
   {
    "duration": 31,
    "start_time": "2022-04-22T07:16:06.165Z"
   },
   {
    "duration": 28,
    "start_time": "2022-04-22T07:16:06.198Z"
   },
   {
    "duration": 9,
    "start_time": "2022-04-22T07:16:06.229Z"
   },
   {
    "duration": 37,
    "start_time": "2022-04-22T07:16:06.240Z"
   },
   {
    "duration": 11,
    "start_time": "2022-04-22T07:16:06.280Z"
   },
   {
    "duration": 7,
    "start_time": "2022-04-22T07:16:06.326Z"
   },
   {
    "duration": 27,
    "start_time": "2022-04-22T07:16:06.335Z"
   },
   {
    "duration": 26,
    "start_time": "2022-04-22T07:16:06.364Z"
   },
   {
    "duration": 60,
    "start_time": "2022-04-22T07:16:06.392Z"
   },
   {
    "duration": 641,
    "start_time": "2022-04-22T07:16:06.455Z"
   },
   {
    "duration": 314,
    "start_time": "2022-04-22T07:16:07.098Z"
   },
   {
    "duration": 23,
    "start_time": "2022-04-22T07:16:07.414Z"
   },
   {
    "duration": 503,
    "start_time": "2022-04-22T07:16:07.439Z"
   },
   {
    "duration": 679,
    "start_time": "2022-04-22T07:16:07.945Z"
   },
   {
    "duration": 30,
    "start_time": "2022-04-22T07:16:08.626Z"
   },
   {
    "duration": 2142,
    "start_time": "2022-04-22T07:16:08.658Z"
   },
   {
    "duration": 67,
    "start_time": "2022-04-22T07:16:10.802Z"
   },
   {
    "duration": 49,
    "start_time": "2022-04-22T07:16:10.874Z"
   },
   {
    "duration": 25,
    "start_time": "2022-04-22T07:16:10.926Z"
   },
   {
    "duration": 705,
    "start_time": "2022-04-22T07:16:10.954Z"
   },
   {
    "duration": 706,
    "start_time": "2022-04-22T07:16:11.661Z"
   },
   {
    "duration": 116,
    "start_time": "2022-04-22T07:16:12.369Z"
   },
   {
    "duration": 31,
    "start_time": "2022-04-22T07:16:12.487Z"
   },
   {
    "duration": 33,
    "start_time": "2022-04-22T07:16:12.520Z"
   },
   {
    "duration": 14,
    "start_time": "2022-04-22T07:16:12.555Z"
   },
   {
    "duration": 33,
    "start_time": "2022-04-22T07:16:12.571Z"
   },
   {
    "duration": 536,
    "start_time": "2022-04-22T07:16:12.606Z"
   },
   {
    "duration": 31,
    "start_time": "2022-04-22T07:16:13.145Z"
   },
   {
    "duration": 25,
    "start_time": "2022-04-22T07:16:13.178Z"
   },
   {
    "duration": 37,
    "start_time": "2022-04-22T07:16:13.205Z"
   },
   {
    "duration": 7,
    "start_time": "2022-04-22T07:16:13.244Z"
   },
   {
    "duration": 22,
    "start_time": "2022-04-22T07:16:13.253Z"
   },
   {
    "duration": 57,
    "start_time": "2022-04-22T07:16:13.278Z"
   },
   {
    "duration": 10,
    "start_time": "2022-04-22T07:16:13.338Z"
   },
   {
    "duration": 884,
    "start_time": "2022-04-22T07:16:13.350Z"
   },
   {
    "duration": 708,
    "start_time": "2022-04-22T07:16:14.236Z"
   },
   {
    "duration": 190,
    "start_time": "2022-04-22T07:16:14.947Z"
   },
   {
    "duration": 45,
    "start_time": "2022-06-18T23:27:17.742Z"
   }
  ],
  "kernelspec": {
   "display_name": "Python 3 (ipykernel)",
   "language": "python",
   "name": "python3"
  },
  "language_info": {
   "codemirror_mode": {
    "name": "ipython",
    "version": 3
   },
   "file_extension": ".py",
   "mimetype": "text/x-python",
   "name": "python",
   "nbconvert_exporter": "python",
   "pygments_lexer": "ipython3",
   "version": "3.9.7"
  },
  "toc": {
   "base_numbering": 1,
   "nav_menu": {},
   "number_sections": true,
   "sideBar": true,
   "skip_h1_title": true,
   "title_cell": "Содержание",
   "title_sidebar": "Contents",
   "toc_cell": true,
   "toc_position": {
    "height": "calc(100% - 180px)",
    "left": "10px",
    "top": "150px",
    "width": "410px"
   },
   "toc_section_display": true,
   "toc_window_display": true
  }
 },
 "nbformat": 4,
 "nbformat_minor": 5
}
